{
 "cells": [
  {
   "cell_type": "code",
   "execution_count": 1,
   "metadata": {},
   "outputs": [],
   "source": [
    "import numpy as np"
   ]
  },
  {
   "cell_type": "code",
   "execution_count": 2,
   "metadata": {},
   "outputs": [],
   "source": [
    "def fitness(solution):\n",
    "    \n",
    "    \"\"\" returns the amount of collisions for a given solution (permutation).\n",
    "        the maximum amount of collisions that can occur is n(n-1)/2.\n",
    "        for a 4x4 chessboard, the maximum amount of collisions is 6, corresponding \n",
    "        to the situation in which all queens are in the same diagonal. \"\"\"\n",
    "\n",
    "    # Fitness\n",
    "    f = 0\n",
    "    # Number of queens\n",
    "    n = len(solution)\n",
    "    \n",
    "    # 0 to n-1\n",
    "    for i in range(n):\n",
    "        for j in range(n):\n",
    "            if abs(i-j) == abs(solution[i] - solution[j]) and i != j:\n",
    "                f = f + 1\n",
    "    f = f/2\n",
    "    \n",
    "    return f"
   ]
  },
  {
   "cell_type": "code",
   "execution_count": 3,
   "metadata": {},
   "outputs": [],
   "source": [
    "parent_a = np.array([1, 3, 5, 2, 6, 4, 7, 8])"
   ]
  },
  {
   "cell_type": "code",
   "execution_count": 4,
   "metadata": {},
   "outputs": [
    {
     "data": {
      "text/plain": [
       "5.0"
      ]
     },
     "execution_count": 4,
     "metadata": {},
     "output_type": "execute_result"
    }
   ],
   "source": [
    "fitness(parent_a)"
   ]
  },
  {
   "cell_type": "code",
   "execution_count": 5,
   "metadata": {},
   "outputs": [],
   "source": [
    "parent_b = np.array([8, 7, 6, 5, 4, 3, 2, 1])"
   ]
  },
  {
   "cell_type": "code",
   "execution_count": 6,
   "metadata": {},
   "outputs": [
    {
     "data": {
      "text/plain": [
       "28.0"
      ]
     },
     "execution_count": 6,
     "metadata": {},
     "output_type": "execute_result"
    }
   ],
   "source": [
    "fitness(parent_b)"
   ]
  },
  {
   "cell_type": "code",
   "execution_count": 7,
   "metadata": {},
   "outputs": [],
   "source": [
    "def single_point_crossover(parent_a, parent_b):\n",
    "    \n",
    "    \"\"\" one crossover point is selected, till this point the permutation is copied from the first parent, \n",
    "        then the second parent is scanned and if the number is not yet in the offspring it is added \n",
    "        the reverse also happens to generate two children. \"\"\"\n",
    "    \n",
    "    assert (len(parent_a) == len(parent_b)), \"Parents with different lengths\"\n",
    "\n",
    "    # Number of queens\n",
    "    n = len(parent_a)\n",
    "    \n",
    "    # Selecting crossover point\n",
    "    point = int(np.random.randint(low = 1, high = n-1, size = 1))\n",
    "    \n",
    "    # First offspring\n",
    "    head = parent_a[:point]\n",
    "    tail = [i for i in parent_b if i not in head]\n",
    "    offspring_a = np.concatenate([head, tail], axis = 0)\n",
    "    \n",
    "    # Second offspring\n",
    "    head = parent_b[:point]\n",
    "    tail = [i for i in parent_a if i not in head]\n",
    "    offspring_b = np.concatenate([head, tail], axis = 0)\n",
    "    \n",
    "    return offspring_a, offspring_b    "
   ]
  },
  {
   "cell_type": "code",
   "execution_count": 8,
   "metadata": {},
   "outputs": [],
   "source": [
    "offspring_a, offspring_b = single_point_crossover(parent_a, parent_b)"
   ]
  },
  {
   "cell_type": "code",
   "execution_count": 9,
   "metadata": {},
   "outputs": [
    {
     "name": "stdout",
     "output_type": "stream",
     "text": [
      "[1 3 5 2 6 8 7 4]\n",
      "[1 3 5 2 6 4 7 8]\n"
     ]
    }
   ],
   "source": [
    "print(offspring_a)\n",
    "print(parent_a)"
   ]
  },
  {
   "cell_type": "code",
   "execution_count": 10,
   "metadata": {},
   "outputs": [
    {
     "name": "stdout",
     "output_type": "stream",
     "text": [
      "[8 7 6 5 4 1 3 2]\n",
      "[8 7 6 5 4 3 2 1]\n"
     ]
    }
   ],
   "source": [
    "print(offspring_b)\n",
    "print(parent_b)"
   ]
  },
  {
   "cell_type": "code",
   "execution_count": 11,
   "metadata": {},
   "outputs": [],
   "source": [
    "def mutation(parent, threshold = 0.8):\n",
    "    \n",
    "    \"\"\" probability p of two numbers being selected and exchanged \"\"\"\n",
    "    \n",
    "    # Offspring\n",
    "    offspring = parent.copy()\n",
    "    \n",
    "    prob = float(np.random.uniform(low = 0, high = 1))\n",
    "    \n",
    "    if prob < threshold:\n",
    "                \n",
    "        # Number of queens\n",
    "        n = len(parent)    \n",
    "        \n",
    "        # Selecting mutation points\n",
    "        points = np.random.choice(range(n), size = 2, replace = False)\n",
    "        \n",
    "        # Swap\n",
    "        offspring[points[0]], offspring[points[1]] = offspring[points[1]], offspring[points[0]]\n",
    "        \n",
    "    return offspring        "
   ]
  },
  {
   "cell_type": "code",
   "execution_count": 12,
   "metadata": {},
   "outputs": [
    {
     "name": "stdout",
     "output_type": "stream",
     "text": [
      "[8 7 1 5 4 3 2 6]\n",
      "[8 7 6 5 4 3 2 1]\n"
     ]
    }
   ],
   "source": [
    "parent_b = np.array([8, 7, 6, 5, 4, 3, 2, 1])\n",
    "offspring = mutation(parent_b)\n",
    "print(offspring)\n",
    "print(parent_b)"
   ]
  },
  {
   "cell_type": "code",
   "execution_count": 13,
   "metadata": {},
   "outputs": [],
   "source": [
    "def initial_solution(n, m):\n",
    "    \n",
    "    # Empty population\n",
    "    population = list()\n",
    "    \n",
    "    # Generating initial population\n",
    "    for i in range(m):\n",
    "        individual = list(np.random.choice(range(1, n+1), size = n, replace = False))\n",
    "        population.append(individual)\n",
    "    \n",
    "    population = np.reshape(population, newshape = (m, n))\n",
    "    \n",
    "    return population"
   ]
  },
  {
   "cell_type": "code",
   "execution_count": 14,
   "metadata": {},
   "outputs": [
    {
     "name": "stdout",
     "output_type": "stream",
     "text": [
      "(100, 8)\n"
     ]
    }
   ],
   "source": [
    "population = initial_solution(n = 8, m = 100)\n",
    "print(population.shape)"
   ]
  },
  {
   "cell_type": "code",
   "execution_count": 15,
   "metadata": {},
   "outputs": [],
   "source": [
    "# def parent_selection():  "
   ]
  },
  {
   "cell_type": "code",
   "execution_count": 16,
   "metadata": {},
   "outputs": [],
   "source": [
    "# def survivor_selection():"
   ]
  },
  {
   "cell_type": "code",
   "execution_count": 17,
   "metadata": {
    "scrolled": true
   },
   "outputs": [],
   "source": [
    "# def GeneticAlgorithm():\n",
    "    "
   ]
  }
 ],
 "metadata": {
  "kernelspec": {
   "display_name": "Python 3",
   "language": "python",
   "name": "python3"
  },
  "language_info": {
   "codemirror_mode": {
    "name": "ipython",
    "version": 3
   },
   "file_extension": ".py",
   "mimetype": "text/x-python",
   "name": "python",
   "nbconvert_exporter": "python",
   "pygments_lexer": "ipython3",
   "version": "3.6.10"
  }
 },
 "nbformat": 4,
 "nbformat_minor": 4
}
