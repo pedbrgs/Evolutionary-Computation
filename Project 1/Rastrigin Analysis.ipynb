{
 "cells": [
  {
   "cell_type": "code",
   "execution_count": 1,
   "metadata": {},
   "outputs": [],
   "source": [
    "import numpy as np"
   ]
  },
  {
   "cell_type": "code",
   "execution_count": 98,
   "metadata": {},
   "outputs": [
    {
     "name": "stdout",
     "output_type": "stream",
     "text": [
      "[2, 5]\n"
     ]
    }
   ],
   "source": [
    "interval = [-5.12, 5.12]\n",
    "interval = [2, 5]\n",
    "print(interval)"
   ]
  },
  {
   "cell_type": "code",
   "execution_count": 61,
   "metadata": {},
   "outputs": [],
   "source": [
    "def rastrigin(X, A = 10):\n",
    "    \n",
    "    \"\"\" Rastrigin function. \"\"\"\n",
    "    \n",
    "    n = len(X)\n",
    "    Y = A*n + sum([np.square(x) - A*np.cos(2*np.pi*x) for x in X])\n",
    "    \n",
    "    return Y"
   ]
  },
  {
   "cell_type": "code",
   "execution_count": 226,
   "metadata": {},
   "outputs": [],
   "source": [
    "def decoding(B, l, interval):\n",
    "    \n",
    "    \"\"\" Decoding each binary solution to a floating point representation. \"\"\"\n",
    "    \n",
    "    n = int(len(B)/l)\n",
    "    X = np.zeros((n,))\n",
    "    \n",
    "    # The interval between adjacent values\n",
    "    delta = (interval[1] - interval[0])/(np.power(2,l)-1)  \n",
    "    \n",
    "    # For each variable b in B\n",
    "    for i in range(n):\n",
    "        b = B[l*i:l*(i+1)]\n",
    "        X[i] = interval[0] + delta * sum([b[k]*np.power(2,(l-k-1)) for k in range(l)])\n",
    "\n",
    "    return X"
   ]
  },
  {
   "cell_type": "code",
   "execution_count": 233,
   "metadata": {},
   "outputs": [
    {
     "name": "stdout",
     "output_type": "stream",
     "text": [
      "[[0. 0. 0. 1. 0. 1. 1. 0. 1. 1.]\n",
      " [0. 0. 0. 0. 0. 0. 0. 0. 0. 0.]\n",
      " [1. 1. 1. 1. 1. 1. 1. 1. 1. 1.]] \n",
      "\n",
      "[0. 0. 0. 1. 0. 1. 1. 0. 1. 1. 0. 0. 0. 0. 0. 0. 0. 0. 0. 0. 1. 1. 1. 1.\n",
      " 1. 1. 1. 1. 1. 1.]\n"
     ]
    }
   ],
   "source": [
    "b1 = [0, 0, 0, 1, 0, 1, 1, 0, 1, 1]\n",
    "b2 = np.zeros((10,))\n",
    "b3 = np.ones((10,))\n",
    "B = np.vstack([b1, b2, b3])\n",
    "print(B, '\\n')\n",
    "B = B.reshape((30,))\n",
    "print(B)"
   ]
  },
  {
   "cell_type": "code",
   "execution_count": 234,
   "metadata": {},
   "outputs": [
    {
     "name": "stdout",
     "output_type": "stream",
     "text": [
      "[2.26686217 2.         5.        ]\n"
     ]
    }
   ],
   "source": [
    "X = decoding(B, l=10, interval=interval)\n",
    "print(X)"
   ]
  },
  {
   "cell_type": "code",
   "execution_count": null,
   "metadata": {},
   "outputs": [],
   "source": [
    "def encoding(X, l):\n",
    "    \n",
    "    \"\"\" Encoding each real solution to a binary representation. \"\"\"\n",
    "    \n",
    "    n = len(X)\n",
    "    \n",
    "    # For each variable X[i]\n",
    "    for i in range(n):\n",
    "        "
   ]
  }
 ],
 "metadata": {
  "kernelspec": {
   "display_name": "Python 3",
   "language": "python",
   "name": "python3"
  },
  "language_info": {
   "codemirror_mode": {
    "name": "ipython",
    "version": 3
   },
   "file_extension": ".py",
   "mimetype": "text/x-python",
   "name": "python",
   "nbconvert_exporter": "python",
   "pygments_lexer": "ipython3",
   "version": "3.6.10"
  }
 },
 "nbformat": 4,
 "nbformat_minor": 4
}
