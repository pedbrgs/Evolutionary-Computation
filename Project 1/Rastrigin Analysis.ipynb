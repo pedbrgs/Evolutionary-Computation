{
 "cells": [
  {
   "cell_type": "code",
   "execution_count": 1,
   "metadata": {},
   "outputs": [],
   "source": [
    "import numpy as np"
   ]
  },
  {
   "cell_type": "code",
   "execution_count": 294,
   "metadata": {},
   "outputs": [],
   "source": [
    "interval = [-5.12, 5.12]\n",
    "n = 10\n",
    "l = 10\n",
    "# interval = [2, 5]"
   ]
  },
  {
   "cell_type": "code",
   "execution_count": 295,
   "metadata": {},
   "outputs": [],
   "source": [
    "def rastrigin(X, A = 10):\n",
    "    \n",
    "    \"\"\" Rastrigin function. \"\"\"\n",
    "    \n",
    "    n = len(X)\n",
    "    Y = A*n + sum([np.square(x) - A*np.cos(2*np.pi*x) for x in X])\n",
    "    \n",
    "    return Y"
   ]
  },
  {
   "cell_type": "code",
   "execution_count": 296,
   "metadata": {},
   "outputs": [],
   "source": [
    "def decoding(B, l, interval):\n",
    "    \n",
    "    \"\"\" Decoding each binary solution to a floating point representation. \"\"\"\n",
    "    \n",
    "    n = int(len(B)/l)\n",
    "    X = np.zeros((n,))\n",
    "    \n",
    "    # The interval between adjacent values\n",
    "    delta = (interval[1] - interval[0])/(np.power(2,l)-1)  \n",
    "    \n",
    "    # For each variable b in B\n",
    "    for i in range(n):\n",
    "        b = B[l*i:l*(i+1)]\n",
    "        X[i] = interval[0] + delta * sum([b[k]*np.power(2,(l-k-1)) for k in range(l)])\n",
    "\n",
    "    return X"
   ]
  },
  {
   "cell_type": "code",
   "execution_count": 305,
   "metadata": {},
   "outputs": [],
   "source": [
    "def encoding(X, l, interval):\n",
    "    \n",
    "    \"\"\" Encoding each real solution to a binary representation. \"\"\"\n",
    "    \n",
    "    n = len(X)\n",
    "    B = list()\n",
    "    \n",
    "    # For each variable X[i]\n",
    "    for i in range(n):        \n",
    "        k = int(np.ceil((X[i] - interval[0])*(np.power(2,l)-1)/(interval[1] - interval[0])))\n",
    "        b = bin(k).replace(\"0b\", \"\")\n",
    "        b = [float(bi) for bi in b]\n",
    "        \n",
    "        if len(b) < l:\n",
    "            b = list(np.zeros((l-len(b),))) + b\n",
    "            \n",
    "        B.append(b)    \n",
    "    \n",
    "    B = np.array(B).reshape((-1))\n",
    "    \n",
    "    return B"
   ]
  },
  {
   "cell_type": "code",
   "execution_count": 318,
   "metadata": {},
   "outputs": [
    {
     "name": "stdout",
     "output_type": "stream",
     "text": [
      "[0. 0. 0. 0. 0. 0. 0. 0. 0. 0.]\n"
     ]
    }
   ],
   "source": [
    "X = np.zeros((n,))\n",
    "#X = np.array([-5.12]*l)\n",
    "print(X)"
   ]
  },
  {
   "cell_type": "code",
   "execution_count": 319,
   "metadata": {},
   "outputs": [
    {
     "data": {
      "text/plain": [
       "array([1., 0., 0., 0., 0., 0., 0., 0., 0., 0., 1., 0., 0., 0., 0., 0., 0.,\n",
       "       0., 0., 0., 1., 0., 0., 0., 0., 0., 0., 0., 0., 0., 1., 0., 0., 0.,\n",
       "       0., 0., 0., 0., 0., 0., 1., 0., 0., 0., 0., 0., 0., 0., 0., 0., 1.,\n",
       "       0., 0., 0., 0., 0., 0., 0., 0., 0., 1., 0., 0., 0., 0., 0., 0., 0.,\n",
       "       0., 0., 1., 0., 0., 0., 0., 0., 0., 0., 0., 0., 1., 0., 0., 0., 0.,\n",
       "       0., 0., 0., 0., 0., 1., 0., 0., 0., 0., 0., 0., 0., 0., 0.])"
      ]
     },
     "execution_count": 319,
     "metadata": {},
     "output_type": "execute_result"
    }
   ],
   "source": [
    "B = encoding(X, l = l, interval = interval)\n",
    "B"
   ]
  },
  {
   "cell_type": "code",
   "execution_count": 320,
   "metadata": {},
   "outputs": [
    {
     "data": {
      "text/plain": [
       "array([0.00500489, 0.00500489, 0.00500489, 0.00500489, 0.00500489,\n",
       "       0.00500489, 0.00500489, 0.00500489, 0.00500489, 0.00500489])"
      ]
     },
     "execution_count": 320,
     "metadata": {},
     "output_type": "execute_result"
    }
   ],
   "source": [
    "X = decoding(B, l = l, interval = interval)\n",
    "X"
   ]
  },
  {
   "cell_type": "code",
   "execution_count": 321,
   "metadata": {},
   "outputs": [
    {
     "data": {
      "text/plain": [
       "0.04969096075727464"
      ]
     },
     "execution_count": 321,
     "metadata": {},
     "output_type": "execute_result"
    }
   ],
   "source": [
    "rastrigin(X)"
   ]
  },
  {
   "cell_type": "code",
   "execution_count": null,
   "metadata": {},
   "outputs": [],
   "source": []
  }
 ],
 "metadata": {
  "kernelspec": {
   "display_name": "Python 3",
   "language": "python",
   "name": "python3"
  },
  "language_info": {
   "codemirror_mode": {
    "name": "ipython",
    "version": 3
   },
   "file_extension": ".py",
   "mimetype": "text/x-python",
   "name": "python",
   "nbconvert_exporter": "python",
   "pygments_lexer": "ipython3",
   "version": "3.6.10"
  }
 },
 "nbformat": 4,
 "nbformat_minor": 4
}
