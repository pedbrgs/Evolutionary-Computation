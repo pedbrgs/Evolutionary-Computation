{
 "cells": [
  {
   "cell_type": "code",
   "execution_count": 1,
   "metadata": {},
   "outputs": [],
   "source": [
    "from rastrigin import *"
   ]
  },
  {
   "cell_type": "code",
   "execution_count": 37,
   "metadata": {},
   "outputs": [],
   "source": [
    "n_exec = 33\n",
    "fitness = list()\n",
    "pc = list()\n",
    "pm = list()\n",
    "f_l = list()\n",
    "f_m = list()"
   ]
  },
  {
   "cell_type": "code",
   "execution_count": 3,
   "metadata": {
    "scrolled": true
   },
   "outputs": [
    {
     "name": "stderr",
     "output_type": "stream",
     "text": [
      "Generations:   1%|          | 70/10000 [00:00<00:14, 691.68it/s]"
     ]
    },
    {
     "name": "stdout",
     "output_type": "stream",
     "text": [
      "0.01\n"
     ]
    },
    {
     "name": "stderr",
     "output_type": "stream",
     "text": [
      "Generations: 100%|██████████| 10000/10000 [00:11<00:00, 843.20it/s]\n",
      "Generations:   1%|          | 66/10000 [00:00<00:15, 652.66it/s]"
     ]
    },
    {
     "name": "stdout",
     "output_type": "stream",
     "text": [
      "16.05744454722273\n"
     ]
    },
    {
     "name": "stderr",
     "output_type": "stream",
     "text": [
      "Generations: 100%|██████████| 10000/10000 [00:11<00:00, 843.44it/s]\n",
      "Generations:   1%|          | 74/10000 [00:00<00:13, 724.17it/s]"
     ]
    },
    {
     "name": "stdout",
     "output_type": "stream",
     "text": [
      "12.856676166132985\n"
     ]
    },
    {
     "name": "stderr",
     "output_type": "stream",
     "text": [
      "Generations: 100%|██████████| 10000/10000 [00:11<00:00, 847.17it/s]\n",
      "Generations:   1%|          | 84/10000 [00:00<00:11, 832.87it/s]"
     ]
    },
    {
     "name": "stdout",
     "output_type": "stream",
     "text": [
      "6.933247136947088\n"
     ]
    },
    {
     "name": "stderr",
     "output_type": "stream",
     "text": [
      "Generations: 100%|██████████| 10000/10000 [00:11<00:00, 849.51it/s]\n",
      "Generations:   1%|          | 82/10000 [00:00<00:12, 811.66it/s]"
     ]
    },
    {
     "name": "stdout",
     "output_type": "stream",
     "text": [
      "5.230841380670469\n"
     ]
    },
    {
     "name": "stderr",
     "output_type": "stream",
     "text": [
      "Generations: 100%|██████████| 10000/10000 [00:11<00:00, 834.43it/s]\n",
      "Generations:   1%|          | 92/10000 [00:00<00:10, 902.44it/s]"
     ]
    },
    {
     "name": "stdout",
     "output_type": "stream",
     "text": [
      "11.446478927204552\n"
     ]
    },
    {
     "name": "stderr",
     "output_type": "stream",
     "text": [
      "Generations: 100%|██████████| 10000/10000 [00:11<00:00, 858.15it/s]\n",
      "Generations:   1%|          | 90/10000 [00:00<00:11, 891.98it/s]"
     ]
    },
    {
     "name": "stdout",
     "output_type": "stream",
     "text": [
      "12.851671477925905\n"
     ]
    },
    {
     "name": "stderr",
     "output_type": "stream",
     "text": [
      "Generations: 100%|██████████| 10000/10000 [00:11<00:00, 858.68it/s]\n",
      "Generations:   1%|          | 64/10000 [00:00<00:16, 614.04it/s]"
     ]
    },
    {
     "name": "stdout",
     "output_type": "stream",
     "text": [
      "18.529379753202008\n"
     ]
    },
    {
     "name": "stderr",
     "output_type": "stream",
     "text": [
      "Generations: 100%|██████████| 10000/10000 [00:12<00:00, 777.10it/s]\n",
      "Generations:   0%|          | 48/10000 [00:00<00:21, 471.17it/s]"
     ]
    },
    {
     "name": "stdout",
     "output_type": "stream",
     "text": [
      "10.90377764375215\n"
     ]
    },
    {
     "name": "stderr",
     "output_type": "stream",
     "text": [
      "Generations: 100%|██████████| 10000/10000 [00:13<00:00, 741.15it/s]\n",
      "Generations:   1%|          | 66/10000 [00:00<00:15, 645.38it/s]"
     ]
    },
    {
     "name": "stdout",
     "output_type": "stream",
     "text": [
      "13.313445103817074\n"
     ]
    },
    {
     "name": "stderr",
     "output_type": "stream",
     "text": [
      "Generations: 100%|██████████| 10000/10000 [00:12<00:00, 821.56it/s]\n",
      "Generations:   1%|          | 90/10000 [00:00<00:11, 889.42it/s]"
     ]
    },
    {
     "name": "stdout",
     "output_type": "stream",
     "text": [
      "8.903359437069824\n"
     ]
    },
    {
     "name": "stderr",
     "output_type": "stream",
     "text": [
      "Generations: 100%|██████████| 10000/10000 [00:12<00:00, 777.40it/s]\n",
      "Generations:   1%|          | 54/10000 [00:00<00:18, 535.51it/s]"
     ]
    },
    {
     "name": "stdout",
     "output_type": "stream",
     "text": [
      "23.160668917743905\n"
     ]
    },
    {
     "name": "stderr",
     "output_type": "stream",
     "text": [
      "Generations: 100%|██████████| 10000/10000 [00:16<00:00, 622.55it/s]\n",
      "Generations:   1%|          | 82/10000 [00:00<00:12, 819.85it/s]"
     ]
    },
    {
     "name": "stdout",
     "output_type": "stream",
     "text": [
      "13.605682162972968\n"
     ]
    },
    {
     "name": "stderr",
     "output_type": "stream",
     "text": [
      "Generations: 100%|██████████| 10000/10000 [00:11<00:00, 867.24it/s]\n",
      "Generations:   1%|          | 88/10000 [00:00<00:11, 871.31it/s]"
     ]
    },
    {
     "name": "stdout",
     "output_type": "stream",
     "text": [
      "9.948394198428417\n"
     ]
    },
    {
     "name": "stderr",
     "output_type": "stream",
     "text": [
      "Generations: 100%|██████████| 10000/10000 [00:12<00:00, 789.90it/s]\n",
      "Generations:   1%|          | 52/10000 [00:00<00:19, 509.47it/s]"
     ]
    },
    {
     "name": "stdout",
     "output_type": "stream",
     "text": [
      "19.09369051202097\n"
     ]
    },
    {
     "name": "stderr",
     "output_type": "stream",
     "text": [
      "Generations: 100%|██████████| 10000/10000 [00:14<00:00, 714.06it/s]\n",
      "Generations:   1%|          | 90/10000 [00:00<00:11, 887.76it/s]"
     ]
    },
    {
     "name": "stdout",
     "output_type": "stream",
     "text": [
      "8.504208235228859\n"
     ]
    },
    {
     "name": "stderr",
     "output_type": "stream",
     "text": [
      "Generations: 100%|██████████| 10000/10000 [00:11<00:00, 885.74it/s]\n",
      "Generations:   1%|          | 90/10000 [00:00<00:11, 889.33it/s]"
     ]
    },
    {
     "name": "stdout",
     "output_type": "stream",
     "text": [
      "23.56034307385883\n"
     ]
    },
    {
     "name": "stderr",
     "output_type": "stream",
     "text": [
      "Generations: 100%|██████████| 10000/10000 [00:12<00:00, 802.10it/s]\n",
      "Generations:   1%|          | 82/10000 [00:00<00:12, 814.38it/s]"
     ]
    },
    {
     "name": "stdout",
     "output_type": "stream",
     "text": [
      "4.225753950999646\n"
     ]
    },
    {
     "name": "stderr",
     "output_type": "stream",
     "text": [
      "Generations: 100%|██████████| 10000/10000 [00:12<00:00, 787.40it/s]\n",
      "Generations:   1%|          | 86/10000 [00:00<00:11, 850.65it/s]"
     ]
    },
    {
     "name": "stdout",
     "output_type": "stream",
     "text": [
      "12.15423800868021\n"
     ]
    },
    {
     "name": "stderr",
     "output_type": "stream",
     "text": [
      "Generations: 100%|██████████| 10000/10000 [00:12<00:00, 787.84it/s]\n",
      "Generations:   1%|          | 68/10000 [00:00<00:14, 670.44it/s]"
     ]
    },
    {
     "name": "stdout",
     "output_type": "stream",
     "text": [
      "8.220765194417595\n"
     ]
    },
    {
     "name": "stderr",
     "output_type": "stream",
     "text": [
      "Generations: 100%|██████████| 10000/10000 [00:12<00:00, 800.73it/s]\n",
      "Generations:   1%|          | 90/10000 [00:00<00:11, 882.13it/s]"
     ]
    },
    {
     "name": "stdout",
     "output_type": "stream",
     "text": [
      "18.242050145298137\n"
     ]
    },
    {
     "name": "stderr",
     "output_type": "stream",
     "text": [
      "Generations: 100%|██████████| 10000/10000 [00:11<00:00, 845.47it/s]\n",
      "Generations:   1%|          | 90/10000 [00:00<00:11, 890.60it/s]"
     ]
    },
    {
     "name": "stdout",
     "output_type": "stream",
     "text": [
      "8.441398523017781\n"
     ]
    },
    {
     "name": "stderr",
     "output_type": "stream",
     "text": [
      "Generations: 100%|██████████| 10000/10000 [00:12<00:00, 798.06it/s]\n",
      "Generations:   1%|          | 62/10000 [00:00<00:16, 602.48it/s]"
     ]
    },
    {
     "name": "stdout",
     "output_type": "stream",
     "text": [
      "10.692374129687195\n"
     ]
    },
    {
     "name": "stderr",
     "output_type": "stream",
     "text": [
      "Generations: 100%|██████████| 10000/10000 [00:13<00:00, 755.96it/s]\n",
      "Generations:   1%|          | 90/10000 [00:00<00:11, 898.79it/s]"
     ]
    },
    {
     "name": "stdout",
     "output_type": "stream",
     "text": [
      "11.38500197521249\n"
     ]
    },
    {
     "name": "stderr",
     "output_type": "stream",
     "text": [
      "Generations: 100%|██████████| 10000/10000 [00:11<00:00, 839.42it/s]\n",
      "Generations:   1%|          | 88/10000 [00:00<00:11, 872.92it/s]"
     ]
    },
    {
     "name": "stdout",
     "output_type": "stream",
     "text": [
      "9.446669451776131\n"
     ]
    },
    {
     "name": "stderr",
     "output_type": "stream",
     "text": [
      "Generations: 100%|██████████| 10000/10000 [00:11<00:00, 842.18it/s]\n",
      "Generations:   1%|          | 90/10000 [00:00<00:11, 892.95it/s]"
     ]
    },
    {
     "name": "stdout",
     "output_type": "stream",
     "text": [
      "6.697401528292858\n"
     ]
    },
    {
     "name": "stderr",
     "output_type": "stream",
     "text": [
      "Generations: 100%|██████████| 10000/10000 [00:11<00:00, 842.21it/s]\n",
      "Generations:   1%|          | 90/10000 [00:00<00:11, 887.41it/s]"
     ]
    },
    {
     "name": "stdout",
     "output_type": "stream",
     "text": [
      "13.831719259855774\n"
     ]
    },
    {
     "name": "stderr",
     "output_type": "stream",
     "text": [
      "Generations: 100%|██████████| 10000/10000 [00:11<00:00, 851.07it/s]\n",
      "Generations:   1%|          | 84/10000 [00:00<00:11, 834.68it/s]"
     ]
    },
    {
     "name": "stdout",
     "output_type": "stream",
     "text": [
      "11.195514632534483\n"
     ]
    },
    {
     "name": "stderr",
     "output_type": "stream",
     "text": [
      "Generations: 100%|██████████| 10000/10000 [00:11<00:00, 845.60it/s]\n",
      "Generations:   1%|          | 90/10000 [00:00<00:11, 884.97it/s]"
     ]
    },
    {
     "name": "stdout",
     "output_type": "stream",
     "text": [
      "6.9899699592637035\n"
     ]
    },
    {
     "name": "stderr",
     "output_type": "stream",
     "text": [
      "Generations: 100%|██████████| 10000/10000 [00:12<00:00, 829.90it/s]\n",
      "Generations:   1%|          | 90/10000 [00:00<00:11, 894.26it/s]"
     ]
    },
    {
     "name": "stdout",
     "output_type": "stream",
     "text": [
      "5.236568268937887\n"
     ]
    },
    {
     "name": "stderr",
     "output_type": "stream",
     "text": [
      "Generations: 100%|██████████| 10000/10000 [00:11<00:00, 853.03it/s]\n",
      "Generations:   1%|          | 88/10000 [00:00<00:11, 876.96it/s]"
     ]
    },
    {
     "name": "stdout",
     "output_type": "stream",
     "text": [
      "2.4716728148889047\n"
     ]
    },
    {
     "name": "stderr",
     "output_type": "stream",
     "text": [
      "Generations: 100%|██████████| 10000/10000 [00:12<00:00, 823.74it/s]\n",
      "Generations:   1%|          | 90/10000 [00:00<00:11, 887.84it/s]"
     ]
    },
    {
     "name": "stdout",
     "output_type": "stream",
     "text": [
      "15.072988747560615\n"
     ]
    },
    {
     "name": "stderr",
     "output_type": "stream",
     "text": [
      "Generations: 100%|██████████| 10000/10000 [00:12<00:00, 803.91it/s]\n",
      "Generations:   1%|          | 84/10000 [00:00<00:12, 824.81it/s]"
     ]
    },
    {
     "name": "stdout",
     "output_type": "stream",
     "text": [
      "23.160267097042635\n"
     ]
    },
    {
     "name": "stderr",
     "output_type": "stream",
     "text": [
      "Generations: 100%|██████████| 10000/10000 [00:13<00:00, 742.38it/s]\n",
      "Generations:   1%|          | 60/10000 [00:00<00:16, 599.62it/s]"
     ]
    },
    {
     "name": "stdout",
     "output_type": "stream",
     "text": [
      "9.243848948241705\n",
      "0.015\n"
     ]
    },
    {
     "name": "stderr",
     "output_type": "stream",
     "text": [
      "Generations: 100%|██████████| 10000/10000 [00:13<00:00, 757.11it/s]\n",
      "Generations:   1%|          | 90/10000 [00:00<00:11, 895.15it/s]"
     ]
    },
    {
     "name": "stdout",
     "output_type": "stream",
     "text": [
      "4.71001947415715\n"
     ]
    },
    {
     "name": "stderr",
     "output_type": "stream",
     "text": [
      "Generations: 100%|██████████| 10000/10000 [00:12<00:00, 804.59it/s]\n",
      "Generations:   1%|          | 88/10000 [00:00<00:11, 879.91it/s]"
     ]
    },
    {
     "name": "stdout",
     "output_type": "stream",
     "text": [
      "5.704331115402155\n"
     ]
    },
    {
     "name": "stderr",
     "output_type": "stream",
     "text": [
      "Generations: 100%|██████████| 10000/10000 [00:12<00:00, 811.97it/s]\n",
      "Generations:   1%|          | 88/10000 [00:00<00:11, 878.41it/s]"
     ]
    },
    {
     "name": "stdout",
     "output_type": "stream",
     "text": [
      "6.371359119071116\n"
     ]
    },
    {
     "name": "stderr",
     "output_type": "stream",
     "text": [
      "Generations: 100%|██████████| 10000/10000 [00:12<00:00, 823.99it/s]\n",
      "Generations:   1%|          | 90/10000 [00:00<00:11, 898.88it/s]"
     ]
    },
    {
     "name": "stdout",
     "output_type": "stream",
     "text": [
      "7.0315103290610494\n"
     ]
    },
    {
     "name": "stderr",
     "output_type": "stream",
     "text": [
      "Generations: 100%|██████████| 10000/10000 [00:12<00:00, 818.36it/s]\n",
      "Generations:   1%|          | 52/10000 [00:00<00:19, 517.40it/s]"
     ]
    },
    {
     "name": "stdout",
     "output_type": "stream",
     "text": [
      "4.483419121067101\n"
     ]
    },
    {
     "name": "stderr",
     "output_type": "stream",
     "text": [
      "Generations: 100%|██████████| 10000/10000 [00:12<00:00, 806.44it/s]\n",
      "Generations:   1%|          | 88/10000 [00:00<00:11, 873.55it/s]"
     ]
    },
    {
     "name": "stdout",
     "output_type": "stream",
     "text": [
      "11.622196548004482\n"
     ]
    },
    {
     "name": "stderr",
     "output_type": "stream",
     "text": [
      "Generations: 100%|██████████| 10000/10000 [00:12<00:00, 776.95it/s]\n",
      "Generations:   1%|          | 74/10000 [00:00<00:13, 726.84it/s]"
     ]
    },
    {
     "name": "stdout",
     "output_type": "stream",
     "text": [
      "13.888278544328855\n"
     ]
    },
    {
     "name": "stderr",
     "output_type": "stream",
     "text": [
      "Generations: 100%|██████████| 10000/10000 [00:12<00:00, 780.91it/s]\n",
      "Generations:   1%|          | 84/10000 [00:00<00:11, 839.70it/s]"
     ]
    },
    {
     "name": "stdout",
     "output_type": "stream",
     "text": [
      "3.012869793281155\n"
     ]
    },
    {
     "name": "stderr",
     "output_type": "stream",
     "text": [
      "Generations: 100%|██████████| 10000/10000 [00:12<00:00, 779.63it/s]\n",
      "Generations:   1%|          | 72/10000 [00:00<00:14, 706.35it/s]"
     ]
    },
    {
     "name": "stdout",
     "output_type": "stream",
     "text": [
      "8.451977539648794\n"
     ]
    },
    {
     "name": "stderr",
     "output_type": "stream",
     "text": [
      "Generations: 100%|██████████| 10000/10000 [00:13<00:00, 760.35it/s]\n",
      "Generations:   1%|          | 92/10000 [00:00<00:10, 903.64it/s]"
     ]
    },
    {
     "name": "stdout",
     "output_type": "stream",
     "text": [
      "9.391061879380715\n"
     ]
    },
    {
     "name": "stderr",
     "output_type": "stream",
     "text": [
      "Generations: 100%|██████████| 10000/10000 [00:13<00:00, 748.11it/s]\n",
      "Generations:   1%|          | 58/10000 [00:00<00:17, 563.26it/s]"
     ]
    },
    {
     "name": "stdout",
     "output_type": "stream",
     "text": [
      "10.380289926266315\n"
     ]
    },
    {
     "name": "stderr",
     "output_type": "stream",
     "text": [
      "Generations: 100%|██████████| 10000/10000 [00:14<00:00, 709.35it/s]\n",
      "Generations:   1%|          | 76/10000 [00:00<00:13, 740.09it/s]"
     ]
    },
    {
     "name": "stdout",
     "output_type": "stream",
     "text": [
      "4.4666634687483935\n"
     ]
    },
    {
     "name": "stderr",
     "output_type": "stream",
     "text": [
      "Generations: 100%|██████████| 10000/10000 [00:14<00:00, 690.03it/s]\n",
      "Generations:   1%|          | 70/10000 [00:00<00:14, 699.14it/s]"
     ]
    },
    {
     "name": "stdout",
     "output_type": "stream",
     "text": [
      "4.0293298889933595\n"
     ]
    },
    {
     "name": "stderr",
     "output_type": "stream",
     "text": [
      "Generations: 100%|██████████| 10000/10000 [00:12<00:00, 770.61it/s]\n",
      "Generations:   1%|          | 82/10000 [00:00<00:12, 816.24it/s]"
     ]
    },
    {
     "name": "stdout",
     "output_type": "stream",
     "text": [
      "8.923886935769858\n"
     ]
    },
    {
     "name": "stderr",
     "output_type": "stream",
     "text": [
      "Generations: 100%|██████████| 10000/10000 [00:13<00:00, 718.51it/s]\n",
      "Generations:   1%|          | 76/10000 [00:00<00:13, 752.16it/s]"
     ]
    },
    {
     "name": "stdout",
     "output_type": "stream",
     "text": [
      "8.94450472875225\n"
     ]
    },
    {
     "name": "stderr",
     "output_type": "stream",
     "text": [
      "Generations: 100%|██████████| 10000/10000 [00:13<00:00, 729.80it/s]\n",
      "Generations:   1%|          | 64/10000 [00:00<00:15, 636.28it/s]"
     ]
    },
    {
     "name": "stdout",
     "output_type": "stream",
     "text": [
      "11.388792605319338\n"
     ]
    },
    {
     "name": "stderr",
     "output_type": "stream",
     "text": [
      "Generations: 100%|██████████| 10000/10000 [00:12<00:00, 781.61it/s]\n",
      "Generations:   1%|          | 90/10000 [00:00<00:11, 894.90it/s]"
     ]
    },
    {
     "name": "stdout",
     "output_type": "stream",
     "text": [
      "5.47782910896035\n"
     ]
    },
    {
     "name": "stderr",
     "output_type": "stream",
     "text": [
      "Generations: 100%|██████████| 10000/10000 [00:12<00:00, 784.27it/s]\n",
      "Generations:   1%|          | 74/10000 [00:00<00:13, 726.24it/s]"
     ]
    },
    {
     "name": "stdout",
     "output_type": "stream",
     "text": [
      "5.47525864541953\n"
     ]
    },
    {
     "name": "stderr",
     "output_type": "stream",
     "text": [
      "Generations: 100%|██████████| 10000/10000 [00:12<00:00, 794.09it/s]\n",
      "Generations:   1%|          | 82/10000 [00:00<00:12, 816.55it/s]"
     ]
    },
    {
     "name": "stdout",
     "output_type": "stream",
     "text": [
      "9.38576489873644\n"
     ]
    },
    {
     "name": "stderr",
     "output_type": "stream",
     "text": [
      "Generations: 100%|██████████| 10000/10000 [00:12<00:00, 793.93it/s]\n",
      "Generations:   1%|          | 82/10000 [00:00<00:12, 811.61it/s]"
     ]
    },
    {
     "name": "stdout",
     "output_type": "stream",
     "text": [
      "4.462651611756598\n"
     ]
    },
    {
     "name": "stderr",
     "output_type": "stream",
     "text": [
      "Generations: 100%|██████████| 10000/10000 [00:12<00:00, 809.91it/s]\n",
      "Generations:   1%|          | 88/10000 [00:00<00:11, 868.68it/s]"
     ]
    },
    {
     "name": "stdout",
     "output_type": "stream",
     "text": [
      "11.617717384213492\n"
     ]
    },
    {
     "name": "stderr",
     "output_type": "stream",
     "text": [
      "Generations: 100%|██████████| 10000/10000 [00:12<00:00, 782.79it/s]\n",
      "Generations:   1%|          | 82/10000 [00:00<00:12, 804.85it/s]"
     ]
    },
    {
     "name": "stdout",
     "output_type": "stream",
     "text": [
      "10.144304774539592\n"
     ]
    },
    {
     "name": "stderr",
     "output_type": "stream",
     "text": [
      "Generations: 100%|██████████| 10000/10000 [00:12<00:00, 790.85it/s]\n",
      "Generations:   1%|          | 88/10000 [00:00<00:11, 866.46it/s]"
     ]
    },
    {
     "name": "stdout",
     "output_type": "stream",
     "text": [
      "5.938609447454667\n"
     ]
    },
    {
     "name": "stderr",
     "output_type": "stream",
     "text": [
      "Generations: 100%|██████████| 10000/10000 [00:12<00:00, 813.59it/s]\n",
      "Generations:   1%|          | 82/10000 [00:00<00:12, 813.88it/s]"
     ]
    },
    {
     "name": "stdout",
     "output_type": "stream",
     "text": [
      "7.395543400239987\n"
     ]
    },
    {
     "name": "stderr",
     "output_type": "stream",
     "text": [
      "Generations: 100%|██████████| 10000/10000 [00:12<00:00, 803.62it/s]\n",
      "Generations:   1%|          | 88/10000 [00:00<00:11, 866.63it/s]"
     ]
    },
    {
     "name": "stdout",
     "output_type": "stream",
     "text": [
      "7.633434492871345\n"
     ]
    },
    {
     "name": "stderr",
     "output_type": "stream",
     "text": [
      "Generations: 100%|██████████| 10000/10000 [00:12<00:00, 816.13it/s]\n",
      "Generations:   1%|          | 78/10000 [00:00<00:12, 770.20it/s]"
     ]
    },
    {
     "name": "stdout",
     "output_type": "stream",
     "text": [
      "13.314328741937231\n"
     ]
    },
    {
     "name": "stderr",
     "output_type": "stream",
     "text": [
      "Generations: 100%|██████████| 10000/10000 [00:11<00:00, 835.23it/s]\n",
      "Generations:   1%|          | 90/10000 [00:00<00:11, 896.55it/s]"
     ]
    },
    {
     "name": "stdout",
     "output_type": "stream",
     "text": [
      "4.225769284442094\n"
     ]
    },
    {
     "name": "stderr",
     "output_type": "stream",
     "text": [
      "Generations: 100%|██████████| 10000/10000 [00:12<00:00, 795.69it/s]\n",
      "Generations:   1%|          | 86/10000 [00:00<00:11, 838.07it/s]"
     ]
    },
    {
     "name": "stdout",
     "output_type": "stream",
     "text": [
      "2.2360531249204882\n"
     ]
    },
    {
     "name": "stderr",
     "output_type": "stream",
     "text": [
      "Generations: 100%|██████████| 10000/10000 [00:12<00:00, 825.08it/s]\n",
      "Generations:   1%|          | 72/10000 [00:00<00:14, 696.11it/s]"
     ]
    },
    {
     "name": "stdout",
     "output_type": "stream",
     "text": [
      "6.459764688018296\n"
     ]
    },
    {
     "name": "stderr",
     "output_type": "stream",
     "text": [
      "Generations: 100%|██████████| 10000/10000 [00:12<00:00, 801.32it/s]\n",
      "Generations:   1%|          | 90/10000 [00:00<00:11, 884.14it/s]"
     ]
    },
    {
     "name": "stdout",
     "output_type": "stream",
     "text": [
      "7.934517973039874\n"
     ]
    },
    {
     "name": "stderr",
     "output_type": "stream",
     "text": [
      "Generations: 100%|██████████| 10000/10000 [00:12<00:00, 778.19it/s]\n",
      "Generations:   1%|          | 84/10000 [00:00<00:12, 825.37it/s]"
     ]
    },
    {
     "name": "stdout",
     "output_type": "stream",
     "text": [
      "4.22632619351279\n"
     ]
    },
    {
     "name": "stderr",
     "output_type": "stream",
     "text": [
      "Generations: 100%|██████████| 10000/10000 [00:12<00:00, 804.66it/s]\n",
      "Generations:   1%|          | 86/10000 [00:00<00:11, 850.99it/s]"
     ]
    },
    {
     "name": "stdout",
     "output_type": "stream",
     "text": [
      "12.178876824746837\n"
     ]
    },
    {
     "name": "stderr",
     "output_type": "stream",
     "text": [
      "Generations: 100%|██████████| 10000/10000 [00:11<00:00, 836.11it/s]\n",
      "Generations:   1%|          | 68/10000 [00:00<00:14, 673.99it/s]"
     ]
    },
    {
     "name": "stdout",
     "output_type": "stream",
     "text": [
      "14.33988150628204\n",
      "0.019999999999999997\n"
     ]
    },
    {
     "name": "stderr",
     "output_type": "stream",
     "text": [
      "Generations: 100%|██████████| 10000/10000 [00:13<00:00, 766.49it/s]\n",
      "Generations:   1%|          | 68/10000 [00:00<00:14, 677.40it/s]"
     ]
    },
    {
     "name": "stdout",
     "output_type": "stream",
     "text": [
      "17.135551725626144\n"
     ]
    },
    {
     "name": "stderr",
     "output_type": "stream",
     "text": [
      "Generations: 100%|██████████| 10000/10000 [00:12<00:00, 799.86it/s]\n",
      "Generations:   1%|          | 84/10000 [00:00<00:11, 838.69it/s]"
     ]
    },
    {
     "name": "stdout",
     "output_type": "stream",
     "text": [
      "8.792050451054209\n"
     ]
    },
    {
     "name": "stderr",
     "output_type": "stream",
     "text": [
      "Generations: 100%|██████████| 10000/10000 [00:12<00:00, 804.50it/s]\n",
      "Generations:   1%|          | 84/10000 [00:00<00:11, 836.62it/s]"
     ]
    },
    {
     "name": "stdout",
     "output_type": "stream",
     "text": [
      "3.4690467721090528\n"
     ]
    },
    {
     "name": "stderr",
     "output_type": "stream",
     "text": [
      "Generations: 100%|██████████| 10000/10000 [00:12<00:00, 794.24it/s]\n",
      "Generations:   1%|          | 82/10000 [00:00<00:12, 805.85it/s]"
     ]
    },
    {
     "name": "stdout",
     "output_type": "stream",
     "text": [
      "6.949687434744419\n"
     ]
    },
    {
     "name": "stderr",
     "output_type": "stream",
     "text": [
      "Generations: 100%|██████████| 10000/10000 [00:12<00:00, 803.74it/s]\n",
      "Generations:   1%|          | 84/10000 [00:00<00:12, 824.94it/s]"
     ]
    },
    {
     "name": "stdout",
     "output_type": "stream",
     "text": [
      "2.2323093076986993\n"
     ]
    },
    {
     "name": "stderr",
     "output_type": "stream",
     "text": [
      "Generations: 100%|██████████| 10000/10000 [00:12<00:00, 805.97it/s]\n",
      "Generations:   1%|          | 84/10000 [00:00<00:12, 825.60it/s]"
     ]
    },
    {
     "name": "stdout",
     "output_type": "stream",
     "text": [
      "7.185801861843217\n"
     ]
    },
    {
     "name": "stderr",
     "output_type": "stream",
     "text": [
      "Generations: 100%|██████████| 10000/10000 [00:14<00:00, 705.31it/s]\n",
      "Generations:   1%|          | 74/10000 [00:00<00:13, 717.55it/s]"
     ]
    },
    {
     "name": "stdout",
     "output_type": "stream",
     "text": [
      "9.159071007016479\n"
     ]
    },
    {
     "name": "stderr",
     "output_type": "stream",
     "text": [
      "Generations: 100%|██████████| 10000/10000 [00:12<00:00, 779.39it/s]\n",
      "Generations:   1%|          | 88/10000 [00:00<00:11, 876.68it/s]"
     ]
    },
    {
     "name": "stdout",
     "output_type": "stream",
     "text": [
      "8.157930570081461\n"
     ]
    },
    {
     "name": "stderr",
     "output_type": "stream",
     "text": [
      "Generations: 100%|██████████| 10000/10000 [00:14<00:00, 672.01it/s]\n",
      "Generations:   1%|          | 82/10000 [00:00<00:12, 819.31it/s]"
     ]
    },
    {
     "name": "stdout",
     "output_type": "stream",
     "text": [
      "4.465601086826609\n"
     ]
    },
    {
     "name": "stderr",
     "output_type": "stream",
     "text": [
      "Generations: 100%|██████████| 10000/10000 [00:14<00:00, 696.54it/s]\n",
      "Generations:   1%|          | 84/10000 [00:00<00:11, 826.70it/s]"
     ]
    },
    {
     "name": "stdout",
     "output_type": "stream",
     "text": [
      "8.39868681192219\n"
     ]
    },
    {
     "name": "stderr",
     "output_type": "stream",
     "text": [
      "Generations: 100%|██████████| 10000/10000 [00:13<00:00, 765.78it/s]\n",
      "Generations:   1%|          | 80/10000 [00:00<00:12, 797.17it/s]"
     ]
    },
    {
     "name": "stdout",
     "output_type": "stream",
     "text": [
      "12.382376899931558\n"
     ]
    },
    {
     "name": "stderr",
     "output_type": "stream",
     "text": [
      "Generations: 100%|██████████| 10000/10000 [00:14<00:00, 697.62it/s]\n",
      "Generations:   1%|          | 88/10000 [00:00<00:11, 869.83it/s]"
     ]
    },
    {
     "name": "stdout",
     "output_type": "stream",
     "text": [
      "1.2400033541752435\n"
     ]
    },
    {
     "name": "stderr",
     "output_type": "stream",
     "text": [
      "Generations: 100%|██████████| 10000/10000 [00:13<00:00, 754.75it/s]\n",
      "Generations:   1%|          | 58/10000 [00:00<00:17, 569.62it/s]"
     ]
    },
    {
     "name": "stdout",
     "output_type": "stream",
     "text": [
      "2.23724615921725\n"
     ]
    },
    {
     "name": "stderr",
     "output_type": "stream",
     "text": [
      "Generations: 100%|██████████| 10000/10000 [00:13<00:00, 754.47it/s]\n",
      "Generations:   1%|          | 86/10000 [00:00<00:11, 840.39it/s]"
     ]
    },
    {
     "name": "stdout",
     "output_type": "stream",
     "text": [
      "7.61056035196421\n"
     ]
    },
    {
     "name": "stderr",
     "output_type": "stream",
     "text": [
      "Generations: 100%|██████████| 10000/10000 [00:13<00:00, 718.36it/s]\n",
      "Generations:   1%|          | 90/10000 [00:00<00:11, 884.40it/s]"
     ]
    },
    {
     "name": "stdout",
     "output_type": "stream",
     "text": [
      "3.485962458422378\n"
     ]
    },
    {
     "name": "stderr",
     "output_type": "stream",
     "text": [
      "Generations: 100%|██████████| 10000/10000 [00:13<00:00, 739.96it/s]\n",
      "Generations:   1%|          | 66/10000 [00:00<00:15, 647.67it/s]"
     ]
    },
    {
     "name": "stdout",
     "output_type": "stream",
     "text": [
      "14.07962013628179\n"
     ]
    },
    {
     "name": "stderr",
     "output_type": "stream",
     "text": [
      "Generations: 100%|██████████| 10000/10000 [00:12<00:00, 809.87it/s]\n",
      "Generations:   1%|          | 88/10000 [00:00<00:11, 870.06it/s]"
     ]
    },
    {
     "name": "stdout",
     "output_type": "stream",
     "text": [
      "7.043799217669914\n"
     ]
    },
    {
     "name": "stderr",
     "output_type": "stream",
     "text": [
      "Generations: 100%|██████████| 10000/10000 [00:12<00:00, 789.78it/s]\n",
      "Generations:   1%|          | 68/10000 [00:00<00:14, 666.83it/s]"
     ]
    },
    {
     "name": "stdout",
     "output_type": "stream",
     "text": [
      "7.447169250710957\n"
     ]
    },
    {
     "name": "stderr",
     "output_type": "stream",
     "text": [
      "Generations: 100%|██████████| 10000/10000 [00:11<00:00, 840.42it/s]\n",
      "Generations:   1%|          | 88/10000 [00:00<00:11, 864.62it/s]"
     ]
    },
    {
     "name": "stdout",
     "output_type": "stream",
     "text": [
      "5.222756609149741\n"
     ]
    },
    {
     "name": "stderr",
     "output_type": "stream",
     "text": [
      "Generations: 100%|██████████| 10000/10000 [00:12<00:00, 832.03it/s]\n",
      "Generations:   1%|          | 88/10000 [00:00<00:11, 868.99it/s]"
     ]
    },
    {
     "name": "stdout",
     "output_type": "stream",
     "text": [
      "5.737894162645517\n"
     ]
    },
    {
     "name": "stderr",
     "output_type": "stream",
     "text": [
      "Generations: 100%|██████████| 10000/10000 [00:12<00:00, 806.32it/s]\n",
      "Generations:   1%|          | 88/10000 [00:00<00:11, 874.74it/s]"
     ]
    },
    {
     "name": "stdout",
     "output_type": "stream",
     "text": [
      "6.346535366495246\n"
     ]
    },
    {
     "name": "stderr",
     "output_type": "stream",
     "text": [
      "Generations: 100%|██████████| 10000/10000 [00:14<00:00, 676.58it/s]\n",
      "Generations:   1%|          | 86/10000 [00:00<00:11, 850.06it/s]"
     ]
    },
    {
     "name": "stdout",
     "output_type": "stream",
     "text": [
      "6.724329073756053\n"
     ]
    },
    {
     "name": "stderr",
     "output_type": "stream",
     "text": [
      "Generations: 100%|██████████| 10000/10000 [00:14<00:00, 692.13it/s]\n",
      "Generations:   1%|          | 88/10000 [00:00<00:11, 866.53it/s]"
     ]
    },
    {
     "name": "stdout",
     "output_type": "stream",
     "text": [
      "2.986593294011314\n"
     ]
    },
    {
     "name": "stderr",
     "output_type": "stream",
     "text": [
      "Generations: 100%|██████████| 10000/10000 [00:12<00:00, 805.79it/s]\n",
      "Generations:   1%|          | 90/10000 [00:00<00:11, 884.41it/s]"
     ]
    },
    {
     "name": "stdout",
     "output_type": "stream",
     "text": [
      "11.147306453046852\n"
     ]
    },
    {
     "name": "stderr",
     "output_type": "stream",
     "text": [
      "Generations: 100%|██████████| 10000/10000 [00:12<00:00, 815.19it/s]\n",
      "Generations:   1%|          | 64/10000 [00:00<00:16, 614.91it/s]"
     ]
    },
    {
     "name": "stdout",
     "output_type": "stream",
     "text": [
      "9.164967517975867\n"
     ]
    },
    {
     "name": "stderr",
     "output_type": "stream",
     "text": [
      "Generations: 100%|██████████| 10000/10000 [00:13<00:00, 719.60it/s]\n",
      "Generations:   1%|          | 68/10000 [00:00<00:15, 661.55it/s]"
     ]
    },
    {
     "name": "stdout",
     "output_type": "stream",
     "text": [
      "5.4626585562174625\n"
     ]
    },
    {
     "name": "stderr",
     "output_type": "stream",
     "text": [
      "Generations: 100%|██████████| 10000/10000 [00:13<00:00, 731.74it/s]\n",
      "Generations:   1%|          | 70/10000 [00:00<00:14, 697.28it/s]"
     ]
    },
    {
     "name": "stdout",
     "output_type": "stream",
     "text": [
      "7.710021376852239\n"
     ]
    },
    {
     "name": "stderr",
     "output_type": "stream",
     "text": [
      "Generations: 100%|██████████| 10000/10000 [00:12<00:00, 794.61it/s]\n",
      "Generations:   1%|          | 86/10000 [00:00<00:11, 846.26it/s]"
     ]
    },
    {
     "name": "stdout",
     "output_type": "stream",
     "text": [
      "6.924126389050031\n"
     ]
    },
    {
     "name": "stderr",
     "output_type": "stream",
     "text": [
      "Generations: 100%|██████████| 10000/10000 [00:12<00:00, 800.99it/s]\n",
      "Generations:   1%|          | 68/10000 [00:00<00:14, 672.67it/s]"
     ]
    },
    {
     "name": "stdout",
     "output_type": "stream",
     "text": [
      "14.375676436629874\n"
     ]
    },
    {
     "name": "stderr",
     "output_type": "stream",
     "text": [
      "Generations: 100%|██████████| 10000/10000 [00:12<00:00, 769.77it/s]\n",
      "Generations:   1%|          | 84/10000 [00:00<00:12, 818.82it/s]"
     ]
    },
    {
     "name": "stdout",
     "output_type": "stream",
     "text": [
      "11.86528146214134\n"
     ]
    },
    {
     "name": "stderr",
     "output_type": "stream",
     "text": [
      "Generations: 100%|██████████| 10000/10000 [00:13<00:00, 720.62it/s]\n",
      "Generations:   1%|          | 56/10000 [00:00<00:18, 538.24it/s]"
     ]
    },
    {
     "name": "stdout",
     "output_type": "stream",
     "text": [
      "9.161493369552858\n"
     ]
    },
    {
     "name": "stderr",
     "output_type": "stream",
     "text": [
      "Generations: 100%|██████████| 10000/10000 [00:13<00:00, 757.19it/s]\n",
      "Generations:   1%|          | 88/10000 [00:00<00:11, 860.71it/s]"
     ]
    },
    {
     "name": "stdout",
     "output_type": "stream",
     "text": [
      "4.462386878232664\n"
     ]
    },
    {
     "name": "stderr",
     "output_type": "stream",
     "text": [
      "Generations: 100%|██████████| 10000/10000 [00:13<00:00, 751.92it/s]\n",
      "Generations:   1%|          | 88/10000 [00:00<00:11, 877.62it/s]"
     ]
    },
    {
     "name": "stdout",
     "output_type": "stream",
     "text": [
      "12.888492581655683\n",
      "0.024999999999999998\n"
     ]
    },
    {
     "name": "stderr",
     "output_type": "stream",
     "text": [
      "Generations: 100%|██████████| 10000/10000 [00:12<00:00, 813.84it/s]\n",
      "Generations:   1%|          | 80/10000 [00:00<00:12, 791.76it/s]"
     ]
    },
    {
     "name": "stdout",
     "output_type": "stream",
     "text": [
      "4.581878769779578\n"
     ]
    },
    {
     "name": "stderr",
     "output_type": "stream",
     "text": [
      "Generations: 100%|██████████| 10000/10000 [00:13<00:00, 741.42it/s]\n",
      "Generations:   1%|          | 56/10000 [00:00<00:17, 558.11it/s]"
     ]
    },
    {
     "name": "stdout",
     "output_type": "stream",
     "text": [
      "2.3094871995349706\n"
     ]
    },
    {
     "name": "stderr",
     "output_type": "stream",
     "text": [
      "Generations: 100%|██████████| 10000/10000 [00:13<00:00, 716.62it/s]\n",
      "Generations:   1%|          | 70/10000 [00:00<00:14, 684.96it/s]"
     ]
    },
    {
     "name": "stdout",
     "output_type": "stream",
     "text": [
      "7.455821150538156\n"
     ]
    },
    {
     "name": "stderr",
     "output_type": "stream",
     "text": [
      "Generations: 100%|██████████| 10000/10000 [00:13<00:00, 752.24it/s]\n",
      "Generations:   1%|          | 76/10000 [00:00<00:13, 744.52it/s]"
     ]
    },
    {
     "name": "stdout",
     "output_type": "stream",
     "text": [
      "9.784194422969449\n"
     ]
    },
    {
     "name": "stderr",
     "output_type": "stream",
     "text": [
      "Generations: 100%|██████████| 10000/10000 [00:13<00:00, 747.80it/s]\n",
      "Generations:   1%|          | 90/10000 [00:00<00:11, 887.68it/s]"
     ]
    },
    {
     "name": "stdout",
     "output_type": "stream",
     "text": [
      "4.720122195400364\n"
     ]
    },
    {
     "name": "stderr",
     "output_type": "stream",
     "text": [
      "Generations: 100%|██████████| 10000/10000 [00:12<00:00, 783.06it/s]\n",
      "Generations:   1%|          | 76/10000 [00:00<00:13, 744.68it/s]"
     ]
    },
    {
     "name": "stdout",
     "output_type": "stream",
     "text": [
      "8.984320001629143\n"
     ]
    },
    {
     "name": "stderr",
     "output_type": "stream",
     "text": [
      "Generations: 100%|██████████| 10000/10000 [00:13<00:00, 742.49it/s]\n",
      "Generations:   1%|          | 90/10000 [00:00<00:11, 885.46it/s]"
     ]
    },
    {
     "name": "stdout",
     "output_type": "stream",
     "text": [
      "5.727751419117098\n"
     ]
    },
    {
     "name": "stderr",
     "output_type": "stream",
     "text": [
      "Generations: 100%|██████████| 10000/10000 [00:12<00:00, 795.54it/s]\n",
      "Generations:   1%|          | 52/10000 [00:00<00:19, 505.13it/s]"
     ]
    },
    {
     "name": "stdout",
     "output_type": "stream",
     "text": [
      "5.950318152880399\n"
     ]
    },
    {
     "name": "stderr",
     "output_type": "stream",
     "text": [
      "Generations: 100%|██████████| 10000/10000 [00:13<00:00, 720.42it/s]\n",
      "Generations:   1%|          | 86/10000 [00:00<00:11, 850.41it/s]"
     ]
    },
    {
     "name": "stdout",
     "output_type": "stream",
     "text": [
      "13.638363464765092\n"
     ]
    },
    {
     "name": "stderr",
     "output_type": "stream",
     "text": [
      "Generations: 100%|██████████| 10000/10000 [00:13<00:00, 756.77it/s]\n",
      "Generations:   1%|          | 90/10000 [00:00<00:11, 895.34it/s]"
     ]
    },
    {
     "name": "stdout",
     "output_type": "stream",
     "text": [
      "2.2949836631242846\n"
     ]
    },
    {
     "name": "stderr",
     "output_type": "stream",
     "text": [
      "Generations: 100%|██████████| 10000/10000 [00:13<00:00, 767.42it/s]\n",
      "Generations:   1%|          | 88/10000 [00:00<00:11, 869.58it/s]"
     ]
    },
    {
     "name": "stdout",
     "output_type": "stream",
     "text": [
      "2.4754765181003364\n"
     ]
    },
    {
     "name": "stderr",
     "output_type": "stream",
     "text": [
      "Generations: 100%|██████████| 10000/10000 [00:13<00:00, 764.61it/s]\n",
      "Generations:   1%|          | 90/10000 [00:00<00:11, 891.95it/s]"
     ]
    },
    {
     "name": "stdout",
     "output_type": "stream",
     "text": [
      "7.460227827944408\n"
     ]
    },
    {
     "name": "stderr",
     "output_type": "stream",
     "text": [
      "Generations: 100%|██████████| 10000/10000 [00:12<00:00, 823.26it/s]\n",
      "Generations:   1%|          | 58/10000 [00:00<00:17, 577.63it/s]"
     ]
    },
    {
     "name": "stdout",
     "output_type": "stream",
     "text": [
      "6.465845685910892\n"
     ]
    },
    {
     "name": "stderr",
     "output_type": "stream",
     "text": [
      "Generations: 100%|██████████| 10000/10000 [00:12<00:00, 810.99it/s]\n",
      "Generations:   1%|          | 88/10000 [00:00<00:11, 867.65it/s]"
     ]
    },
    {
     "name": "stdout",
     "output_type": "stream",
     "text": [
      "8.38034698592277\n"
     ]
    },
    {
     "name": "stderr",
     "output_type": "stream",
     "text": [
      "Generations: 100%|██████████| 10000/10000 [00:13<00:00, 768.79it/s]\n",
      "Generations:   1%|          | 88/10000 [00:00<00:11, 878.16it/s]"
     ]
    },
    {
     "name": "stdout",
     "output_type": "stream",
     "text": [
      "5.928294467358739\n"
     ]
    },
    {
     "name": "stderr",
     "output_type": "stream",
     "text": [
      "Generations: 100%|██████████| 10000/10000 [00:12<00:00, 786.28it/s]\n",
      "Generations:   1%|          | 72/10000 [00:00<00:13, 711.55it/s]"
     ]
    },
    {
     "name": "stdout",
     "output_type": "stream",
     "text": [
      "4.699299000912447\n"
     ]
    },
    {
     "name": "stderr",
     "output_type": "stream",
     "text": [
      "Generations: 100%|██████████| 10000/10000 [00:14<00:00, 685.69it/s]\n",
      "Generations:   1%|          | 84/10000 [00:00<00:11, 827.58it/s]"
     ]
    },
    {
     "name": "stdout",
     "output_type": "stream",
     "text": [
      "4.482481314736603\n"
     ]
    },
    {
     "name": "stderr",
     "output_type": "stream",
     "text": [
      "Generations: 100%|██████████| 10000/10000 [00:14<00:00, 705.96it/s]\n",
      "Generations:   1%|          | 92/10000 [00:00<00:11, 899.55it/s]"
     ]
    },
    {
     "name": "stdout",
     "output_type": "stream",
     "text": [
      "2.24755227690342\n"
     ]
    },
    {
     "name": "stderr",
     "output_type": "stream",
     "text": [
      "Generations: 100%|██████████| 10000/10000 [00:12<00:00, 788.71it/s]\n",
      "Generations:   1%|          | 90/10000 [00:00<00:11, 893.32it/s]"
     ]
    },
    {
     "name": "stdout",
     "output_type": "stream",
     "text": [
      "4.255788677206112\n"
     ]
    },
    {
     "name": "stderr",
     "output_type": "stream",
     "text": [
      "Generations: 100%|██████████| 10000/10000 [00:12<00:00, 833.08it/s]\n",
      "Generations:   1%|          | 64/10000 [00:00<00:16, 618.70it/s]"
     ]
    },
    {
     "name": "stdout",
     "output_type": "stream",
     "text": [
      "3.270277581795696\n"
     ]
    },
    {
     "name": "stderr",
     "output_type": "stream",
     "text": [
      "Generations: 100%|██████████| 10000/10000 [00:12<00:00, 784.50it/s]\n",
      "Generations:   1%|          | 90/10000 [00:00<00:11, 886.82it/s]"
     ]
    },
    {
     "name": "stdout",
     "output_type": "stream",
     "text": [
      "6.255749044902828\n"
     ]
    },
    {
     "name": "stderr",
     "output_type": "stream",
     "text": [
      "Generations: 100%|██████████| 10000/10000 [00:12<00:00, 818.09it/s]\n",
      "Generations:   1%|          | 90/10000 [00:00<00:11, 888.61it/s]"
     ]
    },
    {
     "name": "stdout",
     "output_type": "stream",
     "text": [
      "9.311617694843079\n"
     ]
    },
    {
     "name": "stderr",
     "output_type": "stream",
     "text": [
      "Generations: 100%|██████████| 10000/10000 [00:12<00:00, 776.75it/s]\n",
      "Generations:   0%|          | 46/10000 [00:00<00:22, 438.28it/s]"
     ]
    },
    {
     "name": "stdout",
     "output_type": "stream",
     "text": [
      "8.411144193076098\n"
     ]
    },
    {
     "name": "stderr",
     "output_type": "stream",
     "text": [
      "Generations: 100%|██████████| 10000/10000 [00:13<00:00, 735.73it/s]\n",
      "Generations:   1%|          | 90/10000 [00:00<00:11, 885.35it/s]"
     ]
    },
    {
     "name": "stdout",
     "output_type": "stream",
     "text": [
      "4.01257574301556\n"
     ]
    },
    {
     "name": "stderr",
     "output_type": "stream",
     "text": [
      "Generations: 100%|██████████| 10000/10000 [00:13<00:00, 746.94it/s]\n",
      "Generations:   1%|          | 56/10000 [00:00<00:18, 540.91it/s]"
     ]
    },
    {
     "name": "stdout",
     "output_type": "stream",
     "text": [
      "9.413238139527977\n"
     ]
    },
    {
     "name": "stderr",
     "output_type": "stream",
     "text": [
      "Generations: 100%|██████████| 10000/10000 [00:13<00:00, 719.33it/s]\n",
      "Generations:   1%|          | 90/10000 [00:00<00:11, 884.70it/s]"
     ]
    },
    {
     "name": "stdout",
     "output_type": "stream",
     "text": [
      "16.168648028115513\n"
     ]
    },
    {
     "name": "stderr",
     "output_type": "stream",
     "text": [
      "Generations: 100%|██████████| 10000/10000 [00:15<00:00, 639.45it/s]\n",
      "Generations:   1%|          | 78/10000 [00:00<00:12, 769.22it/s]"
     ]
    },
    {
     "name": "stdout",
     "output_type": "stream",
     "text": [
      "9.158969684477398\n"
     ]
    },
    {
     "name": "stderr",
     "output_type": "stream",
     "text": [
      "Generations: 100%|██████████| 10000/10000 [00:15<00:00, 650.77it/s]\n",
      "Generations:   1%|          | 84/10000 [00:00<00:11, 834.67it/s]"
     ]
    },
    {
     "name": "stdout",
     "output_type": "stream",
     "text": [
      "5.486207791303073\n"
     ]
    },
    {
     "name": "stderr",
     "output_type": "stream",
     "text": [
      "Generations: 100%|██████████| 10000/10000 [00:14<00:00, 672.76it/s]\n",
      "Generations:   1%|          | 68/10000 [00:00<00:14, 667.55it/s]"
     ]
    },
    {
     "name": "stdout",
     "output_type": "stream",
     "text": [
      "4.720954158514942\n"
     ]
    },
    {
     "name": "stderr",
     "output_type": "stream",
     "text": [
      "Generations: 100%|██████████| 10000/10000 [00:15<00:00, 628.73it/s]\n",
      "Generations:   1%|          | 90/10000 [00:00<00:11, 881.14it/s]"
     ]
    },
    {
     "name": "stdout",
     "output_type": "stream",
     "text": [
      "10.397634520309595\n"
     ]
    },
    {
     "name": "stderr",
     "output_type": "stream",
     "text": [
      "Generations: 100%|██████████| 10000/10000 [00:13<00:00, 766.23it/s]\n",
      "Generations:   1%|          | 90/10000 [00:00<00:11, 884.33it/s]"
     ]
    },
    {
     "name": "stdout",
     "output_type": "stream",
     "text": [
      "6.713480564234885\n"
     ]
    },
    {
     "name": "stderr",
     "output_type": "stream",
     "text": [
      "Generations: 100%|██████████| 10000/10000 [00:12<00:00, 780.07it/s]\n",
      "Generations:   1%|          | 90/10000 [00:00<00:11, 880.85it/s]"
     ]
    },
    {
     "name": "stdout",
     "output_type": "stream",
     "text": [
      "5.218267130756203\n"
     ]
    },
    {
     "name": "stderr",
     "output_type": "stream",
     "text": [
      "Generations: 100%|██████████| 10000/10000 [00:14<00:00, 677.18it/s]\n",
      "Generations:   1%|          | 84/10000 [00:00<00:11, 835.18it/s]"
     ]
    },
    {
     "name": "stdout",
     "output_type": "stream",
     "text": [
      "4.559050346562898\n",
      "0.03\n"
     ]
    },
    {
     "name": "stderr",
     "output_type": "stream",
     "text": [
      "Generations: 100%|██████████| 10000/10000 [00:14<00:00, 692.52it/s]\n",
      "Generations:   1%|          | 90/10000 [00:00<00:11, 892.40it/s]"
     ]
    },
    {
     "name": "stdout",
     "output_type": "stream",
     "text": [
      "2.245357909093272\n"
     ]
    },
    {
     "name": "stderr",
     "output_type": "stream",
     "text": [
      "Generations: 100%|██████████| 10000/10000 [00:11<00:00, 855.18it/s]\n",
      "Generations:   1%|          | 84/10000 [00:00<00:12, 822.70it/s]"
     ]
    },
    {
     "name": "stdout",
     "output_type": "stream",
     "text": [
      "11.753763585862515\n"
     ]
    },
    {
     "name": "stderr",
     "output_type": "stream",
     "text": [
      "Generations: 100%|██████████| 10000/10000 [00:12<00:00, 828.42it/s]\n",
      "Generations:   1%|          | 90/10000 [00:00<00:11, 887.55it/s]"
     ]
    },
    {
     "name": "stdout",
     "output_type": "stream",
     "text": [
      "9.93166756859273\n"
     ]
    },
    {
     "name": "stderr",
     "output_type": "stream",
     "text": [
      "Generations: 100%|██████████| 10000/10000 [00:12<00:00, 780.30it/s]\n",
      "Generations:   1%|          | 62/10000 [00:00<00:16, 616.34it/s]"
     ]
    },
    {
     "name": "stdout",
     "output_type": "stream",
     "text": [
      "6.715849533538105\n"
     ]
    },
    {
     "name": "stderr",
     "output_type": "stream",
     "text": [
      "Generations: 100%|██████████| 10000/10000 [00:14<00:00, 706.43it/s]\n",
      "Generations:   1%|          | 86/10000 [00:00<00:11, 846.65it/s]"
     ]
    },
    {
     "name": "stdout",
     "output_type": "stream",
     "text": [
      "4.502988894137445\n"
     ]
    },
    {
     "name": "stderr",
     "output_type": "stream",
     "text": [
      "Generations: 100%|██████████| 10000/10000 [00:13<00:00, 724.09it/s]\n",
      "Generations:   1%|          | 86/10000 [00:00<00:11, 855.90it/s]"
     ]
    },
    {
     "name": "stdout",
     "output_type": "stream",
     "text": [
      "5.781171910395017\n"
     ]
    },
    {
     "name": "stderr",
     "output_type": "stream",
     "text": [
      "Generations: 100%|██████████| 10000/10000 [00:13<00:00, 737.96it/s]\n",
      "Generations:   1%|          | 84/10000 [00:00<00:11, 835.39it/s]"
     ]
    },
    {
     "name": "stdout",
     "output_type": "stream",
     "text": [
      "4.530902226777599\n"
     ]
    },
    {
     "name": "stderr",
     "output_type": "stream",
     "text": [
      "Generations: 100%|██████████| 10000/10000 [00:13<00:00, 742.91it/s]\n",
      "Generations:   1%|          | 86/10000 [00:00<00:11, 854.60it/s]"
     ]
    },
    {
     "name": "stdout",
     "output_type": "stream",
     "text": [
      "5.5934399902991885\n"
     ]
    },
    {
     "name": "stderr",
     "output_type": "stream",
     "text": [
      "Generations: 100%|██████████| 10000/10000 [00:12<00:00, 797.80it/s]\n",
      "Generations:   1%|          | 88/10000 [00:00<00:11, 877.66it/s]"
     ]
    },
    {
     "name": "stdout",
     "output_type": "stream",
     "text": [
      "4.268525584277512\n"
     ]
    },
    {
     "name": "stderr",
     "output_type": "stream",
     "text": [
      "Generations: 100%|██████████| 10000/10000 [00:12<00:00, 794.41it/s]\n",
      "Generations:   0%|          | 44/10000 [00:00<00:23, 430.29it/s]"
     ]
    },
    {
     "name": "stdout",
     "output_type": "stream",
     "text": [
      "7.791862239974478\n"
     ]
    },
    {
     "name": "stderr",
     "output_type": "stream",
     "text": [
      "Generations: 100%|██████████| 10000/10000 [00:12<00:00, 783.50it/s]\n",
      "Generations:   1%|          | 82/10000 [00:00<00:12, 815.46it/s]"
     ]
    },
    {
     "name": "stdout",
     "output_type": "stream",
     "text": [
      "5.618275337274227\n"
     ]
    },
    {
     "name": "stderr",
     "output_type": "stream",
     "text": [
      "Generations: 100%|██████████| 10000/10000 [00:12<00:00, 795.30it/s]\n",
      "Generations:   0%|          | 46/10000 [00:00<00:21, 454.64it/s]"
     ]
    },
    {
     "name": "stdout",
     "output_type": "stream",
     "text": [
      "8.186336706679697\n"
     ]
    },
    {
     "name": "stderr",
     "output_type": "stream",
     "text": [
      "Generations: 100%|██████████| 10000/10000 [00:15<00:00, 633.63it/s]\n",
      "Generations:   1%|          | 88/10000 [00:00<00:11, 865.35it/s]"
     ]
    },
    {
     "name": "stdout",
     "output_type": "stream",
     "text": [
      "5.999220026312088\n"
     ]
    },
    {
     "name": "stderr",
     "output_type": "stream",
     "text": [
      "Generations: 100%|██████████| 10000/10000 [00:14<00:00, 685.29it/s]\n",
      "Generations:   0%|          | 42/10000 [00:00<00:24, 413.34it/s]"
     ]
    },
    {
     "name": "stdout",
     "output_type": "stream",
     "text": [
      "2.3902498307505198\n"
     ]
    },
    {
     "name": "stderr",
     "output_type": "stream",
     "text": [
      "Generations: 100%|██████████| 10000/10000 [00:16<00:00, 622.22it/s]\n",
      "Generations:   1%|          | 60/10000 [00:00<00:16, 585.35it/s]"
     ]
    },
    {
     "name": "stdout",
     "output_type": "stream",
     "text": [
      "1.2309585581676998\n"
     ]
    },
    {
     "name": "stderr",
     "output_type": "stream",
     "text": [
      "Generations: 100%|██████████| 10000/10000 [00:12<00:00, 811.96it/s]\n",
      "Generations:   1%|          | 88/10000 [00:00<00:11, 867.95it/s]"
     ]
    },
    {
     "name": "stdout",
     "output_type": "stream",
     "text": [
      "4.776071315440362\n"
     ]
    },
    {
     "name": "stderr",
     "output_type": "stream",
     "text": [
      "Generations: 100%|██████████| 10000/10000 [00:13<00:00, 762.84it/s]\n",
      "Generations:   1%|          | 54/10000 [00:00<00:19, 518.20it/s]"
     ]
    },
    {
     "name": "stdout",
     "output_type": "stream",
     "text": [
      "3.3764662117925894\n"
     ]
    },
    {
     "name": "stderr",
     "output_type": "stream",
     "text": [
      "Generations: 100%|██████████| 10000/10000 [00:16<00:00, 597.10it/s]\n",
      "Generations:   0%|          | 50/10000 [00:00<00:20, 475.40it/s]"
     ]
    },
    {
     "name": "stdout",
     "output_type": "stream",
     "text": [
      "8.754648097895753\n"
     ]
    },
    {
     "name": "stderr",
     "output_type": "stream",
     "text": [
      "Generations: 100%|██████████| 10000/10000 [00:14<00:00, 712.84it/s]\n",
      "Generations:   1%|          | 90/10000 [00:00<00:11, 892.19it/s]"
     ]
    },
    {
     "name": "stdout",
     "output_type": "stream",
     "text": [
      "8.544839645902414\n"
     ]
    },
    {
     "name": "stderr",
     "output_type": "stream",
     "text": [
      "Generations: 100%|██████████| 10000/10000 [00:12<00:00, 770.93it/s]\n",
      "Generations:   1%|          | 62/10000 [00:00<00:16, 608.85it/s]"
     ]
    },
    {
     "name": "stdout",
     "output_type": "stream",
     "text": [
      "10.998367977333046\n"
     ]
    },
    {
     "name": "stderr",
     "output_type": "stream",
     "text": [
      "Generations: 100%|██████████| 10000/10000 [00:12<00:00, 804.99it/s]\n",
      "Generations:   1%|          | 90/10000 [00:00<00:11, 896.50it/s]"
     ]
    },
    {
     "name": "stdout",
     "output_type": "stream",
     "text": [
      "4.387234452477443\n"
     ]
    },
    {
     "name": "stderr",
     "output_type": "stream",
     "text": [
      "Generations: 100%|██████████| 10000/10000 [00:12<00:00, 778.26it/s]\n",
      "Generations:   1%|          | 66/10000 [00:00<00:15, 646.48it/s]"
     ]
    },
    {
     "name": "stdout",
     "output_type": "stream",
     "text": [
      "4.496869078333447\n"
     ]
    },
    {
     "name": "stderr",
     "output_type": "stream",
     "text": [
      "Generations: 100%|██████████| 10000/10000 [00:12<00:00, 790.38it/s]\n",
      "Generations:   1%|          | 88/10000 [00:00<00:11, 876.15it/s]"
     ]
    },
    {
     "name": "stdout",
     "output_type": "stream",
     "text": [
      "4.9503905643631185\n"
     ]
    },
    {
     "name": "stderr",
     "output_type": "stream",
     "text": [
      "Generations: 100%|██████████| 10000/10000 [00:12<00:00, 829.00it/s]\n",
      "Generations:   1%|          | 70/10000 [00:00<00:14, 689.50it/s]"
     ]
    },
    {
     "name": "stdout",
     "output_type": "stream",
     "text": [
      "4.526505552248295\n"
     ]
    },
    {
     "name": "stderr",
     "output_type": "stream",
     "text": [
      "Generations: 100%|██████████| 10000/10000 [00:15<00:00, 657.59it/s]\n",
      "Generations:   1%|          | 66/10000 [00:00<00:15, 651.98it/s]"
     ]
    },
    {
     "name": "stdout",
     "output_type": "stream",
     "text": [
      "14.146164647860772\n"
     ]
    },
    {
     "name": "stderr",
     "output_type": "stream",
     "text": [
      "Generations: 100%|██████████| 10000/10000 [00:14<00:00, 692.84it/s]\n",
      "Generations:   1%|          | 68/10000 [00:00<00:14, 667.16it/s]"
     ]
    },
    {
     "name": "stdout",
     "output_type": "stream",
     "text": [
      "4.990742989109975\n"
     ]
    },
    {
     "name": "stderr",
     "output_type": "stream",
     "text": [
      "Generations: 100%|██████████| 10000/10000 [00:12<00:00, 800.71it/s]\n",
      "Generations:   1%|          | 72/10000 [00:00<00:14, 700.58it/s]"
     ]
    },
    {
     "name": "stdout",
     "output_type": "stream",
     "text": [
      "9.47057980228692\n"
     ]
    },
    {
     "name": "stderr",
     "output_type": "stream",
     "text": [
      "Generations: 100%|██████████| 10000/10000 [00:12<00:00, 797.94it/s]\n",
      "Generations:   1%|          | 88/10000 [00:00<00:11, 862.71it/s]"
     ]
    },
    {
     "name": "stdout",
     "output_type": "stream",
     "text": [
      "3.5919778542549636\n"
     ]
    },
    {
     "name": "stderr",
     "output_type": "stream",
     "text": [
      "Generations: 100%|██████████| 10000/10000 [00:12<00:00, 812.06it/s]\n",
      "Generations:   1%|          | 90/10000 [00:00<00:11, 895.22it/s]"
     ]
    },
    {
     "name": "stdout",
     "output_type": "stream",
     "text": [
      "12.888193752792219\n"
     ]
    },
    {
     "name": "stderr",
     "output_type": "stream",
     "text": [
      "Generations: 100%|██████████| 10000/10000 [00:11<00:00, 894.44it/s]\n",
      "Generations:   1%|          | 90/10000 [00:00<00:11, 894.37it/s]"
     ]
    },
    {
     "name": "stdout",
     "output_type": "stream",
     "text": [
      "3.4918121426076\n"
     ]
    },
    {
     "name": "stderr",
     "output_type": "stream",
     "text": [
      "Generations: 100%|██████████| 10000/10000 [00:12<00:00, 816.86it/s]\n",
      "Generations:   1%|          | 78/10000 [00:00<00:12, 778.11it/s]"
     ]
    },
    {
     "name": "stdout",
     "output_type": "stream",
     "text": [
      "6.343707437249435\n"
     ]
    },
    {
     "name": "stderr",
     "output_type": "stream",
     "text": [
      "Generations: 100%|██████████| 10000/10000 [00:12<00:00, 807.25it/s]\n",
      "Generations:   1%|          | 80/10000 [00:00<00:12, 798.51it/s]"
     ]
    },
    {
     "name": "stdout",
     "output_type": "stream",
     "text": [
      "3.3264851097160033\n"
     ]
    },
    {
     "name": "stderr",
     "output_type": "stream",
     "text": [
      "Generations: 100%|██████████| 10000/10000 [00:12<00:00, 829.78it/s]\n",
      "Generations:   1%|          | 84/10000 [00:00<00:12, 826.32it/s]"
     ]
    },
    {
     "name": "stdout",
     "output_type": "stream",
     "text": [
      "3.892077262149101\n",
      "0.034999999999999996\n"
     ]
    },
    {
     "name": "stderr",
     "output_type": "stream",
     "text": [
      "Generations: 100%|██████████| 10000/10000 [00:12<00:00, 806.57it/s]\n",
      "Generations:   1%|          | 76/10000 [00:00<00:13, 757.59it/s]"
     ]
    },
    {
     "name": "stdout",
     "output_type": "stream",
     "text": [
      "10.180858079138076\n"
     ]
    },
    {
     "name": "stderr",
     "output_type": "stream",
     "text": [
      "Generations: 100%|██████████| 10000/10000 [00:16<00:00, 613.76it/s]\n",
      "Generations:   1%|          | 82/10000 [00:00<00:12, 816.92it/s]"
     ]
    },
    {
     "name": "stdout",
     "output_type": "stream",
     "text": [
      "4.5237862049055195\n"
     ]
    },
    {
     "name": "stderr",
     "output_type": "stream",
     "text": [
      "Generations: 100%|██████████| 10000/10000 [00:12<00:00, 821.36it/s]\n",
      "Generations:   1%|          | 86/10000 [00:00<00:11, 851.24it/s]"
     ]
    },
    {
     "name": "stdout",
     "output_type": "stream",
     "text": [
      "8.153886740562129\n"
     ]
    },
    {
     "name": "stderr",
     "output_type": "stream",
     "text": [
      "Generations: 100%|██████████| 10000/10000 [00:13<00:00, 764.96it/s]\n",
      "Generations:   1%|          | 84/10000 [00:00<00:12, 826.10it/s]"
     ]
    },
    {
     "name": "stdout",
     "output_type": "stream",
     "text": [
      "9.868095246699255\n"
     ]
    },
    {
     "name": "stderr",
     "output_type": "stream",
     "text": [
      "Generations: 100%|██████████| 10000/10000 [00:12<00:00, 782.05it/s]\n",
      "Generations:   1%|          | 90/10000 [00:00<00:11, 885.67it/s]"
     ]
    },
    {
     "name": "stdout",
     "output_type": "stream",
     "text": [
      "6.094305966510873\n"
     ]
    },
    {
     "name": "stderr",
     "output_type": "stream",
     "text": [
      "Generations: 100%|██████████| 10000/10000 [00:11<00:00, 839.96it/s]\n",
      "Generations:   1%|          | 86/10000 [00:00<00:11, 842.56it/s]"
     ]
    },
    {
     "name": "stdout",
     "output_type": "stream",
     "text": [
      "4.03300151833362\n"
     ]
    },
    {
     "name": "stderr",
     "output_type": "stream",
     "text": [
      "Generations: 100%|██████████| 10000/10000 [00:12<00:00, 826.89it/s]\n",
      "Generations:   1%|          | 90/10000 [00:00<00:11, 880.01it/s]"
     ]
    },
    {
     "name": "stdout",
     "output_type": "stream",
     "text": [
      "12.505097962369092\n"
     ]
    },
    {
     "name": "stderr",
     "output_type": "stream",
     "text": [
      "Generations: 100%|██████████| 10000/10000 [00:12<00:00, 813.08it/s]\n",
      "Generations:   1%|          | 92/10000 [00:00<00:10, 900.88it/s]"
     ]
    },
    {
     "name": "stdout",
     "output_type": "stream",
     "text": [
      "9.606957968719058\n"
     ]
    },
    {
     "name": "stderr",
     "output_type": "stream",
     "text": [
      "Generations: 100%|██████████| 10000/10000 [00:12<00:00, 824.88it/s]\n",
      "Generations:   1%|          | 84/10000 [00:00<00:11, 836.47it/s]"
     ]
    },
    {
     "name": "stdout",
     "output_type": "stream",
     "text": [
      "6.1429408616033925\n"
     ]
    },
    {
     "name": "stderr",
     "output_type": "stream",
     "text": [
      "Generations: 100%|██████████| 10000/10000 [00:13<00:00, 753.03it/s]\n",
      "Generations:   0%|          | 50/10000 [00:00<00:20, 488.68it/s]"
     ]
    },
    {
     "name": "stdout",
     "output_type": "stream",
     "text": [
      "4.547016671536994\n"
     ]
    },
    {
     "name": "stderr",
     "output_type": "stream",
     "text": [
      "Generations: 100%|██████████| 10000/10000 [00:16<00:00, 597.91it/s]\n",
      "Generations:   1%|          | 62/10000 [00:00<00:16, 598.48it/s]"
     ]
    },
    {
     "name": "stdout",
     "output_type": "stream",
     "text": [
      "9.877602826589595\n"
     ]
    },
    {
     "name": "stderr",
     "output_type": "stream",
     "text": [
      "Generations: 100%|██████████| 10000/10000 [00:15<00:00, 654.24it/s]\n",
      "Generations:   1%|          | 82/10000 [00:00<00:12, 818.70it/s]"
     ]
    },
    {
     "name": "stdout",
     "output_type": "stream",
     "text": [
      "3.7171791045648774\n"
     ]
    },
    {
     "name": "stderr",
     "output_type": "stream",
     "text": [
      "Generations: 100%|██████████| 10000/10000 [00:13<00:00, 738.59it/s]\n",
      "Generations:   1%|          | 72/10000 [00:00<00:13, 712.74it/s]"
     ]
    },
    {
     "name": "stdout",
     "output_type": "stream",
     "text": [
      "8.251515870071259\n"
     ]
    },
    {
     "name": "stderr",
     "output_type": "stream",
     "text": [
      "Generations: 100%|██████████| 10000/10000 [00:13<00:00, 716.46it/s]\n",
      "Generations:   1%|          | 80/10000 [00:00<00:12, 774.01it/s]"
     ]
    },
    {
     "name": "stdout",
     "output_type": "stream",
     "text": [
      "6.060023563009182\n"
     ]
    },
    {
     "name": "stderr",
     "output_type": "stream",
     "text": [
      "Generations: 100%|██████████| 10000/10000 [00:13<00:00, 753.04it/s]\n",
      "Generations:   1%|          | 82/10000 [00:00<00:12, 818.03it/s]"
     ]
    },
    {
     "name": "stdout",
     "output_type": "stream",
     "text": [
      "11.33832811716681\n"
     ]
    },
    {
     "name": "stderr",
     "output_type": "stream",
     "text": [
      "Generations: 100%|██████████| 10000/10000 [00:12<00:00, 820.27it/s]\n",
      "Generations:   1%|          | 90/10000 [00:00<00:11, 894.35it/s]"
     ]
    },
    {
     "name": "stdout",
     "output_type": "stream",
     "text": [
      "3.8846465694645502\n"
     ]
    },
    {
     "name": "stderr",
     "output_type": "stream",
     "text": [
      "Generations: 100%|██████████| 10000/10000 [00:13<00:00, 726.52it/s]\n",
      "Generations:   1%|          | 90/10000 [00:00<00:11, 880.36it/s]"
     ]
    },
    {
     "name": "stdout",
     "output_type": "stream",
     "text": [
      "9.311203989350815\n"
     ]
    },
    {
     "name": "stderr",
     "output_type": "stream",
     "text": [
      "Generations: 100%|██████████| 10000/10000 [00:12<00:00, 794.01it/s]\n",
      "Generations:   1%|          | 90/10000 [00:00<00:11, 879.42it/s]"
     ]
    },
    {
     "name": "stdout",
     "output_type": "stream",
     "text": [
      "4.601072201008222\n"
     ]
    },
    {
     "name": "stderr",
     "output_type": "stream",
     "text": [
      "Generations: 100%|██████████| 10000/10000 [00:14<00:00, 711.17it/s]\n",
      "Generations:   1%|          | 88/10000 [00:00<00:11, 863.33it/s]"
     ]
    },
    {
     "name": "stdout",
     "output_type": "stream",
     "text": [
      "3.5069721899623545\n"
     ]
    },
    {
     "name": "stderr",
     "output_type": "stream",
     "text": [
      "Generations: 100%|██████████| 10000/10000 [00:13<00:00, 762.85it/s]\n",
      "Generations:   1%|          | 78/10000 [00:00<00:13, 738.39it/s]"
     ]
    },
    {
     "name": "stdout",
     "output_type": "stream",
     "text": [
      "3.8474510448645276\n"
     ]
    },
    {
     "name": "stderr",
     "output_type": "stream",
     "text": [
      "Generations: 100%|██████████| 10000/10000 [00:12<00:00, 796.73it/s]\n",
      "Generations:   1%|          | 88/10000 [00:00<00:11, 872.63it/s]"
     ]
    },
    {
     "name": "stdout",
     "output_type": "stream",
     "text": [
      "7.048190368955716\n"
     ]
    },
    {
     "name": "stderr",
     "output_type": "stream",
     "text": [
      "Generations: 100%|██████████| 10000/10000 [00:12<00:00, 802.48it/s]\n",
      "Generations:   1%|          | 90/10000 [00:00<00:11, 883.53it/s]"
     ]
    },
    {
     "name": "stdout",
     "output_type": "stream",
     "text": [
      "13.344007062143803\n"
     ]
    },
    {
     "name": "stderr",
     "output_type": "stream",
     "text": [
      "Generations: 100%|██████████| 10000/10000 [00:11<00:00, 848.50it/s]\n",
      "Generations:   1%|          | 80/10000 [00:00<00:12, 797.02it/s]"
     ]
    },
    {
     "name": "stdout",
     "output_type": "stream",
     "text": [
      "4.797251652879325\n"
     ]
    },
    {
     "name": "stderr",
     "output_type": "stream",
     "text": [
      "Generations: 100%|██████████| 10000/10000 [00:13<00:00, 763.50it/s]\n",
      "Generations:   1%|          | 84/10000 [00:00<00:12, 822.50it/s]"
     ]
    },
    {
     "name": "stdout",
     "output_type": "stream",
     "text": [
      "3.146982767637752\n"
     ]
    },
    {
     "name": "stderr",
     "output_type": "stream",
     "text": [
      "Generations: 100%|██████████| 10000/10000 [00:12<00:00, 802.90it/s]\n",
      "Generations:   1%|          | 90/10000 [00:00<00:11, 887.72it/s]"
     ]
    },
    {
     "name": "stdout",
     "output_type": "stream",
     "text": [
      "5.689497707276615\n"
     ]
    },
    {
     "name": "stderr",
     "output_type": "stream",
     "text": [
      "Generations: 100%|██████████| 10000/10000 [00:12<00:00, 770.17it/s]\n",
      "Generations:   1%|          | 90/10000 [00:00<00:11, 884.75it/s]"
     ]
    },
    {
     "name": "stdout",
     "output_type": "stream",
     "text": [
      "3.5490402268183345\n"
     ]
    },
    {
     "name": "stderr",
     "output_type": "stream",
     "text": [
      "Generations: 100%|██████████| 10000/10000 [00:12<00:00, 797.79it/s]\n",
      "Generations:   1%|          | 88/10000 [00:00<00:11, 872.34it/s]"
     ]
    },
    {
     "name": "stdout",
     "output_type": "stream",
     "text": [
      "3.7181798041612524\n"
     ]
    },
    {
     "name": "stderr",
     "output_type": "stream",
     "text": [
      "Generations: 100%|██████████| 10000/10000 [00:13<00:00, 752.76it/s]\n",
      "Generations:   1%|          | 90/10000 [00:00<00:11, 891.00it/s]"
     ]
    },
    {
     "name": "stdout",
     "output_type": "stream",
     "text": [
      "14.39127120772369\n"
     ]
    },
    {
     "name": "stderr",
     "output_type": "stream",
     "text": [
      "Generations: 100%|██████████| 10000/10000 [00:13<00:00, 718.58it/s]\n",
      "Generations:   1%|          | 82/10000 [00:00<00:12, 814.47it/s]"
     ]
    },
    {
     "name": "stdout",
     "output_type": "stream",
     "text": [
      "2.2414423339403697\n"
     ]
    },
    {
     "name": "stderr",
     "output_type": "stream",
     "text": [
      "Generations: 100%|██████████| 10000/10000 [00:13<00:00, 758.20it/s]\n",
      "Generations:   1%|          | 76/10000 [00:00<00:13, 756.30it/s]"
     ]
    },
    {
     "name": "stdout",
     "output_type": "stream",
     "text": [
      "6.82402018934728\n"
     ]
    },
    {
     "name": "stderr",
     "output_type": "stream",
     "text": [
      "Generations: 100%|██████████| 10000/10000 [00:13<00:00, 755.76it/s]\n",
      "Generations:   1%|          | 86/10000 [00:00<00:11, 842.07it/s]"
     ]
    },
    {
     "name": "stdout",
     "output_type": "stream",
     "text": [
      "18.89986892144499\n"
     ]
    },
    {
     "name": "stderr",
     "output_type": "stream",
     "text": [
      "Generations: 100%|██████████| 10000/10000 [00:11<00:00, 836.93it/s]\n",
      "Generations:   1%|          | 80/10000 [00:00<00:12, 790.28it/s]"
     ]
    },
    {
     "name": "stdout",
     "output_type": "stream",
     "text": [
      "3.500462678752399\n"
     ]
    },
    {
     "name": "stderr",
     "output_type": "stream",
     "text": [
      "Generations: 100%|██████████| 10000/10000 [00:13<00:00, 714.32it/s]\n",
      "Generations:   0%|          | 32/10000 [00:00<00:32, 306.94it/s]"
     ]
    },
    {
     "name": "stdout",
     "output_type": "stream",
     "text": [
      "16.687627521598444\n",
      "0.039999999999999994\n"
     ]
    },
    {
     "name": "stderr",
     "output_type": "stream",
     "text": [
      "Generations: 100%|██████████| 10000/10000 [00:12<00:00, 824.34it/s]\n",
      "Generations:   1%|          | 86/10000 [00:00<00:11, 852.54it/s]"
     ]
    },
    {
     "name": "stdout",
     "output_type": "stream",
     "text": [
      "6.889737543865749\n"
     ]
    },
    {
     "name": "stderr",
     "output_type": "stream",
     "text": [
      "Generations: 100%|██████████| 10000/10000 [00:14<00:00, 673.15it/s]\n",
      "Generations:   0%|          | 40/10000 [00:00<00:25, 389.65it/s]"
     ]
    },
    {
     "name": "stdout",
     "output_type": "stream",
     "text": [
      "7.161979088027252\n"
     ]
    },
    {
     "name": "stderr",
     "output_type": "stream",
     "text": [
      "Generations: 100%|██████████| 10000/10000 [00:12<00:00, 788.65it/s]\n",
      "Generations:   1%|          | 54/10000 [00:00<00:18, 532.44it/s]"
     ]
    },
    {
     "name": "stdout",
     "output_type": "stream",
     "text": [
      "4.596414472449013\n"
     ]
    },
    {
     "name": "stderr",
     "output_type": "stream",
     "text": [
      "Generations: 100%|██████████| 10000/10000 [00:14<00:00, 689.24it/s]\n",
      "Generations:   1%|          | 88/10000 [00:00<00:11, 869.05it/s]"
     ]
    },
    {
     "name": "stdout",
     "output_type": "stream",
     "text": [
      "10.524781045389446\n"
     ]
    },
    {
     "name": "stderr",
     "output_type": "stream",
     "text": [
      "Generations: 100%|██████████| 10000/10000 [00:12<00:00, 772.19it/s]\n",
      "Generations:   1%|          | 88/10000 [00:00<00:11, 871.03it/s]"
     ]
    },
    {
     "name": "stdout",
     "output_type": "stream",
     "text": [
      "14.602929500232392\n"
     ]
    },
    {
     "name": "stderr",
     "output_type": "stream",
     "text": [
      "Generations: 100%|██████████| 10000/10000 [00:11<00:00, 880.86it/s]\n",
      "Generations:   1%|          | 90/10000 [00:00<00:11, 880.52it/s]"
     ]
    },
    {
     "name": "stdout",
     "output_type": "stream",
     "text": [
      "3.6893612993965945\n"
     ]
    },
    {
     "name": "stderr",
     "output_type": "stream",
     "text": [
      "Generations: 100%|██████████| 10000/10000 [00:12<00:00, 790.17it/s]\n",
      "Generations:   1%|          | 88/10000 [00:00<00:11, 871.81it/s]"
     ]
    },
    {
     "name": "stdout",
     "output_type": "stream",
     "text": [
      "18.34180745569445\n"
     ]
    },
    {
     "name": "stderr",
     "output_type": "stream",
     "text": [
      "Generations: 100%|██████████| 10000/10000 [00:12<00:00, 816.99it/s]\n",
      "Generations:   0%|          | 36/10000 [00:00<00:28, 354.78it/s]"
     ]
    },
    {
     "name": "stdout",
     "output_type": "stream",
     "text": [
      "5.4184742041179845\n"
     ]
    },
    {
     "name": "stderr",
     "output_type": "stream",
     "text": [
      "Generations: 100%|██████████| 10000/10000 [00:13<00:00, 736.64it/s]\n",
      "Generations:   1%|          | 52/10000 [00:00<00:19, 514.74it/s]"
     ]
    },
    {
     "name": "stdout",
     "output_type": "stream",
     "text": [
      "4.463769440156838\n"
     ]
    },
    {
     "name": "stderr",
     "output_type": "stream",
     "text": [
      "Generations: 100%|██████████| 10000/10000 [00:13<00:00, 767.82it/s]\n",
      "Generations:   1%|          | 88/10000 [00:00<00:11, 877.97it/s]"
     ]
    },
    {
     "name": "stdout",
     "output_type": "stream",
     "text": [
      "11.061744049191745\n"
     ]
    },
    {
     "name": "stderr",
     "output_type": "stream",
     "text": [
      "Generations: 100%|██████████| 10000/10000 [00:12<00:00, 773.53it/s]\n",
      "Generations:   1%|          | 70/10000 [00:00<00:14, 686.33it/s]"
     ]
    },
    {
     "name": "stdout",
     "output_type": "stream",
     "text": [
      "6.259375286052304\n"
     ]
    },
    {
     "name": "stderr",
     "output_type": "stream",
     "text": [
      "Generations: 100%|██████████| 10000/10000 [00:12<00:00, 770.86it/s]\n",
      "Generations:   1%|          | 86/10000 [00:00<00:11, 856.44it/s]"
     ]
    },
    {
     "name": "stdout",
     "output_type": "stream",
     "text": [
      "10.913094815935295\n"
     ]
    },
    {
     "name": "stderr",
     "output_type": "stream",
     "text": [
      "Generations: 100%|██████████| 10000/10000 [00:13<00:00, 723.96it/s]\n",
      "Generations:   1%|          | 66/10000 [00:00<00:15, 656.61it/s]"
     ]
    },
    {
     "name": "stdout",
     "output_type": "stream",
     "text": [
      "5.933846248065436\n"
     ]
    },
    {
     "name": "stderr",
     "output_type": "stream",
     "text": [
      "Generations: 100%|██████████| 10000/10000 [00:15<00:00, 637.99it/s]\n",
      "Generations:   0%|          | 40/10000 [00:00<00:25, 394.12it/s]"
     ]
    },
    {
     "name": "stdout",
     "output_type": "stream",
     "text": [
      "3.881765867342992\n"
     ]
    },
    {
     "name": "stderr",
     "output_type": "stream",
     "text": [
      "Generations: 100%|██████████| 10000/10000 [00:14<00:00, 667.57it/s]\n",
      "Generations:   1%|          | 68/10000 [00:00<00:14, 674.47it/s]"
     ]
    },
    {
     "name": "stdout",
     "output_type": "stream",
     "text": [
      "3.617450652671778\n"
     ]
    },
    {
     "name": "stderr",
     "output_type": "stream",
     "text": [
      "Generations: 100%|██████████| 10000/10000 [00:14<00:00, 672.79it/s]\n",
      "Generations:   1%|          | 86/10000 [00:00<00:11, 850.87it/s]"
     ]
    },
    {
     "name": "stdout",
     "output_type": "stream",
     "text": [
      "3.9919603403053117\n"
     ]
    },
    {
     "name": "stderr",
     "output_type": "stream",
     "text": [
      "Generations: 100%|██████████| 10000/10000 [00:13<00:00, 749.38it/s]\n",
      "Generations:   1%|          | 68/10000 [00:00<00:15, 661.13it/s]"
     ]
    },
    {
     "name": "stdout",
     "output_type": "stream",
     "text": [
      "8.523684191773015\n"
     ]
    },
    {
     "name": "stderr",
     "output_type": "stream",
     "text": [
      "Generations: 100%|██████████| 10000/10000 [00:13<00:00, 764.69it/s]\n",
      "Generations:   1%|          | 66/10000 [00:00<00:15, 655.21it/s]"
     ]
    },
    {
     "name": "stdout",
     "output_type": "stream",
     "text": [
      "6.6921965221173\n"
     ]
    },
    {
     "name": "stderr",
     "output_type": "stream",
     "text": [
      "Generations: 100%|██████████| 10000/10000 [00:12<00:00, 791.15it/s]\n",
      "Generations:   1%|          | 88/10000 [00:00<00:11, 876.20it/s]"
     ]
    },
    {
     "name": "stdout",
     "output_type": "stream",
     "text": [
      "6.270226190633238\n"
     ]
    },
    {
     "name": "stderr",
     "output_type": "stream",
     "text": [
      "Generations: 100%|██████████| 10000/10000 [00:12<00:00, 773.66it/s]\n",
      "Generations:   1%|          | 88/10000 [00:00<00:11, 876.07it/s]"
     ]
    },
    {
     "name": "stdout",
     "output_type": "stream",
     "text": [
      "6.368422695569421\n"
     ]
    },
    {
     "name": "stderr",
     "output_type": "stream",
     "text": [
      "Generations: 100%|██████████| 10000/10000 [00:12<00:00, 789.45it/s]\n",
      "Generations:   1%|          | 90/10000 [00:00<00:11, 883.51it/s]"
     ]
    },
    {
     "name": "stdout",
     "output_type": "stream",
     "text": [
      "15.77682369700156\n"
     ]
    },
    {
     "name": "stderr",
     "output_type": "stream",
     "text": [
      "Generations: 100%|██████████| 10000/10000 [00:16<00:00, 615.39it/s]\n",
      "Generations:   0%|          | 38/10000 [00:00<00:26, 371.39it/s]"
     ]
    },
    {
     "name": "stdout",
     "output_type": "stream",
     "text": [
      "14.485829120441593\n"
     ]
    },
    {
     "name": "stderr",
     "output_type": "stream",
     "text": [
      "Generations: 100%|██████████| 10000/10000 [00:11<00:00, 855.41it/s]\n",
      "Generations:   1%|          | 88/10000 [00:00<00:11, 871.90it/s]"
     ]
    },
    {
     "name": "stdout",
     "output_type": "stream",
     "text": [
      "6.636696880132348\n"
     ]
    },
    {
     "name": "stderr",
     "output_type": "stream",
     "text": [
      "Generations: 100%|██████████| 10000/10000 [00:13<00:00, 749.41it/s]\n",
      "Generations:   1%|          | 88/10000 [00:00<00:11, 874.76it/s]"
     ]
    },
    {
     "name": "stdout",
     "output_type": "stream",
     "text": [
      "10.845283645559931\n"
     ]
    },
    {
     "name": "stderr",
     "output_type": "stream",
     "text": [
      "Generations: 100%|██████████| 10000/10000 [00:15<00:00, 642.06it/s]\n",
      "Generations:   1%|          | 90/10000 [00:00<00:11, 895.44it/s]"
     ]
    },
    {
     "name": "stdout",
     "output_type": "stream",
     "text": [
      "5.792715990538937\n"
     ]
    },
    {
     "name": "stderr",
     "output_type": "stream",
     "text": [
      "Generations: 100%|██████████| 10000/10000 [00:12<00:00, 805.74it/s]\n",
      "Generations:   1%|          | 86/10000 [00:00<00:11, 853.09it/s]"
     ]
    },
    {
     "name": "stdout",
     "output_type": "stream",
     "text": [
      "6.508995443309132\n"
     ]
    },
    {
     "name": "stderr",
     "output_type": "stream",
     "text": [
      "Generations: 100%|██████████| 10000/10000 [00:14<00:00, 701.63it/s]\n",
      "Generations:   1%|          | 52/10000 [00:00<00:19, 518.36it/s]"
     ]
    },
    {
     "name": "stdout",
     "output_type": "stream",
     "text": [
      "3.3831935966999964\n"
     ]
    },
    {
     "name": "stderr",
     "output_type": "stream",
     "text": [
      "Generations: 100%|██████████| 10000/10000 [00:12<00:00, 778.26it/s]\n",
      "Generations:   1%|          | 80/10000 [00:00<00:12, 793.48it/s]"
     ]
    },
    {
     "name": "stdout",
     "output_type": "stream",
     "text": [
      "4.454735446728122\n"
     ]
    },
    {
     "name": "stderr",
     "output_type": "stream",
     "text": [
      "Generations: 100%|██████████| 10000/10000 [00:13<00:00, 728.59it/s]\n",
      "Generations:   0%|          | 48/10000 [00:00<00:21, 469.22it/s]"
     ]
    },
    {
     "name": "stdout",
     "output_type": "stream",
     "text": [
      "5.56810561744544\n"
     ]
    },
    {
     "name": "stderr",
     "output_type": "stream",
     "text": [
      "Generations: 100%|██████████| 10000/10000 [00:14<00:00, 701.47it/s]\n",
      "Generations:   1%|          | 84/10000 [00:00<00:11, 829.37it/s]"
     ]
    },
    {
     "name": "stdout",
     "output_type": "stream",
     "text": [
      "5.436576746076241\n"
     ]
    },
    {
     "name": "stderr",
     "output_type": "stream",
     "text": [
      "Generations: 100%|██████████| 10000/10000 [00:12<00:00, 811.21it/s]\n",
      "Generations:   1%|          | 88/10000 [00:00<00:11, 866.38it/s]"
     ]
    },
    {
     "name": "stdout",
     "output_type": "stream",
     "text": [
      "4.701419419185015\n"
     ]
    },
    {
     "name": "stderr",
     "output_type": "stream",
     "text": [
      "Generations: 100%|██████████| 10000/10000 [00:11<00:00, 840.51it/s]\n",
      "Generations:   1%|          | 90/10000 [00:00<00:11, 895.22it/s]"
     ]
    },
    {
     "name": "stdout",
     "output_type": "stream",
     "text": [
      "11.161535774831776\n"
     ]
    },
    {
     "name": "stderr",
     "output_type": "stream",
     "text": [
      "Generations: 100%|██████████| 10000/10000 [00:13<00:00, 769.19it/s]\n",
      "Generations:   1%|          | 78/10000 [00:00<00:12, 778.55it/s]"
     ]
    },
    {
     "name": "stdout",
     "output_type": "stream",
     "text": [
      "10.585784412665419\n",
      "0.045\n"
     ]
    },
    {
     "name": "stderr",
     "output_type": "stream",
     "text": [
      "Generations: 100%|██████████| 10000/10000 [00:13<00:00, 731.24it/s]\n",
      "Generations:   1%|          | 68/10000 [00:00<00:14, 679.84it/s]"
     ]
    },
    {
     "name": "stdout",
     "output_type": "stream",
     "text": [
      "9.871094498574308\n"
     ]
    },
    {
     "name": "stderr",
     "output_type": "stream",
     "text": [
      "Generations: 100%|██████████| 10000/10000 [00:14<00:00, 707.23it/s]\n",
      "Generations:   1%|          | 88/10000 [00:00<00:11, 864.24it/s]"
     ]
    },
    {
     "name": "stdout",
     "output_type": "stream",
     "text": [
      "5.48082373398104\n"
     ]
    },
    {
     "name": "stderr",
     "output_type": "stream",
     "text": [
      "Generations: 100%|██████████| 10000/10000 [00:11<00:00, 843.65it/s]\n",
      "Generations:   1%|          | 88/10000 [00:00<00:11, 873.06it/s]"
     ]
    },
    {
     "name": "stdout",
     "output_type": "stream",
     "text": [
      "6.497170080332623\n"
     ]
    },
    {
     "name": "stderr",
     "output_type": "stream",
     "text": [
      "Generations: 100%|██████████| 10000/10000 [00:14<00:00, 694.34it/s]\n",
      "Generations:   1%|          | 88/10000 [00:00<00:11, 870.43it/s]"
     ]
    },
    {
     "name": "stdout",
     "output_type": "stream",
     "text": [
      "7.893090952299957\n"
     ]
    },
    {
     "name": "stderr",
     "output_type": "stream",
     "text": [
      "Generations: 100%|██████████| 10000/10000 [00:11<00:00, 863.27it/s]\n",
      "Generations:   1%|          | 88/10000 [00:00<00:11, 875.49it/s]"
     ]
    },
    {
     "name": "stdout",
     "output_type": "stream",
     "text": [
      "9.725098239257292\n"
     ]
    },
    {
     "name": "stderr",
     "output_type": "stream",
     "text": [
      "Generations: 100%|██████████| 10000/10000 [00:11<00:00, 863.46it/s]\n",
      "Generations:   1%|          | 86/10000 [00:00<00:11, 857.60it/s]"
     ]
    },
    {
     "name": "stdout",
     "output_type": "stream",
     "text": [
      "10.381008570954421\n"
     ]
    },
    {
     "name": "stderr",
     "output_type": "stream",
     "text": [
      "Generations: 100%|██████████| 10000/10000 [00:11<00:00, 842.37it/s]\n",
      "Generations:   1%|          | 82/10000 [00:00<00:12, 803.81it/s]"
     ]
    },
    {
     "name": "stdout",
     "output_type": "stream",
     "text": [
      "9.132450878832515\n"
     ]
    },
    {
     "name": "stderr",
     "output_type": "stream",
     "text": [
      "Generations: 100%|██████████| 10000/10000 [00:11<00:00, 857.19it/s]\n",
      "Generations:   1%|          | 90/10000 [00:00<00:11, 885.98it/s]"
     ]
    },
    {
     "name": "stdout",
     "output_type": "stream",
     "text": [
      "6.569197537842072\n"
     ]
    },
    {
     "name": "stderr",
     "output_type": "stream",
     "text": [
      "Generations: 100%|██████████| 10000/10000 [00:11<00:00, 836.33it/s]\n",
      "Generations:   1%|          | 88/10000 [00:00<00:11, 865.11it/s]"
     ]
    },
    {
     "name": "stdout",
     "output_type": "stream",
     "text": [
      "10.347584769243355\n"
     ]
    },
    {
     "name": "stderr",
     "output_type": "stream",
     "text": [
      "Generations: 100%|██████████| 10000/10000 [00:12<00:00, 818.00it/s]\n",
      "Generations:   1%|          | 88/10000 [00:00<00:11, 869.05it/s]"
     ]
    },
    {
     "name": "stdout",
     "output_type": "stream",
     "text": [
      "4.064007970541425\n"
     ]
    },
    {
     "name": "stderr",
     "output_type": "stream",
     "text": [
      "Generations: 100%|██████████| 10000/10000 [00:12<00:00, 822.00it/s]\n",
      "Generations:   1%|          | 80/10000 [00:00<00:12, 790.79it/s]"
     ]
    },
    {
     "name": "stdout",
     "output_type": "stream",
     "text": [
      "12.384444773568703\n"
     ]
    },
    {
     "name": "stderr",
     "output_type": "stream",
     "text": [
      "Generations: 100%|██████████| 10000/10000 [00:13<00:00, 720.72it/s]\n",
      "Generations:   1%|          | 62/10000 [00:00<00:16, 609.77it/s]"
     ]
    },
    {
     "name": "stdout",
     "output_type": "stream",
     "text": [
      "7.143119788651418\n"
     ]
    },
    {
     "name": "stderr",
     "output_type": "stream",
     "text": [
      "Generations: 100%|██████████| 10000/10000 [00:14<00:00, 703.78it/s]\n",
      "Generations:   1%|          | 88/10000 [00:00<00:11, 872.60it/s]"
     ]
    },
    {
     "name": "stdout",
     "output_type": "stream",
     "text": [
      "11.364212122055221\n"
     ]
    },
    {
     "name": "stderr",
     "output_type": "stream",
     "text": [
      "Generations: 100%|██████████| 10000/10000 [00:13<00:00, 752.52it/s]\n",
      "Generations:   1%|          | 90/10000 [00:00<00:11, 882.72it/s]"
     ]
    },
    {
     "name": "stdout",
     "output_type": "stream",
     "text": [
      "6.714524222213484\n"
     ]
    },
    {
     "name": "stderr",
     "output_type": "stream",
     "text": [
      "Generations: 100%|██████████| 10000/10000 [00:13<00:00, 764.65it/s]\n",
      "Generations:   1%|          | 72/10000 [00:00<00:14, 701.95it/s]"
     ]
    },
    {
     "name": "stdout",
     "output_type": "stream",
     "text": [
      "8.25178058646631\n"
     ]
    },
    {
     "name": "stderr",
     "output_type": "stream",
     "text": [
      "Generations: 100%|██████████| 10000/10000 [00:12<00:00, 807.03it/s]\n",
      "Generations:   1%|          | 86/10000 [00:00<00:11, 857.89it/s]"
     ]
    },
    {
     "name": "stdout",
     "output_type": "stream",
     "text": [
      "5.837097360831137\n"
     ]
    },
    {
     "name": "stderr",
     "output_type": "stream",
     "text": [
      "Generations: 100%|██████████| 10000/10000 [00:12<00:00, 814.68it/s]\n",
      "Generations:   1%|          | 84/10000 [00:00<00:12, 817.81it/s]"
     ]
    },
    {
     "name": "stdout",
     "output_type": "stream",
     "text": [
      "5.883116468835198\n"
     ]
    },
    {
     "name": "stderr",
     "output_type": "stream",
     "text": [
      "Generations: 100%|██████████| 10000/10000 [00:14<00:00, 683.92it/s]\n",
      "Generations:   1%|          | 64/10000 [00:00<00:15, 639.08it/s]"
     ]
    },
    {
     "name": "stdout",
     "output_type": "stream",
     "text": [
      "7.243705949045491\n"
     ]
    },
    {
     "name": "stderr",
     "output_type": "stream",
     "text": [
      "Generations: 100%|██████████| 10000/10000 [00:12<00:00, 793.13it/s]\n",
      "Generations:   1%|          | 82/10000 [00:00<00:12, 819.24it/s]"
     ]
    },
    {
     "name": "stdout",
     "output_type": "stream",
     "text": [
      "6.282550998203234\n"
     ]
    },
    {
     "name": "stderr",
     "output_type": "stream",
     "text": [
      "Generations: 100%|██████████| 10000/10000 [00:14<00:00, 697.90it/s]\n",
      "Generations:   0%|          | 44/10000 [00:00<00:24, 411.01it/s]"
     ]
    },
    {
     "name": "stdout",
     "output_type": "stream",
     "text": [
      "5.589966382658787\n"
     ]
    },
    {
     "name": "stderr",
     "output_type": "stream",
     "text": [
      "Generations: 100%|██████████| 10000/10000 [00:12<00:00, 795.14it/s]\n",
      "Generations:   1%|          | 88/10000 [00:00<00:11, 876.89it/s]"
     ]
    },
    {
     "name": "stdout",
     "output_type": "stream",
     "text": [
      "18.130807228010227\n"
     ]
    },
    {
     "name": "stderr",
     "output_type": "stream",
     "text": [
      "Generations: 100%|██████████| 10000/10000 [00:11<00:00, 834.20it/s]\n",
      "Generations:   1%|          | 60/10000 [00:00<00:16, 596.46it/s]"
     ]
    },
    {
     "name": "stdout",
     "output_type": "stream",
     "text": [
      "8.639133883636632\n"
     ]
    },
    {
     "name": "stderr",
     "output_type": "stream",
     "text": [
      "Generations: 100%|██████████| 10000/10000 [00:13<00:00, 749.19it/s]\n",
      "Generations:   0%|          | 50/10000 [00:00<00:20, 486.37it/s]"
     ]
    },
    {
     "name": "stdout",
     "output_type": "stream",
     "text": [
      "12.494011841284234\n"
     ]
    },
    {
     "name": "stderr",
     "output_type": "stream",
     "text": [
      "Generations: 100%|██████████| 10000/10000 [00:11<00:00, 842.02it/s]\n",
      "Generations:   1%|          | 90/10000 [00:00<00:11, 882.82it/s]"
     ]
    },
    {
     "name": "stdout",
     "output_type": "stream",
     "text": [
      "9.549498500582104\n"
     ]
    },
    {
     "name": "stderr",
     "output_type": "stream",
     "text": [
      "Generations: 100%|██████████| 10000/10000 [00:11<00:00, 844.57it/s]\n",
      "Generations:   1%|          | 80/10000 [00:00<00:12, 799.91it/s]"
     ]
    },
    {
     "name": "stdout",
     "output_type": "stream",
     "text": [
      "13.020093491645937\n"
     ]
    },
    {
     "name": "stderr",
     "output_type": "stream",
     "text": [
      "Generations: 100%|██████████| 10000/10000 [00:12<00:00, 794.27it/s]\n",
      "Generations:   1%|          | 88/10000 [00:00<00:11, 869.25it/s]"
     ]
    },
    {
     "name": "stdout",
     "output_type": "stream",
     "text": [
      "5.885341374783721\n"
     ]
    },
    {
     "name": "stderr",
     "output_type": "stream",
     "text": [
      "Generations: 100%|██████████| 10000/10000 [00:12<00:00, 783.40it/s]\n",
      "Generations:   1%|          | 82/10000 [00:00<00:12, 802.66it/s]"
     ]
    },
    {
     "name": "stdout",
     "output_type": "stream",
     "text": [
      "8.000419026252004\n"
     ]
    },
    {
     "name": "stderr",
     "output_type": "stream",
     "text": [
      "Generations: 100%|██████████| 10000/10000 [00:13<00:00, 724.58it/s]\n",
      "Generations:   1%|          | 90/10000 [00:00<00:11, 885.78it/s]"
     ]
    },
    {
     "name": "stdout",
     "output_type": "stream",
     "text": [
      "11.583003327183704\n"
     ]
    },
    {
     "name": "stderr",
     "output_type": "stream",
     "text": [
      "Generations: 100%|██████████| 10000/10000 [00:12<00:00, 830.50it/s]\n",
      "Generations:   1%|          | 90/10000 [00:00<00:11, 892.14it/s]"
     ]
    },
    {
     "name": "stdout",
     "output_type": "stream",
     "text": [
      "8.361783308236667\n"
     ]
    },
    {
     "name": "stderr",
     "output_type": "stream",
     "text": [
      "Generations: 100%|██████████| 10000/10000 [00:12<00:00, 784.63it/s]\n",
      "Generations:   1%|          | 88/10000 [00:00<00:11, 878.12it/s]"
     ]
    },
    {
     "name": "stdout",
     "output_type": "stream",
     "text": [
      "10.101181626613752\n"
     ]
    },
    {
     "name": "stderr",
     "output_type": "stream",
     "text": [
      "Generations: 100%|██████████| 10000/10000 [00:12<00:00, 773.26it/s]\n",
      "Generations:   1%|          | 86/10000 [00:00<00:11, 854.75it/s]"
     ]
    },
    {
     "name": "stdout",
     "output_type": "stream",
     "text": [
      "10.139160069072929\n"
     ]
    },
    {
     "name": "stderr",
     "output_type": "stream",
     "text": [
      "Generations: 100%|██████████| 10000/10000 [00:14<00:00, 701.47it/s]\n",
      "Generations:   1%|          | 88/10000 [00:00<00:11, 873.80it/s]"
     ]
    },
    {
     "name": "stdout",
     "output_type": "stream",
     "text": [
      "9.97141869136118\n"
     ]
    },
    {
     "name": "stderr",
     "output_type": "stream",
     "text": [
      "Generations: 100%|██████████| 10000/10000 [00:11<00:00, 868.78it/s]\n",
      "Generations:   1%|          | 84/10000 [00:00<00:11, 830.77it/s]"
     ]
    },
    {
     "name": "stdout",
     "output_type": "stream",
     "text": [
      "4.576322332136328\n",
      "0.049999999999999996\n"
     ]
    },
    {
     "name": "stderr",
     "output_type": "stream",
     "text": [
      "Generations: 100%|██████████| 10000/10000 [00:11<00:00, 867.24it/s]\n",
      "Generations:   1%|          | 88/10000 [00:00<00:11, 866.26it/s]"
     ]
    },
    {
     "name": "stdout",
     "output_type": "stream",
     "text": [
      "8.05692198103877\n"
     ]
    },
    {
     "name": "stderr",
     "output_type": "stream",
     "text": [
      "Generations: 100%|██████████| 10000/10000 [00:11<00:00, 869.91it/s]\n",
      "Generations:   1%|          | 88/10000 [00:00<00:11, 874.89it/s]"
     ]
    },
    {
     "name": "stdout",
     "output_type": "stream",
     "text": [
      "13.297358779346482\n"
     ]
    },
    {
     "name": "stderr",
     "output_type": "stream",
     "text": [
      "Generations: 100%|██████████| 10000/10000 [00:11<00:00, 869.71it/s]\n",
      "Generations:   1%|          | 86/10000 [00:00<00:11, 843.53it/s]"
     ]
    },
    {
     "name": "stdout",
     "output_type": "stream",
     "text": [
      "12.66359166561206\n"
     ]
    },
    {
     "name": "stderr",
     "output_type": "stream",
     "text": [
      "Generations: 100%|██████████| 10000/10000 [00:11<00:00, 878.67it/s]\n",
      "Generations:   1%|          | 90/10000 [00:00<00:11, 885.35it/s]"
     ]
    },
    {
     "name": "stdout",
     "output_type": "stream",
     "text": [
      "9.243673068981963\n"
     ]
    },
    {
     "name": "stderr",
     "output_type": "stream",
     "text": [
      "Generations: 100%|██████████| 10000/10000 [00:11<00:00, 874.98it/s]\n",
      "Generations:   1%|          | 90/10000 [00:00<00:11, 891.99it/s]"
     ]
    },
    {
     "name": "stdout",
     "output_type": "stream",
     "text": [
      "6.955339089237214\n"
     ]
    },
    {
     "name": "stderr",
     "output_type": "stream",
     "text": [
      "Generations: 100%|██████████| 10000/10000 [00:11<00:00, 865.52it/s]\n",
      "Generations:   1%|          | 88/10000 [00:00<00:11, 875.31it/s]"
     ]
    },
    {
     "name": "stdout",
     "output_type": "stream",
     "text": [
      "12.85886309148276\n"
     ]
    },
    {
     "name": "stderr",
     "output_type": "stream",
     "text": [
      "Generations: 100%|██████████| 10000/10000 [00:11<00:00, 864.74it/s]\n",
      "Generations:   1%|          | 90/10000 [00:00<00:11, 889.63it/s]"
     ]
    },
    {
     "name": "stdout",
     "output_type": "stream",
     "text": [
      "7.770541807058692\n"
     ]
    },
    {
     "name": "stderr",
     "output_type": "stream",
     "text": [
      "Generations: 100%|██████████| 10000/10000 [00:11<00:00, 872.26it/s]\n",
      "Generations:   1%|          | 88/10000 [00:00<00:11, 878.16it/s]"
     ]
    },
    {
     "name": "stdout",
     "output_type": "stream",
     "text": [
      "5.008150886552954\n"
     ]
    },
    {
     "name": "stderr",
     "output_type": "stream",
     "text": [
      "Generations: 100%|██████████| 10000/10000 [00:11<00:00, 868.65it/s]\n",
      "Generations:   1%|          | 88/10000 [00:00<00:11, 875.10it/s]"
     ]
    },
    {
     "name": "stdout",
     "output_type": "stream",
     "text": [
      "9.457862250693466\n"
     ]
    },
    {
     "name": "stderr",
     "output_type": "stream",
     "text": [
      "Generations: 100%|██████████| 10000/10000 [00:11<00:00, 867.68it/s]\n",
      "Generations:   1%|          | 80/10000 [00:00<00:12, 799.62it/s]"
     ]
    },
    {
     "name": "stdout",
     "output_type": "stream",
     "text": [
      "11.525141897438374\n"
     ]
    },
    {
     "name": "stderr",
     "output_type": "stream",
     "text": [
      "Generations: 100%|██████████| 10000/10000 [00:11<00:00, 861.20it/s]\n",
      "Generations:   1%|          | 88/10000 [00:00<00:11, 872.65it/s]"
     ]
    },
    {
     "name": "stdout",
     "output_type": "stream",
     "text": [
      "9.703753754889945\n"
     ]
    },
    {
     "name": "stderr",
     "output_type": "stream",
     "text": [
      "Generations: 100%|██████████| 10000/10000 [00:11<00:00, 868.93it/s]\n",
      "Generations:   1%|          | 84/10000 [00:00<00:11, 828.11it/s]"
     ]
    },
    {
     "name": "stdout",
     "output_type": "stream",
     "text": [
      "7.027817154377729\n"
     ]
    },
    {
     "name": "stderr",
     "output_type": "stream",
     "text": [
      "Generations: 100%|██████████| 10000/10000 [00:11<00:00, 862.82it/s]\n",
      "Generations:   1%|          | 90/10000 [00:00<00:11, 888.25it/s]"
     ]
    },
    {
     "name": "stdout",
     "output_type": "stream",
     "text": [
      "7.958753297914299\n"
     ]
    },
    {
     "name": "stderr",
     "output_type": "stream",
     "text": [
      "Generations: 100%|██████████| 10000/10000 [00:11<00:00, 867.55it/s]\n",
      "Generations:   1%|          | 90/10000 [00:00<00:11, 888.96it/s]"
     ]
    },
    {
     "name": "stdout",
     "output_type": "stream",
     "text": [
      "8.84196912002524\n"
     ]
    },
    {
     "name": "stderr",
     "output_type": "stream",
     "text": [
      "Generations: 100%|██████████| 10000/10000 [00:11<00:00, 871.56it/s]\n",
      "Generations:   1%|          | 90/10000 [00:00<00:11, 891.60it/s]"
     ]
    },
    {
     "name": "stdout",
     "output_type": "stream",
     "text": [
      "9.40611164754263\n"
     ]
    },
    {
     "name": "stderr",
     "output_type": "stream",
     "text": [
      "Generations: 100%|██████████| 10000/10000 [00:11<00:00, 869.56it/s]\n",
      "Generations:   1%|          | 88/10000 [00:00<00:11, 873.33it/s]"
     ]
    },
    {
     "name": "stdout",
     "output_type": "stream",
     "text": [
      "8.221076896894587\n"
     ]
    },
    {
     "name": "stderr",
     "output_type": "stream",
     "text": [
      "Generations: 100%|██████████| 10000/10000 [00:11<00:00, 872.51it/s]\n",
      "Generations:   1%|          | 88/10000 [00:00<00:11, 878.85it/s]"
     ]
    },
    {
     "name": "stdout",
     "output_type": "stream",
     "text": [
      "6.890906479489303\n"
     ]
    },
    {
     "name": "stderr",
     "output_type": "stream",
     "text": [
      "Generations: 100%|██████████| 10000/10000 [00:11<00:00, 864.63it/s]\n",
      "Generations:   1%|          | 90/10000 [00:00<00:11, 884.64it/s]"
     ]
    },
    {
     "name": "stdout",
     "output_type": "stream",
     "text": [
      "6.443583893592546\n"
     ]
    },
    {
     "name": "stderr",
     "output_type": "stream",
     "text": [
      "Generations: 100%|██████████| 10000/10000 [00:11<00:00, 868.06it/s]\n",
      "Generations:   1%|          | 88/10000 [00:00<00:11, 874.56it/s]"
     ]
    },
    {
     "name": "stdout",
     "output_type": "stream",
     "text": [
      "9.37529801311436\n"
     ]
    },
    {
     "name": "stderr",
     "output_type": "stream",
     "text": [
      "Generations: 100%|██████████| 10000/10000 [00:11<00:00, 870.86it/s]\n",
      "Generations:   1%|          | 90/10000 [00:00<00:11, 895.38it/s]"
     ]
    },
    {
     "name": "stdout",
     "output_type": "stream",
     "text": [
      "10.255534600610844\n"
     ]
    },
    {
     "name": "stderr",
     "output_type": "stream",
     "text": [
      "Generations: 100%|██████████| 10000/10000 [00:11<00:00, 872.62it/s]\n",
      "Generations:   1%|          | 88/10000 [00:00<00:11, 877.82it/s]"
     ]
    },
    {
     "name": "stdout",
     "output_type": "stream",
     "text": [
      "17.151922086448792\n"
     ]
    },
    {
     "name": "stderr",
     "output_type": "stream",
     "text": [
      "Generations: 100%|██████████| 10000/10000 [00:11<00:00, 864.50it/s]\n",
      "Generations:   1%|          | 88/10000 [00:00<00:11, 878.99it/s]"
     ]
    },
    {
     "name": "stdout",
     "output_type": "stream",
     "text": [
      "11.391582351203112\n"
     ]
    },
    {
     "name": "stderr",
     "output_type": "stream",
     "text": [
      "Generations: 100%|██████████| 10000/10000 [00:11<00:00, 866.78it/s]\n",
      "Generations:   1%|          | 88/10000 [00:00<00:11, 877.21it/s]"
     ]
    },
    {
     "name": "stdout",
     "output_type": "stream",
     "text": [
      "8.626168840082059\n"
     ]
    },
    {
     "name": "stderr",
     "output_type": "stream",
     "text": [
      "Generations: 100%|██████████| 10000/10000 [00:11<00:00, 865.84it/s]\n",
      "Generations:   1%|          | 90/10000 [00:00<00:11, 887.48it/s]"
     ]
    },
    {
     "name": "stdout",
     "output_type": "stream",
     "text": [
      "7.224293703412613\n"
     ]
    },
    {
     "name": "stderr",
     "output_type": "stream",
     "text": [
      "Generations: 100%|██████████| 10000/10000 [00:11<00:00, 858.09it/s]\n",
      "Generations:   1%|          | 84/10000 [00:00<00:11, 837.87it/s]"
     ]
    },
    {
     "name": "stdout",
     "output_type": "stream",
     "text": [
      "13.524143112784444\n"
     ]
    },
    {
     "name": "stderr",
     "output_type": "stream",
     "text": [
      "Generations: 100%|██████████| 10000/10000 [00:11<00:00, 868.21it/s]\n",
      "Generations:   1%|          | 88/10000 [00:00<00:11, 864.99it/s]"
     ]
    },
    {
     "name": "stdout",
     "output_type": "stream",
     "text": [
      "4.938140043264184\n"
     ]
    },
    {
     "name": "stderr",
     "output_type": "stream",
     "text": [
      "Generations: 100%|██████████| 10000/10000 [00:11<00:00, 866.13it/s]\n",
      "Generations:   1%|          | 84/10000 [00:00<00:11, 836.92it/s]"
     ]
    },
    {
     "name": "stdout",
     "output_type": "stream",
     "text": [
      "6.005250938243734\n"
     ]
    },
    {
     "name": "stderr",
     "output_type": "stream",
     "text": [
      "Generations: 100%|██████████| 10000/10000 [00:11<00:00, 866.71it/s]\n",
      "Generations:   1%|          | 88/10000 [00:00<00:11, 877.19it/s]"
     ]
    },
    {
     "name": "stdout",
     "output_type": "stream",
     "text": [
      "5.7936269664985645\n"
     ]
    },
    {
     "name": "stderr",
     "output_type": "stream",
     "text": [
      "Generations: 100%|██████████| 10000/10000 [00:11<00:00, 870.76it/s]\n",
      "Generations:   1%|          | 88/10000 [00:00<00:11, 871.22it/s]"
     ]
    },
    {
     "name": "stdout",
     "output_type": "stream",
     "text": [
      "6.818774904168052\n"
     ]
    },
    {
     "name": "stderr",
     "output_type": "stream",
     "text": [
      "Generations: 100%|██████████| 10000/10000 [00:11<00:00, 863.37it/s]\n",
      "Generations:   1%|          | 88/10000 [00:00<00:11, 867.71it/s]"
     ]
    },
    {
     "name": "stdout",
     "output_type": "stream",
     "text": [
      "15.11202146220191\n"
     ]
    },
    {
     "name": "stderr",
     "output_type": "stream",
     "text": [
      "Generations: 100%|██████████| 10000/10000 [00:11<00:00, 869.25it/s]\n",
      "Generations:   1%|          | 90/10000 [00:00<00:11, 880.46it/s]"
     ]
    },
    {
     "name": "stdout",
     "output_type": "stream",
     "text": [
      "11.569410007440709\n"
     ]
    },
    {
     "name": "stderr",
     "output_type": "stream",
     "text": [
      "Generations: 100%|██████████| 10000/10000 [00:11<00:00, 869.77it/s]\n",
      "Generations:   1%|          | 90/10000 [00:00<00:11, 890.04it/s]"
     ]
    },
    {
     "name": "stdout",
     "output_type": "stream",
     "text": [
      "5.848725804737981\n"
     ]
    },
    {
     "name": "stderr",
     "output_type": "stream",
     "text": [
      "Generations: 100%|██████████| 10000/10000 [00:11<00:00, 864.58it/s]"
     ]
    },
    {
     "name": "stdout",
     "output_type": "stream",
     "text": [
      "10.41297561635119\n"
     ]
    },
    {
     "name": "stderr",
     "output_type": "stream",
     "text": [
      "\n"
     ]
    }
   ],
   "source": [
    "mut_probs = np.arange(start = 0.010, stop = 0.055, step = 0.005)\n",
    "\n",
    "for mut_prob in mut_probs:\n",
    "    print(mut_prob)\n",
    "    for i in range(n_exec):\n",
    "        GA = GeneticAlgorithm(n = 10, m = 20, l = 20, max_eval = 10000, mut_prob = mut_prob, cross_prob = 0.75, k = 20)\n",
    "        GA.solve()\n",
    "        fitness.append(GA.best_fitness)\n",
    "        print(GA.best_fitness)\n",
    "    pm.append(fitness.copy())\n",
    "    fitness.clear()"
   ]
  },
  {
   "cell_type": "code",
   "execution_count": 4,
   "metadata": {},
   "outputs": [],
   "source": [
    "best_mut_prob = mut_probs[np.argmin(np.mean(pm, axis = 1))]"
   ]
  },
  {
   "cell_type": "code",
   "execution_count": 14,
   "metadata": {},
   "outputs": [
    {
     "name": "stderr",
     "output_type": "stream",
     "text": [
      "Generations:   1%|          | 70/10000 [00:00<00:14, 696.17it/s]"
     ]
    },
    {
     "name": "stdout",
     "output_type": "stream",
     "text": [
      "0.6\n"
     ]
    },
    {
     "name": "stderr",
     "output_type": "stream",
     "text": [
      "Generations: 100%|██████████| 10000/10000 [00:11<00:00, 856.32it/s]\n",
      "Generations:   1%|          | 78/10000 [00:00<00:12, 767.60it/s]"
     ]
    },
    {
     "name": "stdout",
     "output_type": "stream",
     "text": [
      "2.4046957049673807\n"
     ]
    },
    {
     "name": "stderr",
     "output_type": "stream",
     "text": [
      "Generations: 100%|██████████| 10000/10000 [00:12<00:00, 804.15it/s]\n",
      "Generations:   1%|          | 64/10000 [00:00<00:15, 638.57it/s]"
     ]
    },
    {
     "name": "stdout",
     "output_type": "stream",
     "text": [
      "6.05275268259247\n"
     ]
    },
    {
     "name": "stderr",
     "output_type": "stream",
     "text": [
      "Generations: 100%|██████████| 10000/10000 [00:15<00:00, 661.96it/s]\n",
      "Generations:   1%|          | 88/10000 [00:00<00:11, 870.13it/s]"
     ]
    },
    {
     "name": "stdout",
     "output_type": "stream",
     "text": [
      "3.5474692639771916\n"
     ]
    },
    {
     "name": "stderr",
     "output_type": "stream",
     "text": [
      "Generations: 100%|██████████| 10000/10000 [00:13<00:00, 738.65it/s]\n",
      "Generations:   1%|          | 84/10000 [00:00<00:11, 831.62it/s]"
     ]
    },
    {
     "name": "stdout",
     "output_type": "stream",
     "text": [
      "3.739763846098583\n"
     ]
    },
    {
     "name": "stderr",
     "output_type": "stream",
     "text": [
      "Generations: 100%|██████████| 10000/10000 [00:12<00:00, 819.50it/s]\n",
      "Generations:   1%|          | 84/10000 [00:00<00:12, 821.47it/s]"
     ]
    },
    {
     "name": "stdout",
     "output_type": "stream",
     "text": [
      "3.3413512236548826\n"
     ]
    },
    {
     "name": "stderr",
     "output_type": "stream",
     "text": [
      "Generations: 100%|██████████| 10000/10000 [00:12<00:00, 800.48it/s]\n",
      "Generations:   1%|          | 68/10000 [00:00<00:14, 663.91it/s]"
     ]
    },
    {
     "name": "stdout",
     "output_type": "stream",
     "text": [
      "4.115747350214718\n"
     ]
    },
    {
     "name": "stderr",
     "output_type": "stream",
     "text": [
      "Generations: 100%|██████████| 10000/10000 [00:12<00:00, 811.79it/s]\n",
      "Generations:   1%|          | 90/10000 [00:00<00:11, 889.79it/s]"
     ]
    },
    {
     "name": "stdout",
     "output_type": "stream",
     "text": [
      "7.776529787229322\n"
     ]
    },
    {
     "name": "stderr",
     "output_type": "stream",
     "text": [
      "Generations: 100%|██████████| 10000/10000 [00:12<00:00, 828.80it/s]\n",
      "Generations:   1%|          | 86/10000 [00:00<00:11, 859.28it/s]"
     ]
    },
    {
     "name": "stdout",
     "output_type": "stream",
     "text": [
      "3.505223760889791\n"
     ]
    },
    {
     "name": "stderr",
     "output_type": "stream",
     "text": [
      "Generations: 100%|██████████| 10000/10000 [00:12<00:00, 814.10it/s]\n",
      "Generations:   1%|          | 82/10000 [00:00<00:12, 819.79it/s]"
     ]
    },
    {
     "name": "stdout",
     "output_type": "stream",
     "text": [
      "13.40176789937368\n"
     ]
    },
    {
     "name": "stderr",
     "output_type": "stream",
     "text": [
      "Generations: 100%|██████████| 10000/10000 [00:12<00:00, 802.36it/s]\n",
      "Generations:   1%|          | 62/10000 [00:00<00:16, 610.75it/s]"
     ]
    },
    {
     "name": "stdout",
     "output_type": "stream",
     "text": [
      "3.633247302545584\n"
     ]
    },
    {
     "name": "stderr",
     "output_type": "stream",
     "text": [
      "Generations: 100%|██████████| 10000/10000 [00:13<00:00, 755.81it/s]\n",
      "Generations:   1%|          | 76/10000 [00:00<00:13, 748.21it/s]"
     ]
    },
    {
     "name": "stdout",
     "output_type": "stream",
     "text": [
      "6.484415351744957\n"
     ]
    },
    {
     "name": "stderr",
     "output_type": "stream",
     "text": [
      "Generations: 100%|██████████| 10000/10000 [00:12<00:00, 798.34it/s]\n",
      "Generations:   1%|          | 88/10000 [00:00<00:11, 863.86it/s]"
     ]
    },
    {
     "name": "stdout",
     "output_type": "stream",
     "text": [
      "3.2922882682193375\n"
     ]
    },
    {
     "name": "stderr",
     "output_type": "stream",
     "text": [
      "Generations: 100%|██████████| 10000/10000 [00:12<00:00, 794.86it/s]\n",
      "Generations:   1%|          | 90/10000 [00:00<00:11, 884.09it/s]"
     ]
    },
    {
     "name": "stdout",
     "output_type": "stream",
     "text": [
      "13.014474412926305\n"
     ]
    },
    {
     "name": "stderr",
     "output_type": "stream",
     "text": [
      "Generations: 100%|██████████| 10000/10000 [00:12<00:00, 819.52it/s]\n",
      "Generations:   1%|          | 66/10000 [00:00<00:15, 639.31it/s]"
     ]
    },
    {
     "name": "stdout",
     "output_type": "stream",
     "text": [
      "7.067092665901939\n"
     ]
    },
    {
     "name": "stderr",
     "output_type": "stream",
     "text": [
      "Generations: 100%|██████████| 10000/10000 [00:12<00:00, 801.74it/s]\n",
      "Generations:   1%|          | 90/10000 [00:00<00:11, 887.24it/s]"
     ]
    },
    {
     "name": "stdout",
     "output_type": "stream",
     "text": [
      "10.579717806112285\n"
     ]
    },
    {
     "name": "stderr",
     "output_type": "stream",
     "text": [
      "Generations: 100%|██████████| 10000/10000 [00:11<00:00, 866.42it/s]\n",
      "Generations:   1%|          | 90/10000 [00:00<00:11, 888.23it/s]"
     ]
    },
    {
     "name": "stdout",
     "output_type": "stream",
     "text": [
      "2.6437092343235804\n"
     ]
    },
    {
     "name": "stderr",
     "output_type": "stream",
     "text": [
      "Generations: 100%|██████████| 10000/10000 [00:12<00:00, 831.43it/s]\n",
      "Generations:   1%|          | 76/10000 [00:00<00:13, 743.78it/s]"
     ]
    },
    {
     "name": "stdout",
     "output_type": "stream",
     "text": [
      "5.5473503618297855\n"
     ]
    },
    {
     "name": "stderr",
     "output_type": "stream",
     "text": [
      "Generations: 100%|██████████| 10000/10000 [00:12<00:00, 825.82it/s]\n",
      "Generations:   1%|          | 88/10000 [00:00<00:11, 871.04it/s]"
     ]
    },
    {
     "name": "stdout",
     "output_type": "stream",
     "text": [
      "5.646563964997938\n"
     ]
    },
    {
     "name": "stderr",
     "output_type": "stream",
     "text": [
      "Generations: 100%|██████████| 10000/10000 [00:12<00:00, 830.27it/s]\n",
      "Generations:   1%|          | 92/10000 [00:00<00:10, 903.53it/s]"
     ]
    },
    {
     "name": "stdout",
     "output_type": "stream",
     "text": [
      "8.495828622469588\n"
     ]
    },
    {
     "name": "stderr",
     "output_type": "stream",
     "text": [
      "Generations: 100%|██████████| 10000/10000 [00:13<00:00, 757.15it/s]\n",
      "Generations:   1%|          | 88/10000 [00:00<00:11, 872.71it/s]"
     ]
    },
    {
     "name": "stdout",
     "output_type": "stream",
     "text": [
      "5.818689126619816\n"
     ]
    },
    {
     "name": "stderr",
     "output_type": "stream",
     "text": [
      "Generations: 100%|██████████| 10000/10000 [00:12<00:00, 824.15it/s]\n",
      "Generations:   1%|          | 88/10000 [00:00<00:11, 877.21it/s]"
     ]
    },
    {
     "name": "stdout",
     "output_type": "stream",
     "text": [
      "2.3926930216434528\n"
     ]
    },
    {
     "name": "stderr",
     "output_type": "stream",
     "text": [
      "Generations: 100%|██████████| 10000/10000 [00:11<00:00, 878.96it/s]\n",
      "Generations:   1%|          | 84/10000 [00:00<00:11, 837.64it/s]"
     ]
    },
    {
     "name": "stdout",
     "output_type": "stream",
     "text": [
      "13.159129344015554\n"
     ]
    },
    {
     "name": "stderr",
     "output_type": "stream",
     "text": [
      "Generations: 100%|██████████| 10000/10000 [00:12<00:00, 811.37it/s]\n",
      "Generations:   1%|          | 86/10000 [00:00<00:12, 813.93it/s]"
     ]
    },
    {
     "name": "stdout",
     "output_type": "stream",
     "text": [
      "8.185317223266054\n"
     ]
    },
    {
     "name": "stderr",
     "output_type": "stream",
     "text": [
      "Generations: 100%|██████████| 10000/10000 [00:12<00:00, 825.01it/s]\n",
      "Generations:   1%|          | 78/10000 [00:00<00:12, 764.80it/s]"
     ]
    },
    {
     "name": "stdout",
     "output_type": "stream",
     "text": [
      "5.78738602928297\n"
     ]
    },
    {
     "name": "stderr",
     "output_type": "stream",
     "text": [
      "Generations: 100%|██████████| 10000/10000 [00:14<00:00, 709.43it/s]\n",
      "Generations:   1%|          | 78/10000 [00:00<00:12, 770.85it/s]"
     ]
    },
    {
     "name": "stdout",
     "output_type": "stream",
     "text": [
      "6.060040496816299\n"
     ]
    },
    {
     "name": "stderr",
     "output_type": "stream",
     "text": [
      "Generations: 100%|██████████| 10000/10000 [00:11<00:00, 833.68it/s]\n",
      "Generations:   1%|          | 90/10000 [00:00<00:11, 889.42it/s]"
     ]
    },
    {
     "name": "stdout",
     "output_type": "stream",
     "text": [
      "15.190160181050814\n"
     ]
    },
    {
     "name": "stderr",
     "output_type": "stream",
     "text": [
      "Generations: 100%|██████████| 10000/10000 [00:11<00:00, 874.65it/s]\n",
      "Generations:   1%|          | 90/10000 [00:00<00:11, 890.86it/s]"
     ]
    },
    {
     "name": "stdout",
     "output_type": "stream",
     "text": [
      "2.062223852707305\n"
     ]
    },
    {
     "name": "stderr",
     "output_type": "stream",
     "text": [
      "Generations: 100%|██████████| 10000/10000 [00:11<00:00, 883.70it/s]\n",
      "Generations:   1%|          | 90/10000 [00:00<00:11, 886.32it/s]"
     ]
    },
    {
     "name": "stdout",
     "output_type": "stream",
     "text": [
      "8.213356491156304\n"
     ]
    },
    {
     "name": "stderr",
     "output_type": "stream",
     "text": [
      "Generations: 100%|██████████| 10000/10000 [00:11<00:00, 877.44it/s]\n",
      "Generations:   1%|          | 92/10000 [00:00<00:10, 901.37it/s]"
     ]
    },
    {
     "name": "stdout",
     "output_type": "stream",
     "text": [
      "10.827993841433624\n"
     ]
    },
    {
     "name": "stderr",
     "output_type": "stream",
     "text": [
      "Generations: 100%|██████████| 10000/10000 [00:11<00:00, 874.97it/s]\n",
      "Generations:   1%|          | 92/10000 [00:00<00:10, 907.00it/s]"
     ]
    },
    {
     "name": "stdout",
     "output_type": "stream",
     "text": [
      "13.31422327587127\n"
     ]
    },
    {
     "name": "stderr",
     "output_type": "stream",
     "text": [
      "Generations: 100%|██████████| 10000/10000 [00:11<00:00, 878.90it/s]\n",
      "Generations:   1%|          | 90/10000 [00:00<00:11, 898.23it/s]"
     ]
    },
    {
     "name": "stdout",
     "output_type": "stream",
     "text": [
      "7.7391167358602075\n"
     ]
    },
    {
     "name": "stderr",
     "output_type": "stream",
     "text": [
      "Generations: 100%|██████████| 10000/10000 [00:11<00:00, 878.30it/s]\n",
      "Generations:   1%|          | 90/10000 [00:00<00:11, 887.48it/s]"
     ]
    },
    {
     "name": "stdout",
     "output_type": "stream",
     "text": [
      "7.5733661057563495\n"
     ]
    },
    {
     "name": "stderr",
     "output_type": "stream",
     "text": [
      "Generations: 100%|██████████| 10000/10000 [00:12<00:00, 815.98it/s]\n",
      "Generations:   0%|          | 42/10000 [00:00<00:23, 417.22it/s]"
     ]
    },
    {
     "name": "stdout",
     "output_type": "stream",
     "text": [
      "5.784299657438311\n",
      "0.65\n"
     ]
    },
    {
     "name": "stderr",
     "output_type": "stream",
     "text": [
      "Generations: 100%|██████████| 10000/10000 [00:13<00:00, 729.56it/s]\n",
      "Generations:   1%|          | 92/10000 [00:00<00:10, 903.65it/s]"
     ]
    },
    {
     "name": "stdout",
     "output_type": "stream",
     "text": [
      "5.7577225815618505\n"
     ]
    },
    {
     "name": "stderr",
     "output_type": "stream",
     "text": [
      "Generations: 100%|██████████| 10000/10000 [00:11<00:00, 847.19it/s]\n",
      "Generations:   1%|          | 90/10000 [00:00<00:11, 894.78it/s]"
     ]
    },
    {
     "name": "stdout",
     "output_type": "stream",
     "text": [
      "9.195909843260722\n"
     ]
    },
    {
     "name": "stderr",
     "output_type": "stream",
     "text": [
      "Generations: 100%|██████████| 10000/10000 [00:11<00:00, 849.31it/s]\n",
      "Generations:   1%|          | 88/10000 [00:00<00:11, 875.05it/s]"
     ]
    },
    {
     "name": "stdout",
     "output_type": "stream",
     "text": [
      "8.68904054715793\n"
     ]
    },
    {
     "name": "stderr",
     "output_type": "stream",
     "text": [
      "Generations: 100%|██████████| 10000/10000 [00:12<00:00, 827.79it/s]\n",
      "Generations:   1%|          | 86/10000 [00:00<00:11, 853.48it/s]"
     ]
    },
    {
     "name": "stdout",
     "output_type": "stream",
     "text": [
      "14.914493257507985\n"
     ]
    },
    {
     "name": "stderr",
     "output_type": "stream",
     "text": [
      "Generations: 100%|██████████| 10000/10000 [00:11<00:00, 845.58it/s]\n",
      "Generations:   1%|          | 88/10000 [00:00<00:11, 866.03it/s]"
     ]
    },
    {
     "name": "stdout",
     "output_type": "stream",
     "text": [
      "11.361569485762402\n"
     ]
    },
    {
     "name": "stderr",
     "output_type": "stream",
     "text": [
      "Generations: 100%|██████████| 10000/10000 [00:11<00:00, 856.20it/s]\n",
      "Generations:   1%|          | 82/10000 [00:00<00:12, 804.85it/s]"
     ]
    },
    {
     "name": "stdout",
     "output_type": "stream",
     "text": [
      "13.109571529030077\n"
     ]
    },
    {
     "name": "stderr",
     "output_type": "stream",
     "text": [
      "Generations: 100%|██████████| 10000/10000 [00:11<00:00, 840.73it/s]\n",
      "Generations:   1%|          | 88/10000 [00:00<00:11, 861.73it/s]"
     ]
    },
    {
     "name": "stdout",
     "output_type": "stream",
     "text": [
      "5.989195220119186\n"
     ]
    },
    {
     "name": "stderr",
     "output_type": "stream",
     "text": [
      "Generations: 100%|██████████| 10000/10000 [00:11<00:00, 854.44it/s]\n",
      "Generations:   1%|          | 88/10000 [00:00<00:11, 874.55it/s]"
     ]
    },
    {
     "name": "stdout",
     "output_type": "stream",
     "text": [
      "10.5718607725033\n"
     ]
    },
    {
     "name": "stderr",
     "output_type": "stream",
     "text": [
      "Generations: 100%|██████████| 10000/10000 [00:11<00:00, 836.18it/s]\n",
      "Generations:   1%|          | 84/10000 [00:00<00:11, 831.24it/s]"
     ]
    },
    {
     "name": "stdout",
     "output_type": "stream",
     "text": [
      "10.916384761459568\n"
     ]
    },
    {
     "name": "stderr",
     "output_type": "stream",
     "text": [
      "Generations: 100%|██████████| 10000/10000 [00:12<00:00, 829.20it/s]\n",
      "Generations:   1%|          | 86/10000 [00:00<00:11, 841.91it/s]"
     ]
    },
    {
     "name": "stdout",
     "output_type": "stream",
     "text": [
      "6.361871358739052\n"
     ]
    },
    {
     "name": "stderr",
     "output_type": "stream",
     "text": [
      "Generations: 100%|██████████| 10000/10000 [00:12<00:00, 819.85it/s]\n",
      "Generations:   1%|          | 92/10000 [00:00<00:10, 902.50it/s]"
     ]
    },
    {
     "name": "stdout",
     "output_type": "stream",
     "text": [
      "7.274211075438544\n"
     ]
    },
    {
     "name": "stderr",
     "output_type": "stream",
     "text": [
      "Generations: 100%|██████████| 10000/10000 [00:11<00:00, 892.27it/s]\n",
      "Generations:   1%|          | 92/10000 [00:00<00:10, 910.18it/s]"
     ]
    },
    {
     "name": "stdout",
     "output_type": "stream",
     "text": [
      "4.566155764649054\n"
     ]
    },
    {
     "name": "stderr",
     "output_type": "stream",
     "text": [
      "Generations: 100%|██████████| 10000/10000 [00:11<00:00, 892.41it/s]\n",
      "Generations:   1%|          | 92/10000 [00:00<00:10, 902.64it/s]"
     ]
    },
    {
     "name": "stdout",
     "output_type": "stream",
     "text": [
      "5.86895128252138\n"
     ]
    },
    {
     "name": "stderr",
     "output_type": "stream",
     "text": [
      "Generations: 100%|██████████| 10000/10000 [00:11<00:00, 859.56it/s]\n",
      "Generations:   1%|          | 90/10000 [00:00<00:11, 891.21it/s]"
     ]
    },
    {
     "name": "stdout",
     "output_type": "stream",
     "text": [
      "14.420686563387903\n"
     ]
    },
    {
     "name": "stderr",
     "output_type": "stream",
     "text": [
      "Generations: 100%|██████████| 10000/10000 [00:11<00:00, 879.63it/s]\n",
      "Generations:   1%|          | 90/10000 [00:00<00:11, 886.50it/s]"
     ]
    },
    {
     "name": "stdout",
     "output_type": "stream",
     "text": [
      "8.670756758925648\n"
     ]
    },
    {
     "name": "stderr",
     "output_type": "stream",
     "text": [
      "Generations: 100%|██████████| 10000/10000 [00:11<00:00, 873.85it/s]\n",
      "Generations:   1%|          | 92/10000 [00:00<00:10, 904.68it/s]"
     ]
    },
    {
     "name": "stdout",
     "output_type": "stream",
     "text": [
      "11.729219523876722\n"
     ]
    },
    {
     "name": "stderr",
     "output_type": "stream",
     "text": [
      "Generations: 100%|██████████| 10000/10000 [00:11<00:00, 881.24it/s]\n",
      "Generations:   1%|          | 86/10000 [00:00<00:11, 849.87it/s]"
     ]
    },
    {
     "name": "stdout",
     "output_type": "stream",
     "text": [
      "12.27091154691658\n"
     ]
    },
    {
     "name": "stderr",
     "output_type": "stream",
     "text": [
      "Generations: 100%|██████████| 10000/10000 [00:11<00:00, 877.66it/s]\n",
      "Generations:   1%|          | 82/10000 [00:00<00:12, 813.07it/s]"
     ]
    },
    {
     "name": "stdout",
     "output_type": "stream",
     "text": [
      "3.3902994731790415\n"
     ]
    },
    {
     "name": "stderr",
     "output_type": "stream",
     "text": [
      "Generations: 100%|██████████| 10000/10000 [00:11<00:00, 879.84it/s]\n",
      "Generations:   1%|          | 90/10000 [00:00<00:11, 889.62it/s]"
     ]
    },
    {
     "name": "stdout",
     "output_type": "stream",
     "text": [
      "7.4764039394927835\n"
     ]
    },
    {
     "name": "stderr",
     "output_type": "stream",
     "text": [
      "Generations: 100%|██████████| 10000/10000 [00:11<00:00, 882.65it/s]\n",
      "Generations:   1%|          | 82/10000 [00:00<00:12, 817.06it/s]"
     ]
    },
    {
     "name": "stdout",
     "output_type": "stream",
     "text": [
      "9.717787006887619\n"
     ]
    },
    {
     "name": "stderr",
     "output_type": "stream",
     "text": [
      "Generations: 100%|██████████| 10000/10000 [00:13<00:00, 749.44it/s]\n",
      "Generations:   1%|          | 92/10000 [00:00<00:10, 908.64it/s]"
     ]
    },
    {
     "name": "stdout",
     "output_type": "stream",
     "text": [
      "11.76577224352144\n"
     ]
    },
    {
     "name": "stderr",
     "output_type": "stream",
     "text": [
      "Generations: 100%|██████████| 10000/10000 [00:11<00:00, 868.69it/s]\n",
      "Generations:   1%|          | 68/10000 [00:00<00:14, 664.48it/s]"
     ]
    },
    {
     "name": "stdout",
     "output_type": "stream",
     "text": [
      "8.325138916853689\n"
     ]
    },
    {
     "name": "stderr",
     "output_type": "stream",
     "text": [
      "Generations: 100%|██████████| 10000/10000 [00:12<00:00, 813.52it/s]\n",
      "Generations:   1%|          | 90/10000 [00:00<00:11, 884.24it/s]"
     ]
    },
    {
     "name": "stdout",
     "output_type": "stream",
     "text": [
      "3.6438177847042112\n"
     ]
    },
    {
     "name": "stderr",
     "output_type": "stream",
     "text": [
      "Generations: 100%|██████████| 10000/10000 [00:11<00:00, 837.11it/s]\n",
      "Generations:   1%|          | 90/10000 [00:00<00:11, 891.31it/s]"
     ]
    },
    {
     "name": "stdout",
     "output_type": "stream",
     "text": [
      "18.028800371216178\n"
     ]
    },
    {
     "name": "stderr",
     "output_type": "stream",
     "text": [
      "Generations: 100%|██████████| 10000/10000 [00:13<00:00, 765.47it/s]\n",
      "Generations:   1%|          | 90/10000 [00:00<00:11, 894.55it/s]"
     ]
    },
    {
     "name": "stdout",
     "output_type": "stream",
     "text": [
      "4.785032754192827\n"
     ]
    },
    {
     "name": "stderr",
     "output_type": "stream",
     "text": [
      "Generations: 100%|██████████| 10000/10000 [00:13<00:00, 738.65it/s]\n",
      "Generations:   1%|          | 76/10000 [00:00<00:13, 748.91it/s]"
     ]
    },
    {
     "name": "stdout",
     "output_type": "stream",
     "text": [
      "3.5322252846613367\n"
     ]
    },
    {
     "name": "stderr",
     "output_type": "stream",
     "text": [
      "Generations: 100%|██████████| 10000/10000 [00:12<00:00, 811.02it/s]\n",
      "Generations:   1%|          | 90/10000 [00:00<00:11, 895.44it/s]"
     ]
    },
    {
     "name": "stdout",
     "output_type": "stream",
     "text": [
      "5.504865727401466\n"
     ]
    },
    {
     "name": "stderr",
     "output_type": "stream",
     "text": [
      "Generations: 100%|██████████| 10000/10000 [00:12<00:00, 811.61it/s]\n",
      "Generations:   1%|          | 90/10000 [00:00<00:11, 896.87it/s]"
     ]
    },
    {
     "name": "stdout",
     "output_type": "stream",
     "text": [
      "4.509443001601284\n"
     ]
    },
    {
     "name": "stderr",
     "output_type": "stream",
     "text": [
      "Generations: 100%|██████████| 10000/10000 [00:12<00:00, 785.75it/s]\n",
      "Generations:   1%|          | 90/10000 [00:00<00:11, 886.31it/s]"
     ]
    },
    {
     "name": "stdout",
     "output_type": "stream",
     "text": [
      "4.844703542508427\n"
     ]
    },
    {
     "name": "stderr",
     "output_type": "stream",
     "text": [
      "Generations: 100%|██████████| 10000/10000 [00:14<00:00, 700.74it/s]\n",
      "Generations:   1%|          | 84/10000 [00:00<00:11, 833.91it/s]"
     ]
    },
    {
     "name": "stdout",
     "output_type": "stream",
     "text": [
      "7.878602386860251\n"
     ]
    },
    {
     "name": "stderr",
     "output_type": "stream",
     "text": [
      "Generations: 100%|██████████| 10000/10000 [00:13<00:00, 719.74it/s]\n",
      "Generations:   1%|          | 54/10000 [00:00<00:18, 532.03it/s]"
     ]
    },
    {
     "name": "stdout",
     "output_type": "stream",
     "text": [
      "2.559098823706691\n"
     ]
    },
    {
     "name": "stderr",
     "output_type": "stream",
     "text": [
      "Generations: 100%|██████████| 10000/10000 [00:12<00:00, 814.20it/s]\n",
      "Generations:   1%|          | 92/10000 [00:00<00:10, 903.63it/s]"
     ]
    },
    {
     "name": "stdout",
     "output_type": "stream",
     "text": [
      "10.462067184388971\n"
     ]
    },
    {
     "name": "stderr",
     "output_type": "stream",
     "text": [
      "Generations: 100%|██████████| 10000/10000 [00:11<00:00, 849.42it/s]\n",
      "Generations:   1%|          | 92/10000 [00:00<00:11, 900.43it/s]"
     ]
    },
    {
     "name": "stdout",
     "output_type": "stream",
     "text": [
      "6.518027805690934\n",
      "0.7000000000000001\n"
     ]
    },
    {
     "name": "stderr",
     "output_type": "stream",
     "text": [
      "Generations: 100%|██████████| 10000/10000 [00:12<00:00, 831.91it/s]\n",
      "Generations:   1%|          | 82/10000 [00:00<00:12, 804.56it/s]"
     ]
    },
    {
     "name": "stdout",
     "output_type": "stream",
     "text": [
      "5.7778781871660385\n"
     ]
    },
    {
     "name": "stderr",
     "output_type": "stream",
     "text": [
      "Generations: 100%|██████████| 10000/10000 [00:12<00:00, 785.11it/s]\n",
      "Generations:   1%|          | 90/10000 [00:00<00:11, 883.78it/s]"
     ]
    },
    {
     "name": "stdout",
     "output_type": "stream",
     "text": [
      "4.400471725860754\n"
     ]
    },
    {
     "name": "stderr",
     "output_type": "stream",
     "text": [
      "Generations: 100%|██████████| 10000/10000 [00:14<00:00, 674.55it/s]\n",
      "Generations:   1%|          | 82/10000 [00:00<00:12, 811.66it/s]"
     ]
    },
    {
     "name": "stdout",
     "output_type": "stream",
     "text": [
      "5.411398755374549\n"
     ]
    },
    {
     "name": "stderr",
     "output_type": "stream",
     "text": [
      "Generations: 100%|██████████| 10000/10000 [00:11<00:00, 869.35it/s]\n",
      "Generations:   1%|          | 90/10000 [00:00<00:11, 897.33it/s]"
     ]
    },
    {
     "name": "stdout",
     "output_type": "stream",
     "text": [
      "12.198522554621604\n"
     ]
    },
    {
     "name": "stderr",
     "output_type": "stream",
     "text": [
      "Generations: 100%|██████████| 10000/10000 [00:11<00:00, 891.66it/s]\n",
      "Generations:   1%|          | 90/10000 [00:00<00:11, 895.00it/s]"
     ]
    },
    {
     "name": "stdout",
     "output_type": "stream",
     "text": [
      "9.194271041928602\n"
     ]
    },
    {
     "name": "stderr",
     "output_type": "stream",
     "text": [
      "Generations: 100%|██████████| 10000/10000 [00:11<00:00, 891.54it/s]\n",
      "Generations:   1%|          | 90/10000 [00:00<00:11, 886.42it/s]"
     ]
    },
    {
     "name": "stdout",
     "output_type": "stream",
     "text": [
      "8.477795701290916\n"
     ]
    },
    {
     "name": "stderr",
     "output_type": "stream",
     "text": [
      "Generations: 100%|██████████| 10000/10000 [00:11<00:00, 889.98it/s]\n",
      "Generations:   1%|          | 92/10000 [00:00<00:10, 902.52it/s]"
     ]
    },
    {
     "name": "stdout",
     "output_type": "stream",
     "text": [
      "4.944836493474469\n"
     ]
    },
    {
     "name": "stderr",
     "output_type": "stream",
     "text": [
      "Generations: 100%|██████████| 10000/10000 [00:11<00:00, 888.00it/s]\n",
      "Generations:   1%|          | 90/10000 [00:00<00:11, 899.56it/s]"
     ]
    },
    {
     "name": "stdout",
     "output_type": "stream",
     "text": [
      "5.801502107017441\n"
     ]
    },
    {
     "name": "stderr",
     "output_type": "stream",
     "text": [
      "Generations: 100%|██████████| 10000/10000 [00:11<00:00, 890.26it/s]\n",
      "Generations:   1%|          | 90/10000 [00:00<00:11, 884.82it/s]"
     ]
    },
    {
     "name": "stdout",
     "output_type": "stream",
     "text": [
      "7.7027828771323215\n"
     ]
    },
    {
     "name": "stderr",
     "output_type": "stream",
     "text": [
      "Generations: 100%|██████████| 10000/10000 [00:11<00:00, 881.66it/s]\n",
      "Generations:   1%|          | 84/10000 [00:00<00:12, 823.67it/s]"
     ]
    },
    {
     "name": "stdout",
     "output_type": "stream",
     "text": [
      "5.254117719524629\n"
     ]
    },
    {
     "name": "stderr",
     "output_type": "stream",
     "text": [
      "Generations: 100%|██████████| 10000/10000 [00:12<00:00, 810.22it/s]\n",
      "Generations:   1%|          | 86/10000 [00:00<00:11, 854.03it/s]"
     ]
    },
    {
     "name": "stdout",
     "output_type": "stream",
     "text": [
      "14.351459307301425\n"
     ]
    },
    {
     "name": "stderr",
     "output_type": "stream",
     "text": [
      "Generations: 100%|██████████| 10000/10000 [00:14<00:00, 682.44it/s]\n",
      "Generations:   1%|          | 90/10000 [00:00<00:11, 893.25it/s]"
     ]
    },
    {
     "name": "stdout",
     "output_type": "stream",
     "text": [
      "1.3777397540614942\n"
     ]
    },
    {
     "name": "stderr",
     "output_type": "stream",
     "text": [
      "Generations: 100%|██████████| 10000/10000 [00:11<00:00, 860.17it/s]\n",
      "Generations:   1%|          | 88/10000 [00:00<00:11, 869.76it/s]"
     ]
    },
    {
     "name": "stdout",
     "output_type": "stream",
     "text": [
      "9.466167128585852\n"
     ]
    },
    {
     "name": "stderr",
     "output_type": "stream",
     "text": [
      "Generations: 100%|██████████| 10000/10000 [00:11<00:00, 853.97it/s]\n",
      "Generations:   1%|          | 90/10000 [00:00<00:11, 884.85it/s]"
     ]
    },
    {
     "name": "stdout",
     "output_type": "stream",
     "text": [
      "8.486837843303604\n"
     ]
    },
    {
     "name": "stderr",
     "output_type": "stream",
     "text": [
      "Generations: 100%|██████████| 10000/10000 [00:11<00:00, 846.92it/s]\n",
      "Generations:   1%|          | 88/10000 [00:00<00:11, 862.46it/s]"
     ]
    },
    {
     "name": "stdout",
     "output_type": "stream",
     "text": [
      "6.926185498934672\n"
     ]
    },
    {
     "name": "stderr",
     "output_type": "stream",
     "text": [
      "Generations: 100%|██████████| 10000/10000 [00:14<00:00, 682.21it/s]\n",
      "Generations:   1%|          | 86/10000 [00:00<00:11, 851.11it/s]"
     ]
    },
    {
     "name": "stdout",
     "output_type": "stream",
     "text": [
      "7.558874784102784\n"
     ]
    },
    {
     "name": "stderr",
     "output_type": "stream",
     "text": [
      "Generations: 100%|██████████| 10000/10000 [00:12<00:00, 800.37it/s]\n",
      "Generations:   0%|          | 30/10000 [00:00<00:33, 298.15it/s]"
     ]
    },
    {
     "name": "stdout",
     "output_type": "stream",
     "text": [
      "4.721463808365684\n"
     ]
    },
    {
     "name": "stderr",
     "output_type": "stream",
     "text": [
      "Generations: 100%|██████████| 10000/10000 [00:13<00:00, 742.06it/s]\n",
      "Generations:   1%|          | 72/10000 [00:00<00:13, 714.23it/s]"
     ]
    },
    {
     "name": "stdout",
     "output_type": "stream",
     "text": [
      "7.31960476153877\n"
     ]
    },
    {
     "name": "stderr",
     "output_type": "stream",
     "text": [
      "Generations: 100%|██████████| 10000/10000 [00:11<00:00, 837.64it/s]\n",
      "Generations:   0%|          | 36/10000 [00:00<00:28, 354.48it/s]"
     ]
    },
    {
     "name": "stdout",
     "output_type": "stream",
     "text": [
      "5.77229647485899\n"
     ]
    },
    {
     "name": "stderr",
     "output_type": "stream",
     "text": [
      "Generations: 100%|██████████| 10000/10000 [00:12<00:00, 810.04it/s]\n",
      "Generations:   1%|          | 92/10000 [00:00<00:10, 900.89it/s]"
     ]
    },
    {
     "name": "stdout",
     "output_type": "stream",
     "text": [
      "6.292299068868118\n"
     ]
    },
    {
     "name": "stderr",
     "output_type": "stream",
     "text": [
      "Generations: 100%|██████████| 10000/10000 [00:12<00:00, 828.29it/s]\n",
      "Generations:   1%|          | 66/10000 [00:00<00:15, 639.09it/s]"
     ]
    },
    {
     "name": "stdout",
     "output_type": "stream",
     "text": [
      "10.093086338281068\n"
     ]
    },
    {
     "name": "stderr",
     "output_type": "stream",
     "text": [
      "Generations: 100%|██████████| 10000/10000 [00:13<00:00, 739.06it/s]\n",
      "Generations:   1%|          | 62/10000 [00:00<00:16, 611.57it/s]"
     ]
    },
    {
     "name": "stdout",
     "output_type": "stream",
     "text": [
      "4.285365380844155\n"
     ]
    },
    {
     "name": "stderr",
     "output_type": "stream",
     "text": [
      "Generations: 100%|██████████| 10000/10000 [00:14<00:00, 688.91it/s]\n",
      "Generations:   1%|          | 52/10000 [00:00<00:19, 507.72it/s]"
     ]
    },
    {
     "name": "stdout",
     "output_type": "stream",
     "text": [
      "8.541169858052257\n"
     ]
    },
    {
     "name": "stderr",
     "output_type": "stream",
     "text": [
      "Generations: 100%|██████████| 10000/10000 [00:14<00:00, 684.11it/s]\n",
      "Generations:   1%|          | 88/10000 [00:00<00:11, 875.55it/s]"
     ]
    },
    {
     "name": "stdout",
     "output_type": "stream",
     "text": [
      "3.5022572116568824\n"
     ]
    },
    {
     "name": "stderr",
     "output_type": "stream",
     "text": [
      "Generations: 100%|██████████| 10000/10000 [00:11<00:00, 858.06it/s]\n",
      "Generations:   1%|          | 82/10000 [00:00<00:12, 815.36it/s]"
     ]
    },
    {
     "name": "stdout",
     "output_type": "stream",
     "text": [
      "6.927352928105478\n"
     ]
    },
    {
     "name": "stderr",
     "output_type": "stream",
     "text": [
      "Generations: 100%|██████████| 10000/10000 [00:11<00:00, 865.51it/s]\n",
      "Generations:   1%|          | 84/10000 [00:00<00:11, 837.87it/s]"
     ]
    },
    {
     "name": "stdout",
     "output_type": "stream",
     "text": [
      "9.767886336279545\n"
     ]
    },
    {
     "name": "stderr",
     "output_type": "stream",
     "text": [
      "Generations: 100%|██████████| 10000/10000 [00:11<00:00, 841.69it/s]\n",
      "Generations:   1%|          | 90/10000 [00:00<00:11, 887.07it/s]"
     ]
    },
    {
     "name": "stdout",
     "output_type": "stream",
     "text": [
      "7.1197290680844105\n"
     ]
    },
    {
     "name": "stderr",
     "output_type": "stream",
     "text": [
      "Generations: 100%|██████████| 10000/10000 [00:12<00:00, 827.07it/s]\n",
      "Generations:   1%|          | 64/10000 [00:00<00:15, 632.92it/s]"
     ]
    },
    {
     "name": "stdout",
     "output_type": "stream",
     "text": [
      "4.339255025034575\n"
     ]
    },
    {
     "name": "stderr",
     "output_type": "stream",
     "text": [
      "Generations: 100%|██████████| 10000/10000 [00:11<00:00, 837.58it/s]\n",
      "Generations:   1%|          | 90/10000 [00:00<00:11, 884.17it/s]"
     ]
    },
    {
     "name": "stdout",
     "output_type": "stream",
     "text": [
      "9.842041302299066\n"
     ]
    },
    {
     "name": "stderr",
     "output_type": "stream",
     "text": [
      "Generations: 100%|██████████| 10000/10000 [00:11<00:00, 867.41it/s]\n",
      "Generations:   1%|          | 82/10000 [00:00<00:12, 814.23it/s]"
     ]
    },
    {
     "name": "stdout",
     "output_type": "stream",
     "text": [
      "8.686025260278655\n"
     ]
    },
    {
     "name": "stderr",
     "output_type": "stream",
     "text": [
      "Generations: 100%|██████████| 10000/10000 [00:11<00:00, 868.72it/s]\n",
      "Generations:   2%|▏         | 156/10000 [00:00<00:12, 807.43it/s]"
     ]
    },
    {
     "name": "stdout",
     "output_type": "stream",
     "text": [
      "7.98664628332601\n"
     ]
    },
    {
     "name": "stderr",
     "output_type": "stream",
     "text": [
      "Generations: 100%|██████████| 10000/10000 [00:12<00:00, 827.80it/s]\n",
      "Generations:   1%|          | 82/10000 [00:00<00:12, 815.66it/s]"
     ]
    },
    {
     "name": "stdout",
     "output_type": "stream",
     "text": [
      "5.519504305789027\n"
     ]
    },
    {
     "name": "stderr",
     "output_type": "stream",
     "text": [
      "Generations: 100%|██████████| 10000/10000 [00:11<00:00, 873.96it/s]\n",
      "Generations:   1%|          | 86/10000 [00:00<00:11, 843.07it/s]"
     ]
    },
    {
     "name": "stdout",
     "output_type": "stream",
     "text": [
      "4.949545087173931\n",
      "0.7500000000000001\n"
     ]
    },
    {
     "name": "stderr",
     "output_type": "stream",
     "text": [
      "Generations: 100%|██████████| 10000/10000 [00:12<00:00, 780.34it/s]\n",
      "Generations:   1%|          | 88/10000 [00:00<00:11, 878.29it/s]"
     ]
    },
    {
     "name": "stdout",
     "output_type": "stream",
     "text": [
      "10.417563843140698\n"
     ]
    },
    {
     "name": "stderr",
     "output_type": "stream",
     "text": [
      "Generations: 100%|██████████| 10000/10000 [00:13<00:00, 746.60it/s]\n",
      "Generations:   1%|          | 90/10000 [00:00<00:11, 885.30it/s]"
     ]
    },
    {
     "name": "stdout",
     "output_type": "stream",
     "text": [
      "17.015876534509346\n"
     ]
    },
    {
     "name": "stderr",
     "output_type": "stream",
     "text": [
      "Generations: 100%|██████████| 10000/10000 [00:11<00:00, 863.68it/s]\n",
      "Generations:   1%|          | 86/10000 [00:00<00:11, 852.25it/s]"
     ]
    },
    {
     "name": "stdout",
     "output_type": "stream",
     "text": [
      "10.50823585488483\n"
     ]
    },
    {
     "name": "stderr",
     "output_type": "stream",
     "text": [
      "Generations: 100%|██████████| 10000/10000 [00:12<00:00, 772.35it/s]\n",
      "Generations:   1%|          | 68/10000 [00:00<00:14, 679.75it/s]"
     ]
    },
    {
     "name": "stdout",
     "output_type": "stream",
     "text": [
      "7.0441960870435025\n"
     ]
    },
    {
     "name": "stderr",
     "output_type": "stream",
     "text": [
      "Generations: 100%|██████████| 10000/10000 [00:13<00:00, 758.82it/s]\n",
      "Generations:   1%|          | 86/10000 [00:00<00:11, 850.52it/s]"
     ]
    },
    {
     "name": "stdout",
     "output_type": "stream",
     "text": [
      "19.499437668705966\n"
     ]
    },
    {
     "name": "stderr",
     "output_type": "stream",
     "text": [
      "Generations: 100%|██████████| 10000/10000 [00:11<00:00, 852.47it/s]\n",
      "Generations:   0%|          | 46/10000 [00:00<00:22, 443.63it/s]"
     ]
    },
    {
     "name": "stdout",
     "output_type": "stream",
     "text": [
      "5.9555869678381725\n"
     ]
    },
    {
     "name": "stderr",
     "output_type": "stream",
     "text": [
      "Generations: 100%|██████████| 10000/10000 [00:13<00:00, 717.42it/s]\n",
      "Generations:   1%|          | 88/10000 [00:00<00:11, 875.54it/s]"
     ]
    },
    {
     "name": "stdout",
     "output_type": "stream",
     "text": [
      "7.966137165028016\n"
     ]
    },
    {
     "name": "stderr",
     "output_type": "stream",
     "text": [
      "Generations: 100%|██████████| 10000/10000 [00:12<00:00, 811.11it/s]\n",
      "Generations:   1%|          | 86/10000 [00:00<00:11, 841.22it/s]"
     ]
    },
    {
     "name": "stdout",
     "output_type": "stream",
     "text": [
      "10.408000690643533\n"
     ]
    },
    {
     "name": "stderr",
     "output_type": "stream",
     "text": [
      "Generations: 100%|██████████| 10000/10000 [00:11<00:00, 873.01it/s]\n",
      "Generations:   1%|          | 90/10000 [00:00<00:11, 895.97it/s]"
     ]
    },
    {
     "name": "stdout",
     "output_type": "stream",
     "text": [
      "8.227009585532983\n"
     ]
    },
    {
     "name": "stderr",
     "output_type": "stream",
     "text": [
      "Generations: 100%|██████████| 10000/10000 [00:11<00:00, 882.47it/s]\n",
      "Generations:   1%|          | 90/10000 [00:00<00:11, 883.83it/s]"
     ]
    },
    {
     "name": "stdout",
     "output_type": "stream",
     "text": [
      "11.232850020418738\n"
     ]
    },
    {
     "name": "stderr",
     "output_type": "stream",
     "text": [
      "Generations: 100%|██████████| 10000/10000 [00:12<00:00, 789.64it/s]\n",
      "Generations:   1%|          | 90/10000 [00:00<00:11, 897.57it/s]"
     ]
    },
    {
     "name": "stdout",
     "output_type": "stream",
     "text": [
      "4.538304795019201\n"
     ]
    },
    {
     "name": "stderr",
     "output_type": "stream",
     "text": [
      "Generations: 100%|██████████| 10000/10000 [00:12<00:00, 786.81it/s]\n",
      "Generations:   1%|          | 88/10000 [00:00<00:11, 877.08it/s]"
     ]
    },
    {
     "name": "stdout",
     "output_type": "stream",
     "text": [
      "11.088096828718662\n"
     ]
    },
    {
     "name": "stderr",
     "output_type": "stream",
     "text": [
      "Generations: 100%|██████████| 10000/10000 [00:11<00:00, 838.93it/s]\n",
      "Generations:   1%|          | 90/10000 [00:00<00:11, 881.71it/s]"
     ]
    },
    {
     "name": "stdout",
     "output_type": "stream",
     "text": [
      "7.368997998667737\n"
     ]
    },
    {
     "name": "stderr",
     "output_type": "stream",
     "text": [
      "Generations: 100%|██████████| 10000/10000 [00:14<00:00, 691.29it/s]\n",
      "Generations:   1%|          | 90/10000 [00:00<00:11, 885.04it/s]"
     ]
    },
    {
     "name": "stdout",
     "output_type": "stream",
     "text": [
      "5.765731557778409\n"
     ]
    },
    {
     "name": "stderr",
     "output_type": "stream",
     "text": [
      "Generations: 100%|██████████| 10000/10000 [00:12<00:00, 815.81it/s]\n",
      "Generations:   1%|          | 82/10000 [00:00<00:12, 808.85it/s]"
     ]
    },
    {
     "name": "stdout",
     "output_type": "stream",
     "text": [
      "2.262729792640343\n"
     ]
    },
    {
     "name": "stderr",
     "output_type": "stream",
     "text": [
      "Generations: 100%|██████████| 10000/10000 [00:11<00:00, 864.30it/s]\n",
      "Generations:   1%|          | 82/10000 [00:00<00:12, 815.84it/s]"
     ]
    },
    {
     "name": "stdout",
     "output_type": "stream",
     "text": [
      "9.292646966125602\n"
     ]
    },
    {
     "name": "stderr",
     "output_type": "stream",
     "text": [
      "Generations: 100%|██████████| 10000/10000 [00:11<00:00, 869.35it/s]\n",
      "Generations:   1%|          | 90/10000 [00:00<00:11, 891.71it/s]"
     ]
    },
    {
     "name": "stdout",
     "output_type": "stream",
     "text": [
      "7.487172526505702\n"
     ]
    },
    {
     "name": "stderr",
     "output_type": "stream",
     "text": [
      "Generations: 100%|██████████| 10000/10000 [00:11<00:00, 873.50it/s]\n",
      "Generations:   1%|          | 86/10000 [00:00<00:11, 851.75it/s]"
     ]
    },
    {
     "name": "stdout",
     "output_type": "stream",
     "text": [
      "6.1901992776972605\n"
     ]
    },
    {
     "name": "stderr",
     "output_type": "stream",
     "text": [
      "Generations: 100%|██████████| 10000/10000 [00:11<00:00, 872.49it/s]\n",
      "Generations:   1%|          | 82/10000 [00:00<00:12, 805.03it/s]"
     ]
    },
    {
     "name": "stdout",
     "output_type": "stream",
     "text": [
      "6.38491033357802\n"
     ]
    },
    {
     "name": "stderr",
     "output_type": "stream",
     "text": [
      "Generations: 100%|██████████| 10000/10000 [00:11<00:00, 866.46it/s]\n",
      "Generations:   1%|          | 82/10000 [00:00<00:12, 816.31it/s]"
     ]
    },
    {
     "name": "stdout",
     "output_type": "stream",
     "text": [
      "4.497443340764107\n"
     ]
    },
    {
     "name": "stderr",
     "output_type": "stream",
     "text": [
      "Generations: 100%|██████████| 10000/10000 [00:11<00:00, 867.99it/s]\n",
      "Generations:   1%|          | 88/10000 [00:00<00:11, 875.51it/s]"
     ]
    },
    {
     "name": "stdout",
     "output_type": "stream",
     "text": [
      "15.273797650022232\n"
     ]
    },
    {
     "name": "stderr",
     "output_type": "stream",
     "text": [
      "Generations: 100%|██████████| 10000/10000 [00:12<00:00, 808.29it/s]\n",
      "Generations:   1%|          | 86/10000 [00:00<00:11, 850.38it/s]"
     ]
    },
    {
     "name": "stdout",
     "output_type": "stream",
     "text": [
      "4.569078548390621\n"
     ]
    },
    {
     "name": "stderr",
     "output_type": "stream",
     "text": [
      "Generations: 100%|██████████| 10000/10000 [00:11<00:00, 870.27it/s]\n",
      "Generations:   1%|          | 88/10000 [00:00<00:11, 871.81it/s]"
     ]
    },
    {
     "name": "stdout",
     "output_type": "stream",
     "text": [
      "3.6358719450063575\n"
     ]
    },
    {
     "name": "stderr",
     "output_type": "stream",
     "text": [
      "Generations: 100%|██████████| 10000/10000 [00:11<00:00, 885.62it/s]\n",
      "Generations:   1%|          | 90/10000 [00:00<00:11, 889.25it/s]"
     ]
    },
    {
     "name": "stdout",
     "output_type": "stream",
     "text": [
      "8.04003118270721\n"
     ]
    },
    {
     "name": "stderr",
     "output_type": "stream",
     "text": [
      "Generations: 100%|██████████| 10000/10000 [00:13<00:00, 714.67it/s]\n",
      "Generations:   1%|          | 90/10000 [00:00<00:11, 883.06it/s]"
     ]
    },
    {
     "name": "stdout",
     "output_type": "stream",
     "text": [
      "5.226984496011923\n"
     ]
    },
    {
     "name": "stderr",
     "output_type": "stream",
     "text": [
      "Generations: 100%|██████████| 10000/10000 [00:11<00:00, 871.81it/s]\n",
      "Generations:   1%|          | 84/10000 [00:00<00:11, 831.00it/s]"
     ]
    },
    {
     "name": "stdout",
     "output_type": "stream",
     "text": [
      "5.877694588609103\n"
     ]
    },
    {
     "name": "stderr",
     "output_type": "stream",
     "text": [
      "Generations: 100%|██████████| 10000/10000 [00:11<00:00, 862.28it/s]\n",
      "Generations:   1%|          | 90/10000 [00:00<00:11, 892.64it/s]"
     ]
    },
    {
     "name": "stdout",
     "output_type": "stream",
     "text": [
      "10.44793596028309\n"
     ]
    },
    {
     "name": "stderr",
     "output_type": "stream",
     "text": [
      "Generations: 100%|██████████| 10000/10000 [00:11<00:00, 833.67it/s]\n",
      "Generations:   1%|          | 74/10000 [00:00<00:13, 737.05it/s]"
     ]
    },
    {
     "name": "stdout",
     "output_type": "stream",
     "text": [
      "4.0192847683346145\n"
     ]
    },
    {
     "name": "stderr",
     "output_type": "stream",
     "text": [
      "Generations: 100%|██████████| 10000/10000 [00:13<00:00, 724.09it/s]\n",
      "Generations:   1%|          | 90/10000 [00:00<00:11, 888.26it/s]"
     ]
    },
    {
     "name": "stdout",
     "output_type": "stream",
     "text": [
      "7.957476126960771\n"
     ]
    },
    {
     "name": "stderr",
     "output_type": "stream",
     "text": [
      "Generations: 100%|██████████| 10000/10000 [00:11<00:00, 872.49it/s]\n",
      "Generations:   1%|          | 84/10000 [00:00<00:11, 834.59it/s]"
     ]
    },
    {
     "name": "stdout",
     "output_type": "stream",
     "text": [
      "10.162485813945011\n"
     ]
    },
    {
     "name": "stderr",
     "output_type": "stream",
     "text": [
      "Generations: 100%|██████████| 10000/10000 [00:11<00:00, 869.12it/s]\n",
      "Generations:   1%|          | 90/10000 [00:00<00:11, 885.95it/s]"
     ]
    },
    {
     "name": "stdout",
     "output_type": "stream",
     "text": [
      "5.604776831636144\n"
     ]
    },
    {
     "name": "stderr",
     "output_type": "stream",
     "text": [
      "Generations: 100%|██████████| 10000/10000 [00:11<00:00, 869.40it/s]\n",
      "Generations:   1%|          | 80/10000 [00:00<00:12, 783.68it/s]"
     ]
    },
    {
     "name": "stdout",
     "output_type": "stream",
     "text": [
      "9.214329282878708\n"
     ]
    },
    {
     "name": "stderr",
     "output_type": "stream",
     "text": [
      "Generations: 100%|██████████| 10000/10000 [00:11<00:00, 861.81it/s]\n",
      "Generations:   1%|          | 86/10000 [00:00<00:11, 853.37it/s]"
     ]
    },
    {
     "name": "stdout",
     "output_type": "stream",
     "text": [
      "11.047280520251675\n",
      "0.8000000000000002\n"
     ]
    },
    {
     "name": "stderr",
     "output_type": "stream",
     "text": [
      "Generations: 100%|██████████| 10000/10000 [00:11<00:00, 867.63it/s]\n",
      "Generations:   1%|          | 90/10000 [00:00<00:11, 879.62it/s]"
     ]
    },
    {
     "name": "stdout",
     "output_type": "stream",
     "text": [
      "6.26942952994564\n"
     ]
    },
    {
     "name": "stderr",
     "output_type": "stream",
     "text": [
      "Generations: 100%|██████████| 10000/10000 [00:11<00:00, 866.61it/s]\n",
      "Generations:   1%|          | 88/10000 [00:00<00:11, 876.79it/s]"
     ]
    },
    {
     "name": "stdout",
     "output_type": "stream",
     "text": [
      "8.631267603775996\n"
     ]
    },
    {
     "name": "stderr",
     "output_type": "stream",
     "text": [
      "Generations: 100%|██████████| 10000/10000 [00:11<00:00, 867.47it/s]\n",
      "Generations:   1%|          | 90/10000 [00:00<00:11, 890.36it/s]"
     ]
    },
    {
     "name": "stdout",
     "output_type": "stream",
     "text": [
      "5.869970159290503\n"
     ]
    },
    {
     "name": "stderr",
     "output_type": "stream",
     "text": [
      "Generations: 100%|██████████| 10000/10000 [00:11<00:00, 866.34it/s]\n",
      "Generations:   1%|          | 88/10000 [00:00<00:11, 877.99it/s]"
     ]
    },
    {
     "name": "stdout",
     "output_type": "stream",
     "text": [
      "5.793870009230602\n"
     ]
    },
    {
     "name": "stderr",
     "output_type": "stream",
     "text": [
      "Generations: 100%|██████████| 10000/10000 [00:11<00:00, 865.07it/s]\n",
      "Generations:   1%|          | 86/10000 [00:00<00:12, 825.11it/s]"
     ]
    },
    {
     "name": "stdout",
     "output_type": "stream",
     "text": [
      "8.958530701758903\n"
     ]
    },
    {
     "name": "stderr",
     "output_type": "stream",
     "text": [
      "Generations: 100%|██████████| 10000/10000 [00:11<00:00, 863.69it/s]\n",
      "Generations:   1%|          | 90/10000 [00:00<00:11, 880.30it/s]"
     ]
    },
    {
     "name": "stdout",
     "output_type": "stream",
     "text": [
      "6.224861119024041\n"
     ]
    },
    {
     "name": "stderr",
     "output_type": "stream",
     "text": [
      "Generations: 100%|██████████| 10000/10000 [00:11<00:00, 858.29it/s]\n",
      "Generations:   1%|          | 88/10000 [00:00<00:11, 874.24it/s]"
     ]
    },
    {
     "name": "stdout",
     "output_type": "stream",
     "text": [
      "11.149553287958469\n"
     ]
    },
    {
     "name": "stderr",
     "output_type": "stream",
     "text": [
      "Generations: 100%|██████████| 10000/10000 [00:11<00:00, 853.68it/s]\n",
      "Generations:   1%|          | 80/10000 [00:00<00:12, 798.77it/s]"
     ]
    },
    {
     "name": "stdout",
     "output_type": "stream",
     "text": [
      "5.749956343282861\n"
     ]
    },
    {
     "name": "stderr",
     "output_type": "stream",
     "text": [
      "Generations: 100%|██████████| 10000/10000 [00:12<00:00, 821.94it/s]\n",
      "Generations:   1%|          | 88/10000 [00:00<00:11, 874.68it/s]"
     ]
    },
    {
     "name": "stdout",
     "output_type": "stream",
     "text": [
      "2.0306912206287393\n"
     ]
    },
    {
     "name": "stderr",
     "output_type": "stream",
     "text": [
      "Generations: 100%|██████████| 10000/10000 [00:12<00:00, 808.48it/s]\n",
      "Generations:   1%|          | 88/10000 [00:00<00:11, 872.48it/s]"
     ]
    },
    {
     "name": "stdout",
     "output_type": "stream",
     "text": [
      "11.544204419213315\n"
     ]
    },
    {
     "name": "stderr",
     "output_type": "stream",
     "text": [
      "Generations: 100%|██████████| 10000/10000 [00:11<00:00, 836.38it/s]\n",
      "Generations:   1%|          | 90/10000 [00:00<00:11, 895.59it/s]"
     ]
    },
    {
     "name": "stdout",
     "output_type": "stream",
     "text": [
      "7.178928126352403\n"
     ]
    },
    {
     "name": "stderr",
     "output_type": "stream",
     "text": [
      "Generations: 100%|██████████| 10000/10000 [00:11<00:00, 854.53it/s]\n",
      "Generations:   1%|          | 90/10000 [00:00<00:11, 887.99it/s]"
     ]
    },
    {
     "name": "stdout",
     "output_type": "stream",
     "text": [
      "11.036911935411908\n"
     ]
    },
    {
     "name": "stderr",
     "output_type": "stream",
     "text": [
      "Generations: 100%|██████████| 10000/10000 [00:11<00:00, 863.33it/s]\n",
      "Generations:   1%|          | 88/10000 [00:00<00:11, 872.59it/s]"
     ]
    },
    {
     "name": "stdout",
     "output_type": "stream",
     "text": [
      "5.809297863066661\n"
     ]
    },
    {
     "name": "stderr",
     "output_type": "stream",
     "text": [
      "Generations: 100%|██████████| 10000/10000 [00:11<00:00, 860.24it/s]\n",
      "Generations:   1%|          | 86/10000 [00:00<00:11, 832.42it/s]"
     ]
    },
    {
     "name": "stdout",
     "output_type": "stream",
     "text": [
      "2.742029382198524\n"
     ]
    },
    {
     "name": "stderr",
     "output_type": "stream",
     "text": [
      "Generations: 100%|██████████| 10000/10000 [00:11<00:00, 835.00it/s]\n",
      "Generations:   1%|          | 88/10000 [00:00<00:11, 875.04it/s]"
     ]
    },
    {
     "name": "stdout",
     "output_type": "stream",
     "text": [
      "2.3576822258985572\n"
     ]
    },
    {
     "name": "stderr",
     "output_type": "stream",
     "text": [
      "Generations: 100%|██████████| 10000/10000 [00:13<00:00, 724.60it/s]\n",
      "Generations:   1%|          | 80/10000 [00:00<00:12, 792.33it/s]"
     ]
    },
    {
     "name": "stdout",
     "output_type": "stream",
     "text": [
      "5.520671993815853\n"
     ]
    },
    {
     "name": "stderr",
     "output_type": "stream",
     "text": [
      "Generations: 100%|██████████| 10000/10000 [00:13<00:00, 749.02it/s]\n",
      "Generations:   1%|          | 88/10000 [00:00<00:11, 865.62it/s]"
     ]
    },
    {
     "name": "stdout",
     "output_type": "stream",
     "text": [
      "7.170505144148052\n"
     ]
    },
    {
     "name": "stderr",
     "output_type": "stream",
     "text": [
      "Generations: 100%|██████████| 10000/10000 [00:16<00:00, 618.08it/s]\n",
      "Generations:   1%|          | 80/10000 [00:00<00:12, 794.02it/s]"
     ]
    },
    {
     "name": "stdout",
     "output_type": "stream",
     "text": [
      "11.169076961027827\n"
     ]
    },
    {
     "name": "stderr",
     "output_type": "stream",
     "text": [
      "Generations: 100%|██████████| 10000/10000 [00:11<00:00, 843.17it/s]\n",
      "Generations:   1%|          | 80/10000 [00:00<00:12, 784.16it/s]"
     ]
    },
    {
     "name": "stdout",
     "output_type": "stream",
     "text": [
      "5.079460847145498\n"
     ]
    },
    {
     "name": "stderr",
     "output_type": "stream",
     "text": [
      "Generations: 100%|██████████| 10000/10000 [00:12<00:00, 832.57it/s]\n",
      "Generations:   1%|          | 82/10000 [00:00<00:12, 802.99it/s]"
     ]
    },
    {
     "name": "stdout",
     "output_type": "stream",
     "text": [
      "6.527601416226403\n"
     ]
    },
    {
     "name": "stderr",
     "output_type": "stream",
     "text": [
      "Generations: 100%|██████████| 10000/10000 [00:11<00:00, 836.79it/s]\n",
      "Generations:   1%|          | 80/10000 [00:00<00:12, 783.70it/s]"
     ]
    },
    {
     "name": "stdout",
     "output_type": "stream",
     "text": [
      "5.478805822869916\n"
     ]
    },
    {
     "name": "stderr",
     "output_type": "stream",
     "text": [
      "Generations: 100%|██████████| 10000/10000 [00:11<00:00, 842.23it/s]\n",
      "Generations:   1%|          | 80/10000 [00:00<00:12, 783.65it/s]"
     ]
    },
    {
     "name": "stdout",
     "output_type": "stream",
     "text": [
      "5.93648719452537\n"
     ]
    },
    {
     "name": "stderr",
     "output_type": "stream",
     "text": [
      "Generations: 100%|██████████| 10000/10000 [00:11<00:00, 843.11it/s]\n",
      "Generations:   1%|          | 80/10000 [00:00<00:12, 785.94it/s]"
     ]
    },
    {
     "name": "stdout",
     "output_type": "stream",
     "text": [
      "4.344360701118546\n"
     ]
    },
    {
     "name": "stderr",
     "output_type": "stream",
     "text": [
      "Generations: 100%|██████████| 10000/10000 [00:11<00:00, 841.83it/s]\n",
      "Generations:   1%|          | 84/10000 [00:00<00:11, 833.15it/s]"
     ]
    },
    {
     "name": "stdout",
     "output_type": "stream",
     "text": [
      "3.310199880215677\n"
     ]
    },
    {
     "name": "stderr",
     "output_type": "stream",
     "text": [
      "Generations: 100%|██████████| 10000/10000 [00:11<00:00, 844.43it/s]\n",
      "Generations:   1%|          | 80/10000 [00:00<00:12, 786.55it/s]"
     ]
    },
    {
     "name": "stdout",
     "output_type": "stream",
     "text": [
      "5.987724114548627\n"
     ]
    },
    {
     "name": "stderr",
     "output_type": "stream",
     "text": [
      "Generations: 100%|██████████| 10000/10000 [00:11<00:00, 839.07it/s]\n",
      "Generations:   1%|          | 82/10000 [00:00<00:12, 810.37it/s]"
     ]
    },
    {
     "name": "stdout",
     "output_type": "stream",
     "text": [
      "10.477940089889927\n"
     ]
    },
    {
     "name": "stderr",
     "output_type": "stream",
     "text": [
      "Generations: 100%|██████████| 10000/10000 [00:11<00:00, 842.90it/s]\n",
      "Generations:   1%|          | 78/10000 [00:00<00:12, 776.46it/s]"
     ]
    },
    {
     "name": "stdout",
     "output_type": "stream",
     "text": [
      "2.0289050767326557\n"
     ]
    },
    {
     "name": "stderr",
     "output_type": "stream",
     "text": [
      "Generations: 100%|██████████| 10000/10000 [00:11<00:00, 835.74it/s]\n",
      "Generations:   1%|          | 78/10000 [00:00<00:12, 778.68it/s]"
     ]
    },
    {
     "name": "stdout",
     "output_type": "stream",
     "text": [
      "3.5654791145606453\n"
     ]
    },
    {
     "name": "stderr",
     "output_type": "stream",
     "text": [
      "Generations: 100%|██████████| 10000/10000 [00:14<00:00, 683.11it/s]\n",
      "Generations:   1%|          | 72/10000 [00:00<00:14, 683.91it/s]"
     ]
    },
    {
     "name": "stdout",
     "output_type": "stream",
     "text": [
      "4.249445007537744\n"
     ]
    },
    {
     "name": "stderr",
     "output_type": "stream",
     "text": [
      "Generations: 100%|██████████| 10000/10000 [00:12<00:00, 774.95it/s]\n",
      "Generations:   1%|          | 84/10000 [00:00<00:11, 829.04it/s]"
     ]
    },
    {
     "name": "stdout",
     "output_type": "stream",
     "text": [
      "6.655290297466436\n"
     ]
    },
    {
     "name": "stderr",
     "output_type": "stream",
     "text": [
      "Generations: 100%|██████████| 10000/10000 [00:12<00:00, 828.10it/s]\n",
      "Generations:   1%|          | 76/10000 [00:00<00:13, 759.20it/s]"
     ]
    },
    {
     "name": "stdout",
     "output_type": "stream",
     "text": [
      "4.458013754124494\n"
     ]
    },
    {
     "name": "stderr",
     "output_type": "stream",
     "text": [
      "Generations: 100%|██████████| 10000/10000 [00:13<00:00, 756.04it/s]\n",
      "Generations:   1%|          | 70/10000 [00:00<00:14, 694.79it/s]"
     ]
    },
    {
     "name": "stdout",
     "output_type": "stream",
     "text": [
      "7.7727471898366645\n"
     ]
    },
    {
     "name": "stderr",
     "output_type": "stream",
     "text": [
      "Generations: 100%|██████████| 10000/10000 [00:13<00:00, 721.02it/s]\n",
      "Generations:   1%|          | 90/10000 [00:00<00:11, 884.68it/s]"
     ]
    },
    {
     "name": "stdout",
     "output_type": "stream",
     "text": [
      "9.374773524261997\n",
      "0.8500000000000002\n"
     ]
    },
    {
     "name": "stderr",
     "output_type": "stream",
     "text": [
      "Generations: 100%|██████████| 10000/10000 [00:14<00:00, 703.45it/s]\n",
      "Generations:   1%|          | 84/10000 [00:00<00:12, 817.64it/s]"
     ]
    },
    {
     "name": "stdout",
     "output_type": "stream",
     "text": [
      "10.228777623298342\n"
     ]
    },
    {
     "name": "stderr",
     "output_type": "stream",
     "text": [
      "Generations: 100%|██████████| 10000/10000 [00:12<00:00, 816.65it/s]\n",
      "Generations:   1%|          | 88/10000 [00:00<00:11, 873.26it/s]"
     ]
    },
    {
     "name": "stdout",
     "output_type": "stream",
     "text": [
      "6.018662818449613\n"
     ]
    },
    {
     "name": "stderr",
     "output_type": "stream",
     "text": [
      "Generations: 100%|██████████| 10000/10000 [00:12<00:00, 815.40it/s]\n",
      "Generations:   1%|          | 90/10000 [00:00<00:11, 881.74it/s]"
     ]
    },
    {
     "name": "stdout",
     "output_type": "stream",
     "text": [
      "2.5410087844962703\n"
     ]
    },
    {
     "name": "stderr",
     "output_type": "stream",
     "text": [
      "Generations: 100%|██████████| 10000/10000 [00:12<00:00, 781.76it/s]\n",
      "Generations:   0%|          | 46/10000 [00:00<00:22, 450.32it/s]"
     ]
    },
    {
     "name": "stdout",
     "output_type": "stream",
     "text": [
      "11.546223479228615\n"
     ]
    },
    {
     "name": "stderr",
     "output_type": "stream",
     "text": [
      "Generations: 100%|██████████| 10000/10000 [00:14<00:00, 700.38it/s]\n",
      "Generations:   1%|          | 88/10000 [00:00<00:11, 865.28it/s]"
     ]
    },
    {
     "name": "stdout",
     "output_type": "stream",
     "text": [
      "15.588012673161685\n"
     ]
    },
    {
     "name": "stderr",
     "output_type": "stream",
     "text": [
      "Generations: 100%|██████████| 10000/10000 [00:12<00:00, 814.00it/s]\n",
      "Generations:   1%|          | 90/10000 [00:00<00:11, 884.03it/s]"
     ]
    },
    {
     "name": "stdout",
     "output_type": "stream",
     "text": [
      "4.512927537520511\n"
     ]
    },
    {
     "name": "stderr",
     "output_type": "stream",
     "text": [
      "Generations: 100%|██████████| 10000/10000 [00:14<00:00, 687.84it/s]\n",
      "Generations:   1%|          | 88/10000 [00:00<00:11, 876.68it/s]"
     ]
    },
    {
     "name": "stdout",
     "output_type": "stream",
     "text": [
      "4.242419017479278\n"
     ]
    },
    {
     "name": "stderr",
     "output_type": "stream",
     "text": [
      "Generations: 100%|██████████| 10000/10000 [00:11<00:00, 856.85it/s]\n",
      "Generations:   1%|          | 82/10000 [00:00<00:12, 811.61it/s]"
     ]
    },
    {
     "name": "stdout",
     "output_type": "stream",
     "text": [
      "2.6148074217256863\n"
     ]
    },
    {
     "name": "stderr",
     "output_type": "stream",
     "text": [
      "Generations: 100%|██████████| 10000/10000 [00:11<00:00, 848.30it/s]\n",
      "Generations:   1%|          | 84/10000 [00:00<00:11, 830.50it/s]"
     ]
    },
    {
     "name": "stdout",
     "output_type": "stream",
     "text": [
      "4.498909484929641\n"
     ]
    },
    {
     "name": "stderr",
     "output_type": "stream",
     "text": [
      "Generations: 100%|██████████| 10000/10000 [00:14<00:00, 705.73it/s]\n",
      "Generations:   1%|          | 88/10000 [00:00<00:11, 872.22it/s]"
     ]
    },
    {
     "name": "stdout",
     "output_type": "stream",
     "text": [
      "4.350427556532324\n"
     ]
    },
    {
     "name": "stderr",
     "output_type": "stream",
     "text": [
      "Generations: 100%|██████████| 10000/10000 [00:11<00:00, 837.06it/s]\n",
      "Generations:   1%|          | 82/10000 [00:00<00:12, 816.67it/s]"
     ]
    },
    {
     "name": "stdout",
     "output_type": "stream",
     "text": [
      "9.778765101097036\n"
     ]
    },
    {
     "name": "stderr",
     "output_type": "stream",
     "text": [
      "Generations: 100%|██████████| 10000/10000 [00:12<00:00, 812.07it/s]\n",
      "Generations:   1%|          | 82/10000 [00:00<00:12, 817.48it/s]"
     ]
    },
    {
     "name": "stdout",
     "output_type": "stream",
     "text": [
      "6.737123385267026\n"
     ]
    },
    {
     "name": "stderr",
     "output_type": "stream",
     "text": [
      "Generations: 100%|██████████| 10000/10000 [00:11<00:00, 851.49it/s]\n",
      "Generations:   1%|          | 80/10000 [00:00<00:12, 795.43it/s]"
     ]
    },
    {
     "name": "stdout",
     "output_type": "stream",
     "text": [
      "6.711296353413644\n"
     ]
    },
    {
     "name": "stderr",
     "output_type": "stream",
     "text": [
      "Generations: 100%|██████████| 10000/10000 [00:11<00:00, 860.58it/s]\n",
      "Generations:   1%|          | 82/10000 [00:00<00:12, 814.64it/s]"
     ]
    },
    {
     "name": "stdout",
     "output_type": "stream",
     "text": [
      "8.494624135260551\n"
     ]
    },
    {
     "name": "stderr",
     "output_type": "stream",
     "text": [
      "Generations: 100%|██████████| 10000/10000 [00:13<00:00, 735.19it/s]\n",
      "Generations:   1%|          | 88/10000 [00:00<00:11, 865.00it/s]"
     ]
    },
    {
     "name": "stdout",
     "output_type": "stream",
     "text": [
      "4.3810653697813535\n"
     ]
    },
    {
     "name": "stderr",
     "output_type": "stream",
     "text": [
      "Generations: 100%|██████████| 10000/10000 [00:12<00:00, 794.22it/s]\n",
      "Generations:   1%|          | 84/10000 [00:00<00:12, 823.64it/s]"
     ]
    },
    {
     "name": "stdout",
     "output_type": "stream",
     "text": [
      "6.165500615553739\n"
     ]
    },
    {
     "name": "stderr",
     "output_type": "stream",
     "text": [
      "Generations: 100%|██████████| 10000/10000 [00:15<00:00, 650.71it/s]\n",
      "Generations:   1%|          | 52/10000 [00:00<00:19, 517.11it/s]"
     ]
    },
    {
     "name": "stdout",
     "output_type": "stream",
     "text": [
      "2.1826085738555605\n"
     ]
    },
    {
     "name": "stderr",
     "output_type": "stream",
     "text": [
      "Generations: 100%|██████████| 10000/10000 [00:15<00:00, 641.57it/s]\n",
      "Generations:   1%|          | 88/10000 [00:00<00:11, 878.30it/s]"
     ]
    },
    {
     "name": "stdout",
     "output_type": "stream",
     "text": [
      "2.556812254555581\n"
     ]
    },
    {
     "name": "stderr",
     "output_type": "stream",
     "text": [
      "Generations: 100%|██████████| 10000/10000 [00:11<00:00, 862.02it/s]\n",
      "Generations:   1%|          | 88/10000 [00:00<00:11, 874.48it/s]"
     ]
    },
    {
     "name": "stdout",
     "output_type": "stream",
     "text": [
      "12.378348155869077\n"
     ]
    },
    {
     "name": "stderr",
     "output_type": "stream",
     "text": [
      "Generations: 100%|██████████| 10000/10000 [00:11<00:00, 852.91it/s]\n",
      "Generations:   1%|          | 84/10000 [00:00<00:12, 822.81it/s]"
     ]
    },
    {
     "name": "stdout",
     "output_type": "stream",
     "text": [
      "4.803272636851773\n"
     ]
    },
    {
     "name": "stderr",
     "output_type": "stream",
     "text": [
      "Generations: 100%|██████████| 10000/10000 [00:11<00:00, 859.69it/s]\n",
      "Generations:   1%|          | 88/10000 [00:00<00:11, 873.07it/s]"
     ]
    },
    {
     "name": "stdout",
     "output_type": "stream",
     "text": [
      "7.2462599666049385\n"
     ]
    },
    {
     "name": "stderr",
     "output_type": "stream",
     "text": [
      "Generations: 100%|██████████| 10000/10000 [00:15<00:00, 651.49it/s]\n",
      "Generations:   1%|          | 72/10000 [00:00<00:13, 710.07it/s]"
     ]
    },
    {
     "name": "stdout",
     "output_type": "stream",
     "text": [
      "4.098909771434933\n"
     ]
    },
    {
     "name": "stderr",
     "output_type": "stream",
     "text": [
      "Generations: 100%|██████████| 10000/10000 [00:14<00:00, 673.27it/s]\n",
      "Generations:   1%|          | 84/10000 [00:00<00:11, 832.05it/s]"
     ]
    },
    {
     "name": "stdout",
     "output_type": "stream",
     "text": [
      "5.831206744664399\n"
     ]
    },
    {
     "name": "stderr",
     "output_type": "stream",
     "text": [
      "Generations: 100%|██████████| 10000/10000 [00:18<00:00, 526.44it/s]\n",
      "Generations:   1%|          | 78/10000 [00:00<00:12, 772.87it/s]"
     ]
    },
    {
     "name": "stdout",
     "output_type": "stream",
     "text": [
      "11.423978523160912\n"
     ]
    },
    {
     "name": "stderr",
     "output_type": "stream",
     "text": [
      "Generations: 100%|██████████| 10000/10000 [00:12<00:00, 812.12it/s]\n",
      "Generations:   1%|          | 78/10000 [00:00<00:12, 778.00it/s]"
     ]
    },
    {
     "name": "stdout",
     "output_type": "stream",
     "text": [
      "8.461956267690084\n"
     ]
    },
    {
     "name": "stderr",
     "output_type": "stream",
     "text": [
      "Generations: 100%|██████████| 10000/10000 [00:12<00:00, 817.27it/s]\n",
      "Generations:   1%|          | 78/10000 [00:00<00:12, 774.43it/s]"
     ]
    },
    {
     "name": "stdout",
     "output_type": "stream",
     "text": [
      "2.292743345748889\n"
     ]
    },
    {
     "name": "stderr",
     "output_type": "stream",
     "text": [
      "Generations: 100%|██████████| 10000/10000 [00:13<00:00, 756.48it/s]\n",
      "Generations:   1%|          | 72/10000 [00:00<00:13, 719.10it/s]"
     ]
    },
    {
     "name": "stdout",
     "output_type": "stream",
     "text": [
      "4.280988475646581\n"
     ]
    },
    {
     "name": "stderr",
     "output_type": "stream",
     "text": [
      "Generations: 100%|██████████| 10000/10000 [00:12<00:00, 769.63it/s]\n",
      "Generations:   1%|          | 82/10000 [00:00<00:12, 807.16it/s]"
     ]
    },
    {
     "name": "stdout",
     "output_type": "stream",
     "text": [
      "12.364302787209596\n"
     ]
    },
    {
     "name": "stderr",
     "output_type": "stream",
     "text": [
      "Generations: 100%|██████████| 10000/10000 [00:14<00:00, 674.63it/s]\n",
      "Generations:   1%|          | 76/10000 [00:00<00:13, 750.98it/s]"
     ]
    },
    {
     "name": "stdout",
     "output_type": "stream",
     "text": [
      "10.468730231471952\n"
     ]
    },
    {
     "name": "stderr",
     "output_type": "stream",
     "text": [
      "Generations: 100%|██████████| 10000/10000 [00:16<00:00, 607.86it/s]\n",
      "Generations:   1%|          | 78/10000 [00:00<00:12, 778.01it/s]"
     ]
    },
    {
     "name": "stdout",
     "output_type": "stream",
     "text": [
      "4.360453577473436\n"
     ]
    },
    {
     "name": "stderr",
     "output_type": "stream",
     "text": [
      "Generations: 100%|██████████| 10000/10000 [00:12<00:00, 813.01it/s]\n",
      "Generations:   1%|          | 82/10000 [00:00<00:12, 818.43it/s]"
     ]
    },
    {
     "name": "stdout",
     "output_type": "stream",
     "text": [
      "6.744505112178047\n"
     ]
    },
    {
     "name": "stderr",
     "output_type": "stream",
     "text": [
      "Generations: 100%|██████████| 10000/10000 [00:12<00:00, 823.56it/s]\n",
      "Generations:   1%|          | 76/10000 [00:00<00:13, 758.90it/s]"
     ]
    },
    {
     "name": "stdout",
     "output_type": "stream",
     "text": [
      "5.7307055722503435\n"
     ]
    },
    {
     "name": "stderr",
     "output_type": "stream",
     "text": [
      "Generations: 100%|██████████| 10000/10000 [00:12<00:00, 815.90it/s]\n",
      "Generations:   1%|          | 84/10000 [00:00<00:12, 823.61it/s]"
     ]
    },
    {
     "name": "stdout",
     "output_type": "stream",
     "text": [
      "5.202738931891275\n",
      "0.9000000000000002\n"
     ]
    },
    {
     "name": "stderr",
     "output_type": "stream",
     "text": [
      "Generations: 100%|██████████| 10000/10000 [00:12<00:00, 818.54it/s]\n",
      "Generations:   1%|          | 76/10000 [00:00<00:13, 747.79it/s]"
     ]
    },
    {
     "name": "stdout",
     "output_type": "stream",
     "text": [
      "7.022594883844263\n"
     ]
    },
    {
     "name": "stderr",
     "output_type": "stream",
     "text": [
      "Generations: 100%|██████████| 10000/10000 [00:12<00:00, 818.06it/s]\n",
      "Generations:   1%|          | 80/10000 [00:00<00:12, 796.42it/s]"
     ]
    },
    {
     "name": "stdout",
     "output_type": "stream",
     "text": [
      "13.049462321074401\n"
     ]
    },
    {
     "name": "stderr",
     "output_type": "stream",
     "text": [
      "Generations: 100%|██████████| 10000/10000 [00:13<00:00, 759.69it/s]\n",
      "Generations:   0%|          | 48/10000 [00:00<00:21, 459.43it/s]"
     ]
    },
    {
     "name": "stdout",
     "output_type": "stream",
     "text": [
      "4.51830007173163\n"
     ]
    },
    {
     "name": "stderr",
     "output_type": "stream",
     "text": [
      "Generations: 100%|██████████| 10000/10000 [00:15<00:00, 655.46it/s]\n",
      "Generations:   1%|          | 82/10000 [00:00<00:12, 807.21it/s]"
     ]
    },
    {
     "name": "stdout",
     "output_type": "stream",
     "text": [
      "6.055506083391478\n"
     ]
    },
    {
     "name": "stderr",
     "output_type": "stream",
     "text": [
      "Generations: 100%|██████████| 10000/10000 [00:12<00:00, 778.68it/s]\n",
      "Generations:   1%|          | 78/10000 [00:00<00:12, 765.54it/s]"
     ]
    },
    {
     "name": "stdout",
     "output_type": "stream",
     "text": [
      "6.757476395203852\n"
     ]
    },
    {
     "name": "stderr",
     "output_type": "stream",
     "text": [
      "Generations: 100%|██████████| 10000/10000 [00:15<00:00, 657.04it/s]\n",
      "Generations:   1%|          | 78/10000 [00:00<00:12, 773.37it/s]"
     ]
    },
    {
     "name": "stdout",
     "output_type": "stream",
     "text": [
      "3.7481929746555522\n"
     ]
    },
    {
     "name": "stderr",
     "output_type": "stream",
     "text": [
      "Generations: 100%|██████████| 10000/10000 [00:12<00:00, 822.15it/s]\n",
      "Generations:   1%|          | 78/10000 [00:00<00:12, 771.26it/s]"
     ]
    },
    {
     "name": "stdout",
     "output_type": "stream",
     "text": [
      "5.2706346365906\n"
     ]
    },
    {
     "name": "stderr",
     "output_type": "stream",
     "text": [
      "Generations: 100%|██████████| 10000/10000 [00:12<00:00, 819.55it/s]\n",
      "Generations:   1%|          | 82/10000 [00:00<00:12, 804.74it/s]"
     ]
    },
    {
     "name": "stdout",
     "output_type": "stream",
     "text": [
      "1.0457355479256307\n"
     ]
    },
    {
     "name": "stderr",
     "output_type": "stream",
     "text": [
      "Generations: 100%|██████████| 10000/10000 [00:12<00:00, 807.75it/s]\n",
      "Generations:   1%|          | 86/10000 [00:00<00:11, 848.96it/s]"
     ]
    },
    {
     "name": "stdout",
     "output_type": "stream",
     "text": [
      "5.504564896398406\n"
     ]
    },
    {
     "name": "stderr",
     "output_type": "stream",
     "text": [
      "Generations: 100%|██████████| 10000/10000 [00:12<00:00, 821.49it/s]\n",
      "Generations:   1%|          | 78/10000 [00:00<00:12, 778.10it/s]"
     ]
    },
    {
     "name": "stdout",
     "output_type": "stream",
     "text": [
      "6.127390071135849\n"
     ]
    },
    {
     "name": "stderr",
     "output_type": "stream",
     "text": [
      "Generations: 100%|██████████| 10000/10000 [00:12<00:00, 812.25it/s]\n",
      "Generations:   1%|          | 80/10000 [00:00<00:12, 796.92it/s]"
     ]
    },
    {
     "name": "stdout",
     "output_type": "stream",
     "text": [
      "5.595251479407281\n"
     ]
    },
    {
     "name": "stderr",
     "output_type": "stream",
     "text": [
      "Generations: 100%|██████████| 10000/10000 [00:12<00:00, 809.09it/s]\n",
      "Generations:   1%|          | 78/10000 [00:00<00:12, 767.43it/s]"
     ]
    },
    {
     "name": "stdout",
     "output_type": "stream",
     "text": [
      "9.197392605790427\n"
     ]
    },
    {
     "name": "stderr",
     "output_type": "stream",
     "text": [
      "Generations: 100%|██████████| 10000/10000 [00:12<00:00, 816.39it/s]\n",
      "Generations:   1%|          | 78/10000 [00:00<00:12, 777.31it/s]"
     ]
    },
    {
     "name": "stdout",
     "output_type": "stream",
     "text": [
      "13.025571506049474\n"
     ]
    },
    {
     "name": "stderr",
     "output_type": "stream",
     "text": [
      "Generations: 100%|██████████| 10000/10000 [00:12<00:00, 814.83it/s]\n",
      "Generations:   1%|          | 80/10000 [00:00<00:12, 792.72it/s]"
     ]
    },
    {
     "name": "stdout",
     "output_type": "stream",
     "text": [
      "7.19156572075029\n"
     ]
    },
    {
     "name": "stderr",
     "output_type": "stream",
     "text": [
      "Generations: 100%|██████████| 10000/10000 [00:12<00:00, 813.70it/s]\n",
      "Generations:   1%|          | 84/10000 [00:00<00:12, 822.64it/s]"
     ]
    },
    {
     "name": "stdout",
     "output_type": "stream",
     "text": [
      "3.529292742498953\n"
     ]
    },
    {
     "name": "stderr",
     "output_type": "stream",
     "text": [
      "Generations: 100%|██████████| 10000/10000 [00:12<00:00, 820.02it/s]\n",
      "Generations:   1%|          | 80/10000 [00:00<00:12, 796.35it/s]"
     ]
    },
    {
     "name": "stdout",
     "output_type": "stream",
     "text": [
      "10.170565228038342\n"
     ]
    },
    {
     "name": "stderr",
     "output_type": "stream",
     "text": [
      "Generations: 100%|██████████| 10000/10000 [00:12<00:00, 822.31it/s]\n",
      "Generations:   1%|          | 82/10000 [00:00<00:12, 810.88it/s]"
     ]
    },
    {
     "name": "stdout",
     "output_type": "stream",
     "text": [
      "5.756493835088918\n"
     ]
    },
    {
     "name": "stderr",
     "output_type": "stream",
     "text": [
      "Generations: 100%|██████████| 10000/10000 [00:12<00:00, 823.08it/s]\n",
      "Generations:   1%|          | 76/10000 [00:00<00:13, 755.79it/s]"
     ]
    },
    {
     "name": "stdout",
     "output_type": "stream",
     "text": [
      "11.952802449549011\n"
     ]
    },
    {
     "name": "stderr",
     "output_type": "stream",
     "text": [
      "Generations: 100%|██████████| 10000/10000 [00:13<00:00, 758.56it/s]\n",
      "Generations:   1%|          | 82/10000 [00:00<00:12, 801.64it/s]"
     ]
    },
    {
     "name": "stdout",
     "output_type": "stream",
     "text": [
      "7.320421087374839\n"
     ]
    },
    {
     "name": "stderr",
     "output_type": "stream",
     "text": [
      "Generations: 100%|██████████| 10000/10000 [00:15<00:00, 643.63it/s]\n",
      "Generations:   1%|          | 82/10000 [00:00<00:12, 803.66it/s]"
     ]
    },
    {
     "name": "stdout",
     "output_type": "stream",
     "text": [
      "3.4108857087779825\n"
     ]
    },
    {
     "name": "stderr",
     "output_type": "stream",
     "text": [
      "Generations: 100%|██████████| 10000/10000 [00:12<00:00, 801.22it/s]\n",
      "Generations:   1%|          | 76/10000 [00:00<00:13, 758.58it/s]"
     ]
    },
    {
     "name": "stdout",
     "output_type": "stream",
     "text": [
      "4.8274067930752125\n"
     ]
    },
    {
     "name": "stderr",
     "output_type": "stream",
     "text": [
      "Generations: 100%|██████████| 10000/10000 [00:12<00:00, 814.43it/s]\n",
      "Generations:   1%|          | 76/10000 [00:00<00:13, 746.87it/s]"
     ]
    },
    {
     "name": "stdout",
     "output_type": "stream",
     "text": [
      "4.867379498837295\n"
     ]
    },
    {
     "name": "stderr",
     "output_type": "stream",
     "text": [
      "Generations: 100%|██████████| 10000/10000 [00:12<00:00, 806.57it/s]\n",
      "Generations:   1%|          | 80/10000 [00:00<00:12, 799.71it/s]"
     ]
    },
    {
     "name": "stdout",
     "output_type": "stream",
     "text": [
      "4.636428247684037\n"
     ]
    },
    {
     "name": "stderr",
     "output_type": "stream",
     "text": [
      "Generations: 100%|██████████| 10000/10000 [00:12<00:00, 787.28it/s]\n",
      "Generations:   1%|          | 84/10000 [00:00<00:12, 825.51it/s]"
     ]
    },
    {
     "name": "stdout",
     "output_type": "stream",
     "text": [
      "3.5327538190830694\n"
     ]
    },
    {
     "name": "stderr",
     "output_type": "stream",
     "text": [
      "Generations: 100%|██████████| 10000/10000 [00:14<00:00, 686.69it/s]\n",
      "Generations:   1%|          | 74/10000 [00:00<00:13, 730.95it/s]"
     ]
    },
    {
     "name": "stdout",
     "output_type": "stream",
     "text": [
      "8.475682991468773\n"
     ]
    },
    {
     "name": "stderr",
     "output_type": "stream",
     "text": [
      "Generations: 100%|██████████| 10000/10000 [00:14<00:00, 691.84it/s]\n",
      "Generations:   1%|          | 68/10000 [00:00<00:14, 664.17it/s]"
     ]
    },
    {
     "name": "stdout",
     "output_type": "stream",
     "text": [
      "4.241396313438742\n"
     ]
    },
    {
     "name": "stderr",
     "output_type": "stream",
     "text": [
      "Generations: 100%|██████████| 10000/10000 [00:18<00:00, 547.95it/s]\n",
      "Generations:   1%|          | 62/10000 [00:00<00:16, 615.94it/s]"
     ]
    },
    {
     "name": "stdout",
     "output_type": "stream",
     "text": [
      "6.239181149159677\n"
     ]
    },
    {
     "name": "stderr",
     "output_type": "stream",
     "text": [
      "Generations: 100%|██████████| 10000/10000 [00:12<00:00, 769.66it/s]\n",
      "Generations:   1%|          | 80/10000 [00:00<00:12, 785.21it/s]"
     ]
    },
    {
     "name": "stdout",
     "output_type": "stream",
     "text": [
      "8.492966590657602\n"
     ]
    },
    {
     "name": "stderr",
     "output_type": "stream",
     "text": [
      "Generations: 100%|██████████| 10000/10000 [00:12<00:00, 810.26it/s]\n",
      "Generations:   1%|          | 82/10000 [00:00<00:12, 807.92it/s]"
     ]
    },
    {
     "name": "stdout",
     "output_type": "stream",
     "text": [
      "3.4378679063802906\n"
     ]
    },
    {
     "name": "stderr",
     "output_type": "stream",
     "text": [
      "Generations: 100%|██████████| 10000/10000 [00:12<00:00, 783.17it/s]\n",
      "Generations:   1%|          | 86/10000 [00:00<00:11, 852.78it/s]"
     ]
    },
    {
     "name": "stdout",
     "output_type": "stream",
     "text": [
      "7.010961050978196\n"
     ]
    },
    {
     "name": "stderr",
     "output_type": "stream",
     "text": [
      "Generations: 100%|██████████| 10000/10000 [00:12<00:00, 809.68it/s]\n",
      "Generations:   1%|          | 72/10000 [00:00<00:14, 694.05it/s]"
     ]
    },
    {
     "name": "stdout",
     "output_type": "stream",
     "text": [
      "2.3305205140553795\n"
     ]
    },
    {
     "name": "stderr",
     "output_type": "stream",
     "text": [
      "Generations: 100%|██████████| 10000/10000 [00:12<00:00, 801.44it/s]\n",
      "Generations:   1%|          | 76/10000 [00:00<00:13, 752.75it/s]"
     ]
    },
    {
     "name": "stdout",
     "output_type": "stream",
     "text": [
      "9.687795732290681\n"
     ]
    },
    {
     "name": "stderr",
     "output_type": "stream",
     "text": [
      "Generations: 100%|██████████| 10000/10000 [00:12<00:00, 792.03it/s]"
     ]
    },
    {
     "name": "stdout",
     "output_type": "stream",
     "text": [
      "3.2446500517228856\n"
     ]
    },
    {
     "name": "stderr",
     "output_type": "stream",
     "text": [
      "\n"
     ]
    }
   ],
   "source": [
    "cross_probs = np.arange(start = 0.6, stop = 0.95, step = 0.05)\n",
    "\n",
    "for cross_prob in cross_probs:\n",
    "    print(cross_prob)\n",
    "    for i in range(n_exec):\n",
    "        GA = GeneticAlgorithm(n = 10, m = 20, l = 20, max_eval = 10000, mut_prob = best_mut_prob, cross_prob = cross_prob, k = 20)\n",
    "        GA.solve()\n",
    "        fitness.append(GA.best_fitness)\n",
    "        print(GA.best_fitness)\n",
    "    pc.append(fitness.copy())\n",
    "    fitness.clear()"
   ]
  },
  {
   "cell_type": "code",
   "execution_count": 15,
   "metadata": {},
   "outputs": [],
   "source": [
    "best_cross_prob = cross_probs[np.argmin(np.mean(pc, axis = 1))]"
   ]
  },
  {
   "cell_type": "code",
   "execution_count": 38,
   "metadata": {},
   "outputs": [
    {
     "name": "stderr",
     "output_type": "stream",
     "text": [
      "Generations: 100%|██████████| 10000/10000 [00:06<00:00, 1592.27it/s]\n",
      "Generations:   3%|▎         | 320/10000 [00:00<00:06, 1575.54it/s]"
     ]
    },
    {
     "name": "stdout",
     "output_type": "stream",
     "text": [
      "50.2849204378625\n"
     ]
    },
    {
     "name": "stderr",
     "output_type": "stream",
     "text": [
      "Generations: 100%|██████████| 10000/10000 [00:06<00:00, 1633.71it/s]\n",
      "Generations:   1%|▏         | 148/10000 [00:00<00:06, 1469.76it/s]"
     ]
    },
    {
     "name": "stdout",
     "output_type": "stream",
     "text": [
      "50.28492043786251\n"
     ]
    },
    {
     "name": "stderr",
     "output_type": "stream",
     "text": [
      "Generations: 100%|██████████| 10000/10000 [00:06<00:00, 1548.33it/s]\n",
      "Generations:   1%|▏         | 134/10000 [00:00<00:07, 1338.40it/s]"
     ]
    },
    {
     "name": "stdout",
     "output_type": "stream",
     "text": [
      "49.45589612686192\n"
     ]
    },
    {
     "name": "stderr",
     "output_type": "stream",
     "text": [
      "Generations: 100%|██████████| 10000/10000 [00:06<00:00, 1588.93it/s]\n",
      "Generations:   1%|▏         | 146/10000 [00:00<00:06, 1436.76it/s]"
     ]
    },
    {
     "name": "stdout",
     "output_type": "stream",
     "text": [
      "50.2849204378625\n"
     ]
    },
    {
     "name": "stderr",
     "output_type": "stream",
     "text": [
      "Generations: 100%|██████████| 10000/10000 [00:06<00:00, 1641.06it/s]\n",
      "Generations:   3%|▎         | 320/10000 [00:00<00:06, 1556.94it/s]"
     ]
    },
    {
     "name": "stdout",
     "output_type": "stream",
     "text": [
      "49.45589612686192\n"
     ]
    },
    {
     "name": "stderr",
     "output_type": "stream",
     "text": [
      "Generations: 100%|██████████| 10000/10000 [00:06<00:00, 1630.90it/s]\n",
      "Generations:   2%|▏         | 162/10000 [00:00<00:06, 1603.09it/s]"
     ]
    },
    {
     "name": "stdout",
     "output_type": "stream",
     "text": [
      "49.45589612686192\n"
     ]
    },
    {
     "name": "stderr",
     "output_type": "stream",
     "text": [
      "Generations: 100%|██████████| 10000/10000 [00:06<00:00, 1655.54it/s]\n",
      "Generations:   2%|▏         | 156/10000 [00:00<00:06, 1559.99it/s]"
     ]
    },
    {
     "name": "stdout",
     "output_type": "stream",
     "text": [
      "50.2849204378625\n"
     ]
    },
    {
     "name": "stderr",
     "output_type": "stream",
     "text": [
      "Generations: 100%|██████████| 10000/10000 [00:06<00:00, 1599.73it/s]\n",
      "Generations:   3%|▎         | 312/10000 [00:00<00:06, 1498.28it/s]"
     ]
    },
    {
     "name": "stdout",
     "output_type": "stream",
     "text": [
      "50.2849204378625\n"
     ]
    },
    {
     "name": "stderr",
     "output_type": "stream",
     "text": [
      "Generations: 100%|██████████| 10000/10000 [00:06<00:00, 1605.19it/s]\n",
      "Generations:   2%|▏         | 154/10000 [00:00<00:06, 1523.41it/s]"
     ]
    },
    {
     "name": "stdout",
     "output_type": "stream",
     "text": [
      "49.45589612686192\n"
     ]
    },
    {
     "name": "stderr",
     "output_type": "stream",
     "text": [
      "Generations: 100%|██████████| 10000/10000 [00:06<00:00, 1621.59it/s]\n",
      "Generations:   2%|▏         | 158/10000 [00:00<00:06, 1576.35it/s]"
     ]
    },
    {
     "name": "stdout",
     "output_type": "stream",
     "text": [
      "49.45589612686192\n"
     ]
    },
    {
     "name": "stderr",
     "output_type": "stream",
     "text": [
      "Generations: 100%|██████████| 10000/10000 [00:06<00:00, 1631.51it/s]\n",
      "Generations:   2%|▏         | 154/10000 [00:00<00:06, 1535.86it/s]"
     ]
    },
    {
     "name": "stdout",
     "output_type": "stream",
     "text": [
      "50.28492043786251\n"
     ]
    },
    {
     "name": "stderr",
     "output_type": "stream",
     "text": [
      "Generations: 100%|██████████| 10000/10000 [00:06<00:00, 1631.43it/s]\n",
      "Generations:   1%|▏         | 142/10000 [00:00<00:06, 1416.67it/s]"
     ]
    },
    {
     "name": "stdout",
     "output_type": "stream",
     "text": [
      "50.2849204378625\n"
     ]
    },
    {
     "name": "stderr",
     "output_type": "stream",
     "text": [
      "Generations: 100%|██████████| 10000/10000 [00:06<00:00, 1638.60it/s]\n",
      "Generations:   3%|▎         | 310/10000 [00:00<00:06, 1479.17it/s]"
     ]
    },
    {
     "name": "stdout",
     "output_type": "stream",
     "text": [
      "49.45589612686192\n"
     ]
    },
    {
     "name": "stderr",
     "output_type": "stream",
     "text": [
      "Generations: 100%|██████████| 10000/10000 [00:06<00:00, 1630.45it/s]\n",
      "Generations:   2%|▏         | 152/10000 [00:00<00:06, 1497.30it/s]"
     ]
    },
    {
     "name": "stdout",
     "output_type": "stream",
     "text": [
      "49.45589612686192\n"
     ]
    },
    {
     "name": "stderr",
     "output_type": "stream",
     "text": [
      "Generations: 100%|██████████| 10000/10000 [00:06<00:00, 1629.17it/s]\n",
      "Generations:   2%|▏         | 158/10000 [00:00<00:06, 1578.84it/s]"
     ]
    },
    {
     "name": "stdout",
     "output_type": "stream",
     "text": [
      "49.45589612686192\n"
     ]
    },
    {
     "name": "stderr",
     "output_type": "stream",
     "text": [
      "Generations: 100%|██████████| 10000/10000 [00:06<00:00, 1636.99it/s]\n",
      "Generations:   2%|▏         | 158/10000 [00:00<00:06, 1573.96it/s]"
     ]
    },
    {
     "name": "stdout",
     "output_type": "stream",
     "text": [
      "50.2849204378625\n"
     ]
    },
    {
     "name": "stderr",
     "output_type": "stream",
     "text": [
      "Generations: 100%|██████████| 10000/10000 [00:06<00:00, 1632.99it/s]\n",
      "Generations:   1%|▏         | 142/10000 [00:00<00:07, 1405.51it/s]"
     ]
    },
    {
     "name": "stdout",
     "output_type": "stream",
     "text": [
      "49.45589612686192\n"
     ]
    },
    {
     "name": "stderr",
     "output_type": "stream",
     "text": [
      "Generations: 100%|██████████| 10000/10000 [00:06<00:00, 1623.15it/s]\n",
      "Generations:   3%|▎         | 298/10000 [00:00<00:06, 1464.41it/s]"
     ]
    },
    {
     "name": "stdout",
     "output_type": "stream",
     "text": [
      "50.28492043786251\n"
     ]
    },
    {
     "name": "stderr",
     "output_type": "stream",
     "text": [
      "Generations: 100%|██████████| 10000/10000 [00:06<00:00, 1638.99it/s]\n",
      "Generations:   1%|▏         | 142/10000 [00:00<00:07, 1400.58it/s]"
     ]
    },
    {
     "name": "stdout",
     "output_type": "stream",
     "text": [
      "49.45589612686192\n"
     ]
    },
    {
     "name": "stderr",
     "output_type": "stream",
     "text": [
      "Generations: 100%|██████████| 10000/10000 [00:06<00:00, 1592.66it/s]\n",
      "Generations:   2%|▏         | 158/10000 [00:00<00:06, 1567.88it/s]"
     ]
    },
    {
     "name": "stdout",
     "output_type": "stream",
     "text": [
      "51.11394474886309\n"
     ]
    },
    {
     "name": "stderr",
     "output_type": "stream",
     "text": [
      "Generations: 100%|██████████| 10000/10000 [00:06<00:00, 1605.14it/s]\n",
      "Generations:   1%|▏         | 148/10000 [00:00<00:06, 1454.22it/s]"
     ]
    },
    {
     "name": "stdout",
     "output_type": "stream",
     "text": [
      "49.45589612686192\n"
     ]
    },
    {
     "name": "stderr",
     "output_type": "stream",
     "text": [
      "Generations: 100%|██████████| 10000/10000 [00:06<00:00, 1649.43it/s]\n",
      "Generations:   3%|▎         | 298/10000 [00:00<00:06, 1475.12it/s]"
     ]
    },
    {
     "name": "stdout",
     "output_type": "stream",
     "text": [
      "49.45589612686192\n"
     ]
    },
    {
     "name": "stderr",
     "output_type": "stream",
     "text": [
      "Generations: 100%|██████████| 10000/10000 [00:06<00:00, 1620.11it/s]\n",
      "Generations:   2%|▏         | 158/10000 [00:00<00:06, 1573.81it/s]"
     ]
    },
    {
     "name": "stdout",
     "output_type": "stream",
     "text": [
      "49.45589612686192\n"
     ]
    },
    {
     "name": "stderr",
     "output_type": "stream",
     "text": [
      "Generations: 100%|██████████| 10000/10000 [00:06<00:00, 1607.75it/s]\n",
      "Generations:   1%|▏         | 144/10000 [00:00<00:06, 1433.59it/s]"
     ]
    },
    {
     "name": "stdout",
     "output_type": "stream",
     "text": [
      "50.28492043786251\n"
     ]
    },
    {
     "name": "stderr",
     "output_type": "stream",
     "text": [
      "Generations: 100%|██████████| 10000/10000 [00:06<00:00, 1628.08it/s]\n",
      "Generations:   2%|▏         | 152/10000 [00:00<00:06, 1503.21it/s]"
     ]
    },
    {
     "name": "stdout",
     "output_type": "stream",
     "text": [
      "50.2849204378625\n"
     ]
    },
    {
     "name": "stderr",
     "output_type": "stream",
     "text": [
      "Generations: 100%|██████████| 10000/10000 [00:06<00:00, 1624.26it/s]\n",
      "Generations:   2%|▏         | 164/10000 [00:00<00:06, 1628.00it/s]"
     ]
    },
    {
     "name": "stdout",
     "output_type": "stream",
     "text": [
      "49.45589612686192\n"
     ]
    },
    {
     "name": "stderr",
     "output_type": "stream",
     "text": [
      "Generations: 100%|██████████| 10000/10000 [00:06<00:00, 1640.75it/s]\n",
      "Generations:   2%|▏         | 158/10000 [00:00<00:06, 1566.75it/s]"
     ]
    },
    {
     "name": "stdout",
     "output_type": "stream",
     "text": [
      "50.28492043786251\n"
     ]
    },
    {
     "name": "stderr",
     "output_type": "stream",
     "text": [
      "Generations: 100%|██████████| 10000/10000 [00:06<00:00, 1617.27it/s]\n",
      "Generations:   2%|▏         | 158/10000 [00:00<00:06, 1565.97it/s]"
     ]
    },
    {
     "name": "stdout",
     "output_type": "stream",
     "text": [
      "50.2849204378625\n"
     ]
    },
    {
     "name": "stderr",
     "output_type": "stream",
     "text": [
      "Generations: 100%|██████████| 10000/10000 [00:06<00:00, 1624.80it/s]\n",
      "Generations:   2%|▏         | 164/10000 [00:00<00:06, 1627.61it/s]"
     ]
    },
    {
     "name": "stdout",
     "output_type": "stream",
     "text": [
      "49.45589612686192\n"
     ]
    },
    {
     "name": "stderr",
     "output_type": "stream",
     "text": [
      "Generations: 100%|██████████| 10000/10000 [00:06<00:00, 1626.08it/s]\n",
      "Generations:   2%|▏         | 156/10000 [00:00<00:06, 1556.99it/s]"
     ]
    },
    {
     "name": "stdout",
     "output_type": "stream",
     "text": [
      "49.45589612686192\n"
     ]
    },
    {
     "name": "stderr",
     "output_type": "stream",
     "text": [
      "Generations: 100%|██████████| 10000/10000 [00:06<00:00, 1618.61it/s]\n",
      "Generations:   2%|▏         | 152/10000 [00:00<00:06, 1511.74it/s]"
     ]
    },
    {
     "name": "stdout",
     "output_type": "stream",
     "text": [
      "50.2849204378625\n"
     ]
    },
    {
     "name": "stderr",
     "output_type": "stream",
     "text": [
      "Generations: 100%|██████████| 10000/10000 [00:06<00:00, 1632.10it/s]\n",
      "Generations:   2%|▏         | 164/10000 [00:00<00:06, 1634.46it/s]"
     ]
    },
    {
     "name": "stdout",
     "output_type": "stream",
     "text": [
      "50.2849204378625\n"
     ]
    },
    {
     "name": "stderr",
     "output_type": "stream",
     "text": [
      "Generations: 100%|██████████| 10000/10000 [00:06<00:00, 1635.55it/s]\n",
      "Generations:   1%|          | 116/10000 [00:00<00:08, 1145.90it/s]"
     ]
    },
    {
     "name": "stdout",
     "output_type": "stream",
     "text": [
      "49.45589612686192\n"
     ]
    },
    {
     "name": "stderr",
     "output_type": "stream",
     "text": [
      "Generations: 100%|██████████| 10000/10000 [00:08<00:00, 1127.11it/s]\n",
      "Generations:   1%|          | 112/10000 [00:00<00:08, 1110.23it/s]"
     ]
    },
    {
     "name": "stdout",
     "output_type": "stream",
     "text": [
      "5.639410705269853\n"
     ]
    },
    {
     "name": "stderr",
     "output_type": "stream",
     "text": [
      "Generations: 100%|██████████| 10000/10000 [00:08<00:00, 1136.92it/s]\n",
      "Generations:   1%|          | 114/10000 [00:00<00:08, 1134.41it/s]"
     ]
    },
    {
     "name": "stdout",
     "output_type": "stream",
     "text": [
      "9.32853857586565\n"
     ]
    },
    {
     "name": "stderr",
     "output_type": "stream",
     "text": [
      "Generations: 100%|██████████| 10000/10000 [00:08<00:00, 1143.23it/s]\n",
      "Generations:   1%|          | 110/10000 [00:00<00:09, 1091.32it/s]"
     ]
    },
    {
     "name": "stdout",
     "output_type": "stream",
     "text": [
      "2.133426866756693\n"
     ]
    },
    {
     "name": "stderr",
     "output_type": "stream",
     "text": [
      "Generations: 100%|██████████| 10000/10000 [00:08<00:00, 1138.16it/s]\n",
      "Generations:   1%|          | 114/10000 [00:00<00:08, 1129.90it/s]"
     ]
    },
    {
     "name": "stdout",
     "output_type": "stream",
     "text": [
      "10.965548306785763\n"
     ]
    },
    {
     "name": "stderr",
     "output_type": "stream",
     "text": [
      "Generations: 100%|██████████| 10000/10000 [00:08<00:00, 1121.47it/s]\n",
      "Generations:   1%|          | 112/10000 [00:00<00:08, 1108.15it/s]"
     ]
    },
    {
     "name": "stdout",
     "output_type": "stream",
     "text": [
      "12.509777739408023\n"
     ]
    },
    {
     "name": "stderr",
     "output_type": "stream",
     "text": [
      "Generations: 100%|██████████| 10000/10000 [00:08<00:00, 1137.77it/s]\n",
      "Generations:   1%|          | 112/10000 [00:00<00:08, 1113.78it/s]"
     ]
    },
    {
     "name": "stdout",
     "output_type": "stream",
     "text": [
      "4.67311127388426\n"
     ]
    },
    {
     "name": "stderr",
     "output_type": "stream",
     "text": [
      "Generations: 100%|██████████| 10000/10000 [00:08<00:00, 1134.20it/s]\n",
      "Generations:   1%|          | 112/10000 [00:00<00:08, 1110.05it/s]"
     ]
    },
    {
     "name": "stdout",
     "output_type": "stream",
     "text": [
      "5.7742744063921805\n"
     ]
    },
    {
     "name": "stderr",
     "output_type": "stream",
     "text": [
      "Generations: 100%|██████████| 10000/10000 [00:08<00:00, 1134.47it/s]\n",
      "Generations:   1%|          | 114/10000 [00:00<00:08, 1128.28it/s]"
     ]
    },
    {
     "name": "stdout",
     "output_type": "stream",
     "text": [
      "3.034331129067965\n"
     ]
    },
    {
     "name": "stderr",
     "output_type": "stream",
     "text": [
      "Generations: 100%|██████████| 10000/10000 [00:08<00:00, 1132.21it/s]\n",
      "Generations:   1%|          | 110/10000 [00:00<00:09, 1092.68it/s]"
     ]
    },
    {
     "name": "stdout",
     "output_type": "stream",
     "text": [
      "5.73455245620633\n"
     ]
    },
    {
     "name": "stderr",
     "output_type": "stream",
     "text": [
      "Generations: 100%|██████████| 10000/10000 [00:08<00:00, 1132.66it/s]\n",
      "Generations:   1%|          | 110/10000 [00:00<00:09, 1096.35it/s]"
     ]
    },
    {
     "name": "stdout",
     "output_type": "stream",
     "text": [
      "5.093276417652206\n"
     ]
    },
    {
     "name": "stderr",
     "output_type": "stream",
     "text": [
      "Generations: 100%|██████████| 10000/10000 [00:08<00:00, 1139.81it/s]\n",
      "Generations:   1%|          | 112/10000 [00:00<00:08, 1112.28it/s]"
     ]
    },
    {
     "name": "stdout",
     "output_type": "stream",
     "text": [
      "9.550269400829677\n"
     ]
    },
    {
     "name": "stderr",
     "output_type": "stream",
     "text": [
      "Generations: 100%|██████████| 10000/10000 [00:08<00:00, 1140.90it/s]\n",
      "Generations:   1%|          | 116/10000 [00:00<00:08, 1146.62it/s]"
     ]
    },
    {
     "name": "stdout",
     "output_type": "stream",
     "text": [
      "3.3356116122341604\n"
     ]
    },
    {
     "name": "stderr",
     "output_type": "stream",
     "text": [
      "Generations: 100%|██████████| 10000/10000 [00:08<00:00, 1146.96it/s]\n",
      "Generations:   1%|          | 110/10000 [00:00<00:09, 1093.43it/s]"
     ]
    },
    {
     "name": "stdout",
     "output_type": "stream",
     "text": [
      "8.030728896991732\n"
     ]
    },
    {
     "name": "stderr",
     "output_type": "stream",
     "text": [
      "Generations: 100%|██████████| 10000/10000 [00:08<00:00, 1145.68it/s]\n",
      "Generations:   2%|▏         | 232/10000 [00:00<00:08, 1142.14it/s]"
     ]
    },
    {
     "name": "stdout",
     "output_type": "stream",
     "text": [
      "4.633387832767383\n"
     ]
    },
    {
     "name": "stderr",
     "output_type": "stream",
     "text": [
      "Generations: 100%|██████████| 10000/10000 [00:08<00:00, 1141.06it/s]\n",
      "Generations:   1%|          | 112/10000 [00:00<00:08, 1114.36it/s]"
     ]
    },
    {
     "name": "stdout",
     "output_type": "stream",
     "text": [
      "4.908996587976148\n"
     ]
    },
    {
     "name": "stderr",
     "output_type": "stream",
     "text": [
      "Generations: 100%|██████████| 10000/10000 [00:08<00:00, 1136.33it/s]\n",
      "Generations:   1%|          | 112/10000 [00:00<00:08, 1114.32it/s]"
     ]
    },
    {
     "name": "stdout",
     "output_type": "stream",
     "text": [
      "3.3356116122341604\n"
     ]
    },
    {
     "name": "stderr",
     "output_type": "stream",
     "text": [
      "Generations: 100%|██████████| 10000/10000 [00:08<00:00, 1134.17it/s]\n",
      "Generations:   1%|          | 112/10000 [00:00<00:08, 1110.48it/s]"
     ]
    },
    {
     "name": "stdout",
     "output_type": "stream",
     "text": [
      "4.5633653097006714\n"
     ]
    },
    {
     "name": "stderr",
     "output_type": "stream",
     "text": [
      "Generations: 100%|██████████| 10000/10000 [00:08<00:00, 1141.55it/s]\n",
      "Generations:   1%|          | 114/10000 [00:00<00:08, 1132.04it/s]"
     ]
    },
    {
     "name": "stdout",
     "output_type": "stream",
     "text": [
      "11.31699864771636\n"
     ]
    },
    {
     "name": "stderr",
     "output_type": "stream",
     "text": [
      "Generations: 100%|██████████| 10000/10000 [00:08<00:00, 1136.16it/s]\n",
      "Generations:   1%|          | 112/10000 [00:00<00:08, 1106.41it/s]"
     ]
    },
    {
     "name": "stdout",
     "output_type": "stream",
     "text": [
      "5.623581687619591\n"
     ]
    },
    {
     "name": "stderr",
     "output_type": "stream",
     "text": [
      "Generations: 100%|██████████| 10000/10000 [00:08<00:00, 1132.76it/s]\n",
      "Generations:   1%|          | 108/10000 [00:00<00:09, 1067.13it/s]"
     ]
    },
    {
     "name": "stdout",
     "output_type": "stream",
     "text": [
      "4.1563625757382425\n"
     ]
    },
    {
     "name": "stderr",
     "output_type": "stream",
     "text": [
      "Generations: 100%|██████████| 10000/10000 [00:08<00:00, 1116.76it/s]\n",
      "Generations:   1%|          | 108/10000 [00:00<00:09, 1079.20it/s]"
     ]
    },
    {
     "name": "stdout",
     "output_type": "stream",
     "text": [
      "14.60292484429074\n"
     ]
    },
    {
     "name": "stderr",
     "output_type": "stream",
     "text": [
      "Generations: 100%|██████████| 10000/10000 [00:08<00:00, 1140.53it/s]\n",
      "Generations:   1%|          | 110/10000 [00:00<00:09, 1082.82it/s]"
     ]
    },
    {
     "name": "stdout",
     "output_type": "stream",
     "text": [
      "3.9188027331239397\n"
     ]
    },
    {
     "name": "stderr",
     "output_type": "stream",
     "text": [
      "Generations: 100%|██████████| 10000/10000 [00:08<00:00, 1134.99it/s]\n",
      "Generations:   1%|          | 112/10000 [00:00<00:08, 1101.81it/s]"
     ]
    },
    {
     "name": "stdout",
     "output_type": "stream",
     "text": [
      "7.675350873741408\n"
     ]
    },
    {
     "name": "stderr",
     "output_type": "stream",
     "text": [
      "Generations: 100%|██████████| 10000/10000 [00:08<00:00, 1139.15it/s]\n",
      "Generations:   2%|▏         | 220/10000 [00:00<00:08, 1088.06it/s]"
     ]
    },
    {
     "name": "stdout",
     "output_type": "stream",
     "text": [
      "3.856852506468229\n"
     ]
    },
    {
     "name": "stderr",
     "output_type": "stream",
     "text": [
      "Generations: 100%|██████████| 10000/10000 [00:08<00:00, 1128.70it/s]\n",
      "Generations:   1%|          | 112/10000 [00:00<00:08, 1105.46it/s]"
     ]
    },
    {
     "name": "stdout",
     "output_type": "stream",
     "text": [
      "6.613481744757877\n"
     ]
    },
    {
     "name": "stderr",
     "output_type": "stream",
     "text": [
      "Generations: 100%|██████████| 10000/10000 [00:08<00:00, 1137.11it/s]\n",
      "Generations:   1%|          | 112/10000 [00:00<00:08, 1103.51it/s]"
     ]
    },
    {
     "name": "stdout",
     "output_type": "stream",
     "text": [
      "5.871311409767074\n"
     ]
    },
    {
     "name": "stderr",
     "output_type": "stream",
     "text": [
      "Generations: 100%|██████████| 10000/10000 [00:08<00:00, 1132.12it/s]\n",
      "Generations:   1%|          | 112/10000 [00:00<00:08, 1116.84it/s]"
     ]
    },
    {
     "name": "stdout",
     "output_type": "stream",
     "text": [
      "4.325805467086383\n"
     ]
    },
    {
     "name": "stderr",
     "output_type": "stream",
     "text": [
      "Generations: 100%|██████████| 10000/10000 [00:08<00:00, 1139.27it/s]\n",
      "Generations:   1%|          | 114/10000 [00:00<00:08, 1134.42it/s]"
     ]
    },
    {
     "name": "stdout",
     "output_type": "stream",
     "text": [
      "4.98024391544601\n"
     ]
    },
    {
     "name": "stderr",
     "output_type": "stream",
     "text": [
      "Generations: 100%|██████████| 10000/10000 [00:08<00:00, 1136.98it/s]\n",
      "Generations:   1%|          | 110/10000 [00:00<00:09, 1092.42it/s]"
     ]
    },
    {
     "name": "stdout",
     "output_type": "stream",
     "text": [
      "11.892117406459832\n"
     ]
    },
    {
     "name": "stderr",
     "output_type": "stream",
     "text": [
      "Generations: 100%|██████████| 10000/10000 [00:08<00:00, 1144.35it/s]\n",
      "Generations:   2%|▏         | 226/10000 [00:00<00:08, 1117.39it/s]"
     ]
    },
    {
     "name": "stdout",
     "output_type": "stream",
     "text": [
      "9.037100803006638\n"
     ]
    },
    {
     "name": "stderr",
     "output_type": "stream",
     "text": [
      "Generations: 100%|██████████| 10000/10000 [00:08<00:00, 1130.96it/s]\n",
      "Generations:   1%|          | 108/10000 [00:00<00:09, 1067.51it/s]"
     ]
    },
    {
     "name": "stdout",
     "output_type": "stream",
     "text": [
      "6.262325267276495\n"
     ]
    },
    {
     "name": "stderr",
     "output_type": "stream",
     "text": [
      "Generations: 100%|██████████| 10000/10000 [00:08<00:00, 1133.11it/s]\n",
      "Generations:   2%|▏         | 220/10000 [00:00<00:08, 1095.05it/s]"
     ]
    },
    {
     "name": "stdout",
     "output_type": "stream",
     "text": [
      "13.325248812142462\n"
     ]
    },
    {
     "name": "stderr",
     "output_type": "stream",
     "text": [
      "Generations: 100%|██████████| 10000/10000 [00:08<00:00, 1129.82it/s]\n",
      "Generations:   1%|          | 84/10000 [00:00<00:11, 834.47it/s]"
     ]
    },
    {
     "name": "stdout",
     "output_type": "stream",
     "text": [
      "9.487276055917917\n"
     ]
    },
    {
     "name": "stderr",
     "output_type": "stream",
     "text": [
      "Generations: 100%|██████████| 10000/10000 [00:11<00:00, 857.39it/s]\n",
      "Generations:   1%|          | 82/10000 [00:00<00:12, 809.71it/s]"
     ]
    },
    {
     "name": "stdout",
     "output_type": "stream",
     "text": [
      "2.544693101198831\n"
     ]
    },
    {
     "name": "stderr",
     "output_type": "stream",
     "text": [
      "Generations: 100%|██████████| 10000/10000 [00:11<00:00, 871.21it/s]\n",
      "Generations:   1%|          | 88/10000 [00:00<00:11, 874.66it/s]"
     ]
    },
    {
     "name": "stdout",
     "output_type": "stream",
     "text": [
      "6.268303425029686\n"
     ]
    },
    {
     "name": "stderr",
     "output_type": "stream",
     "text": [
      "Generations: 100%|██████████| 10000/10000 [00:11<00:00, 873.46it/s]\n",
      "Generations:   1%|          | 84/10000 [00:00<00:11, 832.10it/s]"
     ]
    },
    {
     "name": "stdout",
     "output_type": "stream",
     "text": [
      "3.9034428304898086\n"
     ]
    },
    {
     "name": "stderr",
     "output_type": "stream",
     "text": [
      "Generations: 100%|██████████| 10000/10000 [00:11<00:00, 869.08it/s]\n",
      "Generations:   1%|          | 82/10000 [00:00<00:12, 803.32it/s]"
     ]
    },
    {
     "name": "stdout",
     "output_type": "stream",
     "text": [
      "3.2881291680814684\n"
     ]
    },
    {
     "name": "stderr",
     "output_type": "stream",
     "text": [
      "Generations: 100%|██████████| 10000/10000 [00:11<00:00, 870.21it/s]\n",
      "Generations:   1%|          | 86/10000 [00:00<00:11, 843.60it/s]"
     ]
    },
    {
     "name": "stdout",
     "output_type": "stream",
     "text": [
      "7.257713736348322\n"
     ]
    },
    {
     "name": "stderr",
     "output_type": "stream",
     "text": [
      "Generations: 100%|██████████| 10000/10000 [00:11<00:00, 867.79it/s]\n",
      "Generations:   1%|          | 86/10000 [00:00<00:11, 846.58it/s]"
     ]
    },
    {
     "name": "stdout",
     "output_type": "stream",
     "text": [
      "9.62183835710141\n"
     ]
    },
    {
     "name": "stderr",
     "output_type": "stream",
     "text": [
      "Generations: 100%|██████████| 10000/10000 [00:11<00:00, 874.83it/s]\n",
      "Generations:   1%|          | 80/10000 [00:00<00:12, 798.64it/s]"
     ]
    },
    {
     "name": "stdout",
     "output_type": "stream",
     "text": [
      "3.2612151522610873\n"
     ]
    },
    {
     "name": "stderr",
     "output_type": "stream",
     "text": [
      "Generations: 100%|██████████| 10000/10000 [00:11<00:00, 869.21it/s]\n",
      "Generations:   1%|          | 86/10000 [00:00<00:11, 848.01it/s]"
     ]
    },
    {
     "name": "stdout",
     "output_type": "stream",
     "text": [
      "4.982794609874489\n"
     ]
    },
    {
     "name": "stderr",
     "output_type": "stream",
     "text": [
      "Generations: 100%|██████████| 10000/10000 [00:11<00:00, 875.15it/s]\n",
      "Generations:   1%|          | 86/10000 [00:00<00:11, 856.85it/s]"
     ]
    },
    {
     "name": "stdout",
     "output_type": "stream",
     "text": [
      "9.85701679033663\n"
     ]
    },
    {
     "name": "stderr",
     "output_type": "stream",
     "text": [
      "Generations: 100%|██████████| 10000/10000 [00:11<00:00, 875.92it/s]\n",
      "Generations:   1%|          | 82/10000 [00:00<00:12, 802.55it/s]"
     ]
    },
    {
     "name": "stdout",
     "output_type": "stream",
     "text": [
      "4.073859211168283\n"
     ]
    },
    {
     "name": "stderr",
     "output_type": "stream",
     "text": [
      "Generations: 100%|██████████| 10000/10000 [00:11<00:00, 866.76it/s]\n",
      "Generations:   1%|          | 92/10000 [00:00<00:10, 910.01it/s]"
     ]
    },
    {
     "name": "stdout",
     "output_type": "stream",
     "text": [
      "13.19844976222609\n"
     ]
    },
    {
     "name": "stderr",
     "output_type": "stream",
     "text": [
      "Generations: 100%|██████████| 10000/10000 [00:11<00:00, 866.15it/s]\n",
      "Generations:   1%|          | 86/10000 [00:00<00:11, 842.24it/s]"
     ]
    },
    {
     "name": "stdout",
     "output_type": "stream",
     "text": [
      "9.662855816242143\n"
     ]
    },
    {
     "name": "stderr",
     "output_type": "stream",
     "text": [
      "Generations: 100%|██████████| 10000/10000 [00:11<00:00, 863.47it/s]\n",
      "Generations:   1%|          | 86/10000 [00:00<00:11, 848.34it/s]"
     ]
    },
    {
     "name": "stdout",
     "output_type": "stream",
     "text": [
      "3.727272692603819\n"
     ]
    },
    {
     "name": "stderr",
     "output_type": "stream",
     "text": [
      "Generations: 100%|██████████| 10000/10000 [00:11<00:00, 880.63it/s]\n",
      "Generations:   1%|          | 86/10000 [00:00<00:11, 859.80it/s]"
     ]
    },
    {
     "name": "stdout",
     "output_type": "stream",
     "text": [
      "4.493548716513956\n"
     ]
    },
    {
     "name": "stderr",
     "output_type": "stream",
     "text": [
      "Generations: 100%|██████████| 10000/10000 [00:11<00:00, 871.87it/s]\n",
      "Generations:   1%|          | 80/10000 [00:00<00:12, 796.58it/s]"
     ]
    },
    {
     "name": "stdout",
     "output_type": "stream",
     "text": [
      "6.66733002241925\n"
     ]
    },
    {
     "name": "stderr",
     "output_type": "stream",
     "text": [
      "Generations: 100%|██████████| 10000/10000 [00:11<00:00, 868.33it/s]\n",
      "Generations:   1%|          | 86/10000 [00:00<00:11, 846.73it/s]"
     ]
    },
    {
     "name": "stdout",
     "output_type": "stream",
     "text": [
      "5.55746017906479\n"
     ]
    },
    {
     "name": "stderr",
     "output_type": "stream",
     "text": [
      "Generations: 100%|██████████| 10000/10000 [00:11<00:00, 872.51it/s]\n",
      "Generations:   2%|▏         | 176/10000 [00:00<00:11, 863.71it/s]"
     ]
    },
    {
     "name": "stdout",
     "output_type": "stream",
     "text": [
      "1.023078885753577\n"
     ]
    },
    {
     "name": "stderr",
     "output_type": "stream",
     "text": [
      "Generations: 100%|██████████| 10000/10000 [00:11<00:00, 875.49it/s]\n",
      "Generations:   1%|          | 88/10000 [00:00<00:11, 864.48it/s]"
     ]
    },
    {
     "name": "stdout",
     "output_type": "stream",
     "text": [
      "3.674945784064775\n"
     ]
    },
    {
     "name": "stderr",
     "output_type": "stream",
     "text": [
      "Generations: 100%|██████████| 10000/10000 [00:11<00:00, 869.57it/s]\n",
      "Generations:   1%|          | 86/10000 [00:00<00:11, 841.24it/s]"
     ]
    },
    {
     "name": "stdout",
     "output_type": "stream",
     "text": [
      "1.3396506228307317\n"
     ]
    },
    {
     "name": "stderr",
     "output_type": "stream",
     "text": [
      "Generations: 100%|██████████| 10000/10000 [00:11<00:00, 863.26it/s]\n",
      "Generations:   1%|          | 86/10000 [00:00<00:11, 846.29it/s]"
     ]
    },
    {
     "name": "stdout",
     "output_type": "stream",
     "text": [
      "7.560634960525576\n"
     ]
    },
    {
     "name": "stderr",
     "output_type": "stream",
     "text": [
      "Generations: 100%|██████████| 10000/10000 [00:11<00:00, 863.62it/s]\n",
      "Generations:   2%|▏         | 174/10000 [00:00<00:11, 850.18it/s]"
     ]
    },
    {
     "name": "stdout",
     "output_type": "stream",
     "text": [
      "3.0878774663273703\n"
     ]
    },
    {
     "name": "stderr",
     "output_type": "stream",
     "text": [
      "Generations: 100%|██████████| 10000/10000 [00:11<00:00, 862.51it/s]\n",
      "Generations:   1%|          | 86/10000 [00:00<00:11, 844.60it/s]"
     ]
    },
    {
     "name": "stdout",
     "output_type": "stream",
     "text": [
      "10.768729224259673\n"
     ]
    },
    {
     "name": "stderr",
     "output_type": "stream",
     "text": [
      "Generations: 100%|██████████| 10000/10000 [00:11<00:00, 879.26it/s]\n",
      "Generations:   1%|          | 88/10000 [00:00<00:11, 862.63it/s]"
     ]
    },
    {
     "name": "stdout",
     "output_type": "stream",
     "text": [
      "3.2422962961104105\n"
     ]
    },
    {
     "name": "stderr",
     "output_type": "stream",
     "text": [
      "Generations: 100%|██████████| 10000/10000 [00:11<00:00, 878.91it/s]\n",
      "Generations:   1%|          | 84/10000 [00:00<00:11, 832.91it/s]"
     ]
    },
    {
     "name": "stdout",
     "output_type": "stream",
     "text": [
      "9.895547412191547\n"
     ]
    },
    {
     "name": "stderr",
     "output_type": "stream",
     "text": [
      "Generations: 100%|██████████| 10000/10000 [00:11<00:00, 873.71it/s]\n",
      "Generations:   1%|          | 88/10000 [00:00<00:11, 866.58it/s]"
     ]
    },
    {
     "name": "stdout",
     "output_type": "stream",
     "text": [
      "14.989964234061318\n"
     ]
    },
    {
     "name": "stderr",
     "output_type": "stream",
     "text": [
      "Generations: 100%|██████████| 10000/10000 [00:11<00:00, 870.77it/s]\n",
      "Generations:   2%|▏         | 174/10000 [00:00<00:11, 859.90it/s]"
     ]
    },
    {
     "name": "stdout",
     "output_type": "stream",
     "text": [
      "9.25422977052601\n"
     ]
    },
    {
     "name": "stderr",
     "output_type": "stream",
     "text": [
      "Generations: 100%|██████████| 10000/10000 [00:11<00:00, 873.56it/s]\n",
      "Generations:   1%|          | 82/10000 [00:00<00:12, 804.84it/s]"
     ]
    },
    {
     "name": "stdout",
     "output_type": "stream",
     "text": [
      "5.371501211755131\n"
     ]
    },
    {
     "name": "stderr",
     "output_type": "stream",
     "text": [
      "Generations: 100%|██████████| 10000/10000 [00:11<00:00, 875.96it/s]\n",
      "Generations:   1%|          | 86/10000 [00:00<00:11, 844.21it/s]"
     ]
    },
    {
     "name": "stdout",
     "output_type": "stream",
     "text": [
      "7.5248362663343755\n"
     ]
    },
    {
     "name": "stderr",
     "output_type": "stream",
     "text": [
      "Generations: 100%|██████████| 10000/10000 [00:11<00:00, 876.05it/s]\n",
      "Generations:   1%|          | 86/10000 [00:00<00:11, 858.09it/s]"
     ]
    },
    {
     "name": "stdout",
     "output_type": "stream",
     "text": [
      "8.552732695139397\n"
     ]
    },
    {
     "name": "stderr",
     "output_type": "stream",
     "text": [
      "Generations: 100%|██████████| 10000/10000 [00:11<00:00, 876.43it/s]\n",
      "Generations:   1%|          | 86/10000 [00:00<00:11, 852.85it/s]"
     ]
    },
    {
     "name": "stdout",
     "output_type": "stream",
     "text": [
      "7.167041628645251\n"
     ]
    },
    {
     "name": "stderr",
     "output_type": "stream",
     "text": [
      "Generations: 100%|██████████| 10000/10000 [00:11<00:00, 881.39it/s]\n",
      "Generations:   1%|          | 86/10000 [00:00<00:11, 844.24it/s]"
     ]
    },
    {
     "name": "stdout",
     "output_type": "stream",
     "text": [
      "4.851717181978302\n"
     ]
    },
    {
     "name": "stderr",
     "output_type": "stream",
     "text": [
      "Generations: 100%|██████████| 10000/10000 [00:11<00:00, 876.17it/s]\n",
      "Generations:   1%|          | 84/10000 [00:00<00:11, 827.94it/s]"
     ]
    },
    {
     "name": "stdout",
     "output_type": "stream",
     "text": [
      "5.195628936357451\n"
     ]
    },
    {
     "name": "stderr",
     "output_type": "stream",
     "text": [
      "Generations: 100%|██████████| 10000/10000 [00:11<00:00, 867.90it/s]\n",
      "Generations:   1%|          | 70/10000 [00:00<00:14, 687.01it/s]"
     ]
    },
    {
     "name": "stdout",
     "output_type": "stream",
     "text": [
      "4.723385439162058\n"
     ]
    },
    {
     "name": "stderr",
     "output_type": "stream",
     "text": [
      "Generations: 100%|██████████| 10000/10000 [00:14<00:00, 712.57it/s]\n",
      "Generations:   1%|          | 72/10000 [00:00<00:14, 707.86it/s]"
     ]
    },
    {
     "name": "stdout",
     "output_type": "stream",
     "text": [
      "2.3306244221398487\n"
     ]
    },
    {
     "name": "stderr",
     "output_type": "stream",
     "text": [
      "Generations: 100%|██████████| 10000/10000 [00:14<00:00, 708.95it/s]\n",
      "Generations:   1%|          | 66/10000 [00:00<00:15, 653.15it/s]"
     ]
    },
    {
     "name": "stdout",
     "output_type": "stream",
     "text": [
      "5.255587959027736\n"
     ]
    },
    {
     "name": "stderr",
     "output_type": "stream",
     "text": [
      "Generations: 100%|██████████| 10000/10000 [00:14<00:00, 708.81it/s]\n",
      "Generations:   1%|          | 68/10000 [00:00<00:14, 678.60it/s]"
     ]
    },
    {
     "name": "stdout",
     "output_type": "stream",
     "text": [
      "5.520401464289023\n"
     ]
    },
    {
     "name": "stderr",
     "output_type": "stream",
     "text": [
      "Generations: 100%|██████████| 10000/10000 [00:14<00:00, 702.06it/s]\n",
      "Generations:   1%|          | 66/10000 [00:00<00:15, 655.67it/s]"
     ]
    },
    {
     "name": "stdout",
     "output_type": "stream",
     "text": [
      "10.812144928336068\n"
     ]
    },
    {
     "name": "stderr",
     "output_type": "stream",
     "text": [
      "Generations: 100%|██████████| 10000/10000 [00:14<00:00, 708.38it/s]\n",
      "Generations:   1%|          | 68/10000 [00:00<00:14, 679.38it/s]"
     ]
    },
    {
     "name": "stdout",
     "output_type": "stream",
     "text": [
      "2.267570282938536\n"
     ]
    },
    {
     "name": "stderr",
     "output_type": "stream",
     "text": [
      "Generations: 100%|██████████| 10000/10000 [00:15<00:00, 630.11it/s]\n",
      "Generations:   1%|          | 68/10000 [00:00<00:14, 676.41it/s]"
     ]
    },
    {
     "name": "stdout",
     "output_type": "stream",
     "text": [
      "4.559337307670617\n"
     ]
    },
    {
     "name": "stderr",
     "output_type": "stream",
     "text": [
      "Generations: 100%|██████████| 10000/10000 [00:14<00:00, 707.79it/s]\n",
      "Generations:   1%|          | 72/10000 [00:00<00:13, 716.93it/s]"
     ]
    },
    {
     "name": "stdout",
     "output_type": "stream",
     "text": [
      "4.280157418035799\n"
     ]
    },
    {
     "name": "stderr",
     "output_type": "stream",
     "text": [
      "Generations: 100%|██████████| 10000/10000 [00:14<00:00, 702.49it/s]\n",
      "Generations:   1%|          | 68/10000 [00:00<00:14, 675.86it/s]"
     ]
    },
    {
     "name": "stdout",
     "output_type": "stream",
     "text": [
      "1.0324490886831938\n"
     ]
    },
    {
     "name": "stderr",
     "output_type": "stream",
     "text": [
      "Generations: 100%|██████████| 10000/10000 [00:14<00:00, 706.22it/s]\n",
      "Generations:   1%|          | 68/10000 [00:00<00:14, 668.05it/s]"
     ]
    },
    {
     "name": "stdout",
     "output_type": "stream",
     "text": [
      "8.924191292237879\n"
     ]
    },
    {
     "name": "stderr",
     "output_type": "stream",
     "text": [
      "Generations: 100%|██████████| 10000/10000 [00:14<00:00, 702.95it/s]\n",
      "Generations:   1%|          | 70/10000 [00:00<00:14, 684.02it/s]"
     ]
    },
    {
     "name": "stdout",
     "output_type": "stream",
     "text": [
      "3.2653570709810538\n"
     ]
    },
    {
     "name": "stderr",
     "output_type": "stream",
     "text": [
      "Generations: 100%|██████████| 10000/10000 [00:14<00:00, 697.62it/s]\n",
      "Generations:   1%|          | 68/10000 [00:00<00:14, 676.44it/s]"
     ]
    },
    {
     "name": "stdout",
     "output_type": "stream",
     "text": [
      "6.990388405643458\n"
     ]
    },
    {
     "name": "stderr",
     "output_type": "stream",
     "text": [
      "Generations: 100%|██████████| 10000/10000 [00:14<00:00, 705.48it/s]\n",
      "Generations:   1%|          | 72/10000 [00:00<00:13, 713.67it/s]"
     ]
    },
    {
     "name": "stdout",
     "output_type": "stream",
     "text": [
      "7.482959652646969\n"
     ]
    },
    {
     "name": "stderr",
     "output_type": "stream",
     "text": [
      "Generations: 100%|██████████| 10000/10000 [00:14<00:00, 707.57it/s]\n",
      "Generations:   1%|          | 70/10000 [00:00<00:14, 691.77it/s]"
     ]
    },
    {
     "name": "stdout",
     "output_type": "stream",
     "text": [
      "10.429030729333618\n"
     ]
    },
    {
     "name": "stderr",
     "output_type": "stream",
     "text": [
      "Generations: 100%|██████████| 10000/10000 [00:14<00:00, 706.55it/s]\n",
      "Generations:   1%|          | 72/10000 [00:00<00:13, 715.52it/s]"
     ]
    },
    {
     "name": "stdout",
     "output_type": "stream",
     "text": [
      "8.471070929821337\n"
     ]
    },
    {
     "name": "stderr",
     "output_type": "stream",
     "text": [
      "Generations: 100%|██████████| 10000/10000 [00:14<00:00, 710.61it/s]\n",
      "Generations:   1%|          | 68/10000 [00:00<00:14, 676.64it/s]"
     ]
    },
    {
     "name": "stdout",
     "output_type": "stream",
     "text": [
      "13.347756262401958\n"
     ]
    },
    {
     "name": "stderr",
     "output_type": "stream",
     "text": [
      "Generations: 100%|██████████| 10000/10000 [00:14<00:00, 710.28it/s]\n",
      "Generations:   1%|          | 66/10000 [00:00<00:15, 659.33it/s]"
     ]
    },
    {
     "name": "stdout",
     "output_type": "stream",
     "text": [
      "6.58825889141923\n"
     ]
    },
    {
     "name": "stderr",
     "output_type": "stream",
     "text": [
      "Generations: 100%|██████████| 10000/10000 [00:14<00:00, 691.08it/s]\n",
      "Generations:   1%|          | 66/10000 [00:00<00:15, 655.91it/s]"
     ]
    },
    {
     "name": "stdout",
     "output_type": "stream",
     "text": [
      "4.865940133591238\n"
     ]
    },
    {
     "name": "stderr",
     "output_type": "stream",
     "text": [
      "Generations: 100%|██████████| 10000/10000 [00:14<00:00, 704.62it/s]\n",
      "Generations:   1%|          | 64/10000 [00:00<00:15, 624.41it/s]"
     ]
    },
    {
     "name": "stdout",
     "output_type": "stream",
     "text": [
      "4.278574910775774\n"
     ]
    },
    {
     "name": "stderr",
     "output_type": "stream",
     "text": [
      "Generations: 100%|██████████| 10000/10000 [00:21<00:00, 456.12it/s]\n",
      "Generations:   1%|          | 72/10000 [00:00<00:14, 708.47it/s]"
     ]
    },
    {
     "name": "stdout",
     "output_type": "stream",
     "text": [
      "4.526877061596494\n"
     ]
    },
    {
     "name": "stderr",
     "output_type": "stream",
     "text": [
      "Generations: 100%|██████████| 10000/10000 [00:14<00:00, 702.66it/s]\n",
      "Generations:   1%|          | 70/10000 [00:00<00:14, 686.10it/s]"
     ]
    },
    {
     "name": "stdout",
     "output_type": "stream",
     "text": [
      "10.1771312169287\n"
     ]
    },
    {
     "name": "stderr",
     "output_type": "stream",
     "text": [
      "Generations: 100%|██████████| 10000/10000 [00:14<00:00, 694.82it/s]\n",
      "Generations:   1%|          | 72/10000 [00:00<00:13, 709.47it/s]"
     ]
    },
    {
     "name": "stdout",
     "output_type": "stream",
     "text": [
      "2.1781704439097496\n"
     ]
    },
    {
     "name": "stderr",
     "output_type": "stream",
     "text": [
      "Generations: 100%|██████████| 10000/10000 [00:14<00:00, 700.09it/s]\n",
      "Generations:   1%|          | 72/10000 [00:00<00:13, 712.08it/s]"
     ]
    },
    {
     "name": "stdout",
     "output_type": "stream",
     "text": [
      "1.5103498787937895\n"
     ]
    },
    {
     "name": "stderr",
     "output_type": "stream",
     "text": [
      "Generations: 100%|██████████| 10000/10000 [00:15<00:00, 638.89it/s]\n",
      "Generations:   1%|          | 62/10000 [00:00<00:16, 607.17it/s]"
     ]
    },
    {
     "name": "stdout",
     "output_type": "stream",
     "text": [
      "3.2898338893960926\n"
     ]
    },
    {
     "name": "stderr",
     "output_type": "stream",
     "text": [
      "Generations: 100%|██████████| 10000/10000 [00:28<00:00, 347.32it/s]\n",
      "Generations:   0%|          | 36/10000 [00:00<00:28, 355.02it/s]"
     ]
    },
    {
     "name": "stdout",
     "output_type": "stream",
     "text": [
      "7.6812237674258625\n"
     ]
    },
    {
     "name": "stderr",
     "output_type": "stream",
     "text": [
      "Generations: 100%|██████████| 10000/10000 [00:27<00:00, 365.97it/s]\n",
      "Generations:   0%|          | 36/10000 [00:00<00:28, 351.18it/s]"
     ]
    },
    {
     "name": "stdout",
     "output_type": "stream",
     "text": [
      "8.347978850201997\n"
     ]
    },
    {
     "name": "stderr",
     "output_type": "stream",
     "text": [
      "Generations: 100%|██████████| 10000/10000 [00:28<00:00, 356.69it/s]\n",
      "Generations:   0%|          | 42/10000 [00:00<00:25, 392.15it/s]"
     ]
    },
    {
     "name": "stdout",
     "output_type": "stream",
     "text": [
      "3.4925541021237336\n"
     ]
    },
    {
     "name": "stderr",
     "output_type": "stream",
     "text": [
      "Generations: 100%|██████████| 10000/10000 [00:28<00:00, 349.82it/s]\n",
      "Generations:   0%|          | 22/10000 [00:00<00:46, 214.77it/s]"
     ]
    },
    {
     "name": "stdout",
     "output_type": "stream",
     "text": [
      "6.492727082896877\n"
     ]
    },
    {
     "name": "stderr",
     "output_type": "stream",
     "text": [
      "Generations: 100%|██████████| 10000/10000 [00:28<00:00, 346.99it/s]\n",
      "Generations:   0%|          | 36/10000 [00:00<00:29, 341.03it/s]"
     ]
    },
    {
     "name": "stdout",
     "output_type": "stream",
     "text": [
      "4.55063724413705\n"
     ]
    },
    {
     "name": "stderr",
     "output_type": "stream",
     "text": [
      "Generations: 100%|██████████| 10000/10000 [00:27<00:00, 357.71it/s]\n",
      "Generations:   0%|          | 34/10000 [00:00<00:29, 334.14it/s]"
     ]
    },
    {
     "name": "stdout",
     "output_type": "stream",
     "text": [
      "5.768763958086737\n"
     ]
    },
    {
     "name": "stderr",
     "output_type": "stream",
     "text": [
      "Generations: 100%|██████████| 10000/10000 [00:28<00:00, 355.29it/s]\n",
      "Generations:   0%|          | 36/10000 [00:00<00:27, 359.23it/s]"
     ]
    },
    {
     "name": "stdout",
     "output_type": "stream",
     "text": [
      "2.4935365460221988\n"
     ]
    },
    {
     "name": "stderr",
     "output_type": "stream",
     "text": [
      "Generations: 100%|██████████| 10000/10000 [00:27<00:00, 366.90it/s]\n",
      "Generations:   0%|          | 36/10000 [00:00<00:28, 354.32it/s]"
     ]
    },
    {
     "name": "stdout",
     "output_type": "stream",
     "text": [
      "2.258490243938425\n"
     ]
    },
    {
     "name": "stderr",
     "output_type": "stream",
     "text": [
      "Generations: 100%|██████████| 10000/10000 [00:27<00:00, 364.81it/s]\n",
      "Generations:   0%|          | 36/10000 [00:00<00:28, 347.21it/s]"
     ]
    },
    {
     "name": "stdout",
     "output_type": "stream",
     "text": [
      "8.168333649131299\n"
     ]
    },
    {
     "name": "stderr",
     "output_type": "stream",
     "text": [
      "Generations: 100%|██████████| 10000/10000 [00:28<00:00, 356.02it/s]\n",
      "Generations:   0%|          | 30/10000 [00:00<00:34, 291.14it/s]"
     ]
    },
    {
     "name": "stdout",
     "output_type": "stream",
     "text": [
      "3.3011362950985585\n"
     ]
    },
    {
     "name": "stderr",
     "output_type": "stream",
     "text": [
      "Generations: 100%|██████████| 10000/10000 [00:32<00:00, 310.31it/s]\n",
      "Generations:   0%|          | 30/10000 [00:00<00:33, 297.86it/s]"
     ]
    },
    {
     "name": "stdout",
     "output_type": "stream",
     "text": [
      "4.231173209088297\n"
     ]
    },
    {
     "name": "stderr",
     "output_type": "stream",
     "text": [
      "Generations: 100%|██████████| 10000/10000 [00:32<00:00, 309.77it/s]\n",
      "Generations:   0%|          | 30/10000 [00:00<00:34, 292.70it/s]"
     ]
    },
    {
     "name": "stdout",
     "output_type": "stream",
     "text": [
      "3.2892630469854254\n"
     ]
    },
    {
     "name": "stderr",
     "output_type": "stream",
     "text": [
      "Generations: 100%|██████████| 10000/10000 [00:32<00:00, 307.43it/s]\n",
      "Generations:   0%|          | 32/10000 [00:00<00:32, 302.21it/s]"
     ]
    },
    {
     "name": "stdout",
     "output_type": "stream",
     "text": [
      "7.510004988747241\n"
     ]
    },
    {
     "name": "stderr",
     "output_type": "stream",
     "text": [
      "Generations: 100%|██████████| 10000/10000 [00:30<00:00, 325.29it/s]\n",
      "Generations:   0%|          | 30/10000 [00:00<00:33, 295.54it/s]"
     ]
    },
    {
     "name": "stdout",
     "output_type": "stream",
     "text": [
      "6.149011055418043\n"
     ]
    },
    {
     "name": "stderr",
     "output_type": "stream",
     "text": [
      "Generations: 100%|██████████| 10000/10000 [00:31<00:00, 318.71it/s]\n",
      "Generations:   0%|          | 32/10000 [00:00<00:31, 317.75it/s]"
     ]
    },
    {
     "name": "stdout",
     "output_type": "stream",
     "text": [
      "10.619454488473096\n"
     ]
    },
    {
     "name": "stderr",
     "output_type": "stream",
     "text": [
      "Generations: 100%|██████████| 10000/10000 [00:31<00:00, 320.03it/s]\n",
      "Generations:   0%|          | 32/10000 [00:00<00:34, 292.16it/s]"
     ]
    },
    {
     "name": "stdout",
     "output_type": "stream",
     "text": [
      "9.576320318409302\n"
     ]
    },
    {
     "name": "stderr",
     "output_type": "stream",
     "text": [
      "Generations: 100%|██████████| 10000/10000 [00:33<00:00, 299.68it/s]\n",
      "Generations:   0%|          | 32/10000 [00:00<00:31, 315.55it/s]"
     ]
    },
    {
     "name": "stdout",
     "output_type": "stream",
     "text": [
      "14.893325333162338\n"
     ]
    },
    {
     "name": "stderr",
     "output_type": "stream",
     "text": [
      "Generations: 100%|██████████| 10000/10000 [00:32<00:00, 304.79it/s]\n",
      "Generations:   0%|          | 30/10000 [00:00<00:33, 293.83it/s]"
     ]
    },
    {
     "name": "stdout",
     "output_type": "stream",
     "text": [
      "3.482385394213196\n"
     ]
    },
    {
     "name": "stderr",
     "output_type": "stream",
     "text": [
      "Generations: 100%|██████████| 10000/10000 [00:31<00:00, 320.48it/s]\n",
      "Generations:   0%|          | 38/10000 [00:00<00:27, 366.99it/s]"
     ]
    },
    {
     "name": "stdout",
     "output_type": "stream",
     "text": [
      "3.271811656550298\n"
     ]
    },
    {
     "name": "stderr",
     "output_type": "stream",
     "text": [
      "Generations: 100%|██████████| 10000/10000 [00:32<00:00, 309.46it/s]\n",
      "Generations:   0%|          | 32/10000 [00:00<00:32, 307.07it/s]"
     ]
    },
    {
     "name": "stdout",
     "output_type": "stream",
     "text": [
      "10.6849185047613\n"
     ]
    },
    {
     "name": "stderr",
     "output_type": "stream",
     "text": [
      "Generations: 100%|██████████| 10000/10000 [00:28<00:00, 348.21it/s]\n",
      "Generations:   0%|          | 34/10000 [00:00<00:29, 338.50it/s]"
     ]
    },
    {
     "name": "stdout",
     "output_type": "stream",
     "text": [
      "6.802835440731116\n"
     ]
    },
    {
     "name": "stderr",
     "output_type": "stream",
     "text": [
      "Generations: 100%|██████████| 10000/10000 [00:28<00:00, 354.92it/s]\n",
      "Generations:   0%|          | 42/10000 [00:00<00:24, 404.57it/s]"
     ]
    },
    {
     "name": "stdout",
     "output_type": "stream",
     "text": [
      "7.034954867760291\n"
     ]
    },
    {
     "name": "stderr",
     "output_type": "stream",
     "text": [
      "Generations: 100%|██████████| 10000/10000 [00:27<00:00, 367.74it/s]\n",
      "Generations:   0%|          | 38/10000 [00:00<00:26, 376.30it/s]"
     ]
    },
    {
     "name": "stdout",
     "output_type": "stream",
     "text": [
      "10.894482015821026\n"
     ]
    },
    {
     "name": "stderr",
     "output_type": "stream",
     "text": [
      "Generations: 100%|██████████| 10000/10000 [00:27<00:00, 365.37it/s]\n",
      "Generations:   0%|          | 40/10000 [00:00<00:25, 397.20it/s]"
     ]
    },
    {
     "name": "stdout",
     "output_type": "stream",
     "text": [
      "12.441775953506863\n"
     ]
    },
    {
     "name": "stderr",
     "output_type": "stream",
     "text": [
      "Generations: 100%|██████████| 10000/10000 [00:28<00:00, 353.20it/s]\n",
      "Generations:   0%|          | 40/10000 [00:00<00:25, 398.12it/s]"
     ]
    },
    {
     "name": "stdout",
     "output_type": "stream",
     "text": [
      "9.493130788104523\n"
     ]
    },
    {
     "name": "stderr",
     "output_type": "stream",
     "text": [
      "Generations: 100%|██████████| 10000/10000 [00:27<00:00, 370.31it/s]\n",
      "Generations:   0%|          | 38/10000 [00:00<00:26, 377.90it/s]"
     ]
    },
    {
     "name": "stdout",
     "output_type": "stream",
     "text": [
      "4.76012570152723\n"
     ]
    },
    {
     "name": "stderr",
     "output_type": "stream",
     "text": [
      "Generations: 100%|██████████| 10000/10000 [00:27<00:00, 369.28it/s]\n",
      "Generations:   0%|          | 36/10000 [00:00<00:28, 351.79it/s]"
     ]
    },
    {
     "name": "stdout",
     "output_type": "stream",
     "text": [
      "4.3184024959767555\n"
     ]
    },
    {
     "name": "stderr",
     "output_type": "stream",
     "text": [
      "Generations: 100%|██████████| 10000/10000 [00:27<00:00, 368.04it/s]\n",
      "Generations:   0%|          | 36/10000 [00:00<00:27, 359.06it/s]"
     ]
    },
    {
     "name": "stdout",
     "output_type": "stream",
     "text": [
      "11.556130970808013\n"
     ]
    },
    {
     "name": "stderr",
     "output_type": "stream",
     "text": [
      "Generations: 100%|██████████| 10000/10000 [00:27<00:00, 368.24it/s]\n",
      "Generations:   0%|          | 36/10000 [00:00<00:27, 359.92it/s]"
     ]
    },
    {
     "name": "stdout",
     "output_type": "stream",
     "text": [
      "3.513479703191649\n"
     ]
    },
    {
     "name": "stderr",
     "output_type": "stream",
     "text": [
      "Generations: 100%|██████████| 10000/10000 [00:27<00:00, 364.20it/s]\n",
      "Generations:   0%|          | 36/10000 [00:00<00:28, 350.14it/s]"
     ]
    },
    {
     "name": "stdout",
     "output_type": "stream",
     "text": [
      "10.199582250543841\n"
     ]
    },
    {
     "name": "stderr",
     "output_type": "stream",
     "text": [
      "Generations: 100%|██████████| 10000/10000 [00:27<00:00, 363.36it/s]\n",
      "Generations:   0%|          | 36/10000 [00:00<00:28, 351.44it/s]"
     ]
    },
    {
     "name": "stdout",
     "output_type": "stream",
     "text": [
      "12.362516140260425\n"
     ]
    },
    {
     "name": "stderr",
     "output_type": "stream",
     "text": [
      "Generations: 100%|██████████| 10000/10000 [00:27<00:00, 360.92it/s]\n",
      "Generations:   0%|          | 38/10000 [00:00<00:28, 355.75it/s]"
     ]
    },
    {
     "name": "stdout",
     "output_type": "stream",
     "text": [
      "9.510013435308252\n"
     ]
    },
    {
     "name": "stderr",
     "output_type": "stream",
     "text": [
      "Generations: 100%|██████████| 10000/10000 [00:27<00:00, 360.83it/s]\n",
      "Generations:   0%|          | 40/10000 [00:00<00:25, 390.69it/s]"
     ]
    },
    {
     "name": "stdout",
     "output_type": "stream",
     "text": [
      "14.12456124560957\n"
     ]
    },
    {
     "name": "stderr",
     "output_type": "stream",
     "text": [
      "Generations: 100%|██████████| 10000/10000 [00:27<00:00, 363.08it/s]\n",
      "Generations:   0%|          | 36/10000 [00:00<00:28, 351.29it/s]"
     ]
    },
    {
     "name": "stdout",
     "output_type": "stream",
     "text": [
      "2.647352971156181\n"
     ]
    },
    {
     "name": "stderr",
     "output_type": "stream",
     "text": [
      "Generations: 100%|██████████| 10000/10000 [00:27<00:00, 364.12it/s]\n",
      "Generations:   0%|          | 30/10000 [00:00<00:35, 277.31it/s]"
     ]
    },
    {
     "name": "stdout",
     "output_type": "stream",
     "text": [
      "9.468455710049994\n"
     ]
    },
    {
     "name": "stderr",
     "output_type": "stream",
     "text": [
      "Generations: 100%|██████████| 10000/10000 [00:28<00:00, 355.98it/s]\n",
      "Generations:   0%|          | 38/10000 [00:00<00:26, 372.19it/s]"
     ]
    },
    {
     "name": "stdout",
     "output_type": "stream",
     "text": [
      "5.7861720987122425\n"
     ]
    },
    {
     "name": "stderr",
     "output_type": "stream",
     "text": [
      "Generations: 100%|██████████| 10000/10000 [00:28<00:00, 355.89it/s]\n",
      "Generations:   0%|          | 38/10000 [00:00<00:27, 360.21it/s]"
     ]
    },
    {
     "name": "stdout",
     "output_type": "stream",
     "text": [
      "3.0403189049627883\n"
     ]
    },
    {
     "name": "stderr",
     "output_type": "stream",
     "text": [
      "Generations: 100%|██████████| 10000/10000 [00:29<00:00, 343.66it/s]\n",
      "Generations:   0%|          | 38/10000 [00:00<00:27, 366.38it/s]"
     ]
    },
    {
     "name": "stdout",
     "output_type": "stream",
     "text": [
      "6.468845251906188\n"
     ]
    },
    {
     "name": "stderr",
     "output_type": "stream",
     "text": [
      "Generations: 100%|██████████| 10000/10000 [00:27<00:00, 357.84it/s]\n",
      "Generations:   0%|          | 36/10000 [00:00<00:28, 353.77it/s]"
     ]
    },
    {
     "name": "stdout",
     "output_type": "stream",
     "text": [
      "7.164525583419291\n"
     ]
    },
    {
     "name": "stderr",
     "output_type": "stream",
     "text": [
      "Generations: 100%|██████████| 10000/10000 [00:26<00:00, 370.46it/s]\n",
      "Generations:   0%|          | 36/10000 [00:00<00:28, 350.01it/s]"
     ]
    },
    {
     "name": "stdout",
     "output_type": "stream",
     "text": [
      "5.803452025076396\n"
     ]
    },
    {
     "name": "stderr",
     "output_type": "stream",
     "text": [
      "Generations: 100%|██████████| 10000/10000 [00:29<00:00, 342.92it/s]\n",
      "Generations:   0%|          | 38/10000 [00:00<00:26, 376.47it/s]"
     ]
    },
    {
     "name": "stdout",
     "output_type": "stream",
     "text": [
      "9.757552156728082\n"
     ]
    },
    {
     "name": "stderr",
     "output_type": "stream",
     "text": [
      "Generations: 100%|██████████| 10000/10000 [00:29<00:00, 339.15it/s]\n",
      "Generations:   0%|          | 34/10000 [00:00<00:30, 328.69it/s]"
     ]
    },
    {
     "name": "stdout",
     "output_type": "stream",
     "text": [
      "2.7591839291800966\n"
     ]
    },
    {
     "name": "stderr",
     "output_type": "stream",
     "text": [
      "Generations: 100%|██████████| 10000/10000 [00:29<00:00, 342.60it/s]\n",
      "Generations:   0%|          | 30/10000 [00:00<00:33, 299.42it/s]"
     ]
    },
    {
     "name": "stdout",
     "output_type": "stream",
     "text": [
      "5.940972287793215\n"
     ]
    },
    {
     "name": "stderr",
     "output_type": "stream",
     "text": [
      "Generations: 100%|██████████| 10000/10000 [00:34<00:00, 291.60it/s]\n",
      "Generations:   0%|          | 30/10000 [00:00<00:34, 288.00it/s]"
     ]
    },
    {
     "name": "stdout",
     "output_type": "stream",
     "text": [
      "12.175756086714742\n"
     ]
    },
    {
     "name": "stderr",
     "output_type": "stream",
     "text": [
      "Generations: 100%|██████████| 10000/10000 [00:34<00:00, 286.62it/s]\n",
      "Generations:   0%|          | 28/10000 [00:00<00:38, 261.21it/s]"
     ]
    },
    {
     "name": "stdout",
     "output_type": "stream",
     "text": [
      "11.612327507580218\n"
     ]
    },
    {
     "name": "stderr",
     "output_type": "stream",
     "text": [
      "Generations: 100%|██████████| 10000/10000 [00:35<00:00, 278.56it/s]\n",
      "Generations:   0%|          | 30/10000 [00:00<00:33, 294.65it/s]"
     ]
    },
    {
     "name": "stdout",
     "output_type": "stream",
     "text": [
      "2.653592645410953\n"
     ]
    },
    {
     "name": "stderr",
     "output_type": "stream",
     "text": [
      "Generations: 100%|██████████| 10000/10000 [00:34<00:00, 293.70it/s]\n",
      "Generations:   0%|          | 26/10000 [00:00<00:40, 247.36it/s]"
     ]
    },
    {
     "name": "stdout",
     "output_type": "stream",
     "text": [
      "4.830386932495216\n"
     ]
    },
    {
     "name": "stderr",
     "output_type": "stream",
     "text": [
      "Generations: 100%|██████████| 10000/10000 [00:34<00:00, 290.83it/s]\n",
      "Generations:   0%|          | 32/10000 [00:00<00:33, 301.46it/s]"
     ]
    },
    {
     "name": "stdout",
     "output_type": "stream",
     "text": [
      "6.467644693617473\n"
     ]
    },
    {
     "name": "stderr",
     "output_type": "stream",
     "text": [
      "Generations: 100%|██████████| 10000/10000 [00:34<00:00, 294.04it/s]\n",
      "Generations:   0%|          | 26/10000 [00:00<00:40, 248.63it/s]"
     ]
    },
    {
     "name": "stdout",
     "output_type": "stream",
     "text": [
      "10.447389815160875\n"
     ]
    },
    {
     "name": "stderr",
     "output_type": "stream",
     "text": [
      "Generations: 100%|██████████| 10000/10000 [00:33<00:00, 295.85it/s]\n",
      "Generations:   0%|          | 30/10000 [00:00<00:34, 285.04it/s]"
     ]
    },
    {
     "name": "stdout",
     "output_type": "stream",
     "text": [
      "3.294252700245039\n"
     ]
    },
    {
     "name": "stderr",
     "output_type": "stream",
     "text": [
      "Generations: 100%|██████████| 10000/10000 [00:33<00:00, 296.68it/s]\n",
      "Generations:   0%|          | 30/10000 [00:00<00:33, 297.50it/s]"
     ]
    },
    {
     "name": "stdout",
     "output_type": "stream",
     "text": [
      "5.507659863570439\n"
     ]
    },
    {
     "name": "stderr",
     "output_type": "stream",
     "text": [
      "Generations: 100%|██████████| 10000/10000 [00:34<00:00, 291.87it/s]\n",
      "Generations:   0%|          | 30/10000 [00:00<00:34, 285.13it/s]"
     ]
    },
    {
     "name": "stdout",
     "output_type": "stream",
     "text": [
      "4.678554849253786\n"
     ]
    },
    {
     "name": "stderr",
     "output_type": "stream",
     "text": [
      "Generations: 100%|██████████| 10000/10000 [00:33<00:00, 296.06it/s]\n",
      "Generations:   0%|          | 30/10000 [00:00<00:35, 279.91it/s]"
     ]
    },
    {
     "name": "stdout",
     "output_type": "stream",
     "text": [
      "12.190602880365205\n"
     ]
    },
    {
     "name": "stderr",
     "output_type": "stream",
     "text": [
      "Generations: 100%|██████████| 10000/10000 [00:33<00:00, 296.45it/s]\n",
      "Generations:   0%|          | 30/10000 [00:00<00:33, 294.14it/s]"
     ]
    },
    {
     "name": "stdout",
     "output_type": "stream",
     "text": [
      "9.245173217629613\n"
     ]
    },
    {
     "name": "stderr",
     "output_type": "stream",
     "text": [
      "Generations: 100%|██████████| 10000/10000 [00:34<00:00, 293.34it/s]\n",
      "Generations:   0%|          | 30/10000 [00:00<00:33, 297.58it/s]"
     ]
    },
    {
     "name": "stdout",
     "output_type": "stream",
     "text": [
      "12.269397178280485\n"
     ]
    },
    {
     "name": "stderr",
     "output_type": "stream",
     "text": [
      "Generations: 100%|██████████| 10000/10000 [00:33<00:00, 299.69it/s]\n",
      "Generations:   0%|          | 30/10000 [00:00<00:33, 293.69it/s]"
     ]
    },
    {
     "name": "stdout",
     "output_type": "stream",
     "text": [
      "9.718426002696233\n"
     ]
    },
    {
     "name": "stderr",
     "output_type": "stream",
     "text": [
      "Generations: 100%|██████████| 10000/10000 [00:34<00:00, 286.03it/s]\n",
      "Generations:   0%|          | 28/10000 [00:00<00:35, 279.67it/s]"
     ]
    },
    {
     "name": "stdout",
     "output_type": "stream",
     "text": [
      "8.76383222060592\n"
     ]
    },
    {
     "name": "stderr",
     "output_type": "stream",
     "text": [
      "Generations: 100%|██████████| 10000/10000 [00:34<00:00, 289.51it/s]\n",
      "Generations:   0%|          | 32/10000 [00:00<00:32, 309.59it/s]"
     ]
    },
    {
     "name": "stdout",
     "output_type": "stream",
     "text": [
      "7.028234229961399\n"
     ]
    },
    {
     "name": "stderr",
     "output_type": "stream",
     "text": [
      "Generations: 100%|██████████| 10000/10000 [00:34<00:00, 292.90it/s]\n",
      "Generations:   0%|          | 28/10000 [00:00<00:36, 270.41it/s]"
     ]
    },
    {
     "name": "stdout",
     "output_type": "stream",
     "text": [
      "7.195765466609885\n"
     ]
    },
    {
     "name": "stderr",
     "output_type": "stream",
     "text": [
      "Generations: 100%|██████████| 10000/10000 [00:36<00:00, 274.45it/s]\n",
      "Generations:   0%|          | 28/10000 [00:00<00:36, 272.44it/s]"
     ]
    },
    {
     "name": "stdout",
     "output_type": "stream",
     "text": [
      "4.555127401580961\n"
     ]
    },
    {
     "name": "stderr",
     "output_type": "stream",
     "text": [
      "Generations: 100%|██████████| 10000/10000 [00:35<00:00, 278.58it/s]\n",
      "Generations:   0%|          | 28/10000 [00:00<00:38, 259.25it/s]"
     ]
    },
    {
     "name": "stdout",
     "output_type": "stream",
     "text": [
      "19.320269365707063\n"
     ]
    },
    {
     "name": "stderr",
     "output_type": "stream",
     "text": [
      "Generations: 100%|██████████| 10000/10000 [00:27<00:00, 361.90it/s]\n",
      "Generations:   0%|          | 40/10000 [00:00<00:25, 391.55it/s]"
     ]
    },
    {
     "name": "stdout",
     "output_type": "stream",
     "text": [
      "6.6002420757953075\n"
     ]
    },
    {
     "name": "stderr",
     "output_type": "stream",
     "text": [
      "Generations: 100%|██████████| 10000/10000 [00:29<00:00, 338.68it/s]\n",
      "Generations:   0%|          | 38/10000 [00:00<00:27, 365.41it/s]"
     ]
    },
    {
     "name": "stdout",
     "output_type": "stream",
     "text": [
      "4.520902621409888\n"
     ]
    },
    {
     "name": "stderr",
     "output_type": "stream",
     "text": [
      "Generations: 100%|██████████| 10000/10000 [00:33<00:00, 297.85it/s]\n",
      "Generations:   0%|          | 26/10000 [00:00<00:38, 258.26it/s]"
     ]
    },
    {
     "name": "stdout",
     "output_type": "stream",
     "text": [
      "10.015181234802853\n"
     ]
    },
    {
     "name": "stderr",
     "output_type": "stream",
     "text": [
      "Generations: 100%|██████████| 10000/10000 [00:44<00:00, 226.48it/s]\n",
      "Generations:   0%|          | 28/10000 [00:00<00:36, 274.93it/s]"
     ]
    },
    {
     "name": "stdout",
     "output_type": "stream",
     "text": [
      "5.2076441868978804\n"
     ]
    },
    {
     "name": "stderr",
     "output_type": "stream",
     "text": [
      "Generations: 100%|██████████| 10000/10000 [00:42<00:00, 237.99it/s]\n",
      "Generations:   0%|          | 28/10000 [00:00<00:37, 264.15it/s]"
     ]
    },
    {
     "name": "stdout",
     "output_type": "stream",
     "text": [
      "10.341091663511747\n"
     ]
    },
    {
     "name": "stderr",
     "output_type": "stream",
     "text": [
      "Generations: 100%|██████████| 10000/10000 [00:42<00:00, 233.91it/s]\n",
      "Generations:   0%|          | 24/10000 [00:00<00:44, 226.08it/s]"
     ]
    },
    {
     "name": "stdout",
     "output_type": "stream",
     "text": [
      "8.56363522662025\n"
     ]
    },
    {
     "name": "stderr",
     "output_type": "stream",
     "text": [
      "Generations: 100%|██████████| 10000/10000 [00:41<00:00, 242.80it/s]\n",
      "Generations:   0%|          | 28/10000 [00:00<00:37, 265.48it/s]"
     ]
    },
    {
     "name": "stdout",
     "output_type": "stream",
     "text": [
      "10.296272000811342\n"
     ]
    },
    {
     "name": "stderr",
     "output_type": "stream",
     "text": [
      "Generations: 100%|██████████| 10000/10000 [00:42<00:00, 233.67it/s]\n",
      "Generations:   0%|          | 26/10000 [00:00<00:40, 247.76it/s]"
     ]
    },
    {
     "name": "stdout",
     "output_type": "stream",
     "text": [
      "3.26404020259055\n"
     ]
    },
    {
     "name": "stderr",
     "output_type": "stream",
     "text": [
      "Generations: 100%|██████████| 10000/10000 [00:38<00:00, 261.46it/s]\n",
      "Generations:   0%|          | 26/10000 [00:00<00:39, 255.38it/s]"
     ]
    },
    {
     "name": "stdout",
     "output_type": "stream",
     "text": [
      "6.4430621885722275\n"
     ]
    },
    {
     "name": "stderr",
     "output_type": "stream",
     "text": [
      "Generations: 100%|██████████| 10000/10000 [00:38<00:00, 257.43it/s]\n",
      "Generations:   0%|          | 26/10000 [00:00<00:39, 251.20it/s]"
     ]
    },
    {
     "name": "stdout",
     "output_type": "stream",
     "text": [
      "8.287102404765221\n"
     ]
    },
    {
     "name": "stderr",
     "output_type": "stream",
     "text": [
      "Generations: 100%|██████████| 10000/10000 [00:38<00:00, 262.75it/s]\n",
      "Generations:   0%|          | 26/10000 [00:00<00:38, 258.21it/s]"
     ]
    },
    {
     "name": "stdout",
     "output_type": "stream",
     "text": [
      "8.113649117073294\n"
     ]
    },
    {
     "name": "stderr",
     "output_type": "stream",
     "text": [
      "Generations: 100%|██████████| 10000/10000 [00:38<00:00, 261.01it/s]\n",
      "Generations:   0%|          | 24/10000 [00:00<00:42, 235.22it/s]"
     ]
    },
    {
     "name": "stdout",
     "output_type": "stream",
     "text": [
      "5.767236407369069\n"
     ]
    },
    {
     "name": "stderr",
     "output_type": "stream",
     "text": [
      "Generations: 100%|██████████| 10000/10000 [00:37<00:00, 263.46it/s]\n",
      "Generations:   0%|          | 28/10000 [00:00<00:37, 264.00it/s]"
     ]
    },
    {
     "name": "stdout",
     "output_type": "stream",
     "text": [
      "4.953084867374159\n"
     ]
    },
    {
     "name": "stderr",
     "output_type": "stream",
     "text": [
      "Generations: 100%|██████████| 10000/10000 [00:38<00:00, 261.98it/s]\n",
      "Generations:   0%|          | 26/10000 [00:00<00:41, 242.95it/s]"
     ]
    },
    {
     "name": "stdout",
     "output_type": "stream",
     "text": [
      "4.532787592870818\n"
     ]
    },
    {
     "name": "stderr",
     "output_type": "stream",
     "text": [
      "Generations: 100%|██████████| 10000/10000 [00:38<00:00, 257.20it/s]"
     ]
    },
    {
     "name": "stdout",
     "output_type": "stream",
     "text": [
      "9.856316653315318\n"
     ]
    },
    {
     "name": "stderr",
     "output_type": "stream",
     "text": [
      "\n"
     ]
    }
   ],
   "source": [
    "ls = np.arange(start = 5, stop = 35, step = 5)\n",
    "\n",
    "for l_bits in ls:\n",
    "\n",
    "    for i in range(n_exec):\n",
    "        GA = GeneticAlgorithm(n = 10, m = 20, l = l_bits, max_eval = 10000, mut_prob = best_mut_prob, cross_prob = best_cross_prob, k = 20)\n",
    "        GA.solve()\n",
    "        fitness.append(GA.best_fitness)\n",
    "        print(GA.best_fitness)\n",
    "    f_l.append(fitness.copy())\n",
    "    fitness.clear()"
   ]
  },
  {
   "cell_type": "code",
   "execution_count": 39,
   "metadata": {},
   "outputs": [],
   "source": [
    "best_l = ls[np.argmin(np.mean(f_l, axis = 1))]"
   ]
  },
  {
   "cell_type": "code",
   "execution_count": 40,
   "metadata": {},
   "outputs": [
    {
     "name": "stderr",
     "output_type": "stream",
     "text": [
      "Generations: 100%|██████████| 10000/10000 [00:27<00:00, 369.66it/s]\n",
      "Generations:   0%|          | 36/10000 [00:00<00:27, 358.63it/s]"
     ]
    },
    {
     "name": "stdout",
     "output_type": "stream",
     "text": [
      "8.96180259202309\n"
     ]
    },
    {
     "name": "stderr",
     "output_type": "stream",
     "text": [
      "Generations: 100%|██████████| 10000/10000 [00:27<00:00, 370.22it/s]\n",
      "Generations:   0%|          | 42/10000 [00:00<00:24, 412.12it/s]"
     ]
    },
    {
     "name": "stdout",
     "output_type": "stream",
     "text": [
      "4.2249060475911335\n"
     ]
    },
    {
     "name": "stderr",
     "output_type": "stream",
     "text": [
      "Generations: 100%|██████████| 10000/10000 [00:27<00:00, 359.56it/s]\n",
      "Generations:   0%|          | 40/10000 [00:00<00:26, 374.64it/s]"
     ]
    },
    {
     "name": "stdout",
     "output_type": "stream",
     "text": [
      "9.436565462113137\n"
     ]
    },
    {
     "name": "stderr",
     "output_type": "stream",
     "text": [
      "Generations: 100%|██████████| 10000/10000 [00:26<00:00, 375.46it/s]\n",
      "Generations:   0%|          | 42/10000 [00:00<00:24, 404.00it/s]"
     ]
    },
    {
     "name": "stdout",
     "output_type": "stream",
     "text": [
      "4.659795787928772\n"
     ]
    },
    {
     "name": "stderr",
     "output_type": "stream",
     "text": [
      "Generations: 100%|██████████| 10000/10000 [00:26<00:00, 372.67it/s]\n",
      "Generations:   0%|          | 42/10000 [00:00<00:24, 403.50it/s]"
     ]
    },
    {
     "name": "stdout",
     "output_type": "stream",
     "text": [
      "6.948863749884552\n"
     ]
    },
    {
     "name": "stderr",
     "output_type": "stream",
     "text": [
      "Generations: 100%|██████████| 10000/10000 [00:26<00:00, 382.77it/s]\n",
      "Generations:   0%|          | 32/10000 [00:00<00:33, 301.26it/s]"
     ]
    },
    {
     "name": "stdout",
     "output_type": "stream",
     "text": [
      "4.932729797932836\n"
     ]
    },
    {
     "name": "stderr",
     "output_type": "stream",
     "text": [
      "Generations: 100%|██████████| 10000/10000 [00:25<00:00, 387.91it/s]\n",
      "Generations:   0%|          | 38/10000 [00:00<00:26, 372.03it/s]"
     ]
    },
    {
     "name": "stdout",
     "output_type": "stream",
     "text": [
      "0.014766029876184916\n"
     ]
    },
    {
     "name": "stderr",
     "output_type": "stream",
     "text": [
      "Generations: 100%|██████████| 10000/10000 [00:25<00:00, 384.70it/s]\n",
      "Generations:   0%|          | 36/10000 [00:00<00:27, 358.65it/s]"
     ]
    },
    {
     "name": "stdout",
     "output_type": "stream",
     "text": [
      "9.127895877319588\n"
     ]
    },
    {
     "name": "stderr",
     "output_type": "stream",
     "text": [
      "Generations: 100%|██████████| 10000/10000 [00:26<00:00, 383.28it/s]\n",
      "Generations:   0%|          | 36/10000 [00:00<00:27, 358.94it/s]"
     ]
    },
    {
     "name": "stdout",
     "output_type": "stream",
     "text": [
      "13.097278446444477\n"
     ]
    },
    {
     "name": "stderr",
     "output_type": "stream",
     "text": [
      "Generations: 100%|██████████| 10000/10000 [00:26<00:00, 382.53it/s]\n",
      "Generations:   0%|          | 40/10000 [00:00<00:25, 386.77it/s]"
     ]
    },
    {
     "name": "stdout",
     "output_type": "stream",
     "text": [
      "8.210040222798497\n"
     ]
    },
    {
     "name": "stderr",
     "output_type": "stream",
     "text": [
      "Generations: 100%|██████████| 10000/10000 [00:25<00:00, 399.50it/s]\n",
      "Generations:   0%|          | 34/10000 [00:00<00:29, 339.77it/s]"
     ]
    },
    {
     "name": "stdout",
     "output_type": "stream",
     "text": [
      "12.824835283998766\n"
     ]
    },
    {
     "name": "stderr",
     "output_type": "stream",
     "text": [
      "Generations: 100%|██████████| 10000/10000 [00:25<00:00, 397.74it/s]\n",
      "Generations:   0%|          | 42/10000 [00:00<00:24, 414.76it/s]"
     ]
    },
    {
     "name": "stdout",
     "output_type": "stream",
     "text": [
      "13.362702249258717\n"
     ]
    },
    {
     "name": "stderr",
     "output_type": "stream",
     "text": [
      "Generations: 100%|██████████| 10000/10000 [00:25<00:00, 394.18it/s]\n",
      "Generations:   0%|          | 36/10000 [00:00<00:28, 346.73it/s]"
     ]
    },
    {
     "name": "stdout",
     "output_type": "stream",
     "text": [
      "3.2677908260053954\n"
     ]
    },
    {
     "name": "stderr",
     "output_type": "stream",
     "text": [
      "Generations: 100%|██████████| 10000/10000 [00:26<00:00, 383.47it/s]\n",
      "Generations:   0%|          | 42/10000 [00:00<00:24, 410.09it/s]"
     ]
    },
    {
     "name": "stdout",
     "output_type": "stream",
     "text": [
      "1.4014193533467676\n"
     ]
    },
    {
     "name": "stderr",
     "output_type": "stream",
     "text": [
      "Generations: 100%|██████████| 10000/10000 [00:26<00:00, 383.06it/s]\n",
      "Generations:   0%|          | 38/10000 [00:00<00:27, 363.40it/s]"
     ]
    },
    {
     "name": "stdout",
     "output_type": "stream",
     "text": [
      "4.4873406121691914\n"
     ]
    },
    {
     "name": "stderr",
     "output_type": "stream",
     "text": [
      "Generations: 100%|██████████| 10000/10000 [00:25<00:00, 387.90it/s]\n",
      "Generations:   0%|          | 38/10000 [00:00<00:27, 365.05it/s]"
     ]
    },
    {
     "name": "stdout",
     "output_type": "stream",
     "text": [
      "1.0406959639224453\n"
     ]
    },
    {
     "name": "stderr",
     "output_type": "stream",
     "text": [
      "Generations: 100%|██████████| 10000/10000 [00:26<00:00, 377.39it/s]\n",
      "Generations:   0%|          | 40/10000 [00:00<00:25, 390.93it/s]"
     ]
    },
    {
     "name": "stdout",
     "output_type": "stream",
     "text": [
      "5.945617426285509\n"
     ]
    },
    {
     "name": "stderr",
     "output_type": "stream",
     "text": [
      "Generations: 100%|██████████| 10000/10000 [00:27<00:00, 368.45it/s]\n",
      "Generations:   0%|          | 42/10000 [00:00<00:24, 414.48it/s]"
     ]
    },
    {
     "name": "stdout",
     "output_type": "stream",
     "text": [
      "13.054242727417602\n"
     ]
    },
    {
     "name": "stderr",
     "output_type": "stream",
     "text": [
      "Generations: 100%|██████████| 10000/10000 [00:26<00:00, 382.31it/s]\n",
      "Generations:   0%|          | 46/10000 [00:00<00:22, 449.22it/s]"
     ]
    },
    {
     "name": "stdout",
     "output_type": "stream",
     "text": [
      "5.783872681565526\n"
     ]
    },
    {
     "name": "stderr",
     "output_type": "stream",
     "text": [
      "Generations: 100%|██████████| 10000/10000 [00:26<00:00, 381.92it/s]\n",
      "Generations:   0%|          | 38/10000 [00:00<00:27, 367.72it/s]"
     ]
    },
    {
     "name": "stdout",
     "output_type": "stream",
     "text": [
      "6.057156552352296\n"
     ]
    },
    {
     "name": "stderr",
     "output_type": "stream",
     "text": [
      "Generations: 100%|██████████| 10000/10000 [00:25<00:00, 388.88it/s]\n",
      "Generations:   0%|          | 46/10000 [00:00<00:21, 454.65it/s]"
     ]
    },
    {
     "name": "stdout",
     "output_type": "stream",
     "text": [
      "4.4954252180736916\n"
     ]
    },
    {
     "name": "stderr",
     "output_type": "stream",
     "text": [
      "Generations: 100%|██████████| 10000/10000 [00:26<00:00, 371.04it/s]\n",
      "Generations:   0%|          | 42/10000 [00:00<00:23, 415.38it/s]"
     ]
    },
    {
     "name": "stdout",
     "output_type": "stream",
     "text": [
      "9.642794934214379\n"
     ]
    },
    {
     "name": "stderr",
     "output_type": "stream",
     "text": [
      "Generations: 100%|██████████| 10000/10000 [00:26<00:00, 378.42it/s]\n",
      "Generations:   0%|          | 40/10000 [00:00<00:26, 379.78it/s]"
     ]
    },
    {
     "name": "stdout",
     "output_type": "stream",
     "text": [
      "4.750558045667063\n"
     ]
    },
    {
     "name": "stderr",
     "output_type": "stream",
     "text": [
      "Generations: 100%|██████████| 10000/10000 [00:26<00:00, 382.94it/s]\n",
      "Generations:   0%|          | 38/10000 [00:00<00:26, 376.23it/s]"
     ]
    },
    {
     "name": "stdout",
     "output_type": "stream",
     "text": [
      "11.431496657286615\n"
     ]
    },
    {
     "name": "stderr",
     "output_type": "stream",
     "text": [
      "Generations: 100%|██████████| 10000/10000 [00:25<00:00, 395.01it/s]\n",
      "Generations:   0%|          | 38/10000 [00:00<00:26, 378.20it/s]"
     ]
    },
    {
     "name": "stdout",
     "output_type": "stream",
     "text": [
      "6.982374088541164\n"
     ]
    },
    {
     "name": "stderr",
     "output_type": "stream",
     "text": [
      "Generations: 100%|██████████| 10000/10000 [00:25<00:00, 393.51it/s]\n",
      "Generations:   0%|          | 38/10000 [00:00<00:26, 374.40it/s]"
     ]
    },
    {
     "name": "stdout",
     "output_type": "stream",
     "text": [
      "4.463194932098901\n"
     ]
    },
    {
     "name": "stderr",
     "output_type": "stream",
     "text": [
      "Generations: 100%|██████████| 10000/10000 [00:25<00:00, 386.19it/s]\n",
      "Generations:   0%|          | 38/10000 [00:00<00:26, 379.87it/s]"
     ]
    },
    {
     "name": "stdout",
     "output_type": "stream",
     "text": [
      "7.432981400579962\n"
     ]
    },
    {
     "name": "stderr",
     "output_type": "stream",
     "text": [
      "Generations: 100%|██████████| 10000/10000 [00:25<00:00, 392.72it/s]\n",
      "Generations:   0%|          | 40/10000 [00:00<00:25, 393.62it/s]"
     ]
    },
    {
     "name": "stdout",
     "output_type": "stream",
     "text": [
      "17.800888965627337\n"
     ]
    },
    {
     "name": "stderr",
     "output_type": "stream",
     "text": [
      "Generations: 100%|██████████| 10000/10000 [00:24<00:00, 400.82it/s]\n",
      "Generations:   0%|          | 38/10000 [00:00<00:26, 377.43it/s]"
     ]
    },
    {
     "name": "stdout",
     "output_type": "stream",
     "text": [
      "11.130012954839088\n"
     ]
    },
    {
     "name": "stderr",
     "output_type": "stream",
     "text": [
      "Generations: 100%|██████████| 10000/10000 [00:24<00:00, 401.64it/s]\n",
      "Generations:   0%|          | 40/10000 [00:00<00:25, 388.01it/s]"
     ]
    },
    {
     "name": "stdout",
     "output_type": "stream",
     "text": [
      "10.902823913634947\n"
     ]
    },
    {
     "name": "stderr",
     "output_type": "stream",
     "text": [
      "Generations: 100%|██████████| 10000/10000 [00:25<00:00, 389.98it/s]\n",
      "Generations:   0%|          | 44/10000 [00:00<00:23, 422.83it/s]"
     ]
    },
    {
     "name": "stdout",
     "output_type": "stream",
     "text": [
      "6.026562044151575\n"
     ]
    },
    {
     "name": "stderr",
     "output_type": "stream",
     "text": [
      "Generations: 100%|██████████| 10000/10000 [00:26<00:00, 380.87it/s]\n",
      "Generations:   0%|          | 42/10000 [00:00<00:23, 417.45it/s]"
     ]
    },
    {
     "name": "stdout",
     "output_type": "stream",
     "text": [
      "9.155435495399857\n"
     ]
    },
    {
     "name": "stderr",
     "output_type": "stream",
     "text": [
      "Generations: 100%|██████████| 10000/10000 [00:25<00:00, 394.81it/s]\n",
      "Generations:   0%|          | 46/10000 [00:00<00:22, 450.75it/s]"
     ]
    },
    {
     "name": "stdout",
     "output_type": "stream",
     "text": [
      "8.444360198772273\n"
     ]
    },
    {
     "name": "stderr",
     "output_type": "stream",
     "text": [
      "Generations: 100%|██████████| 10000/10000 [00:25<00:00, 397.39it/s]\n",
      "Generations:   0%|          | 34/10000 [00:00<00:30, 326.81it/s]"
     ]
    },
    {
     "name": "stdout",
     "output_type": "stream",
     "text": [
      "5.295674033199276\n"
     ]
    },
    {
     "name": "stderr",
     "output_type": "stream",
     "text": [
      "Generations: 100%|██████████| 10000/10000 [00:26<00:00, 383.57it/s]\n",
      "Generations:   0%|          | 40/10000 [00:00<00:25, 383.91it/s]"
     ]
    },
    {
     "name": "stdout",
     "output_type": "stream",
     "text": [
      "5.478695540718661\n"
     ]
    },
    {
     "name": "stderr",
     "output_type": "stream",
     "text": [
      "Generations: 100%|██████████| 10000/10000 [00:26<00:00, 376.47it/s]\n",
      "Generations:   0%|          | 36/10000 [00:00<00:28, 349.29it/s]"
     ]
    },
    {
     "name": "stdout",
     "output_type": "stream",
     "text": [
      "9.453735953816405\n"
     ]
    },
    {
     "name": "stderr",
     "output_type": "stream",
     "text": [
      "Generations: 100%|██████████| 10000/10000 [00:26<00:00, 383.57it/s]\n",
      "Generations:   0%|          | 38/10000 [00:00<00:28, 354.62it/s]"
     ]
    },
    {
     "name": "stdout",
     "output_type": "stream",
     "text": [
      "5.985071967397275\n"
     ]
    },
    {
     "name": "stderr",
     "output_type": "stream",
     "text": [
      "Generations: 100%|██████████| 10000/10000 [00:26<00:00, 376.57it/s]\n",
      "Generations:   0%|          | 40/10000 [00:00<00:25, 397.60it/s]"
     ]
    },
    {
     "name": "stdout",
     "output_type": "stream",
     "text": [
      "3.7197197683027525\n"
     ]
    },
    {
     "name": "stderr",
     "output_type": "stream",
     "text": [
      "Generations: 100%|██████████| 10000/10000 [00:25<00:00, 391.30it/s]\n",
      "Generations:   0%|          | 32/10000 [00:00<00:32, 305.95it/s]"
     ]
    },
    {
     "name": "stdout",
     "output_type": "stream",
     "text": [
      "6.463011487740829\n"
     ]
    },
    {
     "name": "stderr",
     "output_type": "stream",
     "text": [
      "Generations: 100%|██████████| 10000/10000 [00:25<00:00, 385.89it/s]\n",
      "Generations:   0%|          | 40/10000 [00:00<00:25, 390.92it/s]"
     ]
    },
    {
     "name": "stdout",
     "output_type": "stream",
     "text": [
      "10.67370687350973\n"
     ]
    },
    {
     "name": "stderr",
     "output_type": "stream",
     "text": [
      "Generations: 100%|██████████| 10000/10000 [00:26<00:00, 376.16it/s]\n",
      "Generations:   0%|          | 36/10000 [00:00<00:27, 359.19it/s]"
     ]
    },
    {
     "name": "stdout",
     "output_type": "stream",
     "text": [
      "8.571280511917905\n"
     ]
    },
    {
     "name": "stderr",
     "output_type": "stream",
     "text": [
      "Generations: 100%|██████████| 10000/10000 [00:26<00:00, 377.69it/s]\n",
      "Generations:   0%|          | 36/10000 [00:00<00:27, 357.05it/s]"
     ]
    },
    {
     "name": "stdout",
     "output_type": "stream",
     "text": [
      "8.911756437886751\n"
     ]
    },
    {
     "name": "stderr",
     "output_type": "stream",
     "text": [
      "Generations: 100%|██████████| 10000/10000 [00:26<00:00, 374.74it/s]\n",
      "Generations:   0%|          | 38/10000 [00:00<00:27, 365.77it/s]"
     ]
    },
    {
     "name": "stdout",
     "output_type": "stream",
     "text": [
      "13.38670888085025\n"
     ]
    },
    {
     "name": "stderr",
     "output_type": "stream",
     "text": [
      "Generations: 100%|██████████| 10000/10000 [00:25<00:00, 385.49it/s]\n",
      "Generations:   0%|          | 38/10000 [00:00<00:26, 378.04it/s]"
     ]
    },
    {
     "name": "stdout",
     "output_type": "stream",
     "text": [
      "3.341402863789085\n"
     ]
    },
    {
     "name": "stderr",
     "output_type": "stream",
     "text": [
      "Generations: 100%|██████████| 10000/10000 [00:25<00:00, 388.38it/s]\n",
      "Generations:   0%|          | 42/10000 [00:00<00:24, 403.98it/s]"
     ]
    },
    {
     "name": "stdout",
     "output_type": "stream",
     "text": [
      "3.516692583227268\n"
     ]
    },
    {
     "name": "stderr",
     "output_type": "stream",
     "text": [
      "Generations: 100%|██████████| 10000/10000 [00:26<00:00, 377.10it/s]\n",
      "Generations:   0%|          | 40/10000 [00:00<00:25, 386.95it/s]"
     ]
    },
    {
     "name": "stdout",
     "output_type": "stream",
     "text": [
      "7.270596733435937\n"
     ]
    },
    {
     "name": "stderr",
     "output_type": "stream",
     "text": [
      "Generations: 100%|██████████| 10000/10000 [00:25<00:00, 384.93it/s]\n",
      "Generations:   0%|          | 36/10000 [00:00<00:28, 348.90it/s]"
     ]
    },
    {
     "name": "stdout",
     "output_type": "stream",
     "text": [
      "5.247385093870079\n"
     ]
    },
    {
     "name": "stderr",
     "output_type": "stream",
     "text": [
      "Generations: 100%|██████████| 10000/10000 [00:26<00:00, 380.17it/s]\n",
      "Generations:   0%|          | 36/10000 [00:00<00:28, 350.32it/s]"
     ]
    },
    {
     "name": "stdout",
     "output_type": "stream",
     "text": [
      "5.951798790243458\n"
     ]
    },
    {
     "name": "stderr",
     "output_type": "stream",
     "text": [
      "Generations: 100%|██████████| 10000/10000 [00:27<00:00, 368.85it/s]\n",
      "Generations:   0%|          | 40/10000 [00:00<00:25, 391.03it/s]"
     ]
    },
    {
     "name": "stdout",
     "output_type": "stream",
     "text": [
      "5.267205114963929\n"
     ]
    },
    {
     "name": "stderr",
     "output_type": "stream",
     "text": [
      "Generations: 100%|██████████| 10000/10000 [00:26<00:00, 371.08it/s]\n",
      "Generations:   0%|          | 40/10000 [00:00<00:26, 382.05it/s]"
     ]
    },
    {
     "name": "stdout",
     "output_type": "stream",
     "text": [
      "9.176462802654058\n"
     ]
    },
    {
     "name": "stderr",
     "output_type": "stream",
     "text": [
      "Generations: 100%|██████████| 10000/10000 [00:26<00:00, 381.38it/s]\n",
      "Generations:   0%|          | 38/10000 [00:00<00:27, 365.90it/s]"
     ]
    },
    {
     "name": "stdout",
     "output_type": "stream",
     "text": [
      "8.677131242236925\n"
     ]
    },
    {
     "name": "stderr",
     "output_type": "stream",
     "text": [
      "Generations: 100%|██████████| 10000/10000 [00:25<00:00, 386.23it/s]\n",
      "Generations:   0%|          | 40/10000 [00:00<00:25, 392.17it/s]"
     ]
    },
    {
     "name": "stdout",
     "output_type": "stream",
     "text": [
      "3.3998921563016182\n"
     ]
    },
    {
     "name": "stderr",
     "output_type": "stream",
     "text": [
      "Generations: 100%|██████████| 10000/10000 [00:26<00:00, 371.05it/s]\n",
      "Generations:   0%|          | 40/10000 [00:00<00:25, 394.26it/s]"
     ]
    },
    {
     "name": "stdout",
     "output_type": "stream",
     "text": [
      "3.2605914252406194\n"
     ]
    },
    {
     "name": "stderr",
     "output_type": "stream",
     "text": [
      "Generations: 100%|██████████| 10000/10000 [00:26<00:00, 382.37it/s]\n",
      "Generations:   0%|          | 44/10000 [00:00<00:23, 430.38it/s]"
     ]
    },
    {
     "name": "stdout",
     "output_type": "stream",
     "text": [
      "13.092808208545108\n"
     ]
    },
    {
     "name": "stderr",
     "output_type": "stream",
     "text": [
      "Generations: 100%|██████████| 10000/10000 [00:25<00:00, 390.53it/s]\n",
      "Generations:   0%|          | 40/10000 [00:00<00:26, 380.57it/s]"
     ]
    },
    {
     "name": "stdout",
     "output_type": "stream",
     "text": [
      "13.27318003680989\n"
     ]
    },
    {
     "name": "stderr",
     "output_type": "stream",
     "text": [
      "Generations: 100%|██████████| 10000/10000 [00:25<00:00, 396.20it/s]\n",
      "Generations:   0%|          | 44/10000 [00:00<00:23, 425.04it/s]"
     ]
    },
    {
     "name": "stdout",
     "output_type": "stream",
     "text": [
      "2.2263011450846193\n"
     ]
    },
    {
     "name": "stderr",
     "output_type": "stream",
     "text": [
      "Generations: 100%|██████████| 10000/10000 [00:25<00:00, 395.56it/s]\n",
      "Generations:   0%|          | 38/10000 [00:00<00:26, 378.98it/s]"
     ]
    },
    {
     "name": "stdout",
     "output_type": "stream",
     "text": [
      "13.079648215626761\n"
     ]
    },
    {
     "name": "stderr",
     "output_type": "stream",
     "text": [
      "Generations: 100%|██████████| 10000/10000 [00:24<00:00, 403.14it/s]\n",
      "Generations:   0%|          | 42/10000 [00:00<00:23, 415.72it/s]"
     ]
    },
    {
     "name": "stdout",
     "output_type": "stream",
     "text": [
      "9.187183757030937\n"
     ]
    },
    {
     "name": "stderr",
     "output_type": "stream",
     "text": [
      "Generations: 100%|██████████| 10000/10000 [00:26<00:00, 382.78it/s]\n",
      "Generations:   0%|          | 40/10000 [00:00<00:25, 386.40it/s]"
     ]
    },
    {
     "name": "stdout",
     "output_type": "stream",
     "text": [
      "10.229300826458896\n"
     ]
    },
    {
     "name": "stderr",
     "output_type": "stream",
     "text": [
      "Generations: 100%|██████████| 10000/10000 [00:26<00:00, 379.09it/s]\n",
      "Generations:   0%|          | 44/10000 [00:00<00:22, 436.35it/s]"
     ]
    },
    {
     "name": "stdout",
     "output_type": "stream",
     "text": [
      "4.548101017720853\n"
     ]
    },
    {
     "name": "stderr",
     "output_type": "stream",
     "text": [
      "Generations: 100%|██████████| 10000/10000 [00:26<00:00, 377.85it/s]\n",
      "Generations:   0%|          | 34/10000 [00:00<00:31, 317.08it/s]"
     ]
    },
    {
     "name": "stdout",
     "output_type": "stream",
     "text": [
      "2.3292784245308127\n"
     ]
    },
    {
     "name": "stderr",
     "output_type": "stream",
     "text": [
      "Generations: 100%|██████████| 10000/10000 [00:26<00:00, 381.15it/s]\n",
      "Generations:   0%|          | 36/10000 [00:00<00:28, 355.04it/s]"
     ]
    },
    {
     "name": "stdout",
     "output_type": "stream",
     "text": [
      "6.403285586490597\n"
     ]
    },
    {
     "name": "stderr",
     "output_type": "stream",
     "text": [
      "Generations: 100%|██████████| 10000/10000 [00:26<00:00, 374.70it/s]\n",
      "Generations:   0%|          | 40/10000 [00:00<00:26, 383.01it/s]"
     ]
    },
    {
     "name": "stdout",
     "output_type": "stream",
     "text": [
      "4.7832482267976815\n"
     ]
    },
    {
     "name": "stderr",
     "output_type": "stream",
     "text": [
      "Generations: 100%|██████████| 10000/10000 [00:26<00:00, 375.16it/s]\n",
      "Generations:   0%|          | 40/10000 [00:00<00:24, 398.40it/s]"
     ]
    },
    {
     "name": "stdout",
     "output_type": "stream",
     "text": [
      "7.449157892452291\n"
     ]
    },
    {
     "name": "stderr",
     "output_type": "stream",
     "text": [
      "Generations: 100%|██████████| 10000/10000 [00:25<00:00, 386.50it/s]\n",
      "Generations:   0%|          | 36/10000 [00:00<00:28, 348.53it/s]"
     ]
    },
    {
     "name": "stdout",
     "output_type": "stream",
     "text": [
      "4.9555739951435385\n"
     ]
    },
    {
     "name": "stderr",
     "output_type": "stream",
     "text": [
      "Generations: 100%|██████████| 10000/10000 [00:26<00:00, 379.14it/s]\n",
      "Generations:   0%|          | 34/10000 [00:00<00:30, 326.90it/s]"
     ]
    },
    {
     "name": "stdout",
     "output_type": "stream",
     "text": [
      "5.539917801208404\n"
     ]
    },
    {
     "name": "stderr",
     "output_type": "stream",
     "text": [
      "Generations: 100%|██████████| 10000/10000 [00:27<00:00, 369.82it/s]\n",
      "Generations:   0%|          | 42/10000 [00:00<00:23, 417.61it/s]"
     ]
    },
    {
     "name": "stdout",
     "output_type": "stream",
     "text": [
      "7.113414459800509\n"
     ]
    },
    {
     "name": "stderr",
     "output_type": "stream",
     "text": [
      "Generations: 100%|██████████| 10000/10000 [00:26<00:00, 379.60it/s]\n",
      "Generations:   0%|          | 40/10000 [00:00<00:25, 389.84it/s]"
     ]
    },
    {
     "name": "stdout",
     "output_type": "stream",
     "text": [
      "7.097174821401012\n"
     ]
    },
    {
     "name": "stderr",
     "output_type": "stream",
     "text": [
      "Generations: 100%|██████████| 10000/10000 [00:27<00:00, 369.42it/s]\n",
      "Generations:   0%|          | 40/10000 [00:00<00:25, 390.21it/s]"
     ]
    },
    {
     "name": "stdout",
     "output_type": "stream",
     "text": [
      "10.944030865888024\n"
     ]
    },
    {
     "name": "stderr",
     "output_type": "stream",
     "text": [
      "Generations: 100%|██████████| 10000/10000 [00:27<00:00, 368.52it/s]\n",
      "Generations:   0%|          | 40/10000 [00:00<00:25, 396.80it/s]"
     ]
    },
    {
     "name": "stdout",
     "output_type": "stream",
     "text": [
      "4.258027689265077\n"
     ]
    },
    {
     "name": "stderr",
     "output_type": "stream",
     "text": [
      "Generations: 100%|██████████| 10000/10000 [00:27<00:00, 369.84it/s]\n",
      "Generations:   0%|          | 40/10000 [00:00<00:25, 387.47it/s]"
     ]
    },
    {
     "name": "stdout",
     "output_type": "stream",
     "text": [
      "10.75884789123387\n"
     ]
    },
    {
     "name": "stderr",
     "output_type": "stream",
     "text": [
      "Generations: 100%|██████████| 10000/10000 [00:27<00:00, 363.81it/s]\n",
      "Generations:   0%|          | 38/10000 [00:00<00:26, 374.40it/s]"
     ]
    },
    {
     "name": "stdout",
     "output_type": "stream",
     "text": [
      "7.355059186392282\n"
     ]
    },
    {
     "name": "stderr",
     "output_type": "stream",
     "text": [
      "Generations: 100%|██████████| 10000/10000 [00:28<00:00, 354.51it/s]\n",
      "Generations:   0%|          | 36/10000 [00:00<00:28, 345.66it/s]"
     ]
    },
    {
     "name": "stdout",
     "output_type": "stream",
     "text": [
      "9.015325170935682\n"
     ]
    },
    {
     "name": "stderr",
     "output_type": "stream",
     "text": [
      "Generations: 100%|██████████| 10000/10000 [00:26<00:00, 374.02it/s]\n",
      "Generations:   0%|          | 34/10000 [00:00<00:30, 329.21it/s]"
     ]
    },
    {
     "name": "stdout",
     "output_type": "stream",
     "text": [
      "5.26049162536998\n"
     ]
    },
    {
     "name": "stderr",
     "output_type": "stream",
     "text": [
      "Generations: 100%|██████████| 10000/10000 [00:26<00:00, 381.14it/s]\n",
      "Generations:   0%|          | 42/10000 [00:00<00:25, 393.70it/s]"
     ]
    },
    {
     "name": "stdout",
     "output_type": "stream",
     "text": [
      "6.3168321703983565\n"
     ]
    },
    {
     "name": "stderr",
     "output_type": "stream",
     "text": [
      "Generations: 100%|██████████| 10000/10000 [00:26<00:00, 373.49it/s]\n",
      "Generations:   0%|          | 34/10000 [00:00<00:30, 331.85it/s]"
     ]
    },
    {
     "name": "stdout",
     "output_type": "stream",
     "text": [
      "5.781039386592482\n"
     ]
    },
    {
     "name": "stderr",
     "output_type": "stream",
     "text": [
      "Generations: 100%|██████████| 10000/10000 [00:27<00:00, 365.41it/s]\n",
      "Generations:   0%|          | 38/10000 [00:00<00:27, 363.10it/s]"
     ]
    },
    {
     "name": "stdout",
     "output_type": "stream",
     "text": [
      "7.243093014588965\n"
     ]
    },
    {
     "name": "stderr",
     "output_type": "stream",
     "text": [
      "Generations: 100%|██████████| 10000/10000 [00:27<00:00, 363.26it/s]\n",
      "Generations:   0%|          | 38/10000 [00:00<00:26, 375.60it/s]"
     ]
    },
    {
     "name": "stdout",
     "output_type": "stream",
     "text": [
      "1.582991022273987\n"
     ]
    },
    {
     "name": "stderr",
     "output_type": "stream",
     "text": [
      "Generations: 100%|██████████| 10000/10000 [00:27<00:00, 361.70it/s]\n",
      "Generations:   0%|          | 38/10000 [00:00<00:27, 364.61it/s]"
     ]
    },
    {
     "name": "stdout",
     "output_type": "stream",
     "text": [
      "9.860192748001452\n"
     ]
    },
    {
     "name": "stderr",
     "output_type": "stream",
     "text": [
      "Generations: 100%|██████████| 10000/10000 [00:27<00:00, 365.29it/s]\n",
      "Generations:   0%|          | 42/10000 [00:00<00:24, 413.64it/s]"
     ]
    },
    {
     "name": "stdout",
     "output_type": "stream",
     "text": [
      "4.536416972134745\n"
     ]
    },
    {
     "name": "stderr",
     "output_type": "stream",
     "text": [
      "Generations: 100%|██████████| 10000/10000 [00:26<00:00, 373.60it/s]\n",
      "Generations:   0%|          | 42/10000 [00:00<00:24, 405.31it/s]"
     ]
    },
    {
     "name": "stdout",
     "output_type": "stream",
     "text": [
      "3.156245320982734\n"
     ]
    },
    {
     "name": "stderr",
     "output_type": "stream",
     "text": [
      "Generations: 100%|██████████| 10000/10000 [00:27<00:00, 366.46it/s]\n",
      "Generations:   0%|          | 48/10000 [00:00<00:21, 468.56it/s]"
     ]
    },
    {
     "name": "stdout",
     "output_type": "stream",
     "text": [
      "7.116438994954493\n"
     ]
    },
    {
     "name": "stderr",
     "output_type": "stream",
     "text": [
      "Generations: 100%|██████████| 10000/10000 [00:27<00:00, 365.46it/s]\n",
      "Generations:   0%|          | 44/10000 [00:00<00:22, 435.48it/s]"
     ]
    },
    {
     "name": "stdout",
     "output_type": "stream",
     "text": [
      "2.0747305681804704\n"
     ]
    },
    {
     "name": "stderr",
     "output_type": "stream",
     "text": [
      "Generations: 100%|██████████| 10000/10000 [00:27<00:00, 369.35it/s]\n",
      "Generations:   0%|          | 40/10000 [00:00<00:25, 396.29it/s]"
     ]
    },
    {
     "name": "stdout",
     "output_type": "stream",
     "text": [
      "3.9164622941120513\n"
     ]
    },
    {
     "name": "stderr",
     "output_type": "stream",
     "text": [
      "Generations: 100%|██████████| 10000/10000 [00:27<00:00, 365.14it/s]\n",
      "Generations:   0%|          | 34/10000 [00:00<00:30, 331.91it/s]"
     ]
    },
    {
     "name": "stdout",
     "output_type": "stream",
     "text": [
      "8.440425997276307\n"
     ]
    },
    {
     "name": "stderr",
     "output_type": "stream",
     "text": [
      "Generations: 100%|██████████| 10000/10000 [00:26<00:00, 371.32it/s]\n",
      "Generations:   0%|          | 38/10000 [00:00<00:26, 377.17it/s]"
     ]
    },
    {
     "name": "stdout",
     "output_type": "stream",
     "text": [
      "1.703898053206018\n"
     ]
    },
    {
     "name": "stderr",
     "output_type": "stream",
     "text": [
      "Generations: 100%|██████████| 10000/10000 [00:26<00:00, 382.92it/s]\n",
      "Generations:   0%|          | 38/10000 [00:00<00:26, 369.39it/s]"
     ]
    },
    {
     "name": "stdout",
     "output_type": "stream",
     "text": [
      "9.189133359297315\n"
     ]
    },
    {
     "name": "stderr",
     "output_type": "stream",
     "text": [
      "Generations: 100%|██████████| 10000/10000 [00:26<00:00, 372.61it/s]\n",
      "Generations:   0%|          | 42/10000 [00:00<00:23, 418.30it/s]"
     ]
    },
    {
     "name": "stdout",
     "output_type": "stream",
     "text": [
      "4.756793195117979\n"
     ]
    },
    {
     "name": "stderr",
     "output_type": "stream",
     "text": [
      "Generations: 100%|██████████| 10000/10000 [00:26<00:00, 379.11it/s]\n",
      "Generations:   0%|          | 48/10000 [00:00<00:21, 468.68it/s]"
     ]
    },
    {
     "name": "stdout",
     "output_type": "stream",
     "text": [
      "9.536576711360652\n"
     ]
    },
    {
     "name": "stderr",
     "output_type": "stream",
     "text": [
      "Generations: 100%|██████████| 10000/10000 [00:26<00:00, 375.16it/s]\n",
      "Generations:   0%|          | 42/10000 [00:00<00:24, 411.42it/s]"
     ]
    },
    {
     "name": "stdout",
     "output_type": "stream",
     "text": [
      "7.678254011463238\n"
     ]
    },
    {
     "name": "stderr",
     "output_type": "stream",
     "text": [
      "Generations: 100%|██████████| 10000/10000 [00:26<00:00, 376.36it/s]\n",
      "Generations:   0%|          | 34/10000 [00:00<00:29, 339.09it/s]"
     ]
    },
    {
     "name": "stdout",
     "output_type": "stream",
     "text": [
      "1.5138921363353859\n"
     ]
    },
    {
     "name": "stderr",
     "output_type": "stream",
     "text": [
      "Generations: 100%|██████████| 10000/10000 [00:26<00:00, 376.37it/s]\n",
      "Generations:   0%|          | 42/10000 [00:00<00:23, 416.46it/s]"
     ]
    },
    {
     "name": "stdout",
     "output_type": "stream",
     "text": [
      "6.092612497255146\n"
     ]
    },
    {
     "name": "stderr",
     "output_type": "stream",
     "text": [
      "Generations: 100%|██████████| 10000/10000 [00:26<00:00, 380.24it/s]\n",
      "Generations:   0%|          | 38/10000 [00:00<00:26, 369.30it/s]"
     ]
    },
    {
     "name": "stdout",
     "output_type": "stream",
     "text": [
      "7.095408800826306\n"
     ]
    },
    {
     "name": "stderr",
     "output_type": "stream",
     "text": [
      "Generations: 100%|██████████| 10000/10000 [00:26<00:00, 376.32it/s]\n",
      "Generations:   0%|          | 38/10000 [00:00<00:26, 371.09it/s]"
     ]
    },
    {
     "name": "stdout",
     "output_type": "stream",
     "text": [
      "2.4333084762921118\n"
     ]
    },
    {
     "name": "stderr",
     "output_type": "stream",
     "text": [
      "Generations: 100%|██████████| 10000/10000 [00:27<00:00, 366.07it/s]\n",
      "Generations:   0%|          | 46/10000 [00:00<00:23, 430.12it/s]"
     ]
    },
    {
     "name": "stdout",
     "output_type": "stream",
     "text": [
      "5.914833246435833\n"
     ]
    },
    {
     "name": "stderr",
     "output_type": "stream",
     "text": [
      "Generations: 100%|██████████| 10000/10000 [00:25<00:00, 388.63it/s]\n",
      "Generations:   0%|          | 40/10000 [00:00<00:24, 399.64it/s]"
     ]
    },
    {
     "name": "stdout",
     "output_type": "stream",
     "text": [
      "1.3400342656785114\n"
     ]
    },
    {
     "name": "stderr",
     "output_type": "stream",
     "text": [
      "Generations: 100%|██████████| 10000/10000 [00:26<00:00, 382.39it/s]\n",
      "Generations:   0%|          | 38/10000 [00:00<00:26, 378.13it/s]"
     ]
    },
    {
     "name": "stdout",
     "output_type": "stream",
     "text": [
      "2.2658413846103826\n"
     ]
    },
    {
     "name": "stderr",
     "output_type": "stream",
     "text": [
      "Generations: 100%|██████████| 10000/10000 [00:25<00:00, 389.46it/s]\n",
      "Generations:   0%|          | 38/10000 [00:00<00:26, 371.13it/s]"
     ]
    },
    {
     "name": "stdout",
     "output_type": "stream",
     "text": [
      "9.397523026528646\n"
     ]
    },
    {
     "name": "stderr",
     "output_type": "stream",
     "text": [
      "Generations: 100%|██████████| 10000/10000 [00:25<00:00, 390.43it/s]\n",
      "Generations:   0%|          | 44/10000 [00:00<00:23, 423.98it/s]"
     ]
    },
    {
     "name": "stdout",
     "output_type": "stream",
     "text": [
      "6.752321001464182\n"
     ]
    },
    {
     "name": "stderr",
     "output_type": "stream",
     "text": [
      "Generations: 100%|██████████| 10000/10000 [00:27<00:00, 367.74it/s]\n",
      "Generations:   0%|          | 34/10000 [00:00<00:29, 336.78it/s]"
     ]
    },
    {
     "name": "stdout",
     "output_type": "stream",
     "text": [
      "2.518090270361725\n"
     ]
    },
    {
     "name": "stderr",
     "output_type": "stream",
     "text": [
      "Generations: 100%|██████████| 10000/10000 [00:26<00:00, 373.01it/s]\n",
      "Generations:   0%|          | 40/10000 [00:00<00:25, 391.96it/s]"
     ]
    },
    {
     "name": "stdout",
     "output_type": "stream",
     "text": [
      "10.394070505307837\n"
     ]
    },
    {
     "name": "stderr",
     "output_type": "stream",
     "text": [
      "Generations: 100%|██████████| 10000/10000 [00:27<00:00, 369.38it/s]\n",
      "Generations:   0%|          | 38/10000 [00:00<00:27, 361.17it/s]"
     ]
    },
    {
     "name": "stdout",
     "output_type": "stream",
     "text": [
      "3.248427471101138\n"
     ]
    },
    {
     "name": "stderr",
     "output_type": "stream",
     "text": [
      "Generations: 100%|██████████| 10000/10000 [00:26<00:00, 372.37it/s]\n",
      "Generations:   0%|          | 42/10000 [00:00<00:24, 404.60it/s]"
     ]
    },
    {
     "name": "stdout",
     "output_type": "stream",
     "text": [
      "10.763221996892312\n"
     ]
    },
    {
     "name": "stderr",
     "output_type": "stream",
     "text": [
      "Generations: 100%|██████████| 10000/10000 [00:27<00:00, 365.86it/s]\n",
      "Generations:   0%|          | 38/10000 [00:00<00:27, 361.87it/s]"
     ]
    },
    {
     "name": "stdout",
     "output_type": "stream",
     "text": [
      "16.018565231083244\n"
     ]
    },
    {
     "name": "stderr",
     "output_type": "stream",
     "text": [
      "Generations: 100%|██████████| 10000/10000 [00:26<00:00, 371.29it/s]\n",
      "Generations:   0%|          | 34/10000 [00:00<00:29, 337.44it/s]"
     ]
    },
    {
     "name": "stdout",
     "output_type": "stream",
     "text": [
      "3.7030741455672285\n"
     ]
    },
    {
     "name": "stderr",
     "output_type": "stream",
     "text": [
      "Generations: 100%|██████████| 10000/10000 [00:26<00:00, 371.62it/s]\n",
      "Generations:   0%|          | 44/10000 [00:00<00:24, 414.37it/s]"
     ]
    },
    {
     "name": "stdout",
     "output_type": "stream",
     "text": [
      "3.5281475282617123\n"
     ]
    },
    {
     "name": "stderr",
     "output_type": "stream",
     "text": [
      "Generations: 100%|██████████| 10000/10000 [00:26<00:00, 372.21it/s]\n",
      "Generations:   0%|          | 38/10000 [00:00<00:28, 349.78it/s]"
     ]
    },
    {
     "name": "stdout",
     "output_type": "stream",
     "text": [
      "6.106629932210097\n"
     ]
    },
    {
     "name": "stderr",
     "output_type": "stream",
     "text": [
      "Generations: 100%|██████████| 10000/10000 [00:26<00:00, 373.45it/s]\n",
      "Generations:   0%|          | 38/10000 [00:00<00:27, 366.32it/s]"
     ]
    },
    {
     "name": "stdout",
     "output_type": "stream",
     "text": [
      "11.184618350944191\n"
     ]
    },
    {
     "name": "stderr",
     "output_type": "stream",
     "text": [
      "Generations: 100%|██████████| 10000/10000 [00:26<00:00, 372.17it/s]\n",
      "Generations:   0%|          | 36/10000 [00:00<00:28, 354.27it/s]"
     ]
    },
    {
     "name": "stdout",
     "output_type": "stream",
     "text": [
      "9.391902298656376\n"
     ]
    },
    {
     "name": "stderr",
     "output_type": "stream",
     "text": [
      "Generations: 100%|██████████| 10000/10000 [00:25<00:00, 392.73it/s]\n",
      "Generations:   0%|          | 38/10000 [00:00<00:26, 378.29it/s]"
     ]
    },
    {
     "name": "stdout",
     "output_type": "stream",
     "text": [
      "11.115317093399696\n"
     ]
    },
    {
     "name": "stderr",
     "output_type": "stream",
     "text": [
      "Generations: 100%|██████████| 10000/10000 [00:18<00:00, 543.78it/s]\n",
      "Generations:   1%|          | 56/10000 [00:00<00:17, 553.91it/s]"
     ]
    },
    {
     "name": "stdout",
     "output_type": "stream",
     "text": [
      "7.25343515871667\n"
     ]
    },
    {
     "name": "stderr",
     "output_type": "stream",
     "text": [
      "Generations: 100%|██████████| 10000/10000 [00:18<00:00, 549.96it/s]\n",
      "Generations:   1%|          | 56/10000 [00:00<00:18, 547.45it/s]"
     ]
    },
    {
     "name": "stdout",
     "output_type": "stream",
     "text": [
      "5.385446234935415\n"
     ]
    },
    {
     "name": "stderr",
     "output_type": "stream",
     "text": [
      "Generations: 100%|██████████| 10000/10000 [00:17<00:00, 556.12it/s]\n",
      "Generations:   1%|          | 56/10000 [00:00<00:17, 558.42it/s]"
     ]
    },
    {
     "name": "stdout",
     "output_type": "stream",
     "text": [
      "7.782381162617625\n"
     ]
    },
    {
     "name": "stderr",
     "output_type": "stream",
     "text": [
      "Generations: 100%|██████████| 10000/10000 [00:18<00:00, 551.78it/s]\n",
      "Generations:   1%|          | 52/10000 [00:00<00:19, 515.71it/s]"
     ]
    },
    {
     "name": "stdout",
     "output_type": "stream",
     "text": [
      "6.842763265185866\n"
     ]
    },
    {
     "name": "stderr",
     "output_type": "stream",
     "text": [
      "Generations: 100%|██████████| 10000/10000 [00:18<00:00, 552.73it/s]\n",
      "Generations:   1%|          | 56/10000 [00:00<00:18, 550.05it/s]"
     ]
    },
    {
     "name": "stdout",
     "output_type": "stream",
     "text": [
      "5.830373272860825\n"
     ]
    },
    {
     "name": "stderr",
     "output_type": "stream",
     "text": [
      "Generations: 100%|██████████| 10000/10000 [00:17<00:00, 557.54it/s]\n",
      "Generations:   1%|          | 56/10000 [00:00<00:17, 557.30it/s]"
     ]
    },
    {
     "name": "stdout",
     "output_type": "stream",
     "text": [
      "9.169832980160308\n"
     ]
    },
    {
     "name": "stderr",
     "output_type": "stream",
     "text": [
      "Generations: 100%|██████████| 10000/10000 [00:18<00:00, 553.98it/s]\n",
      "Generations:   1%|          | 54/10000 [00:00<00:18, 528.42it/s]"
     ]
    },
    {
     "name": "stdout",
     "output_type": "stream",
     "text": [
      "4.789418427309158\n"
     ]
    },
    {
     "name": "stderr",
     "output_type": "stream",
     "text": [
      "Generations: 100%|██████████| 10000/10000 [00:18<00:00, 555.50it/s]\n",
      "Generations:   1%|          | 56/10000 [00:00<00:18, 544.30it/s]"
     ]
    },
    {
     "name": "stdout",
     "output_type": "stream",
     "text": [
      "3.0617150450994757\n"
     ]
    },
    {
     "name": "stderr",
     "output_type": "stream",
     "text": [
      "Generations: 100%|██████████| 10000/10000 [00:17<00:00, 557.26it/s]\n",
      "Generations:   1%|          | 56/10000 [00:00<00:18, 552.21it/s]"
     ]
    },
    {
     "name": "stdout",
     "output_type": "stream",
     "text": [
      "9.796030170251683\n"
     ]
    },
    {
     "name": "stderr",
     "output_type": "stream",
     "text": [
      "Generations: 100%|██████████| 10000/10000 [00:18<00:00, 549.19it/s]\n",
      "Generations:   1%|          | 56/10000 [00:00<00:17, 558.75it/s]"
     ]
    },
    {
     "name": "stdout",
     "output_type": "stream",
     "text": [
      "5.224973644078531\n"
     ]
    },
    {
     "name": "stderr",
     "output_type": "stream",
     "text": [
      "Generations: 100%|██████████| 10000/10000 [00:18<00:00, 551.87it/s]\n",
      "Generations:   1%|          | 58/10000 [00:00<00:17, 562.15it/s]"
     ]
    },
    {
     "name": "stdout",
     "output_type": "stream",
     "text": [
      "7.905595752650385\n"
     ]
    },
    {
     "name": "stderr",
     "output_type": "stream",
     "text": [
      "Generations: 100%|██████████| 10000/10000 [00:18<00:00, 555.02it/s]\n",
      "Generations:   1%|          | 54/10000 [00:00<00:18, 523.65it/s]"
     ]
    },
    {
     "name": "stdout",
     "output_type": "stream",
     "text": [
      "5.277521456614252\n"
     ]
    },
    {
     "name": "stderr",
     "output_type": "stream",
     "text": [
      "Generations: 100%|██████████| 10000/10000 [00:17<00:00, 556.33it/s]\n",
      "Generations:   1%|          | 56/10000 [00:00<00:18, 551.44it/s]"
     ]
    },
    {
     "name": "stdout",
     "output_type": "stream",
     "text": [
      "4.294447945532994\n"
     ]
    },
    {
     "name": "stderr",
     "output_type": "stream",
     "text": [
      "Generations: 100%|██████████| 10000/10000 [00:17<00:00, 556.55it/s]\n",
      "Generations:   1%|          | 60/10000 [00:00<00:17, 581.84it/s]"
     ]
    },
    {
     "name": "stdout",
     "output_type": "stream",
     "text": [
      "8.05672061412659\n"
     ]
    },
    {
     "name": "stderr",
     "output_type": "stream",
     "text": [
      "Generations: 100%|██████████| 10000/10000 [00:17<00:00, 555.86it/s]\n",
      "Generations:   1%|          | 58/10000 [00:00<00:17, 565.21it/s]"
     ]
    },
    {
     "name": "stdout",
     "output_type": "stream",
     "text": [
      "3.6291939551127115\n"
     ]
    },
    {
     "name": "stderr",
     "output_type": "stream",
     "text": [
      "Generations: 100%|██████████| 10000/10000 [00:17<00:00, 560.73it/s]\n",
      "Generations:   1%|          | 56/10000 [00:00<00:18, 544.79it/s]"
     ]
    },
    {
     "name": "stdout",
     "output_type": "stream",
     "text": [
      "9.056518535882063\n"
     ]
    },
    {
     "name": "stderr",
     "output_type": "stream",
     "text": [
      "Generations: 100%|██████████| 10000/10000 [00:18<00:00, 555.05it/s]\n",
      "Generations:   1%|          | 56/10000 [00:00<00:17, 557.11it/s]"
     ]
    },
    {
     "name": "stdout",
     "output_type": "stream",
     "text": [
      "3.043235503044457\n"
     ]
    },
    {
     "name": "stderr",
     "output_type": "stream",
     "text": [
      "Generations: 100%|██████████| 10000/10000 [00:18<00:00, 551.06it/s]\n",
      "Generations:   1%|          | 58/10000 [00:00<00:17, 573.38it/s]"
     ]
    },
    {
     "name": "stdout",
     "output_type": "stream",
     "text": [
      "6.476892191508213\n"
     ]
    },
    {
     "name": "stderr",
     "output_type": "stream",
     "text": [
      "Generations: 100%|██████████| 10000/10000 [00:17<00:00, 558.67it/s]\n",
      "Generations:   1%|          | 58/10000 [00:00<00:17, 578.64it/s]"
     ]
    },
    {
     "name": "stdout",
     "output_type": "stream",
     "text": [
      "4.606464263898474\n"
     ]
    },
    {
     "name": "stderr",
     "output_type": "stream",
     "text": [
      "Generations: 100%|██████████| 10000/10000 [00:17<00:00, 557.05it/s]\n",
      "Generations:   1%|          | 56/10000 [00:00<00:17, 555.24it/s]"
     ]
    },
    {
     "name": "stdout",
     "output_type": "stream",
     "text": [
      "5.211499416849776\n"
     ]
    },
    {
     "name": "stderr",
     "output_type": "stream",
     "text": [
      "Generations: 100%|██████████| 10000/10000 [00:19<00:00, 518.99it/s]\n",
      "Generations:   1%|          | 66/10000 [00:00<00:15, 640.16it/s]"
     ]
    },
    {
     "name": "stdout",
     "output_type": "stream",
     "text": [
      "5.759072093683983\n"
     ]
    },
    {
     "name": "stderr",
     "output_type": "stream",
     "text": [
      "Generations: 100%|██████████| 10000/10000 [00:17<00:00, 555.76it/s]\n",
      "Generations:   1%|          | 62/10000 [00:00<00:16, 605.74it/s]"
     ]
    },
    {
     "name": "stdout",
     "output_type": "stream",
     "text": [
      "8.562412146453497\n"
     ]
    },
    {
     "name": "stderr",
     "output_type": "stream",
     "text": [
      "Generations: 100%|██████████| 10000/10000 [00:15<00:00, 631.73it/s]\n",
      "Generations:   1%|          | 60/10000 [00:00<00:16, 596.67it/s]"
     ]
    },
    {
     "name": "stdout",
     "output_type": "stream",
     "text": [
      "12.458143048303924\n"
     ]
    },
    {
     "name": "stderr",
     "output_type": "stream",
     "text": [
      "Generations: 100%|██████████| 10000/10000 [00:15<00:00, 634.20it/s]\n",
      "Generations:   1%|          | 66/10000 [00:00<00:15, 644.86it/s]"
     ]
    },
    {
     "name": "stdout",
     "output_type": "stream",
     "text": [
      "4.457231373290767\n"
     ]
    },
    {
     "name": "stderr",
     "output_type": "stream",
     "text": [
      "Generations: 100%|██████████| 10000/10000 [00:15<00:00, 637.61it/s]\n",
      "Generations:   1%|          | 64/10000 [00:00<00:15, 623.68it/s]"
     ]
    },
    {
     "name": "stdout",
     "output_type": "stream",
     "text": [
      "7.051733705020837\n"
     ]
    },
    {
     "name": "stderr",
     "output_type": "stream",
     "text": [
      "Generations: 100%|██████████| 10000/10000 [00:15<00:00, 642.00it/s]\n",
      "Generations:   1%|          | 58/10000 [00:00<00:17, 568.03it/s]"
     ]
    },
    {
     "name": "stdout",
     "output_type": "stream",
     "text": [
      "5.688748809062503\n"
     ]
    },
    {
     "name": "stderr",
     "output_type": "stream",
     "text": [
      "Generations: 100%|██████████| 10000/10000 [00:15<00:00, 633.13it/s]\n",
      "Generations:   1%|          | 60/10000 [00:00<00:16, 594.75it/s]"
     ]
    },
    {
     "name": "stdout",
     "output_type": "stream",
     "text": [
      "4.184492600148559\n"
     ]
    },
    {
     "name": "stderr",
     "output_type": "stream",
     "text": [
      "Generations: 100%|██████████| 10000/10000 [00:15<00:00, 630.69it/s]\n",
      "Generations:   1%|          | 64/10000 [00:00<00:15, 625.79it/s]"
     ]
    },
    {
     "name": "stdout",
     "output_type": "stream",
     "text": [
      "13.588348742062067\n"
     ]
    },
    {
     "name": "stderr",
     "output_type": "stream",
     "text": [
      "Generations: 100%|██████████| 10000/10000 [00:15<00:00, 637.64it/s]\n",
      "Generations:   1%|          | 60/10000 [00:00<00:16, 595.20it/s]"
     ]
    },
    {
     "name": "stdout",
     "output_type": "stream",
     "text": [
      "5.5442768723866465\n"
     ]
    },
    {
     "name": "stderr",
     "output_type": "stream",
     "text": [
      "Generations: 100%|██████████| 10000/10000 [00:15<00:00, 630.50it/s]\n",
      "Generations:   1%|          | 64/10000 [00:00<00:15, 635.14it/s]"
     ]
    },
    {
     "name": "stdout",
     "output_type": "stream",
     "text": [
      "4.895248853429791\n"
     ]
    },
    {
     "name": "stderr",
     "output_type": "stream",
     "text": [
      "Generations: 100%|██████████| 10000/10000 [00:15<00:00, 636.08it/s]\n",
      "Generations:   1%|          | 64/10000 [00:00<00:16, 619.99it/s]"
     ]
    },
    {
     "name": "stdout",
     "output_type": "stream",
     "text": [
      "7.878700110257455\n"
     ]
    },
    {
     "name": "stderr",
     "output_type": "stream",
     "text": [
      "Generations: 100%|██████████| 10000/10000 [00:15<00:00, 632.65it/s]\n",
      "Generations:   1%|          | 62/10000 [00:00<00:16, 609.85it/s]"
     ]
    },
    {
     "name": "stdout",
     "output_type": "stream",
     "text": [
      "3.655947767825637\n"
     ]
    },
    {
     "name": "stderr",
     "output_type": "stream",
     "text": [
      "Generations: 100%|██████████| 10000/10000 [00:15<00:00, 638.48it/s]\n",
      "Generations:   1%|          | 64/10000 [00:00<00:15, 635.86it/s]"
     ]
    },
    {
     "name": "stdout",
     "output_type": "stream",
     "text": [
      "12.640505546381092\n"
     ]
    },
    {
     "name": "stderr",
     "output_type": "stream",
     "text": [
      "Generations: 100%|██████████| 10000/10000 [00:15<00:00, 641.07it/s]\n",
      "Generations:   1%|          | 62/10000 [00:00<00:16, 605.48it/s]"
     ]
    },
    {
     "name": "stdout",
     "output_type": "stream",
     "text": [
      "5.347369465405706\n"
     ]
    },
    {
     "name": "stderr",
     "output_type": "stream",
     "text": [
      "Generations: 100%|██████████| 10000/10000 [00:15<00:00, 640.52it/s]\n",
      "Generations:   1%|          | 64/10000 [00:00<00:15, 625.63it/s]"
     ]
    },
    {
     "name": "stdout",
     "output_type": "stream",
     "text": [
      "6.3851587936034235\n"
     ]
    },
    {
     "name": "stderr",
     "output_type": "stream",
     "text": [
      "Generations: 100%|██████████| 10000/10000 [00:15<00:00, 637.33it/s]\n",
      "Generations:   1%|          | 62/10000 [00:00<00:16, 605.35it/s]"
     ]
    },
    {
     "name": "stdout",
     "output_type": "stream",
     "text": [
      "7.07981182430278\n"
     ]
    },
    {
     "name": "stderr",
     "output_type": "stream",
     "text": [
      "Generations: 100%|██████████| 10000/10000 [00:15<00:00, 635.65it/s]\n",
      "Generations:   1%|          | 58/10000 [00:00<00:17, 572.23it/s]"
     ]
    },
    {
     "name": "stdout",
     "output_type": "stream",
     "text": [
      "8.74151504173092\n"
     ]
    },
    {
     "name": "stderr",
     "output_type": "stream",
     "text": [
      "Generations: 100%|██████████| 10000/10000 [00:15<00:00, 639.73it/s]\n",
      "Generations:   1%|          | 58/10000 [00:00<00:17, 579.08it/s]"
     ]
    },
    {
     "name": "stdout",
     "output_type": "stream",
     "text": [
      "11.669255977565257\n"
     ]
    },
    {
     "name": "stderr",
     "output_type": "stream",
     "text": [
      "Generations: 100%|██████████| 10000/10000 [00:15<00:00, 631.91it/s]\n",
      "Generations:   1%|          | 58/10000 [00:00<00:17, 575.34it/s]"
     ]
    },
    {
     "name": "stdout",
     "output_type": "stream",
     "text": [
      "11.96960695577799\n"
     ]
    },
    {
     "name": "stderr",
     "output_type": "stream",
     "text": [
      "Generations: 100%|██████████| 10000/10000 [00:15<00:00, 629.35it/s]\n",
      "Generations:   1%|          | 62/10000 [00:00<00:16, 603.49it/s]"
     ]
    },
    {
     "name": "stdout",
     "output_type": "stream",
     "text": [
      "4.654680318538297\n"
     ]
    },
    {
     "name": "stderr",
     "output_type": "stream",
     "text": [
      "Generations: 100%|██████████| 10000/10000 [00:15<00:00, 638.94it/s]\n",
      "Generations:   1%|          | 58/10000 [00:00<00:17, 562.96it/s]"
     ]
    },
    {
     "name": "stdout",
     "output_type": "stream",
     "text": [
      "10.380400730922133\n"
     ]
    },
    {
     "name": "stderr",
     "output_type": "stream",
     "text": [
      "Generations: 100%|██████████| 10000/10000 [00:15<00:00, 635.20it/s]\n",
      "Generations:   1%|          | 62/10000 [00:00<00:16, 613.98it/s]"
     ]
    },
    {
     "name": "stdout",
     "output_type": "stream",
     "text": [
      "9.368782938189213\n"
     ]
    },
    {
     "name": "stderr",
     "output_type": "stream",
     "text": [
      "Generations: 100%|██████████| 10000/10000 [00:15<00:00, 635.39it/s]\n",
      "Generations:   1%|          | 62/10000 [00:00<00:16, 606.63it/s]"
     ]
    },
    {
     "name": "stdout",
     "output_type": "stream",
     "text": [
      "1.2154268819348317\n"
     ]
    },
    {
     "name": "stderr",
     "output_type": "stream",
     "text": [
      "Generations: 100%|██████████| 10000/10000 [00:15<00:00, 638.47it/s]\n",
      "Generations:   1%|          | 62/10000 [00:00<00:16, 610.49it/s]"
     ]
    },
    {
     "name": "stdout",
     "output_type": "stream",
     "text": [
      "5.3397342866827415\n"
     ]
    },
    {
     "name": "stderr",
     "output_type": "stream",
     "text": [
      "Generations: 100%|██████████| 10000/10000 [00:15<00:00, 637.79it/s]\n",
      "Generations:   1%|          | 60/10000 [00:00<00:16, 598.24it/s]"
     ]
    },
    {
     "name": "stdout",
     "output_type": "stream",
     "text": [
      "4.617695840793658\n"
     ]
    },
    {
     "name": "stderr",
     "output_type": "stream",
     "text": [
      "Generations: 100%|██████████| 10000/10000 [00:16<00:00, 621.36it/s]\n",
      "Generations:   1%|          | 60/10000 [00:00<00:16, 586.85it/s]"
     ]
    },
    {
     "name": "stdout",
     "output_type": "stream",
     "text": [
      "4.469262867781268\n"
     ]
    },
    {
     "name": "stderr",
     "output_type": "stream",
     "text": [
      "Generations: 100%|██████████| 10000/10000 [00:16<00:00, 624.94it/s]\n",
      "Generations:   1%|          | 60/10000 [00:00<00:16, 591.26it/s]"
     ]
    },
    {
     "name": "stdout",
     "output_type": "stream",
     "text": [
      "8.317468342613694\n"
     ]
    },
    {
     "name": "stderr",
     "output_type": "stream",
     "text": [
      "Generations: 100%|██████████| 10000/10000 [00:15<00:00, 639.12it/s]\n",
      "Generations:   1%|          | 66/10000 [00:00<00:15, 642.92it/s]"
     ]
    },
    {
     "name": "stdout",
     "output_type": "stream",
     "text": [
      "4.126022315212893\n"
     ]
    },
    {
     "name": "stderr",
     "output_type": "stream",
     "text": [
      "Generations: 100%|██████████| 10000/10000 [00:15<00:00, 635.90it/s]\n",
      "Generations:   1%|          | 60/10000 [00:00<00:16, 598.13it/s]"
     ]
    },
    {
     "name": "stdout",
     "output_type": "stream",
     "text": [
      "7.740157384822879\n"
     ]
    },
    {
     "name": "stderr",
     "output_type": "stream",
     "text": [
      "Generations: 100%|██████████| 10000/10000 [00:15<00:00, 637.33it/s]\n",
      "Generations:   1%|          | 62/10000 [00:00<00:16, 611.83it/s]"
     ]
    },
    {
     "name": "stdout",
     "output_type": "stream",
     "text": [
      "2.018473321779794\n"
     ]
    },
    {
     "name": "stderr",
     "output_type": "stream",
     "text": [
      "Generations: 100%|██████████| 10000/10000 [00:15<00:00, 637.07it/s]\n",
      "Generations:   1%|          | 64/10000 [00:00<00:15, 626.77it/s]"
     ]
    },
    {
     "name": "stdout",
     "output_type": "stream",
     "text": [
      "8.268112369176379\n"
     ]
    },
    {
     "name": "stderr",
     "output_type": "stream",
     "text": [
      "Generations: 100%|██████████| 10000/10000 [00:15<00:00, 637.00it/s]\n",
      "Generations:   1%|          | 66/10000 [00:00<00:15, 648.17it/s]"
     ]
    },
    {
     "name": "stdout",
     "output_type": "stream",
     "text": [
      "6.09945249308511\n"
     ]
    },
    {
     "name": "stderr",
     "output_type": "stream",
     "text": [
      "Generations: 100%|██████████| 10000/10000 [00:15<00:00, 636.09it/s]\n",
      "Generations:   1%|          | 64/10000 [00:00<00:15, 632.24it/s]"
     ]
    },
    {
     "name": "stdout",
     "output_type": "stream",
     "text": [
      "9.20707488391318\n"
     ]
    },
    {
     "name": "stderr",
     "output_type": "stream",
     "text": [
      "Generations: 100%|██████████| 10000/10000 [00:15<00:00, 630.76it/s]\n",
      "Generations:   1%|          | 62/10000 [00:00<00:16, 602.82it/s]"
     ]
    },
    {
     "name": "stdout",
     "output_type": "stream",
     "text": [
      "8.168816465661195\n"
     ]
    },
    {
     "name": "stderr",
     "output_type": "stream",
     "text": [
      "Generations: 100%|██████████| 10000/10000 [00:15<00:00, 639.49it/s]\n",
      "Generations:   1%|          | 58/10000 [00:00<00:17, 570.62it/s]"
     ]
    },
    {
     "name": "stdout",
     "output_type": "stream",
     "text": [
      "2.3917005717009516\n"
     ]
    },
    {
     "name": "stderr",
     "output_type": "stream",
     "text": [
      "Generations: 100%|██████████| 10000/10000 [00:16<00:00, 608.15it/s]\n",
      "Generations:   1%|          | 58/10000 [00:00<00:17, 567.82it/s]"
     ]
    },
    {
     "name": "stdout",
     "output_type": "stream",
     "text": [
      "8.456091205947956\n"
     ]
    },
    {
     "name": "stderr",
     "output_type": "stream",
     "text": [
      "Generations: 100%|██████████| 10000/10000 [00:16<00:00, 601.29it/s]\n",
      "Generations:   1%|          | 58/10000 [00:00<00:17, 568.85it/s]"
     ]
    },
    {
     "name": "stdout",
     "output_type": "stream",
     "text": [
      "3.758632265698722\n"
     ]
    },
    {
     "name": "stderr",
     "output_type": "stream",
     "text": [
      "Generations: 100%|██████████| 10000/10000 [00:16<00:00, 600.10it/s]\n",
      "Generations:   1%|          | 56/10000 [00:00<00:17, 553.55it/s]"
     ]
    },
    {
     "name": "stdout",
     "output_type": "stream",
     "text": [
      "6.57751753683128\n"
     ]
    },
    {
     "name": "stderr",
     "output_type": "stream",
     "text": [
      "Generations: 100%|██████████| 10000/10000 [00:16<00:00, 602.55it/s]\n",
      "Generations:   1%|          | 62/10000 [00:00<00:16, 610.76it/s]"
     ]
    },
    {
     "name": "stdout",
     "output_type": "stream",
     "text": [
      "10.726155878355215\n"
     ]
    },
    {
     "name": "stderr",
     "output_type": "stream",
     "text": [
      "Generations: 100%|██████████| 10000/10000 [00:16<00:00, 602.86it/s]\n",
      "Generations:   0%|          | 48/10000 [00:00<00:20, 475.70it/s]"
     ]
    },
    {
     "name": "stdout",
     "output_type": "stream",
     "text": [
      "6.002398422503404\n"
     ]
    },
    {
     "name": "stderr",
     "output_type": "stream",
     "text": [
      "Generations: 100%|██████████| 10000/10000 [00:16<00:00, 600.27it/s]\n",
      "Generations:   1%|          | 56/10000 [00:00<00:18, 550.44it/s]"
     ]
    },
    {
     "name": "stdout",
     "output_type": "stream",
     "text": [
      "3.4581442165355583\n"
     ]
    },
    {
     "name": "stderr",
     "output_type": "stream",
     "text": [
      "Generations: 100%|██████████| 10000/10000 [00:16<00:00, 597.59it/s]\n",
      "Generations:   1%|          | 60/10000 [00:00<00:16, 589.17it/s]"
     ]
    },
    {
     "name": "stdout",
     "output_type": "stream",
     "text": [
      "6.263000053994816\n"
     ]
    },
    {
     "name": "stderr",
     "output_type": "stream",
     "text": [
      "Generations: 100%|██████████| 10000/10000 [00:16<00:00, 603.75it/s]\n",
      "Generations:   1%|          | 56/10000 [00:00<00:17, 553.50it/s]"
     ]
    },
    {
     "name": "stdout",
     "output_type": "stream",
     "text": [
      "3.6876430132337816\n"
     ]
    },
    {
     "name": "stderr",
     "output_type": "stream",
     "text": [
      "Generations: 100%|██████████| 10000/10000 [00:16<00:00, 602.36it/s]\n",
      "Generations:   1%|          | 56/10000 [00:00<00:17, 553.47it/s]"
     ]
    },
    {
     "name": "stdout",
     "output_type": "stream",
     "text": [
      "5.8352398205306315\n"
     ]
    },
    {
     "name": "stderr",
     "output_type": "stream",
     "text": [
      "Generations: 100%|██████████| 10000/10000 [00:16<00:00, 603.47it/s]\n",
      "Generations:   1%|          | 56/10000 [00:00<00:18, 547.24it/s]"
     ]
    },
    {
     "name": "stdout",
     "output_type": "stream",
     "text": [
      "9.954569613886676\n"
     ]
    },
    {
     "name": "stderr",
     "output_type": "stream",
     "text": [
      "Generations: 100%|██████████| 10000/10000 [00:16<00:00, 596.29it/s]\n",
      "Generations:   1%|          | 58/10000 [00:00<00:17, 576.49it/s]"
     ]
    },
    {
     "name": "stdout",
     "output_type": "stream",
     "text": [
      "8.96515454459147\n"
     ]
    },
    {
     "name": "stderr",
     "output_type": "stream",
     "text": [
      "Generations: 100%|██████████| 10000/10000 [00:16<00:00, 603.16it/s]\n",
      "Generations:   1%|          | 56/10000 [00:00<00:18, 547.91it/s]"
     ]
    },
    {
     "name": "stdout",
     "output_type": "stream",
     "text": [
      "5.475036374916357\n"
     ]
    },
    {
     "name": "stderr",
     "output_type": "stream",
     "text": [
      "Generations: 100%|██████████| 10000/10000 [00:16<00:00, 608.50it/s]\n",
      "Generations:   1%|          | 58/10000 [00:00<00:17, 576.58it/s]"
     ]
    },
    {
     "name": "stdout",
     "output_type": "stream",
     "text": [
      "10.680939132847229\n"
     ]
    },
    {
     "name": "stderr",
     "output_type": "stream",
     "text": [
      "Generations: 100%|██████████| 10000/10000 [00:16<00:00, 600.84it/s]\n",
      "Generations:   1%|          | 60/10000 [00:00<00:16, 598.26it/s]"
     ]
    },
    {
     "name": "stdout",
     "output_type": "stream",
     "text": [
      "2.3051739882018722\n"
     ]
    },
    {
     "name": "stderr",
     "output_type": "stream",
     "text": [
      "Generations: 100%|██████████| 10000/10000 [00:16<00:00, 601.55it/s]\n",
      "Generations:   1%|          | 62/10000 [00:00<00:16, 599.99it/s]"
     ]
    },
    {
     "name": "stdout",
     "output_type": "stream",
     "text": [
      "7.034951926562698\n"
     ]
    },
    {
     "name": "stderr",
     "output_type": "stream",
     "text": [
      "Generations: 100%|██████████| 10000/10000 [00:16<00:00, 606.27it/s]\n",
      "Generations:   1%|          | 58/10000 [00:00<00:17, 577.76it/s]"
     ]
    },
    {
     "name": "stdout",
     "output_type": "stream",
     "text": [
      "5.770172791174559\n"
     ]
    },
    {
     "name": "stderr",
     "output_type": "stream",
     "text": [
      "Generations: 100%|██████████| 10000/10000 [00:16<00:00, 609.95it/s]\n",
      "Generations:   1%|          | 58/10000 [00:00<00:17, 571.87it/s]"
     ]
    },
    {
     "name": "stdout",
     "output_type": "stream",
     "text": [
      "8.08767057922931\n"
     ]
    },
    {
     "name": "stderr",
     "output_type": "stream",
     "text": [
      "Generations: 100%|██████████| 10000/10000 [00:16<00:00, 605.65it/s]\n",
      "Generations:   1%|          | 56/10000 [00:00<00:17, 552.63it/s]"
     ]
    },
    {
     "name": "stdout",
     "output_type": "stream",
     "text": [
      "7.1208548676863614\n"
     ]
    },
    {
     "name": "stderr",
     "output_type": "stream",
     "text": [
      "Generations: 100%|██████████| 10000/10000 [00:16<00:00, 606.95it/s]\n",
      "Generations:   1%|          | 66/10000 [00:00<00:15, 646.09it/s]"
     ]
    },
    {
     "name": "stdout",
     "output_type": "stream",
     "text": [
      "5.6836581127967065\n"
     ]
    },
    {
     "name": "stderr",
     "output_type": "stream",
     "text": [
      "Generations: 100%|██████████| 10000/10000 [00:16<00:00, 608.76it/s]\n",
      "Generations:   1%|          | 56/10000 [00:00<00:17, 558.80it/s]"
     ]
    },
    {
     "name": "stdout",
     "output_type": "stream",
     "text": [
      "6.065163407725578\n"
     ]
    },
    {
     "name": "stderr",
     "output_type": "stream",
     "text": [
      "Generations: 100%|██████████| 10000/10000 [00:16<00:00, 602.45it/s]\n",
      "Generations:   1%|          | 58/10000 [00:00<00:17, 565.73it/s]"
     ]
    },
    {
     "name": "stdout",
     "output_type": "stream",
     "text": [
      "7.7711907693557265\n"
     ]
    },
    {
     "name": "stderr",
     "output_type": "stream",
     "text": [
      "Generations: 100%|██████████| 10000/10000 [00:16<00:00, 602.73it/s]\n",
      "Generations:   1%|          | 58/10000 [00:00<00:17, 574.77it/s]"
     ]
    },
    {
     "name": "stdout",
     "output_type": "stream",
     "text": [
      "9.351501048288227\n"
     ]
    },
    {
     "name": "stderr",
     "output_type": "stream",
     "text": [
      "Generations: 100%|██████████| 10000/10000 [00:16<00:00, 609.53it/s]\n",
      "Generations:   1%|          | 58/10000 [00:00<00:17, 570.08it/s]"
     ]
    },
    {
     "name": "stdout",
     "output_type": "stream",
     "text": [
      "6.855890388094011\n"
     ]
    },
    {
     "name": "stderr",
     "output_type": "stream",
     "text": [
      "Generations: 100%|██████████| 10000/10000 [00:16<00:00, 606.94it/s]\n",
      "Generations:   1%|          | 56/10000 [00:00<00:17, 553.15it/s]"
     ]
    },
    {
     "name": "stdout",
     "output_type": "stream",
     "text": [
      "12.81512256796782\n"
     ]
    },
    {
     "name": "stderr",
     "output_type": "stream",
     "text": [
      "Generations: 100%|██████████| 10000/10000 [00:16<00:00, 602.89it/s]\n",
      "Generations:   1%|          | 62/10000 [00:00<00:16, 616.25it/s]"
     ]
    },
    {
     "name": "stdout",
     "output_type": "stream",
     "text": [
      "3.1420377764144547\n"
     ]
    },
    {
     "name": "stderr",
     "output_type": "stream",
     "text": [
      "Generations: 100%|██████████| 10000/10000 [00:16<00:00, 603.53it/s]\n",
      "Generations:   1%|          | 60/10000 [00:00<00:16, 589.72it/s]"
     ]
    },
    {
     "name": "stdout",
     "output_type": "stream",
     "text": [
      "5.689290224791648\n"
     ]
    },
    {
     "name": "stderr",
     "output_type": "stream",
     "text": [
      "Generations: 100%|██████████| 10000/10000 [00:16<00:00, 605.72it/s]\n",
      "Generations:   1%|          | 58/10000 [00:00<00:17, 574.96it/s]"
     ]
    },
    {
     "name": "stdout",
     "output_type": "stream",
     "text": [
      "5.859383909609122\n"
     ]
    },
    {
     "name": "stderr",
     "output_type": "stream",
     "text": [
      "Generations: 100%|██████████| 10000/10000 [00:16<00:00, 602.05it/s]\n",
      "Generations:   1%|          | 60/10000 [00:00<00:16, 585.83it/s]"
     ]
    },
    {
     "name": "stdout",
     "output_type": "stream",
     "text": [
      "4.504091396898289\n"
     ]
    },
    {
     "name": "stderr",
     "output_type": "stream",
     "text": [
      "Generations: 100%|██████████| 10000/10000 [00:16<00:00, 594.05it/s]\n",
      "Generations:   1%|          | 60/10000 [00:00<00:16, 587.57it/s]"
     ]
    },
    {
     "name": "stdout",
     "output_type": "stream",
     "text": [
      "5.956459024441514\n"
     ]
    },
    {
     "name": "stderr",
     "output_type": "stream",
     "text": [
      "Generations: 100%|██████████| 10000/10000 [00:16<00:00, 601.72it/s]\n",
      "Generations:   1%|          | 56/10000 [00:00<00:18, 552.33it/s]"
     ]
    },
    {
     "name": "stdout",
     "output_type": "stream",
     "text": [
      "6.909632494354909\n"
     ]
    },
    {
     "name": "stderr",
     "output_type": "stream",
     "text": [
      "Generations: 100%|██████████| 10000/10000 [00:16<00:00, 609.82it/s]\n",
      "Generations:   1%|          | 60/10000 [00:00<00:16, 589.04it/s]"
     ]
    },
    {
     "name": "stdout",
     "output_type": "stream",
     "text": [
      "3.3000298886476713\n"
     ]
    },
    {
     "name": "stderr",
     "output_type": "stream",
     "text": [
      "Generations: 100%|██████████| 10000/10000 [00:16<00:00, 603.50it/s]\n",
      "Generations:   1%|          | 62/10000 [00:00<00:16, 607.44it/s]"
     ]
    },
    {
     "name": "stdout",
     "output_type": "stream",
     "text": [
      "4.721056465382489\n"
     ]
    },
    {
     "name": "stderr",
     "output_type": "stream",
     "text": [
      "Generations: 100%|██████████| 10000/10000 [00:16<00:00, 604.53it/s]\n",
      "Generations:   1%|          | 56/10000 [00:00<00:18, 545.01it/s]"
     ]
    },
    {
     "name": "stdout",
     "output_type": "stream",
     "text": [
      "4.1167269058604035\n"
     ]
    },
    {
     "name": "stderr",
     "output_type": "stream",
     "text": [
      "Generations: 100%|██████████| 10000/10000 [00:17<00:00, 572.53it/s]\n",
      "Generations:   1%|          | 58/10000 [00:00<00:17, 564.49it/s]"
     ]
    },
    {
     "name": "stdout",
     "output_type": "stream",
     "text": [
      "4.935268054052983\n"
     ]
    },
    {
     "name": "stderr",
     "output_type": "stream",
     "text": [
      "Generations: 100%|██████████| 10000/10000 [00:17<00:00, 578.33it/s]\n",
      "Generations:   1%|          | 56/10000 [00:00<00:17, 555.79it/s]"
     ]
    },
    {
     "name": "stdout",
     "output_type": "stream",
     "text": [
      "6.707540664266077\n"
     ]
    },
    {
     "name": "stderr",
     "output_type": "stream",
     "text": [
      "Generations: 100%|██████████| 10000/10000 [00:17<00:00, 566.24it/s]\n",
      "Generations:   1%|          | 56/10000 [00:00<00:17, 554.53it/s]"
     ]
    },
    {
     "name": "stdout",
     "output_type": "stream",
     "text": [
      "5.881511190622788\n"
     ]
    },
    {
     "name": "stderr",
     "output_type": "stream",
     "text": [
      "Generations: 100%|██████████| 10000/10000 [00:17<00:00, 575.05it/s]\n",
      "Generations:   1%|          | 54/10000 [00:00<00:18, 538.86it/s]"
     ]
    },
    {
     "name": "stdout",
     "output_type": "stream",
     "text": [
      "6.473877007914723\n"
     ]
    },
    {
     "name": "stderr",
     "output_type": "stream",
     "text": [
      "Generations: 100%|██████████| 10000/10000 [00:17<00:00, 572.97it/s]\n",
      "Generations:   1%|          | 54/10000 [00:00<00:18, 537.42it/s]"
     ]
    },
    {
     "name": "stdout",
     "output_type": "stream",
     "text": [
      "8.596562531066922\n"
     ]
    },
    {
     "name": "stderr",
     "output_type": "stream",
     "text": [
      "Generations: 100%|██████████| 10000/10000 [00:17<00:00, 576.02it/s]\n",
      "Generations:   1%|          | 52/10000 [00:00<00:19, 516.63it/s]"
     ]
    },
    {
     "name": "stdout",
     "output_type": "stream",
     "text": [
      "6.470913785383587\n"
     ]
    },
    {
     "name": "stderr",
     "output_type": "stream",
     "text": [
      "Generations: 100%|██████████| 10000/10000 [00:17<00:00, 574.57it/s]\n",
      "Generations:   1%|          | 52/10000 [00:00<00:19, 511.50it/s]"
     ]
    },
    {
     "name": "stdout",
     "output_type": "stream",
     "text": [
      "5.822339919878331\n"
     ]
    },
    {
     "name": "stderr",
     "output_type": "stream",
     "text": [
      "Generations: 100%|██████████| 10000/10000 [00:17<00:00, 567.45it/s]\n",
      "Generations:   1%|          | 54/10000 [00:00<00:18, 534.17it/s]"
     ]
    },
    {
     "name": "stdout",
     "output_type": "stream",
     "text": [
      "10.090415059526237\n"
     ]
    },
    {
     "name": "stderr",
     "output_type": "stream",
     "text": [
      "Generations: 100%|██████████| 10000/10000 [00:17<00:00, 565.98it/s]\n",
      "Generations:   1%|          | 56/10000 [00:00<00:18, 549.28it/s]"
     ]
    },
    {
     "name": "stdout",
     "output_type": "stream",
     "text": [
      "8.126951511277468\n"
     ]
    },
    {
     "name": "stderr",
     "output_type": "stream",
     "text": [
      "Generations: 100%|██████████| 10000/10000 [00:17<00:00, 563.09it/s]\n",
      "Generations:   0%|          | 50/10000 [00:00<00:20, 497.39it/s]"
     ]
    },
    {
     "name": "stdout",
     "output_type": "stream",
     "text": [
      "7.095729206791262\n"
     ]
    },
    {
     "name": "stderr",
     "output_type": "stream",
     "text": [
      "Generations: 100%|██████████| 10000/10000 [00:17<00:00, 567.71it/s]\n",
      "Generations:   1%|          | 54/10000 [00:00<00:18, 533.64it/s]"
     ]
    },
    {
     "name": "stdout",
     "output_type": "stream",
     "text": [
      "7.701190325649833\n"
     ]
    },
    {
     "name": "stderr",
     "output_type": "stream",
     "text": [
      "Generations: 100%|██████████| 10000/10000 [00:17<00:00, 567.89it/s]\n",
      "Generations:   1%|          | 52/10000 [00:00<00:19, 513.94it/s]"
     ]
    },
    {
     "name": "stdout",
     "output_type": "stream",
     "text": [
      "5.905495552121181\n"
     ]
    },
    {
     "name": "stderr",
     "output_type": "stream",
     "text": [
      "Generations: 100%|██████████| 10000/10000 [00:17<00:00, 571.67it/s]\n",
      "Generations:   1%|          | 56/10000 [00:00<00:18, 540.92it/s]"
     ]
    },
    {
     "name": "stdout",
     "output_type": "stream",
     "text": [
      "6.449540311393747\n"
     ]
    },
    {
     "name": "stderr",
     "output_type": "stream",
     "text": [
      "Generations: 100%|██████████| 10000/10000 [00:17<00:00, 569.87it/s]\n",
      "Generations:   1%|          | 54/10000 [00:00<00:18, 536.54it/s]"
     ]
    },
    {
     "name": "stdout",
     "output_type": "stream",
     "text": [
      "10.343689081185431\n"
     ]
    },
    {
     "name": "stderr",
     "output_type": "stream",
     "text": [
      "Generations: 100%|██████████| 10000/10000 [00:17<00:00, 578.10it/s]\n",
      "Generations:   1%|          | 54/10000 [00:00<00:18, 537.05it/s]"
     ]
    },
    {
     "name": "stdout",
     "output_type": "stream",
     "text": [
      "5.44436350908984\n"
     ]
    },
    {
     "name": "stderr",
     "output_type": "stream",
     "text": [
      "Generations: 100%|██████████| 10000/10000 [00:17<00:00, 567.75it/s]\n",
      "Generations:   1%|          | 62/10000 [00:00<00:16, 598.50it/s]"
     ]
    },
    {
     "name": "stdout",
     "output_type": "stream",
     "text": [
      "7.741198087864618\n"
     ]
    },
    {
     "name": "stderr",
     "output_type": "stream",
     "text": [
      "Generations: 100%|██████████| 10000/10000 [00:18<00:00, 546.04it/s]\n",
      "Generations:   1%|          | 60/10000 [00:00<00:16, 587.68it/s]"
     ]
    },
    {
     "name": "stdout",
     "output_type": "stream",
     "text": [
      "11.891976467818239\n"
     ]
    },
    {
     "name": "stderr",
     "output_type": "stream",
     "text": [
      "Generations: 100%|██████████| 10000/10000 [00:17<00:00, 567.76it/s]\n",
      "Generations:   1%|          | 52/10000 [00:00<00:19, 509.58it/s]"
     ]
    },
    {
     "name": "stdout",
     "output_type": "stream",
     "text": [
      "4.880060427373948\n"
     ]
    },
    {
     "name": "stderr",
     "output_type": "stream",
     "text": [
      "Generations: 100%|██████████| 10000/10000 [00:17<00:00, 558.40it/s]\n",
      "Generations:   1%|          | 58/10000 [00:00<00:17, 565.03it/s]"
     ]
    },
    {
     "name": "stdout",
     "output_type": "stream",
     "text": [
      "8.061588587117242\n"
     ]
    },
    {
     "name": "stderr",
     "output_type": "stream",
     "text": [
      "Generations: 100%|██████████| 10000/10000 [00:17<00:00, 569.89it/s]\n",
      "Generations:   1%|          | 58/10000 [00:00<00:17, 560.04it/s]"
     ]
    },
    {
     "name": "stdout",
     "output_type": "stream",
     "text": [
      "6.082831482070532\n"
     ]
    },
    {
     "name": "stderr",
     "output_type": "stream",
     "text": [
      "Generations: 100%|██████████| 10000/10000 [00:17<00:00, 576.46it/s]\n",
      "Generations:   1%|          | 54/10000 [00:00<00:18, 536.75it/s]"
     ]
    },
    {
     "name": "stdout",
     "output_type": "stream",
     "text": [
      "10.063157813183679\n"
     ]
    },
    {
     "name": "stderr",
     "output_type": "stream",
     "text": [
      "Generations: 100%|██████████| 10000/10000 [00:17<00:00, 579.20it/s]\n",
      "Generations:   1%|          | 54/10000 [00:00<00:18, 524.06it/s]"
     ]
    },
    {
     "name": "stdout",
     "output_type": "stream",
     "text": [
      "6.130257416808192\n"
     ]
    },
    {
     "name": "stderr",
     "output_type": "stream",
     "text": [
      "Generations: 100%|██████████| 10000/10000 [00:17<00:00, 572.64it/s]\n",
      "Generations:   0%|          | 50/10000 [00:00<00:20, 488.86it/s]"
     ]
    },
    {
     "name": "stdout",
     "output_type": "stream",
     "text": [
      "5.936418236255051\n"
     ]
    },
    {
     "name": "stderr",
     "output_type": "stream",
     "text": [
      "Generations: 100%|██████████| 10000/10000 [00:17<00:00, 568.58it/s]\n",
      "Generations:   1%|          | 54/10000 [00:00<00:18, 532.86it/s]"
     ]
    },
    {
     "name": "stdout",
     "output_type": "stream",
     "text": [
      "5.193190208294055\n"
     ]
    },
    {
     "name": "stderr",
     "output_type": "stream",
     "text": [
      "Generations: 100%|██████████| 10000/10000 [00:17<00:00, 574.26it/s]\n",
      "Generations:   1%|          | 56/10000 [00:00<00:17, 559.11it/s]"
     ]
    },
    {
     "name": "stdout",
     "output_type": "stream",
     "text": [
      "7.839856690661705\n"
     ]
    },
    {
     "name": "stderr",
     "output_type": "stream",
     "text": [
      "Generations: 100%|██████████| 10000/10000 [00:17<00:00, 566.68it/s]\n",
      "Generations:   1%|          | 60/10000 [00:00<00:16, 585.48it/s]"
     ]
    },
    {
     "name": "stdout",
     "output_type": "stream",
     "text": [
      "5.9658211508828884\n"
     ]
    },
    {
     "name": "stderr",
     "output_type": "stream",
     "text": [
      "Generations: 100%|██████████| 10000/10000 [00:17<00:00, 576.51it/s]\n",
      "Generations:   1%|          | 58/10000 [00:00<00:17, 569.90it/s]"
     ]
    },
    {
     "name": "stdout",
     "output_type": "stream",
     "text": [
      "5.090674360721607\n"
     ]
    },
    {
     "name": "stderr",
     "output_type": "stream",
     "text": [
      "Generations: 100%|██████████| 10000/10000 [00:17<00:00, 578.86it/s]\n",
      "Generations:   1%|          | 56/10000 [00:00<00:17, 555.13it/s]"
     ]
    },
    {
     "name": "stdout",
     "output_type": "stream",
     "text": [
      "5.254497637840828\n"
     ]
    },
    {
     "name": "stderr",
     "output_type": "stream",
     "text": [
      "Generations: 100%|██████████| 10000/10000 [00:17<00:00, 572.94it/s]\n",
      "Generations:   1%|          | 52/10000 [00:00<00:19, 514.55it/s]"
     ]
    },
    {
     "name": "stdout",
     "output_type": "stream",
     "text": [
      "6.822338826566977\n"
     ]
    },
    {
     "name": "stderr",
     "output_type": "stream",
     "text": [
      "Generations: 100%|██████████| 10000/10000 [00:17<00:00, 567.29it/s]\n",
      "Generations:   1%|          | 56/10000 [00:00<00:17, 554.01it/s]"
     ]
    },
    {
     "name": "stdout",
     "output_type": "stream",
     "text": [
      "8.31786004777733\n"
     ]
    },
    {
     "name": "stderr",
     "output_type": "stream",
     "text": [
      "Generations: 100%|██████████| 10000/10000 [00:17<00:00, 575.85it/s]\n",
      "Generations:   1%|          | 58/10000 [00:00<00:17, 570.46it/s]"
     ]
    },
    {
     "name": "stdout",
     "output_type": "stream",
     "text": [
      "3.1893626498532797\n"
     ]
    },
    {
     "name": "stderr",
     "output_type": "stream",
     "text": [
      "Generations: 100%|██████████| 10000/10000 [00:17<00:00, 575.22it/s]\n",
      "Generations:   1%|          | 58/10000 [00:00<00:17, 564.68it/s]"
     ]
    },
    {
     "name": "stdout",
     "output_type": "stream",
     "text": [
      "3.698516896307595\n"
     ]
    },
    {
     "name": "stderr",
     "output_type": "stream",
     "text": [
      "Generations: 100%|██████████| 10000/10000 [00:17<00:00, 577.36it/s]\n",
      "Generations:   1%|          | 56/10000 [00:00<00:18, 549.05it/s]"
     ]
    },
    {
     "name": "stdout",
     "output_type": "stream",
     "text": [
      "5.617918426032148\n"
     ]
    },
    {
     "name": "stderr",
     "output_type": "stream",
     "text": [
      "Generations: 100%|██████████| 10000/10000 [00:18<00:00, 537.65it/s]\n",
      "Generations:   1%|          | 52/10000 [00:00<00:19, 510.37it/s]"
     ]
    },
    {
     "name": "stdout",
     "output_type": "stream",
     "text": [
      "5.070092671598729\n"
     ]
    },
    {
     "name": "stderr",
     "output_type": "stream",
     "text": [
      "Generations: 100%|██████████| 10000/10000 [00:18<00:00, 539.74it/s]\n",
      "Generations:   1%|          | 56/10000 [00:00<00:18, 549.83it/s]"
     ]
    },
    {
     "name": "stdout",
     "output_type": "stream",
     "text": [
      "6.070738385048443\n"
     ]
    },
    {
     "name": "stderr",
     "output_type": "stream",
     "text": [
      "Generations: 100%|██████████| 10000/10000 [00:18<00:00, 541.81it/s]\n",
      "Generations:   1%|          | 54/10000 [00:00<00:19, 519.98it/s]"
     ]
    },
    {
     "name": "stdout",
     "output_type": "stream",
     "text": [
      "6.865407893885973\n"
     ]
    },
    {
     "name": "stderr",
     "output_type": "stream",
     "text": [
      "Generations: 100%|██████████| 10000/10000 [00:18<00:00, 536.40it/s]\n",
      "Generations:   1%|          | 52/10000 [00:00<00:19, 519.67it/s]"
     ]
    },
    {
     "name": "stdout",
     "output_type": "stream",
     "text": [
      "7.446817514382076\n"
     ]
    },
    {
     "name": "stderr",
     "output_type": "stream",
     "text": [
      "Generations: 100%|██████████| 10000/10000 [00:18<00:00, 545.84it/s]\n",
      "Generations:   1%|          | 54/10000 [00:00<00:19, 518.00it/s]"
     ]
    },
    {
     "name": "stdout",
     "output_type": "stream",
     "text": [
      "4.089734013875514\n"
     ]
    },
    {
     "name": "stderr",
     "output_type": "stream",
     "text": [
      "Generations: 100%|██████████| 10000/10000 [00:18<00:00, 539.37it/s]\n",
      "Generations:   0%|          | 50/10000 [00:00<00:20, 489.09it/s]"
     ]
    },
    {
     "name": "stdout",
     "output_type": "stream",
     "text": [
      "4.373768504149041\n"
     ]
    },
    {
     "name": "stderr",
     "output_type": "stream",
     "text": [
      "Generations: 100%|██████████| 10000/10000 [00:18<00:00, 539.65it/s]\n",
      "Generations:   0%|          | 50/10000 [00:00<00:20, 494.78it/s]"
     ]
    },
    {
     "name": "stdout",
     "output_type": "stream",
     "text": [
      "5.808666910241186\n"
     ]
    },
    {
     "name": "stderr",
     "output_type": "stream",
     "text": [
      "Generations: 100%|██████████| 10000/10000 [00:18<00:00, 542.72it/s]\n",
      "Generations:   0%|          | 46/10000 [00:00<00:22, 449.32it/s]"
     ]
    },
    {
     "name": "stdout",
     "output_type": "stream",
     "text": [
      "12.550058103523384\n"
     ]
    },
    {
     "name": "stderr",
     "output_type": "stream",
     "text": [
      "Generations: 100%|██████████| 10000/10000 [00:18<00:00, 546.26it/s]\n",
      "Generations:   1%|          | 56/10000 [00:00<00:18, 552.01it/s]"
     ]
    },
    {
     "name": "stdout",
     "output_type": "stream",
     "text": [
      "12.722678200144003\n"
     ]
    },
    {
     "name": "stderr",
     "output_type": "stream",
     "text": [
      "Generations: 100%|██████████| 10000/10000 [00:18<00:00, 538.54it/s]\n",
      "Generations:   1%|          | 56/10000 [00:00<00:17, 559.21it/s]"
     ]
    },
    {
     "name": "stdout",
     "output_type": "stream",
     "text": [
      "6.741605938711473\n"
     ]
    },
    {
     "name": "stderr",
     "output_type": "stream",
     "text": [
      "Generations: 100%|██████████| 10000/10000 [00:18<00:00, 536.65it/s]\n",
      "Generations:   1%|          | 54/10000 [00:00<00:18, 526.03it/s]"
     ]
    },
    {
     "name": "stdout",
     "output_type": "stream",
     "text": [
      "6.069160263735142\n"
     ]
    },
    {
     "name": "stderr",
     "output_type": "stream",
     "text": [
      "Generations: 100%|██████████| 10000/10000 [00:18<00:00, 541.87it/s]\n",
      "Generations:   1%|          | 52/10000 [00:00<00:19, 516.65it/s]"
     ]
    },
    {
     "name": "stdout",
     "output_type": "stream",
     "text": [
      "4.525598395733766\n"
     ]
    },
    {
     "name": "stderr",
     "output_type": "stream",
     "text": [
      "Generations: 100%|██████████| 10000/10000 [00:18<00:00, 536.58it/s]\n",
      "Generations:   1%|          | 52/10000 [00:00<00:19, 504.05it/s]"
     ]
    },
    {
     "name": "stdout",
     "output_type": "stream",
     "text": [
      "7.491942665693131\n"
     ]
    },
    {
     "name": "stderr",
     "output_type": "stream",
     "text": [
      "Generations: 100%|██████████| 10000/10000 [00:18<00:00, 543.85it/s]\n",
      "Generations:   0%|          | 50/10000 [00:00<00:19, 498.04it/s]"
     ]
    },
    {
     "name": "stdout",
     "output_type": "stream",
     "text": [
      "3.3949550165606297\n"
     ]
    },
    {
     "name": "stderr",
     "output_type": "stream",
     "text": [
      "Generations: 100%|██████████| 10000/10000 [00:18<00:00, 543.19it/s]\n",
      "Generations:   0%|          | 50/10000 [00:00<00:19, 498.14it/s]"
     ]
    },
    {
     "name": "stdout",
     "output_type": "stream",
     "text": [
      "6.977186073169364\n"
     ]
    },
    {
     "name": "stderr",
     "output_type": "stream",
     "text": [
      "Generations: 100%|██████████| 10000/10000 [00:18<00:00, 539.62it/s]\n",
      "Generations:   1%|          | 58/10000 [00:00<00:17, 557.42it/s]"
     ]
    },
    {
     "name": "stdout",
     "output_type": "stream",
     "text": [
      "12.631002969432316\n"
     ]
    },
    {
     "name": "stderr",
     "output_type": "stream",
     "text": [
      "Generations: 100%|██████████| 10000/10000 [00:18<00:00, 539.49it/s]\n",
      "Generations:   1%|          | 52/10000 [00:00<00:19, 519.90it/s]"
     ]
    },
    {
     "name": "stdout",
     "output_type": "stream",
     "text": [
      "4.82972098909957\n"
     ]
    },
    {
     "name": "stderr",
     "output_type": "stream",
     "text": [
      "Generations: 100%|██████████| 10000/10000 [00:18<00:00, 542.01it/s]\n",
      "Generations:   1%|          | 112/10000 [00:00<00:17, 558.91it/s]"
     ]
    },
    {
     "name": "stdout",
     "output_type": "stream",
     "text": [
      "5.003336497220786\n"
     ]
    },
    {
     "name": "stderr",
     "output_type": "stream",
     "text": [
      "Generations: 100%|██████████| 10000/10000 [00:18<00:00, 540.23it/s]\n",
      "Generations:   0%|          | 50/10000 [00:00<00:20, 494.93it/s]"
     ]
    },
    {
     "name": "stdout",
     "output_type": "stream",
     "text": [
      "8.049619139358938\n"
     ]
    },
    {
     "name": "stderr",
     "output_type": "stream",
     "text": [
      "Generations: 100%|██████████| 10000/10000 [00:18<00:00, 540.10it/s]\n",
      "Generations:   1%|          | 52/10000 [00:00<00:19, 513.68it/s]"
     ]
    },
    {
     "name": "stdout",
     "output_type": "stream",
     "text": [
      "7.994685279435259\n"
     ]
    },
    {
     "name": "stderr",
     "output_type": "stream",
     "text": [
      "Generations: 100%|██████████| 10000/10000 [00:18<00:00, 541.07it/s]\n",
      "Generations:   1%|          | 52/10000 [00:00<00:19, 517.06it/s]"
     ]
    },
    {
     "name": "stdout",
     "output_type": "stream",
     "text": [
      "10.965195059325353\n"
     ]
    },
    {
     "name": "stderr",
     "output_type": "stream",
     "text": [
      "Generations: 100%|██████████| 10000/10000 [00:18<00:00, 536.13it/s]\n",
      "Generations:   1%|          | 56/10000 [00:00<00:18, 538.59it/s]"
     ]
    },
    {
     "name": "stdout",
     "output_type": "stream",
     "text": [
      "5.89351368688196\n"
     ]
    },
    {
     "name": "stderr",
     "output_type": "stream",
     "text": [
      "Generations: 100%|██████████| 10000/10000 [00:18<00:00, 535.62it/s]\n",
      "Generations:   0%|          | 50/10000 [00:00<00:20, 483.88it/s]"
     ]
    },
    {
     "name": "stdout",
     "output_type": "stream",
     "text": [
      "7.361506198780546\n"
     ]
    },
    {
     "name": "stderr",
     "output_type": "stream",
     "text": [
      "Generations: 100%|██████████| 10000/10000 [00:18<00:00, 533.43it/s]\n",
      "Generations:   1%|          | 54/10000 [00:00<00:18, 530.57it/s]"
     ]
    },
    {
     "name": "stdout",
     "output_type": "stream",
     "text": [
      "11.479776824735609\n"
     ]
    },
    {
     "name": "stderr",
     "output_type": "stream",
     "text": [
      "Generations: 100%|██████████| 10000/10000 [00:18<00:00, 541.28it/s]\n",
      "Generations:   0%|          | 48/10000 [00:00<00:21, 472.65it/s]"
     ]
    },
    {
     "name": "stdout",
     "output_type": "stream",
     "text": [
      "5.447534196889379\n"
     ]
    },
    {
     "name": "stderr",
     "output_type": "stream",
     "text": [
      "Generations: 100%|██████████| 10000/10000 [00:18<00:00, 540.69it/s]\n",
      "Generations:   1%|          | 52/10000 [00:00<00:19, 519.97it/s]"
     ]
    },
    {
     "name": "stdout",
     "output_type": "stream",
     "text": [
      "8.735235695976499\n"
     ]
    },
    {
     "name": "stderr",
     "output_type": "stream",
     "text": [
      "Generations: 100%|██████████| 10000/10000 [00:18<00:00, 540.66it/s]\n",
      "Generations:   0%|          | 50/10000 [00:00<00:20, 485.46it/s]"
     ]
    },
    {
     "name": "stdout",
     "output_type": "stream",
     "text": [
      "5.557936674549808\n"
     ]
    },
    {
     "name": "stderr",
     "output_type": "stream",
     "text": [
      "Generations: 100%|██████████| 10000/10000 [00:18<00:00, 537.50it/s]\n",
      "Generations:   1%|          | 54/10000 [00:00<00:19, 522.00it/s]"
     ]
    },
    {
     "name": "stdout",
     "output_type": "stream",
     "text": [
      "5.998793812427522\n"
     ]
    },
    {
     "name": "stderr",
     "output_type": "stream",
     "text": [
      "Generations: 100%|██████████| 10000/10000 [00:18<00:00, 534.08it/s]\n",
      "Generations:   0%|          | 46/10000 [00:00<00:22, 445.54it/s]"
     ]
    },
    {
     "name": "stdout",
     "output_type": "stream",
     "text": [
      "5.827623365067225\n"
     ]
    },
    {
     "name": "stderr",
     "output_type": "stream",
     "text": [
      "Generations: 100%|██████████| 10000/10000 [00:18<00:00, 536.15it/s]\n",
      "Generations:   1%|          | 52/10000 [00:00<00:19, 509.79it/s]"
     ]
    },
    {
     "name": "stdout",
     "output_type": "stream",
     "text": [
      "5.7689764727107615\n"
     ]
    },
    {
     "name": "stderr",
     "output_type": "stream",
     "text": [
      "Generations: 100%|██████████| 10000/10000 [00:18<00:00, 537.81it/s]\n",
      "Generations:   1%|          | 56/10000 [00:00<00:18, 537.66it/s]"
     ]
    },
    {
     "name": "stdout",
     "output_type": "stream",
     "text": [
      "13.815927270004494\n"
     ]
    },
    {
     "name": "stderr",
     "output_type": "stream",
     "text": [
      "Generations: 100%|██████████| 10000/10000 [00:18<00:00, 537.08it/s]\n",
      "Generations:   1%|          | 52/10000 [00:00<00:19, 514.10it/s]"
     ]
    },
    {
     "name": "stdout",
     "output_type": "stream",
     "text": [
      "3.9983874524877194\n"
     ]
    },
    {
     "name": "stderr",
     "output_type": "stream",
     "text": [
      "Generations: 100%|██████████| 10000/10000 [00:18<00:00, 539.94it/s]\n",
      "Generations:   0%|          | 48/10000 [00:00<00:21, 458.78it/s]"
     ]
    },
    {
     "name": "stdout",
     "output_type": "stream",
     "text": [
      "4.835912096168471\n"
     ]
    },
    {
     "name": "stderr",
     "output_type": "stream",
     "text": [
      "Generations: 100%|██████████| 10000/10000 [00:19<00:00, 505.87it/s]\n",
      "Generations:   0%|          | 48/10000 [00:00<00:20, 479.52it/s]"
     ]
    },
    {
     "name": "stdout",
     "output_type": "stream",
     "text": [
      "7.933490631458568\n"
     ]
    },
    {
     "name": "stderr",
     "output_type": "stream",
     "text": [
      "Generations: 100%|██████████| 10000/10000 [00:19<00:00, 501.52it/s]\n",
      "Generations:   0%|          | 48/10000 [00:00<00:20, 475.31it/s]"
     ]
    },
    {
     "name": "stdout",
     "output_type": "stream",
     "text": [
      "10.716721081086348\n"
     ]
    },
    {
     "name": "stderr",
     "output_type": "stream",
     "text": [
      "Generations: 100%|██████████| 10000/10000 [00:20<00:00, 497.50it/s]\n",
      "Generations:   0%|          | 44/10000 [00:00<00:23, 429.88it/s]"
     ]
    },
    {
     "name": "stdout",
     "output_type": "stream",
     "text": [
      "5.220560923745367\n"
     ]
    },
    {
     "name": "stderr",
     "output_type": "stream",
     "text": [
      "Generations: 100%|██████████| 10000/10000 [00:19<00:00, 506.83it/s]\n",
      "Generations:   1%|          | 54/10000 [00:00<00:18, 527.46it/s]"
     ]
    },
    {
     "name": "stdout",
     "output_type": "stream",
     "text": [
      "14.613840038244163\n"
     ]
    },
    {
     "name": "stderr",
     "output_type": "stream",
     "text": [
      "Generations: 100%|██████████| 10000/10000 [00:19<00:00, 511.45it/s]\n",
      "Generations:   0%|          | 50/10000 [00:00<00:20, 491.92it/s]"
     ]
    },
    {
     "name": "stdout",
     "output_type": "stream",
     "text": [
      "14.180391250999875\n"
     ]
    },
    {
     "name": "stderr",
     "output_type": "stream",
     "text": [
      "Generations: 100%|██████████| 10000/10000 [00:19<00:00, 508.64it/s]\n",
      "Generations:   0%|          | 50/10000 [00:00<00:19, 499.73it/s]"
     ]
    },
    {
     "name": "stdout",
     "output_type": "stream",
     "text": [
      "6.46736337226163\n"
     ]
    },
    {
     "name": "stderr",
     "output_type": "stream",
     "text": [
      "Generations: 100%|██████████| 10000/10000 [00:19<00:00, 509.39it/s]\n",
      "Generations:   0%|          | 48/10000 [00:00<00:21, 465.58it/s]"
     ]
    },
    {
     "name": "stdout",
     "output_type": "stream",
     "text": [
      "6.545236128638308\n"
     ]
    },
    {
     "name": "stderr",
     "output_type": "stream",
     "text": [
      "Generations: 100%|██████████| 10000/10000 [00:19<00:00, 508.02it/s]\n",
      "Generations:   0%|          | 48/10000 [00:00<00:21, 466.82it/s]"
     ]
    },
    {
     "name": "stdout",
     "output_type": "stream",
     "text": [
      "14.424103949152993\n"
     ]
    },
    {
     "name": "stderr",
     "output_type": "stream",
     "text": [
      "Generations: 100%|██████████| 10000/10000 [00:20<00:00, 499.94it/s]\n",
      "Generations:   0%|          | 42/10000 [00:00<00:24, 414.23it/s]"
     ]
    },
    {
     "name": "stdout",
     "output_type": "stream",
     "text": [
      "7.692796084316072\n"
     ]
    },
    {
     "name": "stderr",
     "output_type": "stream",
     "text": [
      "Generations: 100%|██████████| 10000/10000 [00:19<00:00, 505.90it/s]\n",
      "Generations:   1%|          | 52/10000 [00:00<00:19, 515.11it/s]"
     ]
    },
    {
     "name": "stdout",
     "output_type": "stream",
     "text": [
      "5.934139158032835\n"
     ]
    },
    {
     "name": "stderr",
     "output_type": "stream",
     "text": [
      "Generations: 100%|██████████| 10000/10000 [00:20<00:00, 499.33it/s]\n",
      "Generations:   0%|          | 30/10000 [00:00<00:36, 275.26it/s]"
     ]
    },
    {
     "name": "stdout",
     "output_type": "stream",
     "text": [
      "7.802809955128126\n"
     ]
    },
    {
     "name": "stderr",
     "output_type": "stream",
     "text": [
      "Generations: 100%|██████████| 10000/10000 [00:20<00:00, 497.13it/s]\n",
      "Generations:   0%|          | 48/10000 [00:00<00:20, 476.33it/s]"
     ]
    },
    {
     "name": "stdout",
     "output_type": "stream",
     "text": [
      "8.467577565043044\n"
     ]
    },
    {
     "name": "stderr",
     "output_type": "stream",
     "text": [
      "Generations: 100%|██████████| 10000/10000 [00:19<00:00, 511.67it/s]\n",
      "Generations:   1%|          | 54/10000 [00:00<00:19, 519.01it/s]"
     ]
    },
    {
     "name": "stdout",
     "output_type": "stream",
     "text": [
      "7.092335239770421\n"
     ]
    },
    {
     "name": "stderr",
     "output_type": "stream",
     "text": [
      "Generations: 100%|██████████| 10000/10000 [00:19<00:00, 514.13it/s]\n",
      "Generations:   0%|          | 46/10000 [00:00<00:22, 445.49it/s]"
     ]
    },
    {
     "name": "stdout",
     "output_type": "stream",
     "text": [
      "9.313825616353228\n"
     ]
    },
    {
     "name": "stderr",
     "output_type": "stream",
     "text": [
      "Generations: 100%|██████████| 10000/10000 [00:19<00:00, 503.88it/s]\n",
      "Generations:   1%|          | 52/10000 [00:00<00:19, 498.05it/s]"
     ]
    },
    {
     "name": "stdout",
     "output_type": "stream",
     "text": [
      "8.511676168872512\n"
     ]
    },
    {
     "name": "stderr",
     "output_type": "stream",
     "text": [
      "Generations: 100%|██████████| 10000/10000 [00:19<00:00, 512.18it/s]\n",
      "Generations:   0%|          | 48/10000 [00:00<00:20, 474.22it/s]"
     ]
    },
    {
     "name": "stdout",
     "output_type": "stream",
     "text": [
      "5.372588115060097\n"
     ]
    },
    {
     "name": "stderr",
     "output_type": "stream",
     "text": [
      "Generations: 100%|██████████| 10000/10000 [00:19<00:00, 505.93it/s]\n",
      "Generations:   0%|          | 48/10000 [00:00<00:21, 466.40it/s]"
     ]
    },
    {
     "name": "stdout",
     "output_type": "stream",
     "text": [
      "4.572063022182405\n"
     ]
    },
    {
     "name": "stderr",
     "output_type": "stream",
     "text": [
      "Generations: 100%|██████████| 10000/10000 [00:19<00:00, 511.90it/s]\n",
      "Generations:   0%|          | 48/10000 [00:00<00:20, 476.27it/s]"
     ]
    },
    {
     "name": "stdout",
     "output_type": "stream",
     "text": [
      "4.938736041009051\n"
     ]
    },
    {
     "name": "stderr",
     "output_type": "stream",
     "text": [
      "Generations: 100%|██████████| 10000/10000 [00:19<00:00, 508.33it/s]\n",
      "Generations:   0%|          | 48/10000 [00:00<00:21, 467.99it/s]"
     ]
    },
    {
     "name": "stdout",
     "output_type": "stream",
     "text": [
      "7.548622942856255\n"
     ]
    },
    {
     "name": "stderr",
     "output_type": "stream",
     "text": [
      "Generations: 100%|██████████| 10000/10000 [00:19<00:00, 506.51it/s]\n",
      "Generations:   1%|          | 54/10000 [00:00<00:19, 521.98it/s]"
     ]
    },
    {
     "name": "stdout",
     "output_type": "stream",
     "text": [
      "2.657847363509802\n"
     ]
    },
    {
     "name": "stderr",
     "output_type": "stream",
     "text": [
      "Generations: 100%|██████████| 10000/10000 [00:19<00:00, 507.45it/s]\n",
      "Generations:   0%|          | 50/10000 [00:00<00:20, 495.61it/s]"
     ]
    },
    {
     "name": "stdout",
     "output_type": "stream",
     "text": [
      "7.853610788323692\n"
     ]
    },
    {
     "name": "stderr",
     "output_type": "stream",
     "text": [
      "Generations: 100%|██████████| 10000/10000 [00:19<00:00, 504.67it/s]\n",
      "Generations:   0%|          | 46/10000 [00:00<00:22, 439.57it/s]"
     ]
    },
    {
     "name": "stdout",
     "output_type": "stream",
     "text": [
      "4.204133277899871\n"
     ]
    },
    {
     "name": "stderr",
     "output_type": "stream",
     "text": [
      "Generations: 100%|██████████| 10000/10000 [00:19<00:00, 510.43it/s]\n",
      "Generations:   1%|          | 52/10000 [00:00<00:19, 511.76it/s]"
     ]
    },
    {
     "name": "stdout",
     "output_type": "stream",
     "text": [
      "8.170541603438451\n"
     ]
    },
    {
     "name": "stderr",
     "output_type": "stream",
     "text": [
      "Generations: 100%|██████████| 10000/10000 [00:19<00:00, 504.63it/s]\n",
      "Generations:   0%|          | 50/10000 [00:00<00:20, 486.37it/s]"
     ]
    },
    {
     "name": "stdout",
     "output_type": "stream",
     "text": [
      "6.821852737457604\n"
     ]
    },
    {
     "name": "stderr",
     "output_type": "stream",
     "text": [
      "Generations: 100%|██████████| 10000/10000 [00:19<00:00, 507.41it/s]\n",
      "Generations:   0%|          | 48/10000 [00:00<00:21, 462.88it/s]"
     ]
    },
    {
     "name": "stdout",
     "output_type": "stream",
     "text": [
      "6.310635342180589\n"
     ]
    },
    {
     "name": "stderr",
     "output_type": "stream",
     "text": [
      "Generations: 100%|██████████| 10000/10000 [00:19<00:00, 504.35it/s]\n",
      "Generations:   0%|          | 50/10000 [00:00<00:20, 497.21it/s]"
     ]
    },
    {
     "name": "stdout",
     "output_type": "stream",
     "text": [
      "13.138496551999907\n"
     ]
    },
    {
     "name": "stderr",
     "output_type": "stream",
     "text": [
      "Generations: 100%|██████████| 10000/10000 [00:19<00:00, 503.01it/s]\n",
      "Generations:   0%|          | 44/10000 [00:00<00:23, 421.83it/s]"
     ]
    },
    {
     "name": "stdout",
     "output_type": "stream",
     "text": [
      "10.457997961459839\n"
     ]
    },
    {
     "name": "stderr",
     "output_type": "stream",
     "text": [
      "Generations: 100%|██████████| 10000/10000 [00:19<00:00, 504.30it/s]\n",
      "Generations:   0%|          | 46/10000 [00:00<00:22, 441.41it/s]"
     ]
    },
    {
     "name": "stdout",
     "output_type": "stream",
     "text": [
      "3.6699068092773928\n"
     ]
    },
    {
     "name": "stderr",
     "output_type": "stream",
     "text": [
      "Generations: 100%|██████████| 10000/10000 [00:19<00:00, 504.63it/s]\n",
      "Generations:   0%|          | 50/10000 [00:00<00:20, 492.82it/s]"
     ]
    },
    {
     "name": "stdout",
     "output_type": "stream",
     "text": [
      "5.665334349942299\n"
     ]
    },
    {
     "name": "stderr",
     "output_type": "stream",
     "text": [
      "Generations: 100%|██████████| 10000/10000 [00:19<00:00, 504.89it/s]\n",
      "Generations:   0%|          | 46/10000 [00:00<00:22, 448.43it/s]"
     ]
    },
    {
     "name": "stdout",
     "output_type": "stream",
     "text": [
      "4.310601573233242\n"
     ]
    },
    {
     "name": "stderr",
     "output_type": "stream",
     "text": [
      "Generations: 100%|██████████| 10000/10000 [00:19<00:00, 507.79it/s]\n",
      "Generations:   1%|          | 54/10000 [00:00<00:18, 527.93it/s]"
     ]
    },
    {
     "name": "stdout",
     "output_type": "stream",
     "text": [
      "6.812252726824852\n"
     ]
    },
    {
     "name": "stderr",
     "output_type": "stream",
     "text": [
      "Generations: 100%|██████████| 10000/10000 [00:19<00:00, 507.78it/s]\n",
      "Generations:   1%|          | 52/10000 [00:00<00:19, 511.12it/s]"
     ]
    },
    {
     "name": "stdout",
     "output_type": "stream",
     "text": [
      "9.099043957441324\n"
     ]
    },
    {
     "name": "stderr",
     "output_type": "stream",
     "text": [
      "Generations: 100%|██████████| 10000/10000 [00:19<00:00, 501.28it/s]\n",
      "Generations:   0%|          | 48/10000 [00:00<00:20, 475.87it/s]"
     ]
    },
    {
     "name": "stdout",
     "output_type": "stream",
     "text": [
      "5.863527133355049\n"
     ]
    },
    {
     "name": "stderr",
     "output_type": "stream",
     "text": [
      "Generations: 100%|██████████| 10000/10000 [00:21<00:00, 468.21it/s]\n",
      "Generations:   0%|          | 48/10000 [00:00<00:20, 475.48it/s]"
     ]
    },
    {
     "name": "stdout",
     "output_type": "stream",
     "text": [
      "8.922115892168563\n"
     ]
    },
    {
     "name": "stderr",
     "output_type": "stream",
     "text": [
      "Generations: 100%|██████████| 10000/10000 [00:20<00:00, 480.46it/s]\n",
      "Generations:   1%|          | 52/10000 [00:00<00:19, 518.49it/s]"
     ]
    },
    {
     "name": "stdout",
     "output_type": "stream",
     "text": [
      "8.48844071007619\n"
     ]
    },
    {
     "name": "stderr",
     "output_type": "stream",
     "text": [
      "Generations: 100%|██████████| 10000/10000 [00:20<00:00, 480.82it/s]\n",
      "Generations:   1%|          | 52/10000 [00:00<00:19, 516.40it/s]"
     ]
    },
    {
     "name": "stdout",
     "output_type": "stream",
     "text": [
      "9.760713429355377\n"
     ]
    },
    {
     "name": "stderr",
     "output_type": "stream",
     "text": [
      "Generations: 100%|██████████| 10000/10000 [00:20<00:00, 480.16it/s]\n",
      "Generations:   0%|          | 44/10000 [00:00<00:23, 425.08it/s]"
     ]
    },
    {
     "name": "stdout",
     "output_type": "stream",
     "text": [
      "6.890153059579887\n"
     ]
    },
    {
     "name": "stderr",
     "output_type": "stream",
     "text": [
      "Generations: 100%|██████████| 10000/10000 [00:20<00:00, 480.82it/s]\n",
      "Generations:   1%|          | 52/10000 [00:00<00:19, 515.16it/s]"
     ]
    },
    {
     "name": "stdout",
     "output_type": "stream",
     "text": [
      "3.108091155678494\n"
     ]
    },
    {
     "name": "stderr",
     "output_type": "stream",
     "text": [
      "Generations: 100%|██████████| 10000/10000 [00:21<00:00, 474.43it/s]\n",
      "Generations:   0%|          | 42/10000 [00:00<00:24, 405.79it/s]"
     ]
    },
    {
     "name": "stdout",
     "output_type": "stream",
     "text": [
      "10.896695815558985\n"
     ]
    },
    {
     "name": "stderr",
     "output_type": "stream",
     "text": [
      "Generations: 100%|██████████| 10000/10000 [00:20<00:00, 482.33it/s]\n",
      "Generations:   1%|          | 52/10000 [00:00<00:19, 514.96it/s]"
     ]
    },
    {
     "name": "stdout",
     "output_type": "stream",
     "text": [
      "11.43385816151526\n"
     ]
    },
    {
     "name": "stderr",
     "output_type": "stream",
     "text": [
      "Generations: 100%|██████████| 10000/10000 [00:21<00:00, 472.93it/s]\n",
      "Generations:   0%|          | 48/10000 [00:00<00:21, 473.60it/s]"
     ]
    },
    {
     "name": "stdout",
     "output_type": "stream",
     "text": [
      "5.586297442607446\n"
     ]
    },
    {
     "name": "stderr",
     "output_type": "stream",
     "text": [
      "Generations: 100%|██████████| 10000/10000 [00:21<00:00, 474.98it/s]\n",
      "Generations:   0%|          | 48/10000 [00:00<00:20, 479.68it/s]"
     ]
    },
    {
     "name": "stdout",
     "output_type": "stream",
     "text": [
      "11.535133137473139\n"
     ]
    },
    {
     "name": "stderr",
     "output_type": "stream",
     "text": [
      "Generations: 100%|██████████| 10000/10000 [00:21<00:00, 475.86it/s]\n",
      "Generations:   1%|          | 52/10000 [00:00<00:19, 516.42it/s]"
     ]
    },
    {
     "name": "stdout",
     "output_type": "stream",
     "text": [
      "9.628906488415382\n"
     ]
    },
    {
     "name": "stderr",
     "output_type": "stream",
     "text": [
      "Generations: 100%|██████████| 10000/10000 [00:21<00:00, 471.63it/s]\n",
      "Generations:   0%|          | 46/10000 [00:00<00:21, 458.17it/s]"
     ]
    },
    {
     "name": "stdout",
     "output_type": "stream",
     "text": [
      "9.029895320666924\n"
     ]
    },
    {
     "name": "stderr",
     "output_type": "stream",
     "text": [
      "Generations: 100%|██████████| 10000/10000 [00:21<00:00, 471.34it/s]\n",
      "Generations:   0%|          | 42/10000 [00:00<00:23, 416.37it/s]"
     ]
    },
    {
     "name": "stdout",
     "output_type": "stream",
     "text": [
      "7.207172216825981\n"
     ]
    },
    {
     "name": "stderr",
     "output_type": "stream",
     "text": [
      "Generations: 100%|██████████| 10000/10000 [00:21<00:00, 468.91it/s]\n",
      "Generations:   0%|          | 44/10000 [00:00<00:22, 433.93it/s]"
     ]
    },
    {
     "name": "stdout",
     "output_type": "stream",
     "text": [
      "7.320618260425363\n"
     ]
    },
    {
     "name": "stderr",
     "output_type": "stream",
     "text": [
      "Generations: 100%|██████████| 10000/10000 [00:20<00:00, 476.62it/s]\n",
      "Generations:   0%|          | 42/10000 [00:00<00:24, 413.51it/s]"
     ]
    },
    {
     "name": "stdout",
     "output_type": "stream",
     "text": [
      "10.490884591860947\n"
     ]
    },
    {
     "name": "stderr",
     "output_type": "stream",
     "text": [
      "Generations: 100%|██████████| 10000/10000 [00:21<00:00, 471.29it/s]\n",
      "Generations:   0%|          | 46/10000 [00:00<00:22, 448.68it/s]"
     ]
    },
    {
     "name": "stdout",
     "output_type": "stream",
     "text": [
      "7.463030385711534\n"
     ]
    },
    {
     "name": "stderr",
     "output_type": "stream",
     "text": [
      "Generations: 100%|██████████| 10000/10000 [00:21<00:00, 472.43it/s]\n",
      "Generations:   0%|          | 44/10000 [00:00<00:23, 428.48it/s]"
     ]
    },
    {
     "name": "stdout",
     "output_type": "stream",
     "text": [
      "10.057779301188532\n"
     ]
    },
    {
     "name": "stderr",
     "output_type": "stream",
     "text": [
      "Generations: 100%|██████████| 10000/10000 [00:21<00:00, 472.07it/s]\n",
      "Generations:   0%|          | 44/10000 [00:00<00:23, 417.66it/s]"
     ]
    },
    {
     "name": "stdout",
     "output_type": "stream",
     "text": [
      "8.908734543254468\n"
     ]
    },
    {
     "name": "stderr",
     "output_type": "stream",
     "text": [
      "Generations: 100%|██████████| 10000/10000 [00:21<00:00, 468.69it/s]\n",
      "Generations:   0%|          | 48/10000 [00:00<00:20, 479.66it/s]"
     ]
    },
    {
     "name": "stdout",
     "output_type": "stream",
     "text": [
      "8.969456083656794\n"
     ]
    },
    {
     "name": "stderr",
     "output_type": "stream",
     "text": [
      "Generations: 100%|██████████| 10000/10000 [00:20<00:00, 477.84it/s]\n",
      "Generations:   0%|          | 46/10000 [00:00<00:22, 438.53it/s]"
     ]
    },
    {
     "name": "stdout",
     "output_type": "stream",
     "text": [
      "7.3287718613267\n"
     ]
    },
    {
     "name": "stderr",
     "output_type": "stream",
     "text": [
      "Generations: 100%|██████████| 10000/10000 [00:21<00:00, 473.83it/s]\n",
      "Generations:   0%|          | 46/10000 [00:00<00:22, 449.01it/s]"
     ]
    },
    {
     "name": "stdout",
     "output_type": "stream",
     "text": [
      "8.496496612926478\n"
     ]
    },
    {
     "name": "stderr",
     "output_type": "stream",
     "text": [
      "Generations: 100%|██████████| 10000/10000 [00:20<00:00, 480.21it/s]\n",
      "Generations:   0%|          | 46/10000 [00:00<00:22, 450.81it/s]"
     ]
    },
    {
     "name": "stdout",
     "output_type": "stream",
     "text": [
      "10.158163341446226\n"
     ]
    },
    {
     "name": "stderr",
     "output_type": "stream",
     "text": [
      "Generations: 100%|██████████| 10000/10000 [00:21<00:00, 472.15it/s]\n",
      "Generations:   0%|          | 46/10000 [00:00<00:22, 439.83it/s]"
     ]
    },
    {
     "name": "stdout",
     "output_type": "stream",
     "text": [
      "8.109431139321842\n"
     ]
    },
    {
     "name": "stderr",
     "output_type": "stream",
     "text": [
      "Generations: 100%|██████████| 10000/10000 [00:21<00:00, 460.09it/s]\n",
      "Generations:   0%|          | 42/10000 [00:00<00:23, 418.02it/s]"
     ]
    },
    {
     "name": "stdout",
     "output_type": "stream",
     "text": [
      "10.586604183462256\n"
     ]
    },
    {
     "name": "stderr",
     "output_type": "stream",
     "text": [
      "Generations: 100%|██████████| 10000/10000 [00:20<00:00, 478.93it/s]\n",
      "Generations:   0%|          | 48/10000 [00:00<00:21, 459.01it/s]"
     ]
    },
    {
     "name": "stdout",
     "output_type": "stream",
     "text": [
      "6.070025470175722\n"
     ]
    },
    {
     "name": "stderr",
     "output_type": "stream",
     "text": [
      "Generations: 100%|██████████| 10000/10000 [00:21<00:00, 473.46it/s]\n",
      "Generations:   0%|          | 44/10000 [00:00<00:22, 436.49it/s]"
     ]
    },
    {
     "name": "stdout",
     "output_type": "stream",
     "text": [
      "8.383403468774034\n"
     ]
    },
    {
     "name": "stderr",
     "output_type": "stream",
     "text": [
      "Generations: 100%|██████████| 10000/10000 [00:20<00:00, 477.55it/s]\n",
      "Generations:   1%|          | 52/10000 [00:00<00:19, 514.24it/s]"
     ]
    },
    {
     "name": "stdout",
     "output_type": "stream",
     "text": [
      "8.320377705740086\n"
     ]
    },
    {
     "name": "stderr",
     "output_type": "stream",
     "text": [
      "Generations: 100%|██████████| 10000/10000 [00:20<00:00, 480.61it/s]\n",
      "Generations:   0%|          | 50/10000 [00:00<00:20, 491.45it/s]"
     ]
    },
    {
     "name": "stdout",
     "output_type": "stream",
     "text": [
      "9.34733519372827\n"
     ]
    },
    {
     "name": "stderr",
     "output_type": "stream",
     "text": [
      "Generations: 100%|██████████| 10000/10000 [00:21<00:00, 473.80it/s]\n",
      "Generations:   0%|          | 44/10000 [00:00<00:23, 430.69it/s]"
     ]
    },
    {
     "name": "stdout",
     "output_type": "stream",
     "text": [
      "8.443048417081812\n"
     ]
    },
    {
     "name": "stderr",
     "output_type": "stream",
     "text": [
      "Generations: 100%|██████████| 10000/10000 [00:21<00:00, 466.95it/s]\n",
      "Generations:   0%|          | 50/10000 [00:00<00:20, 487.81it/s]"
     ]
    },
    {
     "name": "stdout",
     "output_type": "stream",
     "text": [
      "9.008160071870961\n"
     ]
    },
    {
     "name": "stderr",
     "output_type": "stream",
     "text": [
      "Generations: 100%|██████████| 10000/10000 [00:21<00:00, 471.27it/s]\n",
      "Generations:   0%|          | 42/10000 [00:00<00:23, 417.57it/s]"
     ]
    },
    {
     "name": "stdout",
     "output_type": "stream",
     "text": [
      "8.034749407137653\n"
     ]
    },
    {
     "name": "stderr",
     "output_type": "stream",
     "text": [
      "Generations: 100%|██████████| 10000/10000 [00:21<00:00, 474.86it/s]\n",
      "Generations:   0%|          | 42/10000 [00:00<00:24, 399.67it/s]"
     ]
    },
    {
     "name": "stdout",
     "output_type": "stream",
     "text": [
      "7.42620915685626\n"
     ]
    },
    {
     "name": "stderr",
     "output_type": "stream",
     "text": [
      "Generations: 100%|██████████| 10000/10000 [00:20<00:00, 476.67it/s]\n",
      "Generations:   0%|          | 38/10000 [00:00<00:26, 377.45it/s]"
     ]
    },
    {
     "name": "stdout",
     "output_type": "stream",
     "text": [
      "9.356572349463477\n"
     ]
    },
    {
     "name": "stderr",
     "output_type": "stream",
     "text": [
      "Generations: 100%|██████████| 10000/10000 [00:20<00:00, 476.97it/s]"
     ]
    },
    {
     "name": "stdout",
     "output_type": "stream",
     "text": [
      "9.487165113916006\n"
     ]
    },
    {
     "name": "stderr",
     "output_type": "stream",
     "text": [
      "\n"
     ]
    }
   ],
   "source": [
    "ms = np.arange(start = 10, stop = 110, step = 10)\n",
    "\n",
    "for pop_size in ms:\n",
    "\n",
    "    for i in range(n_exec):\n",
    "        GA = GeneticAlgorithm(n = 10, m = pop_size, l = best_l, max_eval = 10000, mut_prob = best_mut_prob, cross_prob = best_cross_prob, k = pop_size)\n",
    "        GA.solve()\n",
    "        fitness.append(GA.best_fitness)\n",
    "        print(GA.best_fitness)\n",
    "    f_m.append(fitness.copy())\n",
    "    fitness.clear()"
   ]
  },
  {
   "cell_type": "code",
   "execution_count": 41,
   "metadata": {},
   "outputs": [],
   "source": [
    "best_pop_size = ms[np.argmin(np.mean(f_m, axis = 1))]"
   ]
  },
  {
   "cell_type": "code",
   "execution_count": 42,
   "metadata": {},
   "outputs": [],
   "source": [
    "with open('hyperparameters_rastrigin.npy', 'wb') as f:\n",
    "    np.save(f, pm)\n",
    "    np.save(f, pc)\n",
    "    np.save(f, f_l)\n",
    "    np.save(f, f_m)"
   ]
  },
  {
   "cell_type": "code",
   "execution_count": 43,
   "metadata": {},
   "outputs": [
    {
     "name": "stdout",
     "output_type": "stream",
     "text": [
      "Best Mutation Probability: 0.03\n",
      "Best Crossover Probability: 0.9000000000000002\n",
      "Best Population Size: 30\n",
      "Best L-bits: 20\n"
     ]
    }
   ],
   "source": [
    "# n = 10, m = 20, l = 20, max_eval = 10000, k = 20\n",
    "print('Best Mutation Probability:', best_mut_prob)\n",
    "print('Best Crossover Probability:', best_cross_prob)\n",
    "print('Best Population Size:', best_pop_size)\n",
    "print('Best L-bits:', best_l)"
   ]
  },
  {
   "cell_type": "code",
   "execution_count": 45,
   "metadata": {},
   "outputs": [
    {
     "name": "stderr",
     "output_type": "stream",
     "text": [
      "Generations: 100%|██████████| 10000/10000 [00:14<00:00, 677.70it/s]"
     ]
    },
    {
     "name": "stdout",
     "output_type": "stream",
     "text": [
      "6.574952976308168\n"
     ]
    },
    {
     "name": "stderr",
     "output_type": "stream",
     "text": [
      "\n"
     ]
    }
   ],
   "source": [
    "GA = GeneticAlgorithm(n = 10, m = best_pop_size, l = best_l, max_eval = 10000, mut_prob = best_mut_prob, cross_prob = best_cross_prob, k = best_pop_size)\n",
    "GA.solve()\n",
    "print(GA.best_fitness)"
   ]
  },
  {
   "cell_type": "code",
   "execution_count": null,
   "metadata": {},
   "outputs": [],
   "source": [
    "# with open('hyperparameters_rastrigin.npy', 'rb') as f:\n",
    "#     pm = np.load(f)\n",
    "#     pc = np.load(f)\n",
    "#     f_l = np.load(f)\n",
    "#     f_m = np.load(f)"
   ]
  }
 ],
 "metadata": {
  "kernelspec": {
   "display_name": "Python 3",
   "language": "python",
   "name": "python3"
  },
  "language_info": {
   "codemirror_mode": {
    "name": "ipython",
    "version": 3
   },
   "file_extension": ".py",
   "mimetype": "text/x-python",
   "name": "python",
   "nbconvert_exporter": "python",
   "pygments_lexer": "ipython3",
   "version": "3.6.10"
  }
 },
 "nbformat": 4,
 "nbformat_minor": 4
}
