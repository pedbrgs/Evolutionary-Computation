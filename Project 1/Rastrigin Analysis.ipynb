{
 "cells": [
  {
   "cell_type": "code",
   "execution_count": 1,
   "metadata": {},
   "outputs": [],
   "source": [
    "import numpy as np"
   ]
  },
  {
   "cell_type": "code",
   "execution_count": 2,
   "metadata": {},
   "outputs": [],
   "source": [
    "interval = [-5.12, 5.12]\n",
    "n = 10\n",
    "l = 10\n",
    "m = 100\n",
    "# interval = [2, 5]"
   ]
  },
  {
   "cell_type": "code",
   "execution_count": 3,
   "metadata": {},
   "outputs": [],
   "source": [
    "def rastrigin(X, A = 10):\n",
    "    \n",
    "    \"\"\" Rastrigin function. \"\"\"\n",
    "    \n",
    "    n = len(X)\n",
    "    Y = A*n + sum([np.square(x) - A*np.cos(2*np.pi*x) for x in X])\n",
    "    \n",
    "    return Y"
   ]
  },
  {
   "cell_type": "code",
   "execution_count": 4,
   "metadata": {},
   "outputs": [],
   "source": [
    "def decoding(B, l, interval):\n",
    "    \n",
    "    \"\"\" Decoding each binary solution to a floating point representation. \"\"\"\n",
    "    \n",
    "    n = int(len(B)/l)\n",
    "    X = np.zeros((n,))\n",
    "    \n",
    "    # The interval between adjacent values\n",
    "    delta = (interval[1] - interval[0])/(np.power(2,l)-1)  \n",
    "    \n",
    "    # For each variable b in B\n",
    "    for i in range(n):\n",
    "        b = B[l*i:l*(i+1)]\n",
    "        X[i] = interval[0] + delta * sum([b[k]*np.power(2,(l-k-1)) for k in range(l)])\n",
    "\n",
    "    return X"
   ]
  },
  {
   "cell_type": "code",
   "execution_count": 5,
   "metadata": {},
   "outputs": [],
   "source": [
    "def encoding(X, l, interval):\n",
    "    \n",
    "    \"\"\" Encoding each real solution to a binary representation. \"\"\"\n",
    "    \n",
    "    n = len(X)\n",
    "    B = list()\n",
    "    \n",
    "    # For each variable X[i]\n",
    "    for i in range(n):        \n",
    "        k = int(np.ceil((X[i] - interval[0])*(np.power(2,l)-1)/(interval[1] - interval[0])))\n",
    "        b = bin(k).replace(\"0b\", \"\")\n",
    "        b = [float(bi) for bi in b]\n",
    "        \n",
    "        if len(b) < l:\n",
    "            b = list(np.zeros((l-len(b),))) + b\n",
    "            \n",
    "        B.append(b)    \n",
    "    \n",
    "    B = np.array(B).reshape((-1))\n",
    "    \n",
    "    return B"
   ]
  },
  {
   "cell_type": "code",
   "execution_count": 6,
   "metadata": {},
   "outputs": [
    {
     "name": "stdout",
     "output_type": "stream",
     "text": [
      "[0. 0. 0. 0. 0. 0. 0. 0. 0. 0.]\n"
     ]
    }
   ],
   "source": [
    "X = np.zeros((n,))\n",
    "#X = np.array([-5.12]*l)\n",
    "print(X)"
   ]
  },
  {
   "cell_type": "code",
   "execution_count": 7,
   "metadata": {},
   "outputs": [
    {
     "name": "stdout",
     "output_type": "stream",
     "text": [
      "[1. 0. 0. 0. 0. 0. 0. 0. 0. 0. 1. 0. 0. 0. 0. 0. 0. 0. 0. 0. 1. 0. 0. 0.\n",
      " 0. 0. 0. 0. 0. 0. 1. 0. 0. 0. 0. 0. 0. 0. 0. 0. 1. 0. 0. 0. 0. 0. 0. 0.\n",
      " 0. 0. 1. 0. 0. 0. 0. 0. 0. 0. 0. 0. 1. 0. 0. 0. 0. 0. 0. 0. 0. 0. 1. 0.\n",
      " 0. 0. 0. 0. 0. 0. 0. 0. 1. 0. 0. 0. 0. 0. 0. 0. 0. 0. 1. 0. 0. 0. 0. 0.\n",
      " 0. 0. 0. 0.]\n"
     ]
    }
   ],
   "source": [
    "B = encoding(X, l = l, interval = interval)\n",
    "print(B)"
   ]
  },
  {
   "cell_type": "code",
   "execution_count": 8,
   "metadata": {},
   "outputs": [
    {
     "name": "stdout",
     "output_type": "stream",
     "text": [
      "[0.00500489 0.00500489 0.00500489 0.00500489 0.00500489 0.00500489\n",
      " 0.00500489 0.00500489 0.00500489 0.00500489]\n"
     ]
    }
   ],
   "source": [
    "X = decoding(B, l = l, interval = interval)\n",
    "print(X)"
   ]
  },
  {
   "cell_type": "code",
   "execution_count": 9,
   "metadata": {},
   "outputs": [
    {
     "data": {
      "text/plain": [
       "0.04969096075727464"
      ]
     },
     "execution_count": 9,
     "metadata": {},
     "output_type": "execute_result"
    }
   ],
   "source": [
    "rastrigin(X)"
   ]
  },
  {
   "cell_type": "code",
   "execution_count": 10,
   "metadata": {},
   "outputs": [],
   "source": [
    "def variable_length_crossover(parent_a, parent_b, l, n, cross_prob):\n",
    "    \n",
    "    \"\"\" One crossover per variable. \"\"\"\n",
    "    \n",
    "    assert (len(parent_a) == len(parent_b)), \"Parents with different lengths\"\n",
    "\n",
    "    prob = float(np.random.uniform(low = 0, high = 1))\n",
    "\n",
    "    if prob < cross_prob:        \n",
    "        \n",
    "        # List of crossover points\n",
    "        points = list()\n",
    "        \n",
    "        # Offspring\n",
    "        offspring_a = np.array(list())\n",
    "        offspring_b = np.array(list())\n",
    "        \n",
    "        # For each variable b in B\n",
    "        for i in range(n):\n",
    "            \n",
    "            # Crossover point\n",
    "            point = int(np.random.randint(low = ((l*i)+1), high = (l*(i+1)-1), size = 1))\n",
    "            points.append(point)\n",
    "            \n",
    "            # First offspring\n",
    "            head = parent_a[(l*i):point]\n",
    "            tail = parent_b[point:(l*(i+1))]\n",
    "            offspring_a = np.concatenate([offspring_a, head, tail], axis = 0)\n",
    "            \n",
    "            # Second offspring\n",
    "            head = parent_b[(l*i):point]\n",
    "            tail = parent_a[point:(l*(i+1))]\n",
    "            offspring_b = np.concatenate([offspring_b, head, tail], axis = 0)\n",
    "            \n",
    "    else:\n",
    "        \n",
    "        # Offspring will be a copy of their parents\n",
    "        offspring_a = parent_a.copy()\n",
    "        offspring_b = parent_b.copy()\n",
    "        \n",
    "    print(points)\n",
    "        \n",
    "    return offspring_a, offspring_b"
   ]
  },
  {
   "cell_type": "code",
   "execution_count": 11,
   "metadata": {},
   "outputs": [
    {
     "name": "stdout",
     "output_type": "stream",
     "text": [
      "[0 1 0 1 0 1 0 1 0 1]\n",
      "[1 0 1 0 1 0 1 0 1 0]\n"
     ]
    }
   ],
   "source": [
    "parent_a = np.array([0, 1, 0, 1, 0, 1, 0, 1, 0, 1])\n",
    "parent_b = np.array([1, 0, 1, 0, 1, 0, 1, 0, 1, 0])\n",
    "print(parent_a)\n",
    "print(parent_b)"
   ]
  },
  {
   "cell_type": "code",
   "execution_count": 12,
   "metadata": {},
   "outputs": [
    {
     "name": "stdout",
     "output_type": "stream",
     "text": [
      "[3, 15, 22, 38, 47, 53, 62, 71, 84, 91]\n",
      "[[0. 1. 0. 0. 1. 0. 1. 0. 1. 0.]]\n",
      "\n",
      "[[1. 0. 1. 1. 0. 1. 0. 1. 0. 1.]]\n"
     ]
    }
   ],
   "source": [
    "offspring_a, offspring_b = variable_length_crossover(parent_a, parent_b, l = l, n = n, cross_prob = 1)\n",
    "print(offspring_a.reshape((1,10)))\n",
    "print()\n",
    "print(offspring_b.reshape((1,10)))"
   ]
  },
  {
   "cell_type": "code",
   "execution_count": 13,
   "metadata": {},
   "outputs": [],
   "source": [
    "def mutation(parent, l, n, mut_prob):\n",
    "    \n",
    "    \"\"\" Bit-flip mutation. Changes each gene (0 to 1 or 1 to 0) with a probability mut_prob. \"\"\"\n",
    "    \n",
    "    for i in range(n*l):\n",
    "        \n",
    "        prob = float(np.random.uniform(low = 0, high = 1))\n",
    "        \n",
    "        if prob < mut_prob:\n",
    "            print(i)\n",
    "            parent[i] = int(not(parent[i]))\n",
    "            \n",
    "    return parent"
   ]
  },
  {
   "cell_type": "code",
   "execution_count": 14,
   "metadata": {},
   "outputs": [],
   "source": [
    "def initial_population(l, n, m, interval):\n",
    "    \n",
    "    \"\"\" Random population initialization. \"\"\"\n",
    "    \n",
    "    # Empty population\n",
    "    population = list()\n",
    "    fitness = np.zeros((m,))\n",
    "        \n",
    "    # Generating initial population\n",
    "    for i in range((m)):\n",
    "        X = np.random.uniform(low = interval[0], high = interval[1], size = n)\n",
    "        fitness[i] = rastrigin(X)\n",
    "        B = encoding(X, l, interval)\n",
    "        population.append(B)\n",
    "        \n",
    "    population = np.array(population).reshape((m,(n*l)))\n",
    "    \n",
    "    return population, fitness"
   ]
  },
  {
   "cell_type": "code",
   "execution_count": 15,
   "metadata": {},
   "outputs": [],
   "source": [
    "population, fitness = initial_population(l, n, m, interval)"
   ]
  },
  {
   "cell_type": "code",
   "execution_count": 16,
   "metadata": {},
   "outputs": [],
   "source": [
    "def roulette_wheel(population, m, fitness):\n",
    "    \n",
    "    \"\"\" Fitness proportionate selection. \"\"\"\n",
    "    \n",
    "    # Segment sizes\n",
    "    a = np.ones((m+1,))\n",
    "    \n",
    "    # Building the Roulette Wheel\n",
    "    for i in range(m):\n",
    "        # Minimization problem\n",
    "        a[i+1] = 1 - sum(fitness[:(i+1)])/sum(fitness)\n",
    "\n",
    "    # Indexes of selected parents\n",
    "    idxs = np.zeros((2,))\n",
    "    \n",
    "    for i in range(2):\n",
    "        r = float(np.random.uniform(low = 0, high = 1))\n",
    "        idxs[i] = np.argmin(r < a) - 1\n",
    "    \n",
    "    # Selected parents\n",
    "    parent_a, parent_b = population[idxs.astype(int)]\n",
    "        \n",
    "    return parent_a, parent_b"
   ]
  },
  {
   "cell_type": "code",
   "execution_count": 17,
   "metadata": {},
   "outputs": [
    {
     "name": "stdout",
     "output_type": "stream",
     "text": [
      "[0. 1. 0. 0. 1. 0. 1. 1. 0. 1. 0. 1. 1. 1. 1. 0. 1. 1. 1. 0. 0. 1. 1. 1.\n",
      " 0. 1. 1. 0. 0. 0. 1. 1. 0. 0. 0. 1. 1. 0. 1. 1. 1. 0. 0. 1. 1. 0. 1. 0.\n",
      " 1. 1. 0. 0. 1. 1. 0. 1. 1. 0. 0. 1. 0. 0. 1. 0. 1. 0. 0. 1. 1. 0. 1. 1.\n",
      " 0. 0. 1. 1. 0. 1. 1. 0. 0. 0. 1. 1. 1. 0. 1. 0. 0. 1. 1. 1. 1. 0. 1. 0.\n",
      " 0. 1. 1. 0.]\n",
      "[0. 1. 0. 0. 1. 0. 1. 1. 0. 1. 0. 1. 1. 1. 1. 0. 1. 1. 1. 0. 0. 1. 1. 1.\n",
      " 0. 1. 1. 0. 0. 0. 1. 1. 0. 0. 0. 1. 1. 0. 1. 1. 1. 0. 0. 1. 1. 0. 1. 0.\n",
      " 1. 1. 0. 0. 1. 1. 0. 1. 1. 0. 0. 1. 0. 0. 1. 0. 1. 0. 0. 1. 1. 0. 1. 1.\n",
      " 0. 0. 1. 1. 0. 1. 1. 0. 0. 0. 1. 1. 1. 0. 1. 0. 0. 1. 1. 1. 1. 0. 1. 0.\n",
      " 0. 1. 1. 0.]\n"
     ]
    }
   ],
   "source": [
    "parent_a, parent_b = roulette_wheel(population = population, m = 10, fitness = fitness)\n",
    "print(parent_a)\n",
    "print(parent_b)"
   ]
  },
  {
   "cell_type": "code",
   "execution_count": 18,
   "metadata": {},
   "outputs": [],
   "source": [
    "def tournament_selection(population, fitness, m, k):\n",
    "    \n",
    "    \"\"\" Tournament selection. Deterministic and without replacement. \"\"\"\n",
    "    \n",
    "    # Indexes of selected parents\n",
    "    idxs = np.zeros((2,))\n",
    "    \n",
    "    for i in range(2):\n",
    "        \n",
    "        # Candidate solutions\n",
    "        candidates = np.random.choice(range(m), size = k, replace = False)\n",
    "        candidate_fitness = fitness[candidates]        \n",
    "\n",
    "        # Selects the best individual in the tournament\n",
    "        idxs[i] = np.argmin(candidate_fitness)\n",
    "    \n",
    "    # Selected parents\n",
    "    parent_a, parent_b = population[idxs.astype(int)]\n",
    "        \n",
    "    return parent_a, parent_b"
   ]
  },
  {
   "cell_type": "code",
   "execution_count": 19,
   "metadata": {},
   "outputs": [
    {
     "name": "stdout",
     "output_type": "stream",
     "text": [
      "[0. 0. 0. 0. 1. 0. 1. 1. 1. 0. 1. 1. 1. 1. 1. 0. 1. 1. 1. 0. 1. 0. 0. 0.\n",
      " 0. 1. 0. 0. 0. 0. 1. 1. 1. 0. 1. 0. 0. 0. 0. 0. 0. 0. 1. 1. 0. 0. 1. 1.\n",
      " 1. 1. 0. 1. 0. 1. 0. 1. 0. 0. 1. 0. 0. 0. 1. 1. 1. 1. 1. 1. 0. 0. 0. 1.\n",
      " 1. 0. 1. 0. 1. 1. 0. 0. 1. 0. 0. 0. 1. 1. 0. 1. 0. 0. 1. 1. 1. 1. 0. 1.\n",
      " 1. 1. 1. 1.]\n",
      "[1. 0. 1. 1. 1. 0. 1. 0. 1. 1. 0. 0. 1. 0. 0. 1. 1. 1. 1. 0. 1. 1. 1. 0.\n",
      " 1. 1. 0. 1. 1. 1. 1. 1. 0. 1. 0. 1. 1. 0. 1. 0. 0. 1. 0. 1. 1. 1. 0. 1.\n",
      " 0. 0. 0. 0. 1. 1. 1. 0. 1. 0. 1. 1. 0. 1. 0. 0. 0. 1. 0. 0. 1. 0. 1. 0.\n",
      " 0. 0. 0. 1. 0. 1. 1. 0. 1. 0. 1. 0. 0. 1. 1. 0. 0. 0. 1. 1. 1. 1. 0. 1.\n",
      " 1. 0. 0. 0.]\n"
     ]
    }
   ],
   "source": [
    "parent_a, parent_b = tournament_selection(population = population, fitness = fitness, m = 10, k = 10)\n",
    "print(parent_a)\n",
    "print(parent_b)"
   ]
  }
 ],
 "metadata": {
  "kernelspec": {
   "display_name": "Python 3",
   "language": "python",
   "name": "python3"
  },
  "language_info": {
   "codemirror_mode": {
    "name": "ipython",
    "version": 3
   },
   "file_extension": ".py",
   "mimetype": "text/x-python",
   "name": "python",
   "nbconvert_exporter": "python",
   "pygments_lexer": "ipython3",
   "version": "3.6.10"
  }
 },
 "nbformat": 4,
 "nbformat_minor": 4
}
