{
 "cells": [
  {
   "cell_type": "code",
   "execution_count": 1,
   "metadata": {},
   "outputs": [],
   "source": [
    "from rastrigin import *"
   ]
  },
  {
   "cell_type": "code",
   "execution_count": null,
   "metadata": {},
   "outputs": [],
   "source": [
    "n_exec = 100"
   ]
  },
  {
   "cell_type": "code",
   "execution_count": null,
   "metadata": {},
   "outputs": [
    {
     "name": "stderr",
     "output_type": "stream",
     "text": [
      "Generations: 100%|██████████| 10000/10000 [00:13<00:00, 743.05it/s]\n",
      "Generations: 100%|██████████| 10000/10000 [00:13<00:00, 756.58it/s]\n",
      "Generations: 100%|██████████| 10000/10000 [00:14<00:00, 682.64it/s]\n",
      "Generations: 100%|██████████| 10000/10000 [00:15<00:00, 645.42it/s]\n",
      "Generations: 100%|██████████| 10000/10000 [00:13<00:00, 754.17it/s]\n",
      "Generations: 100%|██████████| 10000/10000 [00:12<00:00, 785.55it/s]\n",
      "Generations: 100%|██████████| 10000/10000 [00:12<00:00, 812.18it/s]\n",
      "Generations: 100%|██████████| 10000/10000 [00:11<00:00, 848.56it/s]\n",
      "Generations: 100%|██████████| 10000/10000 [00:13<00:00, 738.65it/s]\n",
      "Generations: 100%|██████████| 10000/10000 [00:12<00:00, 780.24it/s]\n",
      "Generations: 100%|██████████| 10000/10000 [00:12<00:00, 804.34it/s]\n",
      "Generations: 100%|██████████| 10000/10000 [00:11<00:00, 851.39it/s]\n",
      "Generations: 100%|██████████| 10000/10000 [00:12<00:00, 822.75it/s]\n",
      "Generations: 100%|██████████| 10000/10000 [00:13<00:00, 735.82it/s]\n",
      "Generations:   0%|          | 0/10000 [00:00<?, ?it/s]"
     ]
    }
   ],
   "source": [
    "fitness = list()\n",
    "\n",
    "for i in range(n_exec):\n",
    "    \n",
    "    GA = GeneticAlgorithm(n = 10, m = 10, l = 20, max_eval = 10000, mut_prob = 0.9, cross_prob = 0.9, k = 5)\n",
    "    GA.solve()\n",
    "    fitness.append(GA.best_fitness)"
   ]
  },
  {
   "cell_type": "code",
   "execution_count": null,
   "metadata": {},
   "outputs": [],
   "source": [
    "print(min(fitness))\n",
    "print(max(fitness))\n",
    "print(sum(fitness)/len(fitness))"
   ]
  },
  {
   "cell_type": "code",
   "execution_count": null,
   "metadata": {},
   "outputs": [],
   "source": []
  }
 ],
 "metadata": {
  "kernelspec": {
   "display_name": "Python 3",
   "language": "python",
   "name": "python3"
  },
  "language_info": {
   "codemirror_mode": {
    "name": "ipython",
    "version": 3
   },
   "file_extension": ".py",
   "mimetype": "text/x-python",
   "name": "python",
   "nbconvert_exporter": "python",
   "pygments_lexer": "ipython3",
   "version": "3.6.10"
  }
 },
 "nbformat": 4,
 "nbformat_minor": 4
}
