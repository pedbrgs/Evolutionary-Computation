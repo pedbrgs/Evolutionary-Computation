{
 "cells": [
  {
   "cell_type": "code",
   "execution_count": 1,
   "metadata": {},
   "outputs": [],
   "source": [
    "import numpy as np\n",
    "import pandas as pd\n",
    "from scipy import stats"
   ]
  },
  {
   "cell_type": "code",
   "execution_count": 2,
   "metadata": {},
   "outputs": [],
   "source": [
    "results = np.load('results.npy')"
   ]
  },
  {
   "cell_type": "code",
   "execution_count": 3,
   "metadata": {},
   "outputs": [
    {
     "data": {
      "text/plain": [
       "(16, 31)"
      ]
     },
     "execution_count": 3,
     "metadata": {},
     "output_type": "execute_result"
    }
   ],
   "source": [
    "results.shape"
   ]
  },
  {
   "cell_type": "code",
   "execution_count": 4,
   "metadata": {},
   "outputs": [],
   "source": [
    "results = pd.DataFrame(results)\n",
    "results = results.T"
   ]
  },
  {
   "cell_type": "code",
   "execution_count": 5,
   "metadata": {},
   "outputs": [
    {
     "data": {
      "text/html": [
       "<div>\n",
       "<style scoped>\n",
       "    .dataframe tbody tr th:only-of-type {\n",
       "        vertical-align: middle;\n",
       "    }\n",
       "\n",
       "    .dataframe tbody tr th {\n",
       "        vertical-align: top;\n",
       "    }\n",
       "\n",
       "    .dataframe thead th {\n",
       "        text-align: right;\n",
       "    }\n",
       "</style>\n",
       "<table border=\"1\" class=\"dataframe\">\n",
       "  <thead>\n",
       "    <tr style=\"text-align: right;\">\n",
       "      <th></th>\n",
       "      <th>0</th>\n",
       "      <th>1</th>\n",
       "      <th>2</th>\n",
       "      <th>3</th>\n",
       "      <th>4</th>\n",
       "      <th>5</th>\n",
       "      <th>6</th>\n",
       "      <th>7</th>\n",
       "      <th>8</th>\n",
       "      <th>9</th>\n",
       "      <th>10</th>\n",
       "      <th>11</th>\n",
       "      <th>12</th>\n",
       "      <th>13</th>\n",
       "      <th>14</th>\n",
       "      <th>15</th>\n",
       "    </tr>\n",
       "  </thead>\n",
       "  <tbody>\n",
       "    <tr>\n",
       "      <th>0</th>\n",
       "      <td>1095.139020</td>\n",
       "      <td>-781.811496</td>\n",
       "      <td>-1400.0</td>\n",
       "      <td>-889.863975</td>\n",
       "      <td>-1400.0</td>\n",
       "      <td>-818.547625</td>\n",
       "      <td>-1390.660294</td>\n",
       "      <td>-757.740945</td>\n",
       "      <td>1100.356240</td>\n",
       "      <td>-766.464297</td>\n",
       "      <td>-1400.0</td>\n",
       "      <td>-890.503949</td>\n",
       "      <td>-1400.0</td>\n",
       "      <td>-891.581821</td>\n",
       "      <td>-1399.994517</td>\n",
       "      <td>-889.551036</td>\n",
       "    </tr>\n",
       "    <tr>\n",
       "      <th>1</th>\n",
       "      <td>1680.862653</td>\n",
       "      <td>-804.789578</td>\n",
       "      <td>-1400.0</td>\n",
       "      <td>-890.221465</td>\n",
       "      <td>-1400.0</td>\n",
       "      <td>-899.464116</td>\n",
       "      <td>-1398.848385</td>\n",
       "      <td>-864.143343</td>\n",
       "      <td>500.040700</td>\n",
       "      <td>-802.613656</td>\n",
       "      <td>-1400.0</td>\n",
       "      <td>-899.857635</td>\n",
       "      <td>-1400.0</td>\n",
       "      <td>-899.841106</td>\n",
       "      <td>-1399.999682</td>\n",
       "      <td>-865.854567</td>\n",
       "    </tr>\n",
       "    <tr>\n",
       "      <th>2</th>\n",
       "      <td>1081.662845</td>\n",
       "      <td>-775.764448</td>\n",
       "      <td>-1400.0</td>\n",
       "      <td>-853.154952</td>\n",
       "      <td>-1400.0</td>\n",
       "      <td>-815.177148</td>\n",
       "      <td>-1129.744618</td>\n",
       "      <td>-843.963279</td>\n",
       "      <td>1311.109603</td>\n",
       "      <td>-836.980234</td>\n",
       "      <td>-1400.0</td>\n",
       "      <td>-898.337376</td>\n",
       "      <td>-1400.0</td>\n",
       "      <td>-899.932681</td>\n",
       "      <td>-1399.999495</td>\n",
       "      <td>-887.858890</td>\n",
       "    </tr>\n",
       "    <tr>\n",
       "      <th>3</th>\n",
       "      <td>2040.245886</td>\n",
       "      <td>-838.527329</td>\n",
       "      <td>-1400.0</td>\n",
       "      <td>-889.863975</td>\n",
       "      <td>-1400.0</td>\n",
       "      <td>-898.902117</td>\n",
       "      <td>-1102.131715</td>\n",
       "      <td>-860.591533</td>\n",
       "      <td>1825.363632</td>\n",
       "      <td>-809.730917</td>\n",
       "      <td>-1400.0</td>\n",
       "      <td>-891.796693</td>\n",
       "      <td>-1400.0</td>\n",
       "      <td>-899.991211</td>\n",
       "      <td>-1399.987382</td>\n",
       "      <td>-890.180523</td>\n",
       "    </tr>\n",
       "    <tr>\n",
       "      <th>4</th>\n",
       "      <td>672.123724</td>\n",
       "      <td>-791.669339</td>\n",
       "      <td>-1400.0</td>\n",
       "      <td>-889.975593</td>\n",
       "      <td>-1400.0</td>\n",
       "      <td>-826.564654</td>\n",
       "      <td>-1216.874840</td>\n",
       "      <td>-822.733256</td>\n",
       "      <td>1340.332786</td>\n",
       "      <td>-801.592389</td>\n",
       "      <td>-1400.0</td>\n",
       "      <td>-898.252344</td>\n",
       "      <td>-1400.0</td>\n",
       "      <td>-899.993941</td>\n",
       "      <td>-1399.997325</td>\n",
       "      <td>-899.978951</td>\n",
       "    </tr>\n",
       "  </tbody>\n",
       "</table>\n",
       "</div>"
      ],
      "text/plain": [
       "            0           1       2           3       4           5   \\\n",
       "0  1095.139020 -781.811496 -1400.0 -889.863975 -1400.0 -818.547625   \n",
       "1  1680.862653 -804.789578 -1400.0 -890.221465 -1400.0 -899.464116   \n",
       "2  1081.662845 -775.764448 -1400.0 -853.154952 -1400.0 -815.177148   \n",
       "3  2040.245886 -838.527329 -1400.0 -889.863975 -1400.0 -898.902117   \n",
       "4   672.123724 -791.669339 -1400.0 -889.975593 -1400.0 -826.564654   \n",
       "\n",
       "            6           7            8           9       10          11  \\\n",
       "0 -1390.660294 -757.740945  1100.356240 -766.464297 -1400.0 -890.503949   \n",
       "1 -1398.848385 -864.143343   500.040700 -802.613656 -1400.0 -899.857635   \n",
       "2 -1129.744618 -843.963279  1311.109603 -836.980234 -1400.0 -898.337376   \n",
       "3 -1102.131715 -860.591533  1825.363632 -809.730917 -1400.0 -891.796693   \n",
       "4 -1216.874840 -822.733256  1340.332786 -801.592389 -1400.0 -898.252344   \n",
       "\n",
       "       12          13           14          15  \n",
       "0 -1400.0 -891.581821 -1399.994517 -889.551036  \n",
       "1 -1400.0 -899.841106 -1399.999682 -865.854567  \n",
       "2 -1400.0 -899.932681 -1399.999495 -887.858890  \n",
       "3 -1400.0 -899.991211 -1399.987382 -890.180523  \n",
       "4 -1400.0 -899.993941 -1399.997325 -899.978951  "
      ]
     },
     "execution_count": 5,
     "metadata": {},
     "output_type": "execute_result"
    }
   ],
   "source": [
    "results.head()"
   ]
  },
  {
   "cell_type": "code",
   "execution_count": 22,
   "metadata": {},
   "outputs": [
    {
     "data": {
      "text/html": [
       "<div>\n",
       "<style scoped>\n",
       "    .dataframe tbody tr th:only-of-type {\n",
       "        vertical-align: middle;\n",
       "    }\n",
       "\n",
       "    .dataframe tbody tr th {\n",
       "        vertical-align: top;\n",
       "    }\n",
       "\n",
       "    .dataframe thead th {\n",
       "        text-align: right;\n",
       "    }\n",
       "</style>\n",
       "<table border=\"1\" class=\"dataframe\">\n",
       "  <thead>\n",
       "    <tr style=\"text-align: right;\">\n",
       "      <th></th>\n",
       "      <th>global</th>\n",
       "      <th>local</th>\n",
       "    </tr>\n",
       "  </thead>\n",
       "  <tbody>\n",
       "    <tr>\n",
       "      <th>0</th>\n",
       "      <td>-889.863975</td>\n",
       "      <td>-890.503949</td>\n",
       "    </tr>\n",
       "    <tr>\n",
       "      <th>1</th>\n",
       "      <td>-890.221465</td>\n",
       "      <td>-899.857635</td>\n",
       "    </tr>\n",
       "    <tr>\n",
       "      <th>2</th>\n",
       "      <td>-853.154952</td>\n",
       "      <td>-898.337376</td>\n",
       "    </tr>\n",
       "    <tr>\n",
       "      <th>3</th>\n",
       "      <td>-889.863975</td>\n",
       "      <td>-891.796693</td>\n",
       "    </tr>\n",
       "    <tr>\n",
       "      <th>4</th>\n",
       "      <td>-889.975593</td>\n",
       "      <td>-898.252344</td>\n",
       "    </tr>\n",
       "  </tbody>\n",
       "</table>\n",
       "</div>"
      ],
      "text/plain": [
       "       global       local\n",
       "0 -889.863975 -890.503949\n",
       "1 -890.221465 -899.857635\n",
       "2 -853.154952 -898.337376\n",
       "3 -889.863975 -891.796693\n",
       "4 -889.975593 -898.252344"
      ]
     },
     "execution_count": 22,
     "metadata": {},
     "output_type": "execute_result"
    }
   ],
   "source": [
    "# Rosenbrock results\n",
    "cfg2 = results.get([3, 11])\n",
    "cfg2.columns = ['global', 'local']\n",
    "cfg2.head()"
   ]
  },
  {
   "cell_type": "code",
   "execution_count": 23,
   "metadata": {},
   "outputs": [
    {
     "data": {
      "text/html": [
       "<div>\n",
       "<style scoped>\n",
       "    .dataframe tbody tr th:only-of-type {\n",
       "        vertical-align: middle;\n",
       "    }\n",
       "\n",
       "    .dataframe tbody tr th {\n",
       "        vertical-align: top;\n",
       "    }\n",
       "\n",
       "    .dataframe thead th {\n",
       "        text-align: right;\n",
       "    }\n",
       "</style>\n",
       "<table border=\"1\" class=\"dataframe\">\n",
       "  <thead>\n",
       "    <tr style=\"text-align: right;\">\n",
       "      <th></th>\n",
       "      <th>global</th>\n",
       "      <th>local</th>\n",
       "    </tr>\n",
       "  </thead>\n",
       "  <tbody>\n",
       "    <tr>\n",
       "      <th>0</th>\n",
       "      <td>-818.547625</td>\n",
       "      <td>-891.581821</td>\n",
       "    </tr>\n",
       "    <tr>\n",
       "      <th>1</th>\n",
       "      <td>-899.464116</td>\n",
       "      <td>-899.841106</td>\n",
       "    </tr>\n",
       "    <tr>\n",
       "      <th>2</th>\n",
       "      <td>-815.177148</td>\n",
       "      <td>-899.932681</td>\n",
       "    </tr>\n",
       "    <tr>\n",
       "      <th>3</th>\n",
       "      <td>-898.902117</td>\n",
       "      <td>-899.991211</td>\n",
       "    </tr>\n",
       "    <tr>\n",
       "      <th>4</th>\n",
       "      <td>-826.564654</td>\n",
       "      <td>-899.993941</td>\n",
       "    </tr>\n",
       "  </tbody>\n",
       "</table>\n",
       "</div>"
      ],
      "text/plain": [
       "       global       local\n",
       "0 -818.547625 -891.581821\n",
       "1 -899.464116 -899.841106\n",
       "2 -815.177148 -899.932681\n",
       "3 -898.902117 -899.991211\n",
       "4 -826.564654 -899.993941"
      ]
     },
     "execution_count": 23,
     "metadata": {},
     "output_type": "execute_result"
    }
   ],
   "source": [
    "# Rosenbrock results\n",
    "cfg3 = results.get([5, 13])\n",
    "cfg3.columns = ['global', 'local']\n",
    "cfg3.head()"
   ]
  },
  {
   "cell_type": "code",
   "execution_count": 35,
   "metadata": {},
   "outputs": [
    {
     "name": "stdout",
     "output_type": "stream",
     "text": [
      "F_onewayResult(statistic=0.9046881263075994, pvalue=0.34534363989627814)\n",
      "F_onewayResult(statistic=10.415897142766823, pvalue=0.0020259934783321727)\n"
     ]
    }
   ],
   "source": [
    "# F-Test\n",
    "print(stats.f_oneway(cfg2['global'], cfg3['global']))\n",
    "print(stats.f_oneway(cfg2['local'], cfg3['local']))"
   ]
  },
  {
   "cell_type": "code",
   "execution_count": 39,
   "metadata": {},
   "outputs": [
    {
     "name": "stdout",
     "output_type": "stream",
     "text": [
      "Ttest_indResult(statistic=-0.9511509482241004, pvalue=0.34536224435917495)\n",
      "Ttest_indResult(statistic=3.227366905507847, pvalue=0.0020279452957293817)\n"
     ]
    }
   ],
   "source": [
    "# Welch's t-test\n",
    "print(stats.ttest_ind(cfg2['global'], cfg3['global'], equal_var = False))\n",
    "print(stats.ttest_ind(cfg2['local'], cfg3['local'], equal_var = False))"
   ]
  },
  {
   "cell_type": "code",
   "execution_count": 40,
   "metadata": {},
   "outputs": [
    {
     "data": {
      "text/html": [
       "<div>\n",
       "<style scoped>\n",
       "    .dataframe tbody tr th:only-of-type {\n",
       "        vertical-align: middle;\n",
       "    }\n",
       "\n",
       "    .dataframe tbody tr th {\n",
       "        vertical-align: top;\n",
       "    }\n",
       "\n",
       "    .dataframe thead th {\n",
       "        text-align: right;\n",
       "    }\n",
       "</style>\n",
       "<table border=\"1\" class=\"dataframe\">\n",
       "  <thead>\n",
       "    <tr style=\"text-align: right;\">\n",
       "      <th></th>\n",
       "      <th>global</th>\n",
       "      <th>local</th>\n",
       "    </tr>\n",
       "  </thead>\n",
       "  <tbody>\n",
       "    <tr>\n",
       "      <th>0</th>\n",
       "      <td>-1400.0</td>\n",
       "      <td>-1400.0</td>\n",
       "    </tr>\n",
       "    <tr>\n",
       "      <th>1</th>\n",
       "      <td>-1400.0</td>\n",
       "      <td>-1400.0</td>\n",
       "    </tr>\n",
       "    <tr>\n",
       "      <th>2</th>\n",
       "      <td>-1400.0</td>\n",
       "      <td>-1400.0</td>\n",
       "    </tr>\n",
       "    <tr>\n",
       "      <th>3</th>\n",
       "      <td>-1400.0</td>\n",
       "      <td>-1400.0</td>\n",
       "    </tr>\n",
       "    <tr>\n",
       "      <th>4</th>\n",
       "      <td>-1400.0</td>\n",
       "      <td>-1400.0</td>\n",
       "    </tr>\n",
       "  </tbody>\n",
       "</table>\n",
       "</div>"
      ],
      "text/plain": [
       "   global   local\n",
       "0 -1400.0 -1400.0\n",
       "1 -1400.0 -1400.0\n",
       "2 -1400.0 -1400.0\n",
       "3 -1400.0 -1400.0\n",
       "4 -1400.0 -1400.0"
      ]
     },
     "execution_count": 40,
     "metadata": {},
     "output_type": "execute_result"
    }
   ],
   "source": [
    "# Sphere results\n",
    "cfg2 = results.get([2, 10])\n",
    "cfg2.columns = ['global', 'local']\n",
    "cfg2.head()"
   ]
  },
  {
   "cell_type": "code",
   "execution_count": 41,
   "metadata": {},
   "outputs": [
    {
     "data": {
      "text/html": [
       "<div>\n",
       "<style scoped>\n",
       "    .dataframe tbody tr th:only-of-type {\n",
       "        vertical-align: middle;\n",
       "    }\n",
       "\n",
       "    .dataframe tbody tr th {\n",
       "        vertical-align: top;\n",
       "    }\n",
       "\n",
       "    .dataframe thead th {\n",
       "        text-align: right;\n",
       "    }\n",
       "</style>\n",
       "<table border=\"1\" class=\"dataframe\">\n",
       "  <thead>\n",
       "    <tr style=\"text-align: right;\">\n",
       "      <th></th>\n",
       "      <th>global</th>\n",
       "      <th>local</th>\n",
       "    </tr>\n",
       "  </thead>\n",
       "  <tbody>\n",
       "    <tr>\n",
       "      <th>0</th>\n",
       "      <td>-1400.0</td>\n",
       "      <td>-1400.0</td>\n",
       "    </tr>\n",
       "    <tr>\n",
       "      <th>1</th>\n",
       "      <td>-1400.0</td>\n",
       "      <td>-1400.0</td>\n",
       "    </tr>\n",
       "    <tr>\n",
       "      <th>2</th>\n",
       "      <td>-1400.0</td>\n",
       "      <td>-1400.0</td>\n",
       "    </tr>\n",
       "    <tr>\n",
       "      <th>3</th>\n",
       "      <td>-1400.0</td>\n",
       "      <td>-1400.0</td>\n",
       "    </tr>\n",
       "    <tr>\n",
       "      <th>4</th>\n",
       "      <td>-1400.0</td>\n",
       "      <td>-1400.0</td>\n",
       "    </tr>\n",
       "  </tbody>\n",
       "</table>\n",
       "</div>"
      ],
      "text/plain": [
       "   global   local\n",
       "0 -1400.0 -1400.0\n",
       "1 -1400.0 -1400.0\n",
       "2 -1400.0 -1400.0\n",
       "3 -1400.0 -1400.0\n",
       "4 -1400.0 -1400.0"
      ]
     },
     "execution_count": 41,
     "metadata": {},
     "output_type": "execute_result"
    }
   ],
   "source": [
    "# Sphere results\n",
    "cfg3 = results.get([4, 12])\n",
    "cfg3.columns = ['global', 'local']\n",
    "cfg3.head()"
   ]
  },
  {
   "cell_type": "code",
   "execution_count": 43,
   "metadata": {},
   "outputs": [
    {
     "name": "stdout",
     "output_type": "stream",
     "text": [
      "F_onewayResult(statistic=1.193584378161094, pvalue=0.2789750626835421)\n",
      "F_onewayResult(statistic=155.0, pvalue=2.823710372191747e-18)\n"
     ]
    }
   ],
   "source": [
    "# F-Test\n",
    "print(stats.f_oneway(cfg2['global'], cfg3['global']))\n",
    "print(stats.f_oneway(cfg2['local'], cfg3['local']))"
   ]
  },
  {
   "cell_type": "code",
   "execution_count": 44,
   "metadata": {},
   "outputs": [
    {
     "name": "stdout",
     "output_type": "stream",
     "text": [
      "Ttest_indResult(statistic=-1.092519312884388, pvalue=0.2833009594581531)\n",
      "Ttest_indResult(statistic=0.0, pvalue=1.0)\n"
     ]
    }
   ],
   "source": [
    "# Welch's t-test\n",
    "print(stats.ttest_ind(cfg2['global'], cfg3['global'], equal_var = False))\n",
    "print(stats.ttest_ind(cfg2['local'], cfg3['local'], equal_var = False))"
   ]
  }
 ],
 "metadata": {
  "kernelspec": {
   "display_name": "Python 3",
   "language": "python",
   "name": "python3"
  },
  "language_info": {
   "codemirror_mode": {
    "name": "ipython",
    "version": 3
   },
   "file_extension": ".py",
   "mimetype": "text/x-python",
   "name": "python",
   "nbconvert_exporter": "python",
   "pygments_lexer": "ipython3",
   "version": "3.6.10"
  }
 },
 "nbformat": 4,
 "nbformat_minor": 4
}
