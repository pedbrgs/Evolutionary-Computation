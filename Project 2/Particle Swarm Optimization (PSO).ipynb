{
 "cells": [
  {
   "cell_type": "code",
   "execution_count": 1,
   "metadata": {},
   "outputs": [],
   "source": [
    "# pip install numpy\n",
    "import numpy as np\n",
    "# pip install tqdm\n",
    "from tqdm import tqdm"
   ]
  },
  {
   "cell_type": "code",
   "execution_count": 2,
   "metadata": {},
   "outputs": [],
   "source": [
    "D = 10\n",
    "cf_num = 10\n",
    "search_range = [-100, 100]"
   ]
  },
  {
   "cell_type": "markdown",
   "metadata": {},
   "source": [
    "## Objective functions"
   ]
  },
  {
   "cell_type": "code",
   "execution_count": 3,
   "metadata": {},
   "outputs": [],
   "source": [
    "shift_data = np.loadtxt(fname = 'shift_data.txt')\n",
    "M_D10 = np.loadtxt(fname = 'M_D10.txt').reshape((cf_num, D, D))\n",
    "M1 = M_D10[0].reshape((-1))\n",
    "o = shift_data.reshape((-1))[:cf_num*D]"
   ]
  },
  {
   "cell_type": "code",
   "execution_count": 4,
   "metadata": {},
   "outputs": [],
   "source": [
    "# Shift Function\n",
    "def shift(x, o):\n",
    "    \n",
    "    xshift = x - o[:x.shape[0]]\n",
    "        \n",
    "    return xshift"
   ]
  },
  {
   "cell_type": "code",
   "execution_count": 5,
   "metadata": {},
   "outputs": [],
   "source": [
    "# Rotate Function\n",
    "def rotate(x, M1):\n",
    "    \n",
    "    xrot = np.zeros((x.shape[0]))\n",
    "    \n",
    "    for i in range(x.shape[0]):\n",
    "        for j in range(x.shape[0]):\n",
    "            xrot[i] = xrot[i] + x[j] * M1[i*D+j]\n",
    "    \n",
    "    return xrot"
   ]
  },
  {
   "cell_type": "code",
   "execution_count": 6,
   "metadata": {},
   "outputs": [],
   "source": [
    "# Unimodal Function\n",
    "def sphere(x, o, bias = -1400):\n",
    "    \n",
    "    \"\"\" Sphere function (CEC2013). \"\"\"\n",
    "       \n",
    "    # Shift\n",
    "    xshift = shift(x, o)\n",
    "    \n",
    "    # Sphere\n",
    "    f = sum(xshift**2) + bias\n",
    "    \n",
    "    return f"
   ]
  },
  {
   "cell_type": "code",
   "execution_count": 7,
   "metadata": {},
   "outputs": [
    {
     "data": {
      "text/plain": [
       "-1400.0"
      ]
     },
     "execution_count": 7,
     "metadata": {},
     "output_type": "execute_result"
    }
   ],
   "source": [
    "# Minimum global\n",
    "sphere(x = o[:D], o = o[:D])"
   ]
  },
  {
   "cell_type": "code",
   "execution_count": 8,
   "metadata": {},
   "outputs": [],
   "source": [
    "# Basic Multimodal Function\n",
    "def rosenbrock(x, o, M1, a = 1, b = 100, bias = -900):\n",
    "    \n",
    "    \"\"\" Rotated Rosenbrock's function (CEC2013).\"\"\"\n",
    "    \n",
    "    # Shift\n",
    "    xshift = shift(x, o)\n",
    "    # Shrink to the orginal search range\n",
    "    xshift = 2.048/100*xshift\n",
    "    # Rotate\n",
    "    xrot = rotate(xshift, M1)\n",
    "    # Shift to origin\n",
    "    xrot = xrot + 1\n",
    "    \n",
    "    # Rosenbrock\n",
    "    f = sum(b*(xrot[1:]-xrot[:-1]**2.0)**2.0 + (a-xrot[:-1])**2.0) + bias\n",
    "    \n",
    "    return f"
   ]
  },
  {
   "cell_type": "code",
   "execution_count": 9,
   "metadata": {},
   "outputs": [
    {
     "data": {
      "text/plain": [
       "-900.0"
      ]
     },
     "execution_count": 9,
     "metadata": {},
     "output_type": "execute_result"
    }
   ],
   "source": [
    "# Minimum global\n",
    "rosenbrock(x = o[:D], o = o[:D], M1 = M1)"
   ]
  },
  {
   "cell_type": "markdown",
   "metadata": {},
   "source": [
    "## Particle Swarm Optimization (PSO)"
   ]
  },
  {
   "cell_type": "code",
   "execution_count": 10,
   "metadata": {},
   "outputs": [],
   "source": [
    "class ParticleSwarmOptimization():\n",
    "    \n",
    "    \"\"\" Global/Local Best Particle Swarm Optimization. \"\"\"\n",
    "    \n",
    "    def __init__(self, n, m, fobj, max_eval, search_range, c1, c2, inertia, constriction, delta, neighborhood):\n",
    "        \n",
    "        \"\"\"\n",
    "            n: Number of dimensions\n",
    "            m: Number of particles\n",
    "            fobj: Unimodal ('sphere') or Multimodal ('rosenbrock')\n",
    "            max_eval: Maximum number of function evaluations\n",
    "            search_range: Search space range\n",
    "            c1: Cognitive factor\n",
    "            c2: Social factor\n",
    "            inertia: Inertia weight\n",
    "            constriction: Constriction coefficient\n",
    "            delta: Factor for maximum velocity clamping\n",
    "            neighborhood: Type of neighborhood for exploring solutions (global or local)\n",
    "        \"\"\"\n",
    "\n",
    "        self.n = n\n",
    "        self.m = m\n",
    "        self.fobj = fobj\n",
    "        self.n_eval = 0\n",
    "        self.max_eval = max_eval\n",
    "        self.search_range = search_range\n",
    "        self.c1 = c1\n",
    "        self.c2 = c2\n",
    "        self.inertia = inertia\n",
    "        self.constriction = constriction\n",
    "        self.delta = delta\n",
    "        self.neighborhood = neighborhood\n",
    "        \n",
    "        # Personal best: best position the particle has visited since the first time step \n",
    "        self.pbest = np.zeros((self.m, self.n))\n",
    "        \n",
    "        if self.neighborhood == 'global':\n",
    "            # Global best position\n",
    "            self.gbest = np.zeros((self.n,))\n",
    "        else:\n",
    "            # Best position found in the neighborhood of each particle\n",
    "            self.gbest = np.zeros((self.m, self.n))\n",
    "            \n",
    "        # Minimization problem\n",
    "        self.best_fitness = float('Inf')\n",
    "        \n",
    "    def objective_function(self, x, o = o, M1 = None):\n",
    "        \n",
    "        if self.fobj == 'sphere':\n",
    "            f = sphere(x = x, o = o)\n",
    "        else:\n",
    "            f = rosenbrock(x = x, o = o, M1 = M1)\n",
    "        \n",
    "        return f\n",
    "        \n",
    "    def random_initialization(self, o = o, M1 = None):\n",
    "\n",
    "        \"\"\" Random initialization method. \"\"\"\n",
    "\n",
    "        swarm = np.zeros((self.m, self.n))\n",
    "        velocities = np.zeros((self.m, self.n))\n",
    "        fitness = np.zeros((self.m,))\n",
    "\n",
    "        for i in range(self.m):\n",
    "            \n",
    "            swarm[i] = np.random.uniform(low = self.search_range[0], high = self.search_range[1], size = self.n)\n",
    "            # The personal best position of each particle is equal to its initial position\n",
    "            self.pbest[i] = swarm[i].copy()\n",
    "            # Evaluating particles\n",
    "            fitness[i] = self.objective_function(x = swarm[i], o = o, M1 = M1)\n",
    "            \n",
    "        return swarm, fitness, velocities\n",
    "    \n",
    "    def solve(self, o, M1 = None):\n",
    "    \n",
    "        \"\"\" Minimizes optimization function. \"\"\"\n",
    "        \n",
    "        # Initializes population with random candidate solutions\n",
    "        swarm, fitness, velocities = self.random_initialization(o = o, M1 = M1)\n",
    "        pbest_fitness = fitness.copy()\n",
    "        \n",
    "        # Maximum velocity\n",
    "        v_max = self.delta * (search_range[1] - search_range[0])\n",
    "        \n",
    "        # Progress bar\n",
    "        pbar = tqdm(total = self.max_eval, desc = 'Function evaluations')\n",
    "\n",
    "        # Until the maximum number of function evaluations is reached\n",
    "        while self.n_eval < self.max_eval:\n",
    "        \n",
    "            # Set the personal best position\n",
    "            for i in range(self.m):                \n",
    "                if fitness[i] < pbest_fitness[i]:\n",
    "                    self.pbest[i] = swarm[i].copy()\n",
    "                    pbest_fitness[i] = fitness[i]\n",
    "            \n",
    "            # Set the global best position (global best)\n",
    "            if self.neighborhood == 'global':                \n",
    "                self.gbest = self.pbest[np.argmin(pbest_fitness)]\n",
    "                \n",
    "            # Set the global best position (local best)\n",
    "            else:                \n",
    "                for i in range(self.m):                    \n",
    "                    # Ring neighborhood structure\n",
    "                    neighbors = [((i-1)%self.m), i, ((i+1)%self.m)]\n",
    "                    neighbor_fitness = pbest_fitness[neighbors]\n",
    "                    self.gbest[i] = self.pbest[neighbors[np.argmin(neighbor_fitness)]]\n",
    "                    \n",
    "            for i in range(self.m):\n",
    "                \n",
    "                r1 = np.random.uniform(low = 0, high = 1, size = self.n)\n",
    "                r2 = np.random.uniform(low = 0, high = 1, size = self.n)\n",
    "                \n",
    "                # Update velocities\n",
    "                if self.neighborhood == 'global':\n",
    "                    velocities[i] = velocities[i] + (self.c1*r1) * (self.pbest[i] - swarm[i]) + (self.c2*r2) * (self.gbest - swarm[i])\n",
    "                else:\n",
    "                    velocities[i] = velocities[i] + (self.c1*r1) * (self.pbest[i] - swarm[i]) + (self.c2*r2) * (self.gbest[i] - swarm[i])\n",
    "                \n",
    "                # Update positions\n",
    "                swarm[i] = swarm[i] + velocities[i]\n",
    "                \n",
    "                # Update fitness\n",
    "                fitness[i] = self.objective_function(x = swarm[i], o = o, M1 = M1)\n",
    "                \n",
    "                # Update best solution\n",
    "                if fitness[i] < self.best_fitness:\n",
    "                    self.best_fitness = fitness[i]\n",
    "            \n",
    "            # Limits for the positions and velocities of a particle\n",
    "            velocities[velocities > v_max] = v_max\n",
    "            swarm[swarm < self.search_range[0]] = self.search_range[0]\n",
    "            swarm[swarm > self.search_range[1]] = self.search_range[1]\n",
    "                \n",
    "            # Increases number of function evaluations\n",
    "            self.n_eval = self.n_eval + self.m\n",
    "            pbar.update(self.m)"
   ]
  },
  {
   "cell_type": "code",
   "execution_count": 11,
   "metadata": {},
   "outputs": [],
   "source": [
    "PSO = ParticleSwarmOptimization(n = D, \n",
    "                                m = 100, \n",
    "                                fobj = 'sphere', \n",
    "                                max_eval = 100000, \n",
    "                                search_range = search_range,\n",
    "                                c1 = 2.05,\n",
    "                                c2 = 2.05,\n",
    "                                inertia = 0.7,\n",
    "                                constriction = 0.73,\n",
    "                                delta = 0.025,\n",
    "                                neighborhood = 'local')"
   ]
  },
  {
   "cell_type": "code",
   "execution_count": 12,
   "metadata": {
    "scrolled": true
   },
   "outputs": [
    {
     "name": "stderr",
     "output_type": "stream",
     "text": [
      "Function evaluations: 100%|██████████| 100000/100000 [00:03<00:00, 32979.53it/s]\n"
     ]
    }
   ],
   "source": [
    "PSO.solve(o = o, M1 = M1)"
   ]
  },
  {
   "cell_type": "code",
   "execution_count": 13,
   "metadata": {},
   "outputs": [
    {
     "name": "stdout",
     "output_type": "stream",
     "text": [
      "Best fitness: -1371.0268242325376\n"
     ]
    }
   ],
   "source": [
    "print('Best fitness:', PSO.best_fitness)"
   ]
  }
 ],
 "metadata": {
  "kernelspec": {
   "display_name": "Python 3",
   "language": "python",
   "name": "python3"
  },
  "language_info": {
   "codemirror_mode": {
    "name": "ipython",
    "version": 3
   },
   "file_extension": ".py",
   "mimetype": "text/x-python",
   "name": "python",
   "nbconvert_exporter": "python",
   "pygments_lexer": "ipython3",
   "version": "3.6.10"
  }
 },
 "nbformat": 4,
 "nbformat_minor": 4
}
