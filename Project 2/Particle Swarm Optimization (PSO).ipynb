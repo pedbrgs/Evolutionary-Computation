{
 "cells": [
  {
   "cell_type": "code",
   "execution_count": 1,
   "metadata": {},
   "outputs": [],
   "source": [
    "import numpy as np"
   ]
  },
  {
   "cell_type": "code",
   "execution_count": 2,
   "metadata": {},
   "outputs": [],
   "source": [
    "D = 10\n",
    "cf_num = 10\n",
    "search_range = [-100, 100]"
   ]
  },
  {
   "cell_type": "code",
   "execution_count": 3,
   "metadata": {},
   "outputs": [],
   "source": [
    "shift_data = np.loadtxt(fname = 'shift_data.txt')\n",
    "M_D10 = np.loadtxt(fname = 'M_D10.txt').reshape((cf_num, D, D))\n",
    "M1 = M_D10[0].reshape((-1))\n",
    "o = shift_data.reshape((-1))[:cf_num*D]"
   ]
  },
  {
   "cell_type": "code",
   "execution_count": 4,
   "metadata": {},
   "outputs": [],
   "source": [
    "# Shift Function\n",
    "def shiftfunc(x, o):\n",
    "    \n",
    "    xshift = x - o[:x.shape[0]]\n",
    "        \n",
    "    return xshift"
   ]
  },
  {
   "cell_type": "code",
   "execution_count": 5,
   "metadata": {},
   "outputs": [],
   "source": [
    "# Rotate Function\n",
    "def rotatefunc(x, M1):\n",
    "    \n",
    "    xrot = np.zeros((x.shape[0]))\n",
    "    \n",
    "    for i in range(x.shape[0]):\n",
    "        for j in range(x.shape[0]):\n",
    "            xrot[i] = xrot[i] + x[j] * M1[i*D+j]\n",
    "    \n",
    "    return xrot"
   ]
  },
  {
   "cell_type": "code",
   "execution_count": 6,
   "metadata": {},
   "outputs": [],
   "source": [
    "# Unimodal Function\n",
    "def sphere(x, o, bias = -1400):\n",
    "    \n",
    "    \"\"\" Sphere function (CEC2013). \"\"\"\n",
    "       \n",
    "    # Shift\n",
    "    xshift = shiftfunc(x, o)\n",
    "    \n",
    "    # Sphere\n",
    "    f = sum(xshift**2) + bias\n",
    "    \n",
    "    return f"
   ]
  },
  {
   "cell_type": "code",
   "execution_count": 7,
   "metadata": {},
   "outputs": [
    {
     "data": {
      "text/plain": [
       "15639.430369224727"
      ]
     },
     "execution_count": 7,
     "metadata": {},
     "output_type": "execute_result"
    }
   ],
   "source": [
    "sphere(x = np.array([-10, 20, 30, 100, 5, 6, 7, 8, 9, 10]), o = o)"
   ]
  },
  {
   "cell_type": "code",
   "execution_count": 8,
   "metadata": {},
   "outputs": [
    {
     "data": {
      "text/plain": [
       "17398.270025643684"
      ]
     },
     "execution_count": 8,
     "metadata": {},
     "output_type": "execute_result"
    }
   ],
   "source": [
    "sphere(x = np.zeros((D)), o = o)"
   ]
  },
  {
   "cell_type": "code",
   "execution_count": 9,
   "metadata": {},
   "outputs": [
    {
     "data": {
      "text/plain": [
       "17297.32765056778"
      ]
     },
     "execution_count": 9,
     "metadata": {},
     "output_type": "execute_result"
    }
   ],
   "source": [
    "sphere(x = np.ones((D)), o = o)"
   ]
  },
  {
   "cell_type": "code",
   "execution_count": 10,
   "metadata": {},
   "outputs": [],
   "source": [
    "# Basic Multimodal Function\n",
    "def rosenbrock(x, o, M1, a = 1, b = 100, bias = -900):\n",
    "    \n",
    "    \"\"\" Rotated Rosenbrock's function (CEC2013).\"\"\"\n",
    "    \n",
    "    # Shift\n",
    "    xshift = shiftfunc(x, o)\n",
    "    # Shrink to the orginal search range\n",
    "    xshift = 2.048/100*xshift\n",
    "    # Rotate\n",
    "    xrot = rotatefunc(xshift, M1)\n",
    "    # Shift to origin\n",
    "    xrot = xrot + 1\n",
    "    \n",
    "    # Rosenbrock\n",
    "    f = sum(b*(xrot[1:]-xrot[:-1]**2.0)**2.0 + (a-xrot[:-1])**2.0) + bias\n",
    "    \n",
    "    return f"
   ]
  },
  {
   "cell_type": "code",
   "execution_count": 11,
   "metadata": {},
   "outputs": [
    {
     "data": {
      "text/plain": [
       "862.8384586846287"
      ]
     },
     "execution_count": 11,
     "metadata": {},
     "output_type": "execute_result"
    }
   ],
   "source": [
    "rosenbrock(x = np.ones((D)), o = o, M1 = M1)"
   ]
  },
  {
   "cell_type": "code",
   "execution_count": 12,
   "metadata": {},
   "outputs": [
    {
     "data": {
      "text/plain": [
       "961.2132235027593"
      ]
     },
     "execution_count": 12,
     "metadata": {},
     "output_type": "execute_result"
    }
   ],
   "source": [
    "rosenbrock(x = np.zeros((D)), o = o, M1 = M1)"
   ]
  },
  {
   "cell_type": "code",
   "execution_count": 13,
   "metadata": {},
   "outputs": [
    {
     "data": {
      "text/plain": [
       "-146.22011188007627"
      ]
     },
     "execution_count": 13,
     "metadata": {},
     "output_type": "execute_result"
    }
   ],
   "source": [
    "rosenbrock(x = np.array([-10, 20, 30, 100, 5, 6, 7, 8, 9, 10]), o = o, M1 = M1)"
   ]
  }
 ],
 "metadata": {
  "kernelspec": {
   "display_name": "Python 3",
   "language": "python",
   "name": "python3"
  },
  "language_info": {
   "codemirror_mode": {
    "name": "ipython",
    "version": 3
   },
   "file_extension": ".py",
   "mimetype": "text/x-python",
   "name": "python",
   "nbconvert_exporter": "python",
   "pygments_lexer": "ipython3",
   "version": "3.6.10"
  }
 },
 "nbformat": 4,
 "nbformat_minor": 4
}
